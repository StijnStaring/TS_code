{
 "cells": [
  {
   "cell_type": "code",
   "execution_count": null,
   "metadata": {
    "collapsed": true,
    "pycharm": {
     "is_executing": true
    }
   },
   "outputs": [
    {
     "name": "stdout",
     "output_type": "stream",
     "text": [
      "WARNING:tensorflow:From D:\\ProgrammaX100\\Anaconda\\envs\\tensorflow\\lib\\site-packages\\keras\\backend\\tensorflow_backend.py:422: The name tf.global_variables is deprecated. Please use tf.compat.v1.global_variables instead.\n",
      "\n"
     ]
    }
   ],
   "source": [
    "from pandas import Series\n",
    "from pandas import concat\n",
    "from pandas import read_csv\n",
    "from pandas import datetime\n",
    "from pandas import DataFrame\n",
    "from sklearn.metrics import mean_squared_error\n",
    "from sklearn.preprocessing import MinMaxScaler\n",
    "from keras.models import Sequential\n",
    "from keras.layers import Dense\n",
    "from keras.layers import LSTM\n",
    "from math import sqrt\n",
    "import warnings as wn\n",
    "import matplotlib\n",
    "import numpy\n",
    "from numpy import concatenate\n",
    "wn.filterwarnings(action='ignore')\n",
    "\n",
    "# date-time parsing function for loading the dataset\n",
    "def parser(x):\n",
    "\treturn datetime.strptime('190'+x, '%Y-%m')\n",
    "\n",
    "# frame a sequence as a supervised learning problem\n",
    "def timeseries_to_supervised(data, lag=1):\n",
    "\tdf = DataFrame(data)\n",
    "\tcolumns = [df.shift(i) for i in range(1, lag+1)]\n",
    "\tcolumns.append(df)\n",
    "\tdf = concat(columns, axis=1)\n",
    "\treturn df\n",
    "\n",
    "# create a differenced series\n",
    "def difference(dataset, interval=1):\n",
    "\tdiff = list()\n",
    "\tfor i in range(interval, len(dataset)):\n",
    "\t\tvalue = dataset[i] - dataset[i - interval]\n",
    "\t\tdiff.append(value)\n",
    "\treturn Series(diff)\n",
    "\n",
    "# invert differenced value\n",
    "def inverse_difference(history, yhat, interval=1):\n",
    "\treturn yhat + history[-interval]\n",
    "\n",
    "# scale train and test data to [-1, 1]\n",
    "def scale(train, test):\n",
    "\t# fit scaler\n",
    "\tscaler = MinMaxScaler(feature_range=(-1, 1))\n",
    "\tscaler = scaler.fit(train)\n",
    "\t# transform train\n",
    "\ttrain = train.reshape(train.shape[0], train.shape[1])\n",
    "\ttrain_scaled = scaler.transform(train)\n",
    "\t# transform test\n",
    "\ttest = test.reshape(test.shape[0], test.shape[1])\n",
    "\ttest_scaled = scaler.transform(test)\n",
    "\treturn scaler, train_scaled, test_scaled\n",
    "\n",
    "# inverse scaling for a forecasted value\n",
    "def invert_scale(scaler, X, yhat):\n",
    "\tnew_row = [x for x in X] + [yhat]\n",
    "\tarray = numpy.array(new_row)\n",
    "\tarray = array.reshape(1, len(array))\n",
    "\tinverted = scaler.inverse_transform(array)\n",
    "\treturn inverted[0, -1]\n",
    "\n",
    "# fit an LSTM network to training data\n",
    "def fit_lstm(train, batch_size, nb_epoch, neurons):\n",
    "\tX, y = train[:, 0:-1], train[:, -1]\n",
    "\tX = X.reshape(X.shape[0], 1, X.shape[1])\n",
    "\tmodel = Sequential()\n",
    "\tmodel.add(LSTM(neurons, batch_input_shape=(batch_size, X.shape[1], X.shape[2]), stateful=True))\n",
    "\tmodel.add(Dense(1))\n",
    "\tmodel.compile(loss='mean_squared_error', optimizer='adam')\n",
    "\tfor i in range(nb_epoch):\n",
    "\t\tmodel.fit(X, y, epochs=1, batch_size=batch_size, verbose=0, shuffle=False)\n",
    "\t\tmodel.reset_states()\n",
    "\treturn model\n",
    "\n",
    "# make a one-step forecast\n",
    "def forecast_lstm(model, batch_size, X):\n",
    "\tX = X.reshape(1, 1, len(X))\n",
    "\tyhat = model.predict(X, batch_size=batch_size)\n",
    "\treturn yhat[0,0]\n",
    "\n",
    "# run a repeated experiment\n",
    "def experiment(repeats, series):\n",
    "\t# transform data to be stationary\n",
    "\traw_values = series.values\n",
    "\tdiff_values = difference(raw_values, 1)\n",
    "\t# transform data to be supervised learning\n",
    "\tsupervised = timeseries_to_supervised(diff_values, 1)\n",
    "\tsupervised_values = supervised.values[1:,:]\n",
    "\t# split data into train and test-sets\n",
    "\ttrain, test = supervised_values[0:-12, :], supervised_values[-12:, :]\n",
    "\t# transform the scale of the data\n",
    "\tscaler, train_scaled, test_scaled = scale(train, test)\n",
    "\t# run experiment\n",
    "\terror_scores = list()\n",
    "\tfor r in range(repeats):\n",
    "\t\t# fit the base model\n",
    "\t\tlstm_model = fit_lstm(train_scaled, 1, 1000, 1)\n",
    "\t\t# forecast test dataset\n",
    "\t\tpredictions = list()\n",
    "\t\tfor i in range(len(test_scaled)):\n",
    "\t\t\t# predict\n",
    "\t\t\tX, y = test_scaled[i, 0:-1], test_scaled[i, -1]\n",
    "\t\t\tyhat = forecast_lstm(lstm_model, 1, X)\n",
    "\t\t\t# invert scaling\n",
    "\t\t\tyhat = invert_scale(scaler, X, yhat)\n",
    "\t\t\t# invert differencing\n",
    "\t\t\tyhat = inverse_difference(raw_values, yhat, len(test_scaled)+1-i)\n",
    "\t\t\t# store forecast\n",
    "\t\t\tpredictions.append(yhat)\n",
    "\t\t# report performance\n",
    "\t\trmse = sqrt(mean_squared_error(raw_values[-12:], predictions))\n",
    "\t\tprint('%d) Test RMSE: %.3f' % (r+1, rmse))\n",
    "\t\terror_scores.append(rmse)\n",
    "\treturn error_scores\n",
    "\n",
    "# execute the experiment\n",
    "def run():\n",
    "\t# load dataset\n",
    "\tseries = read_csv('shampoo.csv', header=0, parse_dates=[0], index_col=0, squeeze=True, date_parser=parser)\n",
    "\t# experiment\n",
    "\trepeats = 10\n",
    "\tresults = DataFrame()\n",
    "\t# run experiment\n",
    "\tresults['results'] = experiment(repeats, series)\n",
    "\t# summarize results\n",
    "\tprint(results.describe())\n",
    "\t# save results\n",
    "\tresults.to_csv('experiment_stateful.csv', index=False)\n",
    "\n",
    " # entry point\n",
    "\n",
    "run()"
   ]
  },
  {
   "cell_type": "code",
   "execution_count": 6,
   "outputs": [
    {
     "data": {
      "text/plain": "pandas.core.series.Series"
     },
     "execution_count": 6,
     "metadata": {},
     "output_type": "execute_result"
    }
   ],
   "source": [
    "series = read_csv('shampoo.csv', header=0, parse_dates=[0], index_col=0, squeeze=True, date_parser=parser)\n"
   ],
   "metadata": {
    "collapsed": false,
    "pycharm": {
     "name": "#%%\n"
    }
   }
  },
  {
   "cell_type": "code",
   "execution_count": 22,
   "outputs": [
    {
     "data": {
      "text/plain": "array([[-0.80037766,  0.04828702],\n       [ 0.04828702, -0.496628  ],\n       [-0.496628  ,  0.17669274],\n       [ 0.17669274, -0.21607769],\n       [-0.21607769,  0.1891017 ],\n       [ 0.1891017 , -0.1917993 ],\n       [-0.1917993 , -0.32344214],\n       [-0.32344214, -0.52953871],\n       [-0.52953871,  1.        ],\n       [ 1.        , -0.96493121],\n       [-0.96493121, -0.10709469],\n       [-0.10709469, -0.39411923],\n       [-0.39411923,  0.17453466],\n       [ 0.17453466,  0.18856218],\n       [ 0.18856218, -0.59428109],\n       [-0.59428109,  0.3633666 ],\n       [ 0.3633666 , -0.48152145],\n       [-0.48152145,  0.26625303],\n       [ 0.26625303, -0.22632857],\n       [-0.22632857,  0.55813326],\n       [ 0.55813326, -1.        ],\n       [-1.        ,  0.26733207]])"
     },
     "execution_count": 22,
     "metadata": {},
     "output_type": "execute_result"
    }
   ],
   "source": [
    "import matplotlib.pylab as plt\n",
    "diff_values = difference(series.values,1)\n",
    "supervised = timeseries_to_supervised(diff_values, 1)\n",
    "supervised_values = supervised.values[1:,:]\n",
    "train, test = supervised_values[0:-12, :], supervised_values[-12:, :]\n",
    "scaler, train_scaled, test_scaled = scale(train, test)\n",
    "train_scaled\n",
    "\n"
   ],
   "metadata": {
    "collapsed": false,
    "pycharm": {
     "name": "#%%\n"
    }
   }
  }
 ],
 "metadata": {
  "kernelspec": {
   "display_name": "Python 3",
   "language": "python",
   "name": "python3"
  },
  "language_info": {
   "codemirror_mode": {
    "name": "ipython",
    "version": 2
   },
   "file_extension": ".py",
   "mimetype": "text/x-python",
   "name": "python",
   "nbconvert_exporter": "python",
   "pygments_lexer": "ipython2",
   "version": "2.7.6"
  }
 },
 "nbformat": 4,
 "nbformat_minor": 0
}