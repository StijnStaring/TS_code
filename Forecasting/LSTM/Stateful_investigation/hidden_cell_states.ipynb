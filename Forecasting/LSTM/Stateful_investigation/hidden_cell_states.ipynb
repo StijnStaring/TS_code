{
 "cells": [
  {
   "cell_type": "code",
   "execution_count": 1,
   "outputs": [
    {
     "name": "stdout",
     "output_type": "stream",
     "text": [
      "amount of missing values: 0. \n",
      "\n",
      "amount of missing values: 0. \n",
      "\n",
      "amount of missing values: 0. \n",
      "\n"
     ]
    }
   ],
   "source": [
    "from forecasting_functions import *\n",
    "\n",
    "# importing the data\n",
    "Stijn = True\n",
    "fullYearpath = None\n",
    "av_temperaturepath = None\n",
    "\n",
    "if Stijn:\n",
    "    fullYearpath = \"D:\\Onedrive\\Leuven\\Final project\\data\\Forecasting_writtendata\\FullYear.csv\"\n",
    "    av_temperaturepath = \"D:\\Onedrive\\Leuven\\Final project\\data\\weather-avg.csv\"\n",
    "else:\n",
    "    raise Exception(\"Put some paths here.\")\n",
    "fullYeardata = pd.read_csv(fullYearpath,index_col= \"date\",parse_dates= True)\n",
    "av_temperature = pd.read_csv(av_temperaturepath,index_col='meter_id')\n",
    "av_temperature = av_temperature.transpose()\n",
    "av_temperature.index = pd.to_datetime(av_temperature.index)\n",
    "\n",
    "\n",
    "\n",
    "name = fullYeardata.columns[1]\n",
    "TS = fullYeardata[name]\n",
    "temperature = av_temperature[name]\n",
    "\n",
    "\n",
    "\n",
    "# all the training dates are present, dates from the test set can be missing.\n",
    "\n",
    "# normalize the data --> min/max method (when using a single time serie)\n",
    "temperature_norm,scaler_temperature = norm_forcast(temperature)\n",
    "temperature_norm = substitute_missing_values_temperature(temperature_norm)\n",
    "TS_norm,scaler_history = norm_forcast(TS)\n",
    "temp = TS_norm[TS_norm.index.month == 1]\n",
    "# temp = TS_norm[TS_norm.index.month != 12]\n",
    "# test = TS_norm[TS_norm.index.month == 12]\n",
    "\n",
    "# remove from the test set all the days that contain nan values -> only estimate real days\n",
    "# test.dropna(inplace=True)\n",
    "\n",
    "# substitute the missing values\n",
    "temp = substitute_missing_values(temp)\n",
    "training = temp[0:336]\n",
    "validation = temp[336:384]\n",
    "test = temp[384:528]\n",
    "# training = temp[temp.index.month != 11]\n",
    "# validation = temp[temp.index.month == 11]\n",
    "TS_norm_full = substitute_missing_values(TS_norm.copy(deep=True))"
   ],
   "metadata": {
    "collapsed": false,
    "pycharm": {
     "name": "#%%\n"
    }
   }
  },
  {
   "cell_type": "code",
   "execution_count": 9,
   "outputs": [
    {
     "data": {
      "text/plain": "(333, 3, 59)"
     },
     "execution_count": 9,
     "metadata": {},
     "output_type": "execute_result"
    }
   ],
   "source": [
    "X,y = input_output_LSTM(training, temperature_norm, 3)\n",
    "X_val, y_val = input_output_LSTM(validation, temperature_norm, 3)\n",
    "X.shape\n"
   ],
   "metadata": {
    "collapsed": false,
    "pycharm": {
     "name": "#%%\n"
    }
   }
  },
  {
   "cell_type": "code",
   "execution_count": 16,
   "outputs": [
    {
     "name": "stdout",
     "output_type": "stream",
     "text": [
      "[array([[[0.],\n",
      "        [0.],\n",
      "        [0.]]], dtype=float32), array([[0.]], dtype=float32), array([[0.]], dtype=float32)]\n"
     ]
    }
   ],
   "source": [
    "from keras.layers import Dense,  LSTM,Embedding\n",
    "from keras.models import Sequential, save_model, load_model, Input, Model\n",
    "from keras import regularizers\n",
    "from keras.callbacks import EarlyStopping,ModelCheckpoint, History\n",
    "inputs1 = Input(shape=(X.shape[1], X.shape[2]))\n",
    "lstm1, state_h, state_c = LSTM(1, return_state=True, return_sequences=True)(inputs1)\n",
    "\n",
    "model = Model(inputs=inputs1, outputs=[lstm1, state_h, state_c])\n",
    "print(model.predict(np.zeros((1,3,59))))"
   ],
   "metadata": {
    "collapsed": false,
    "pycharm": {
     "name": "#%%\n"
    }
   }
  },
  {
   "cell_type": "code",
   "execution_count": 17,
   "outputs": [
    {
     "name": "stdout",
     "output_type": "stream",
     "text": [
      "[[0.0237706]]\n"
     ]
    }
   ],
   "source": [
    "\n",
    "from keras.models import Model\n",
    "from keras.layers import Input\n",
    "from keras.layers import LSTM\n",
    "from numpy import array\n",
    "# define model\n",
    "inputs1 = Input(shape=(3, 1))\n",
    "lstm1 = LSTM(1)(inputs1)\n",
    "model = Model(inputs=inputs1, outputs=lstm1)\n",
    "# define input data\n",
    "data = array([0.1, 0.2, 0.3]).reshape((1,3,1))\n",
    "# make and show prediction\n",
    "print(model.predict(data))\n"
   ],
   "metadata": {
    "collapsed": false,
    "pycharm": {
     "name": "#%%\n"
    }
   }
  }
 ],
 "metadata": {
  "kernelspec": {
   "display_name": "Python 3",
   "language": "python",
   "name": "python3"
  },
  "language_info": {
   "codemirror_mode": {
    "name": "ipython",
    "version": 2
   },
   "file_extension": ".py",
   "mimetype": "text/x-python",
   "name": "python",
   "nbconvert_exporter": "python",
   "pygments_lexer": "ipython2",
   "version": "2.7.6"
  }
 },
 "nbformat": 4,
 "nbformat_minor": 0
}