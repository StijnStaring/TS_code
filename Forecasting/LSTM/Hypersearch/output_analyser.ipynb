{
 "cells": [
  {
   "cell_type": "code",
   "execution_count": 10,
   "metadata": {
    "collapsed": true
   },
   "outputs": [],
   "source": [
    "from local_pc.Test_basemodel_functions import  *\n",
    "from forecasting_functions import *\n",
    "from output_analyser_functions import *\n",
    "from os import *\n",
    "\n",
    "# loading the files\n",
    "path_to_folder = \"D:\\AI_time_series_repos\\TS_code\\Forecasting\\LSTM\\Hypersearch\\local_stateful3\\outputs\"\n",
    "number = 3\n",
    "kind: str = \"sf\"\n",
    "\n",
    "makedirs(path.join(path_to_folder,\"pictures\"),exist_ok=True)\n",
    "output_path_pictures = path.join(path_to_folder,\"pictures\")\n",
    "\n",
    "error_0x1e84_name = \"error_model\"+str(number)+\"_\"+ str(kind)+\"_0x1e84e4d5cf1f463147f3e4d566167597423d7769.csv\"\n",
    "error_0x78a_name = \"error_model\"+str(number)+\"_\"+ str(kind)+\"_0x78a812ecd87a4b945e0d262aec41e0eb2b59fe1e.csv\"\n",
    "error_0xc3b_name = \"error_model\"+str(number)+\"_\"+ str(kind)+\"_0xc3b2f61a72e188cfd44483fce1bc11d6a628766d.csv\"\n",
    "\n",
    "error_0x1e84 = pd.read_csv(path.join(path_to_folder,error_0x1e84_name),index_col=0)\n",
    "error_0x78a = pd.read_csv(path.join(path_to_folder,error_0x78a_name),index_col=0)\n",
    "error_0xc3b = pd.read_csv(path.join(path_to_folder,error_0xc3b_name),index_col=0)\n",
    "\n",
    "logbook_0x1e84_name = \"logbook_model\"+str(number)+\"_\"+ str(kind)+\"_0x1e84e4d5cf1f463147f3e4d566167597423d7769.csv\"\n",
    "logbook_0x78a_name = \"logbook_model\"+str(number)+\"_\"+ str(kind)+\"_0x78a812ecd87a4b945e0d262aec41e0eb2b59fe1e.csv\"\n",
    "logbook_0xc3b_name = \"logbook_model\"+str(number)+\"_\"+ str(kind)+\"_0xc3b2f61a72e188cfd44483fce1bc11d6a628766d.csv\"\n",
    "\n",
    "logbook_0x1e84 = pd.read_csv(path.join(path_to_folder,logbook_0x1e84_name),index_col=0)\n",
    "logbook_0x78a = pd.read_csv(path.join(path_to_folder,logbook_0x78a_name),index_col=0)\n",
    "logbook_0xc3b = pd.read_csv(path.join(path_to_folder,logbook_0xc3b_name),index_col=0)\n",
    "\n",
    "training_result_0x1e84_name = \"training_result_model\"+str(number)+\"_\"+ str(kind)+\"_0x1e84e4d5cf1f463147f3e4d566167597423d7769.csv\"\n",
    "training_result_0x78a_name = \"training_result_model\"+str(number)+\"_\"+ str(kind)+\"_0x78a812ecd87a4b945e0d262aec41e0eb2b59fe1e.csv\"\n",
    "training_result_0xc3b_name = \"training_result_model\"+str(number)+\"_\"+ str(kind)+\"_0xc3b2f61a72e188cfd44483fce1bc11d6a628766d.csv\"\n",
    "\n",
    "training_result_0x1e84 = pd.read_csv(path.join(path_to_folder,training_result_0x1e84_name),index_col=0)\n",
    "training_result_0x78a = pd.read_csv(path.join(path_to_folder,training_result_0x78a_name),index_col=0)\n",
    "training_result_0xc3b = pd.read_csv(path.join(path_to_folder,training_result_0xc3b_name),index_col=0)\n"
   ]
  },
  {
   "cell_type": "code",
   "execution_count": 11,
   "outputs": [
    {
     "data": {
      "text/plain": "Index(['0x78a812ecd87a4b945e0d262aec41e0eb2b59fe1e',\n       '0x1e84e4d5cf1f463147f3e4d566167597423d7769',\n       '0xc3b2f61a72e188cfd44483fce1bc11d6a628766d'],\n      dtype='object')"
     },
     "execution_count": 11,
     "metadata": {},
     "output_type": "execute_result"
    }
   ],
   "source": [
    "path_history = \"D:\\AI_time_series_repos\\TS_code\\Forecasting\\\\basemodel\\data\\DF_three_series.csv\"\n",
    "fullYeardata = pd.read_csv(path_history,index_col= \"date\",parse_dates= True)\n",
    "names = fullYeardata.columns\n",
    "names\n",
    "\n"
   ],
   "metadata": {
    "collapsed": false,
    "pycharm": {
     "name": "#%%\n"
    }
   }
  },
  {
   "cell_type": "code",
   "execution_count": 12,
   "outputs": [],
   "source": [
    "# create_scatter_plot(\"units_LSTM\",[20,50],\"MAE\",logbook_0x78a,error_0x78a,'0x78a812ecd87a4b945e0d262aec41e0eb2b59fe1e')\n",
    "# create_scatter_plot(\"layers_LSTM\",[1,3],\"MAE\",logbook_0x78a,error_0x78a,'0x78a812ecd87a4b945e0d262aec41e0eb2b59fe1e')\n",
    "# create_scatter_plot(\"lag_value\",[48,96],\"MAE\",logbook_0x78a,error_0x78a,'0x78a812ecd87a4b945e0d262aec41e0eb2b59fe1e')\n",
    "# create_scatter_plot(\"learning_rate\",[0.0001,0.001,0.01],\"MAE\",logbook_0x78a,error_0x78a,'0x78a812ecd87a4b945e0d262aec41e0eb2b59fe1e')\n",
    "#\n",
    "#\n",
    "# create_scatter_plot(\"units_LSTM\",[20,50],\"MAE\",logbook_0x1e84,error_0x1e84,\n",
    "# '0x1e84e4d5cf1f463147f3e4d566167597423d7769')\n",
    "# create_scatter_plot(\"layers_LSTM\",[1,3],\"MAE\",logbook_0x1e84,error_0x1e84,\n",
    "# '0x1e84e4d5cf1f463147f3e4d566167597423d7769')\n",
    "# create_scatter_plot(\"lag_value\",[48,96],\"MAE\",logbook_0x1e84,error_0x1e84,\n",
    "# '0x1e84e4d5cf1f463147f3e4d566167597423d7769')\n",
    "# create_scatter_plot(\"learning_rate\",[0.0001,0.001,0.01],\"MAE\",logbook_0x1e84,error_0x1e84,\n",
    "# '0x1e84e4d5cf1f463147f3e4d566167597423d7769')\n",
    "#\n",
    "#\n",
    "# create_scatter_plot(\"units_LSTM\",[20,50],\"MAE\",logbook_0xc3b,error_0xc3b,'0xc3b2f61a72e188cfd44483fce1bc11d6a628766d')\n",
    "# create_scatter_plot(\"layers_LSTM\",[1,3],\"MAE\",logbook_0xc3b,error_0xc3b,'0xc3b2f61a72e188cfd44483fce1bc11d6a628766d')\n",
    "# create_scatter_plot(\"lag_value\",[48,96],\"MAE\",logbook_0xc3b,error_0xc3b,'0xc3b2f61a72e188cfd44483fce1bc11d6a628766d')\n",
    "# create_scatter_plot(\"learning_rate\",[0.0001,0.001,0.01],\"MAE\",logbook_0xc3b,error_0xc3b,'0xc3b2f61a72e188cfd44483fce1bc11d6a628766d')\n"
   ],
   "metadata": {
    "collapsed": false,
    "pycharm": {
     "name": "#%%\n"
    }
   }
  },
  {
   "cell_type": "code",
   "execution_count": 13,
   "outputs": [
    {
     "name": "stdout",
     "output_type": "stream",
     "text": [
      "[0.1321683  0.1302132  0.13841852]\n",
      "0.13360000384149073\n"
     ]
    },
    {
     "data": {
      "text/plain": "units_LSTM                        50\nlayers_LSTM                        1\ndropout_LSTM                       0\nrecurrent_dropout_LSTM             0\nkernel_regularizer_LSTM         None\nrecurrent_regularizer_LSTM      None\nbais_regularizer_LSTM           None\nactivity_regularizer_LSTM       None\nunits_DENSE                       50\nlayers_DENSE                       1\ndropout_DENSE                      0\nkernel_regularizer_DENSE        None\nbais_regularizer_DENSE          None\nactivity_regularizer_DENSE      None\nlag_value                          1\nnb_epoch                           2\nactivation                      relu\nbatch_size_parameter               1\nlearning_rate                 0.0001\npatience                           0\nshuffle                        False\nrepeat                             3\nName: 7, dtype: object"
     },
     "execution_count": 13,
     "metadata": {},
     "output_type": "execute_result"
    }
   ],
   "source": [
    "found_id = get_the_best_settings_MAE(error_0x78a)\n",
    "print(get_all_error_values(np.array([found_id]),\"MAE\", error_0x78a))\n",
    "print(np.mean(get_all_error_values(np.array([found_id]),\"MAE\", error_0x78a)))\n",
    "logbook_0x78a[str(found_id)]"
   ],
   "metadata": {
    "collapsed": false,
    "pycharm": {
     "name": "#%%\n"
    }
   }
  },
  {
   "cell_type": "code",
   "execution_count": 14,
   "outputs": [
    {
     "name": "stdout",
     "output_type": "stream",
     "text": [
      "[0.05224154 0.06131155 0.05699505]\n",
      "0.05684937848098529\n"
     ]
    },
    {
     "data": {
      "text/plain": "units_LSTM                        50\nlayers_LSTM                        1\ndropout_LSTM                       0\nrecurrent_dropout_LSTM             0\nkernel_regularizer_LSTM         None\nrecurrent_regularizer_LSTM      None\nbais_regularizer_LSTM           None\nactivity_regularizer_LSTM       None\nunits_DENSE                       50\nlayers_DENSE                       1\ndropout_DENSE                      0\nkernel_regularizer_DENSE        None\nbais_regularizer_DENSE          None\nactivity_regularizer_DENSE      None\nlag_value                          1\nnb_epoch                           2\nactivation                      relu\nbatch_size_parameter               1\nlearning_rate                 0.0001\npatience                           0\nshuffle                        False\nrepeat                             3\nName: 7, dtype: object"
     },
     "execution_count": 14,
     "metadata": {},
     "output_type": "execute_result"
    }
   ],
   "source": [
    "found_id = get_the_best_settings_MAE(error_0x1e84)\n",
    "print(get_all_error_values(np.array([found_id]),\"MAE\", error_0x1e84))\n",
    "print(np.mean(get_all_error_values(np.array([found_id]),\"MAE\", error_0x1e84)))\n",
    "logbook_0x1e84[str(found_id)]"
   ],
   "metadata": {
    "collapsed": false,
    "pycharm": {
     "name": "#%%\n"
    }
   }
  },
  {
   "cell_type": "code",
   "execution_count": 15,
   "outputs": [
    {
     "name": "stdout",
     "output_type": "stream",
     "text": [
      "[0.10883857 0.11052638 0.11234115]\n",
      "0.11056869874687854\n"
     ]
    },
    {
     "data": {
      "text/plain": "units_LSTM                        20\nlayers_LSTM                        1\ndropout_LSTM                       0\nrecurrent_dropout_LSTM             0\nkernel_regularizer_LSTM         None\nrecurrent_regularizer_LSTM      None\nbais_regularizer_LSTM           None\nactivity_regularizer_LSTM       None\nunits_DENSE                       50\nlayers_DENSE                       1\ndropout_DENSE                      0\nkernel_regularizer_DENSE        None\nbais_regularizer_DENSE          None\nactivity_regularizer_DENSE      None\nlag_value                          1\nnb_epoch                           2\nactivation                      relu\nbatch_size_parameter               1\nlearning_rate                 0.0001\npatience                           0\nshuffle                        False\nrepeat                             3\nName: 1, dtype: object"
     },
     "execution_count": 15,
     "metadata": {},
     "output_type": "execute_result"
    }
   ],
   "source": [
    "found_id = get_the_best_settings_MAE(error_0xc3b)\n",
    "print(get_all_error_values(np.array([found_id]),\"MAE\", error_0xc3b))\n",
    "print(np.mean(get_all_error_values(np.array([found_id]),\"MAE\", error_0xc3b)))\n",
    "logbook_0xc3b[str(found_id)]"
   ],
   "metadata": {
    "collapsed": false,
    "pycharm": {
     "name": "#%%\n"
    }
   }
  },
  {
   "cell_type": "code",
   "execution_count": 16,
   "outputs": [
    {
     "name": "stdout",
     "output_type": "stream",
     "text": [
      "The improvement when choosing a certain value: {'20': 6.662816636212854}\n",
      "The improvement when choosing a certain value: {'1': 29.99775371242451}\n",
      "The improvement when choosing a certain value: {}\n",
      "The improvement when choosing a certain value: {'0.0001': 27.276464740114847, '0.001': 17.72016582852196}\n",
      "####################################################################################################\n",
      "The improvement when choosing a certain value: {'50': 0.5147907325730117}\n",
      "The improvement when choosing a certain value: {'1': 1.5207236518998801}\n",
      "The improvement when choosing a certain value: {}\n",
      "The improvement when choosing a certain value: {'0.0001': 2.2810854778498313, '0.01': 0.0}\n",
      "####################################################################################################\n",
      "The improvement when choosing a certain value: {'20': 0.5478539855993891}\n",
      "The improvement when choosing a certain value: {'1': 7.422374263583597}\n",
      "The improvement when choosing a certain value: {}\n",
      "The improvement when choosing a certain value: {'0.0001': 11.133561395375413, '0.01': 0.0}\n"
     ]
    },
    {
     "data": {
      "text/plain": "{'0.0001': 11.133561395375413, '0.01': 0.0}"
     },
     "execution_count": 16,
     "metadata": {},
     "output_type": "execute_result"
    }
   ],
   "source": [
    "get_improvement(\"units_LSTM\",[20,50],\"MAE\",logbook_0x78a,error_0x78a)\n",
    "get_improvement(\"layers_LSTM\",[1,3],\"MAE\",logbook_0x78a,error_0x78a)\n",
    "get_improvement(\"lag_value\",[1],\"MAE\",logbook_0x78a,error_0x78a)\n",
    "get_improvement(\"learning_rate\",[0.0001,0.001,0.01],\"MAE\",logbook_0x78a,error_0x78a)\n",
    "print(\"#\"*100)\n",
    "get_improvement(\"units_LSTM\",[20,50],\"MAE\",logbook_0x1e84,error_0x1e84)\n",
    "get_improvement(\"layers_LSTM\",[1,3],\"MAE\",logbook_0x1e84,error_0x1e84)\n",
    "get_improvement(\"lag_value\",[1],\"MAE\",logbook_0x1e84,error_0x1e84)\n",
    "get_improvement(\"learning_rate\",[0.0001,0.001,0.01],\"MAE\",logbook_0x1e84,error_0x1e84)\n",
    "print(\"#\"*100)\n",
    "get_improvement(\"units_LSTM\",[20,50],\"MAE\",logbook_0xc3b,error_0xc3b)\n",
    "get_improvement(\"layers_LSTM\",[1,3],\"MAE\",logbook_0xc3b,error_0xc3b)\n",
    "get_improvement(\"lag_value\",[1],\"MAE\",logbook_0xc3b,error_0xc3b)\n",
    "get_improvement(\"learning_rate\",[0.0001,0.001,0.01],\"MAE\",logbook_0xc3b,error_0xc3b)\n",
    "\n"
   ],
   "metadata": {
    "collapsed": false,
    "pycharm": {
     "name": "#%%\n"
    }
   }
  }
 ],
 "metadata": {
  "kernelspec": {
   "display_name": "Python 3",
   "language": "python",
   "name": "python3"
  },
  "language_info": {
   "codemirror_mode": {
    "name": "ipython",
    "version": 2
   },
   "file_extension": ".py",
   "mimetype": "text/x-python",
   "name": "python",
   "nbconvert_exporter": "python",
   "pygments_lexer": "ipython2",
   "version": "2.7.6"
  }
 },
 "nbformat": 4,
 "nbformat_minor": 0
}