{
 "cells": [
  {
   "cell_type": "code",
   "execution_count": 17,
   "metadata": {
    "collapsed": true
   },
   "outputs": [],
   "source": [
    "from local_pc.Test_basemodel_functions import  *\n",
    "from forecasting_functions import *\n",
    "from output_analyser_functions import *\n",
    "from os import *\n",
    "\n",
    "# loading the files\n",
    "path_to_folder = \"D:\\AI_time_series_repos\\TS_code\\Forecasting\\LSTM\\Hypersearch\\local\\outputs\"\n",
    "# path_to_folder = \"D:\\AI_time_series_repos\\TS_code\\Forecasting\\LSTM\\Hypersearch\\local_stateless2\\outputs\"\n",
    "number = 1\n",
    "\n",
    "makedirs(path.join(path_to_folder,\"pictures\"),exist_ok=True)\n",
    "output_path_pictures = path.join(path_to_folder,\"pictures\")\n",
    "\n",
    "error_0x1e84_name = \"error_model\"+str(number)+\"_sl_0x1e84e4d5cf1f463147f3e4d566167597423d7769.csv\"\n",
    "error_0x78a_name = \"error_model\"+str(number)+\"_sl_0x78a812ecd87a4b945e0d262aec41e0eb2b59fe1e.csv\"\n",
    "error_0xc3b_name = \"error_model\"+str(number)+\"_sl_0xc3b2f61a72e188cfd44483fce1bc11d6a628766d.csv\"\n",
    "\n",
    "error_0x1e84 = pd.read_csv(path.join(path_to_folder,error_0x1e84_name),index_col=0)\n",
    "error_0x78a = pd.read_csv(path.join(path_to_folder,error_0x78a_name),index_col=0)\n",
    "error_0xc3b = pd.read_csv(path.join(path_to_folder,error_0xc3b_name),index_col=0)\n",
    "\n",
    "logbook_0x1e84_name = \"logbook_model\"+str(number)+\"_sl_0x1e84e4d5cf1f463147f3e4d566167597423d7769.csv\"\n",
    "logbook_0x78a_name = \"logbook_model\"+str(number)+\"_sl_0x78a812ecd87a4b945e0d262aec41e0eb2b59fe1e.csv\"\n",
    "logbook_0xc3b_name = \"logbook_model\"+str(number)+\"_sl_0xc3b2f61a72e188cfd44483fce1bc11d6a628766d.csv\"\n",
    "\n",
    "logbook_0x1e84 = pd.read_csv(path.join(path_to_folder,logbook_0x1e84_name),index_col=0)\n",
    "logbook_0x78a = pd.read_csv(path.join(path_to_folder,logbook_0x78a_name),index_col=0)\n",
    "logbook_0xc3b = pd.read_csv(path.join(path_to_folder,logbook_0xc3b_name),index_col=0)\n",
    "\n",
    "training_result_0x1e84_name = \"training_result_model\"+str(number)+\"_sl_0x1e84e4d5cf1f463147f3e4d566167597423d7769.csv\"\n",
    "training_result_0x78a_name = \"training_result_model\"+str(number)+\"_sl_0x78a812ecd87a4b945e0d262aec41e0eb2b59fe1e.csv\"\n",
    "training_result_0xc3b_name = \"training_result_model\"+str(number)+\"_sl_0xc3b2f61a72e188cfd44483fce1bc11d6a628766d.csv\"\n",
    "\n",
    "training_result_0x1e84 = pd.read_csv(path.join(path_to_folder,training_result_0x1e84_name),index_col=0)\n",
    "training_result_0x78a = pd.read_csv(path.join(path_to_folder,training_result_0x78a_name),index_col=0)\n",
    "training_result_0xc3b = pd.read_csv(path.join(path_to_folder,training_result_0xc3b_name),index_col=0)\n"
   ]
  },
  {
   "cell_type": "code",
   "execution_count": 18,
   "outputs": [
    {
     "data": {
      "text/plain": "Index(['0x78a812ecd87a4b945e0d262aec41e0eb2b59fe1e',\n       '0x1e84e4d5cf1f463147f3e4d566167597423d7769',\n       '0xc3b2f61a72e188cfd44483fce1bc11d6a628766d'],\n      dtype='object')"
     },
     "execution_count": 18,
     "metadata": {},
     "output_type": "execute_result"
    }
   ],
   "source": [
    "path_history = \"D:\\AI_time_series_repos\\TS_code\\Forecasting\\\\basemodel\\data\\DF_three_series.csv\"\n",
    "fullYeardata = pd.read_csv(path_history,index_col= \"date\",parse_dates= True)\n",
    "names = fullYeardata.columns\n",
    "names\n",
    "\n"
   ],
   "metadata": {
    "collapsed": false,
    "pycharm": {
     "name": "#%%\n"
    }
   }
  },
  {
   "cell_type": "code",
   "execution_count": 19,
   "outputs": [],
   "source": [
    "# create_scatter_plot(\"units_LSTM\",[20,50],\"MAE\",logbook_0x78a,error_0x78a,'0x78a812ecd87a4b945e0d262aec41e0eb2b59fe1e')\n",
    "# create_scatter_plot(\"layers_LSTM\",[1,3],\"MAE\",logbook_0x78a,error_0x78a,'0x78a812ecd87a4b945e0d262aec41e0eb2b59fe1e')\n",
    "# create_scatter_plot(\"lag_value\",[48,96],\"MAE\",logbook_0x78a,error_0x78a,'0x78a812ecd87a4b945e0d262aec41e0eb2b59fe1e')\n",
    "# create_scatter_plot(\"learning_rate\",[0.0001,0.001,0.01],\"MAE\",logbook_0x78a,error_0x78a,'0x78a812ecd87a4b945e0d262aec41e0eb2b59fe1e')\n",
    "#\n",
    "#\n",
    "# create_scatter_plot(\"units_LSTM\",[20,50],\"MAE\",logbook_0x1e84,error_0x1e84,\n",
    "# '0x1e84e4d5cf1f463147f3e4d566167597423d7769')\n",
    "# create_scatter_plot(\"layers_LSTM\",[1,3],\"MAE\",logbook_0x1e84,error_0x1e84,\n",
    "# '0x1e84e4d5cf1f463147f3e4d566167597423d7769')\n",
    "# create_scatter_plot(\"lag_value\",[48,96],\"MAE\",logbook_0x1e84,error_0x1e84,\n",
    "# '0x1e84e4d5cf1f463147f3e4d566167597423d7769')\n",
    "# create_scatter_plot(\"learning_rate\",[0.0001,0.001,0.01],\"MAE\",logbook_0x1e84,error_0x1e84,\n",
    "# '0x1e84e4d5cf1f463147f3e4d566167597423d7769')\n",
    "#\n",
    "#\n",
    "# create_scatter_plot(\"units_LSTM\",[20,50],\"MAE\",logbook_0xc3b,error_0xc3b,'0xc3b2f61a72e188cfd44483fce1bc11d6a628766d')\n",
    "# create_scatter_plot(\"layers_LSTM\",[1,3],\"MAE\",logbook_0xc3b,error_0xc3b,'0xc3b2f61a72e188cfd44483fce1bc11d6a628766d')\n",
    "# create_scatter_plot(\"lag_value\",[48,96],\"MAE\",logbook_0xc3b,error_0xc3b,'0xc3b2f61a72e188cfd44483fce1bc11d6a628766d')\n",
    "# create_scatter_plot(\"learning_rate\",[0.0001,0.001,0.01],\"MAE\",logbook_0xc3b,error_0xc3b,'0xc3b2f61a72e188cfd44483fce1bc11d6a628766d')\n"
   ],
   "metadata": {
    "collapsed": false,
    "pycharm": {
     "name": "#%%\n"
    }
   }
  },
  {
   "cell_type": "code",
   "execution_count": 20,
   "outputs": [
    {
     "name": "stdout",
     "output_type": "stream",
     "text": [
      "[0.13327223 0.13487647 0.13780665]\n",
      "0.1353184489178497\n"
     ]
    },
    {
     "data": {
      "text/plain": "units_LSTM                      20\nlayers_LSTM                      1\ndropout_LSTM                     0\nrecurrent_dropout_LSTM           0\nkernel_regularizer_LSTM       None\nrecurrent_regularizer_LSTM    None\nbais_regularizer_LSTM         None\nactivity_regularizer_LSTM     None\nunits_DENSE                     50\nlayers_DENSE                     1\ndropout_DENSE                    0\nkernel_regularizer_DENSE      None\nbais_regularizer_DENSE        None\nactivity_regularizer_DENSE    None\nlag_value                       96\nnb_epoch                         2\nactivation                    relu\nbatch_size_parameter            48\nlearning_rate                 0.01\npatience                         0\nshuffle                       True\nrepeat                           3\nName: 15, dtype: object"
     },
     "execution_count": 20,
     "metadata": {},
     "output_type": "execute_result"
    }
   ],
   "source": [
    "found_id = get_the_best_settings_MAE(error_0x78a)\n",
    "print(get_all_error_values(np.array([found_id]),\"MAE\", error_0x78a))\n",
    "print(np.mean(get_all_error_values(np.array([found_id]),\"MAE\", error_0x78a)))\n",
    "logbook_0x78a[str(found_id)]"
   ],
   "metadata": {
    "collapsed": false,
    "pycharm": {
     "name": "#%%\n"
    }
   }
  },
  {
   "cell_type": "code",
   "execution_count": 21,
   "outputs": [
    {
     "name": "stdout",
     "output_type": "stream",
     "text": [
      "0.042896201126648\n"
     ]
    },
    {
     "data": {
      "text/plain": "units_LSTM                        50\nlayers_LSTM                        3\ndropout_LSTM                       0\nrecurrent_dropout_LSTM             0\nkernel_regularizer_LSTM         None\nrecurrent_regularizer_LSTM      None\nbais_regularizer_LSTM           None\nactivity_regularizer_LSTM       None\nunits_DENSE                       50\nlayers_DENSE                       1\ndropout_DENSE                      0\nkernel_regularizer_DENSE        None\nbais_regularizer_DENSE          None\nactivity_regularizer_DENSE      None\nlag_value                         96\nnb_epoch                           2\nactivation                      relu\nbatch_size_parameter              48\nlearning_rate                 0.0001\npatience                           0\nshuffle                         True\nrepeat                             3\nName: 22, dtype: object"
     },
     "execution_count": 21,
     "metadata": {},
     "output_type": "execute_result"
    }
   ],
   "source": [
    "found_id = get_the_best_settings_MAE(error_0x1e84)\n",
    "print(np.mean(get_all_error_values(np.array([found_id]),\"MAE\", error_0x1e84)))\n",
    "logbook_0x1e84[str(found_id)]"
   ],
   "metadata": {
    "collapsed": false,
    "pycharm": {
     "name": "#%%\n"
    }
   }
  },
  {
   "cell_type": "code",
   "execution_count": 22,
   "outputs": [
    {
     "name": "stdout",
     "output_type": "stream",
     "text": [
      "[0.09992372 0.10044864 0.10110935]\n",
      "0.1004939049303946\n"
     ]
    },
    {
     "data": {
      "text/plain": "units_LSTM                        20\nlayers_LSTM                        3\ndropout_LSTM                       0\nrecurrent_dropout_LSTM             0\nkernel_regularizer_LSTM         None\nrecurrent_regularizer_LSTM      None\nbais_regularizer_LSTM           None\nactivity_regularizer_LSTM       None\nunits_DENSE                       50\nlayers_DENSE                       1\ndropout_DENSE                      0\nkernel_regularizer_DENSE        None\nbais_regularizer_DENSE          None\nactivity_regularizer_DENSE      None\nlag_value                         48\nnb_epoch                           2\nactivation                      relu\nbatch_size_parameter              48\nlearning_rate                 0.0001\npatience                           0\nshuffle                         True\nrepeat                             3\nName: 4, dtype: object"
     },
     "execution_count": 22,
     "metadata": {},
     "output_type": "execute_result"
    }
   ],
   "source": [
    "found_id = get_the_best_settings_MAE(error_0xc3b)\n",
    "print(get_all_error_values(np.array([found_id]),\"MAE\", error_0xc3b))\n",
    "print(np.mean(get_all_error_values(np.array([found_id]),\"MAE\", error_0xc3b)))\n",
    "logbook_0xc3b[str(found_id)]"
   ],
   "metadata": {
    "collapsed": false,
    "pycharm": {
     "name": "#%%\n"
    }
   }
  },
  {
   "cell_type": "code",
   "execution_count": 23,
   "outputs": [
    {
     "name": "stdout",
     "output_type": "stream",
     "text": [
      "The improvement when choosing a certain value: {'20': 12.08230362378625}\n",
      "The improvement when choosing a certain value: {'1': 9.820755641844736}\n",
      "The improvement when choosing a certain value: {'48': 4.253093443822853}\n",
      "The improvement when choosing a certain value: {'0.0001': 8.744927617783905, '0.001': 0.05942515469196108}\n",
      "####################################################################################################\n",
      "The improvement when choosing a certain value: {'20': 1.2366280560221488}\n",
      "The improvement when choosing a certain value: {'3': 4.25619673329164}\n",
      "The improvement when choosing a certain value: {'96': 2.064967240270521}\n",
      "The improvement when choosing a certain value: {'0.0001': 24.95895647243018, '0.001': 17.200892491258568}\n",
      "####################################################################################################\n",
      "The improvement when choosing a certain value: {'20': 1.4782268583212521}\n",
      "The improvement when choosing a certain value: {'3': 5.798569790254582}\n",
      "The improvement when choosing a certain value: {'48': 0.3897110861373343}\n",
      "The improvement when choosing a certain value: {'0.0001': 12.18559087123393, '0.001': 10.624461988717549}\n"
     ]
    },
    {
     "data": {
      "text/plain": "{'0.0001': 12.18559087123393, '0.001': 10.624461988717549}"
     },
     "execution_count": 23,
     "metadata": {},
     "output_type": "execute_result"
    }
   ],
   "source": [
    "get_improvement(\"units_LSTM\",[20,50],\"MAE\",logbook_0x78a,error_0x78a)\n",
    "get_improvement(\"layers_LSTM\",[1,3],\"MAE\",logbook_0x78a,error_0x78a)\n",
    "get_improvement(\"lag_value\",[48,96],\"MAE\",logbook_0x78a,error_0x78a)\n",
    "get_improvement(\"learning_rate\",[0.0001,0.001,0.01],\"MAE\",logbook_0x78a,error_0x78a)\n",
    "print(\"#\"*100)\n",
    "get_improvement(\"units_LSTM\",[20,50],\"MAE\",logbook_0x1e84,error_0x1e84)\n",
    "get_improvement(\"layers_LSTM\",[1,3],\"MAE\",logbook_0x1e84,error_0x1e84)\n",
    "get_improvement(\"lag_value\",[48,96],\"MAE\",logbook_0x1e84,error_0x1e84)\n",
    "get_improvement(\"learning_rate\",[0.0001,0.001,0.01],\"MAE\",logbook_0x1e84,error_0x1e84)\n",
    "print(\"#\"*100)\n",
    "get_improvement(\"units_LSTM\",[20,50],\"MAE\",logbook_0xc3b,error_0xc3b)\n",
    "get_improvement(\"layers_LSTM\",[1,3],\"MAE\",logbook_0xc3b,error_0xc3b)\n",
    "get_improvement(\"lag_value\",[48,96],\"MAE\",logbook_0xc3b,error_0xc3b)\n",
    "get_improvement(\"learning_rate\",[0.0001,0.001,0.01],\"MAE\",logbook_0xc3b,error_0xc3b)\n",
    "\n"
   ],
   "metadata": {
    "collapsed": false,
    "pycharm": {
     "name": "#%%\n"
    }
   }
  }
 ],
 "metadata": {
  "kernelspec": {
   "display_name": "Python 3",
   "language": "python",
   "name": "python3"
  },
  "language_info": {
   "codemirror_mode": {
    "name": "ipython",
    "version": 2
   },
   "file_extension": ".py",
   "mimetype": "text/x-python",
   "name": "python",
   "nbconvert_exporter": "python",
   "pygments_lexer": "ipython2",
   "version": "2.7.6"
  }
 },
 "nbformat": 4,
 "nbformat_minor": 0
}