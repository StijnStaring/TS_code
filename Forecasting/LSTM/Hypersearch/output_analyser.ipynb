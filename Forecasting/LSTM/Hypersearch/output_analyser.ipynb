{
 "cells": [
  {
   "cell_type": "code",
   "execution_count": 3,
   "metadata": {
    "collapsed": true
   },
   "outputs": [],
   "source": [
    "from local_pc.Test_basemodel_functions import  *\n",
    "from forecasting_functions import *\n",
    "from os import *\n",
    "\n",
    "# loading the files\n",
    "path_to_folder = \"D:\\AI_time_series_repos\\TS_code\\Forecasting\\LSTM\\Hypersearch\\local_stateless2\\outputs\"\n",
    "number = 2\n",
    "\n",
    "makedirs(path.join(path_to_folder,\"pictures\"),exist_ok=True)\n",
    "output_path_pictures = path.join(path_to_folder,\"pictures\")\n",
    "\n",
    "error_0x1e84_name = \"error_model\"+str(number)+\"_sl_0x1e84e4d5cf1f463147f3e4d566167597423d7769.csv\"\n",
    "error_0x78a_name = \"error_model\"+str(number)+\"_sl_0x78a812ecd87a4b945e0d262aec41e0eb2b59fe1e.csv\"\n",
    "error_0xc3b_name = \"error_model\"+str(number)+\"_sl_0xc3b2f61a72e188cfd44483fce1bc11d6a628766d.csv\"\n",
    "\n",
    "error_0x1e84 = pd.read_csv(path.join(path_to_folder,error_0x1e84_name),index_col=0)\n",
    "error_0x78a = pd.read_csv(path.join(path_to_folder,error_0x78a_name),index_col=0)\n",
    "error_0xc3b = pd.read_csv(path.join(path_to_folder,error_0xc3b_name),index_col=0)\n",
    "\n",
    "logbook_0x1e84_name = \"logbook_model\"+str(number)+\"_sl_0x1e84e4d5cf1f463147f3e4d566167597423d7769.csv\"\n",
    "logbook_0x78a_name = \"logbook_model\"+str(number)+\"_sl_0x78a812ecd87a4b945e0d262aec41e0eb2b59fe1e.csv\"\n",
    "logbook_0xc3b_name = \"logbook_model\"+str(number)+\"_sl_0xc3b2f61a72e188cfd44483fce1bc11d6a628766d.csv\"\n",
    "\n",
    "logbook_0x1e84 = pd.read_csv(path.join(path_to_folder,logbook_0x1e84_name),index_col=0)\n",
    "logbook_0x78a = pd.read_csv(path.join(path_to_folder,logbook_0x78a_name),index_col=0)\n",
    "logbook_0xc3b = pd.read_csv(path.join(path_to_folder,logbook_0xc3b_name),index_col=0)\n",
    "\n",
    "training_result_0x1e84_name = \"training_result_model\"+str(number)+\"_sl_0x1e84e4d5cf1f463147f3e4d566167597423d7769.csv\"\n",
    "training_result_0x78a_name = \"training_result_model\"+str(number)+\"_sl_0x78a812ecd87a4b945e0d262aec41e0eb2b59fe1e.csv\"\n",
    "training_result_0xc3b_name = \"training_result_model\"+str(number)+\"_sl_0xc3b2f61a72e188cfd44483fce1bc11d6a628766d.csv\"\n",
    "\n",
    "training_result_0x1e84 = pd.read_csv(path.join(path_to_folder,training_result_0x1e84_name),index_col=0)\n",
    "training_result_0x78a = pd.read_csv(path.join(path_to_folder,training_result_0x78a_name),index_col=0)\n",
    "training_result_0xc3b = pd.read_csv(path.join(path_to_folder,training_result_0xc3b_name),index_col=0)\n"
   ]
  },
  {
   "cell_type": "code",
   "execution_count": 4,
   "outputs": [
    {
     "data": {
      "text/plain": "Index(['0x78a812ecd87a4b945e0d262aec41e0eb2b59fe1e',\n       '0x1e84e4d5cf1f463147f3e4d566167597423d7769',\n       '0xc3b2f61a72e188cfd44483fce1bc11d6a628766d'],\n      dtype='object')"
     },
     "execution_count": 4,
     "metadata": {},
     "output_type": "execute_result"
    }
   ],
   "source": [
    "path_history = \"D:\\AI_time_series_repos\\TS_code\\Forecasting\\\\basemodel\\data\\DF_three_series.csv\"\n",
    "fullYeardata = pd.read_csv(path_history,index_col= \"date\",parse_dates= True)\n",
    "names = fullYeardata.columns\n",
    "names"
   ],
   "metadata": {
    "collapsed": false,
    "pycharm": {
     "name": "#%%\n"
    }
   }
  },
  {
   "cell_type": "code",
   "execution_count": 37,
   "outputs": [],
   "source": [
    "def get_ID_numbers(name:str, number, DF: pd.DataFrame):\n",
    "    newSerie = DF.loc[[name],:].squeeze()\n",
    "    newSerie = pd.to_numeric(newSerie)\n",
    "    settings = pd.to_numeric(DF.columns[newSerie.values == number])\n",
    "    return settings\n",
    "\n",
    "def get_all_error_values(setting_ID,metric:str, DF: pd.DataFrame):\n",
    "    collection = np.array([])\n",
    "    for id in setting_ID:\n",
    "        col = DF[str(id)+\"_\"+metric].values\n",
    "        # print(col)\n",
    "        collection = np.concatenate((collection,col), axis=None)\n",
    "    return collection\n"
   ],
   "metadata": {
    "collapsed": false,
    "pycharm": {
     "name": "#%%\n"
    }
   }
  },
  {
   "cell_type": "code",
   "execution_count": 38,
   "outputs": [],
   "source": [
    "def create_scatter_plot(name:str,numbers:list,metric:str,DF_log:pd.DataFrame,DF_error:pd.DataFrame, name_serie: str, colors:list = ['r','b','g']):\n",
    "    unit = None\n",
    "    if metric == \"MAE\" or metric == \"RMSE\":\n",
    "        unit = \"[kWh]\"\n",
    "    axis = figure_layout(titel= metric+\" \"+ name,ylabel=\"Error \" + unit, xlabel=\"Number of run\")\n",
    "    for i in range(len(numbers)):\n",
    "        number = numbers[i]\n",
    "        color = colors[i]\n",
    "        settings_try = get_ID_numbers(name,number,DF_log)\n",
    "        out = get_all_error_values(settings_try,metric,DF_error)\n",
    "        print(len(out),end=\"\")\n",
    "\n",
    "        axis.scatter(np.arange(1,len(out)+1),out,c=color,label=number)\n",
    "    plt.legend(loc=\"upper right\")\n",
    "    out_name: str = name_serie+\"_\"+metric+\"_\"+ name+\".png\"\n",
    "    # using output_path_pictures as global variable\n",
    "    plt.savefig(path.join(output_path_pictures,out_name), dpi=300, facecolor='w', edgecolor='w', orientation='portrait', format=None,\n",
    "                    transparent=False, bbox_inches='tight', pad_inches=0.1, metadata=None)\n",
    "\n",
    "def get_the_best_settings_MAE(DF_error: pd.DataFrame):\n",
    "    \"\"\"\n",
    "    :param DF_error: dataFrame with all the errors collected during the parameter search\n",
    "    :return: settings with the smallest MAE error\n",
    "    \"\"\"\n",
    "    collection_errors = []\n",
    "    for col_name in DF_error.columns:\n",
    "        if col_name[-3:] == \"MAE\":\n",
    "            collection_errors.append(DF_error[col_name].sum())\n",
    "    found_min = min(collection_errors)\n",
    "    found_id = collection_errors.index(found_min) + 1\n",
    "    return found_id\n",
    "\n",
    "def get_improvement(name:str,numbers:list,metric:str,DF_log:pd.DataFrame,DF_error:pd.DataFrame):\n",
    "    collection = {}\n",
    "    for i in range(len(numbers)):\n",
    "        number = numbers[i]\n",
    "        settings = get_ID_numbers(name,number,DF_log)\n",
    "        out = get_all_error_values(settings,metric,DF_error)\n",
    "        collection[str(number)] = np.mean(out)\n",
    "    key_biggest_value = max(collection, key= collection.get)\n",
    "    biggest_value = collection[key_biggest_value]\n",
    "    del collection[key_biggest_value]\n",
    "    collection = {key: (1 - collection[key]/biggest_value)*100 for key in collection.keys()}\n",
    "    print(\"The improvement when choosing a certain value: %s\"%collection)\n",
    "\n",
    "    return collection"
   ],
   "metadata": {
    "collapsed": false,
    "pycharm": {
     "name": "#%%\n"
    }
   }
  },
  {
   "cell_type": "code",
   "execution_count": 39,
   "outputs": [],
   "source": [
    "# create_scatter_plot(\"units_LSTM\",[20,50],\"MAE\",logbook_0x78a,error_0x78a,'0x78a812ecd87a4b945e0d262aec41e0eb2b59fe1e')\n",
    "# create_scatter_plot(\"layers_LSTM\",[1,3],\"MAE\",logbook_0x78a,error_0x78a,'0x78a812ecd87a4b945e0d262aec41e0eb2b59fe1e')\n",
    "# create_scatter_plot(\"lag_value\",[48,96],\"MAE\",logbook_0x78a,error_0x78a,'0x78a812ecd87a4b945e0d262aec41e0eb2b59fe1e')\n",
    "# create_scatter_plot(\"learning_rate\",[0.0001,0.001,0.01],\"MAE\",logbook_0x78a,error_0x78a,'0x78a812ecd87a4b945e0d262aec41e0eb2b59fe1e')\n",
    "#\n",
    "#\n",
    "# create_scatter_plot(\"units_LSTM\",[20,50],\"MAE\",logbook_0x1e84,error_0x1e84,\n",
    "# '0x1e84e4d5cf1f463147f3e4d566167597423d7769')\n",
    "# create_scatter_plot(\"layers_LSTM\",[1,3],\"MAE\",logbook_0x1e84,error_0x1e84,\n",
    "# '0x1e84e4d5cf1f463147f3e4d566167597423d7769')\n",
    "# create_scatter_plot(\"lag_value\",[48,96],\"MAE\",logbook_0x1e84,error_0x1e84,\n",
    "# '0x1e84e4d5cf1f463147f3e4d566167597423d7769')\n",
    "# create_scatter_plot(\"learning_rate\",[0.0001,0.001,0.01],\"MAE\",logbook_0x1e84,error_0x1e84,\n",
    "# '0x1e84e4d5cf1f463147f3e4d566167597423d7769')\n",
    "#\n",
    "#\n",
    "# create_scatter_plot(\"units_LSTM\",[20,50],\"MAE\",logbook_0xc3b,error_0xc3b,'0xc3b2f61a72e188cfd44483fce1bc11d6a628766d')\n",
    "# create_scatter_plot(\"layers_LSTM\",[1,3],\"MAE\",logbook_0xc3b,error_0xc3b,'0xc3b2f61a72e188cfd44483fce1bc11d6a628766d')\n",
    "# create_scatter_plot(\"lag_value\",[48,96],\"MAE\",logbook_0xc3b,error_0xc3b,'0xc3b2f61a72e188cfd44483fce1bc11d6a628766d')\n",
    "# create_scatter_plot(\"learning_rate\",[0.0001,0.001,0.01],\"MAE\",logbook_0xc3b,error_0xc3b,'0xc3b2f61a72e188cfd44483fce1bc11d6a628766d')\n"
   ],
   "metadata": {
    "collapsed": false,
    "pycharm": {
     "name": "#%%\n"
    }
   }
  },
  {
   "cell_type": "code",
   "execution_count": 40,
   "outputs": [
    {
     "name": "stdout",
     "output_type": "stream",
     "text": [
      "[0.13670216 0.1392543  0.13636349]\n"
     ]
    },
    {
     "data": {
      "text/plain": "units_LSTM                       20\nlayers_LSTM                       3\ndropout_LSTM                      0\nrecurrent_dropout_LSTM            0\nkernel_regularizer_LSTM        None\nrecurrent_regularizer_LSTM     None\nbais_regularizer_LSTM          None\nactivity_regularizer_LSTM      None\nunits_DENSE                      50\nlayers_DENSE                      1\ndropout_DENSE                     0\nkernel_regularizer_DENSE       None\nbais_regularizer_DENSE         None\nactivity_regularizer_DENSE     None\nlag_value                        96\nnb_epoch                          2\nactivation                     relu\nbatch_size_parameter             48\nlearning_rate                 0.001\npatience                          0\nshuffle                        True\nrepeat                            3\nName: 17, dtype: object"
     },
     "execution_count": 40,
     "metadata": {},
     "output_type": "execute_result"
    }
   ],
   "source": [
    "found_id = get_the_best_settings_MAE(error_0x78a)\n",
    "print(get_all_error_values(np.array([found_id]),\"MAE\", error_0x78a))\n",
    "logbook_0x78a[str(found_id)]"
   ],
   "metadata": {
    "collapsed": false,
    "pycharm": {
     "name": "#%%\n"
    }
   }
  },
  {
   "cell_type": "code",
   "execution_count": 41,
   "outputs": [
    {
     "name": "stdout",
     "output_type": "stream",
     "text": [
      "[0.04256082 0.04304412 0.04239234]\n"
     ]
    },
    {
     "data": {
      "text/plain": "units_LSTM                        50\nlayers_LSTM                        3\ndropout_LSTM                       0\nrecurrent_dropout_LSTM             0\nkernel_regularizer_LSTM         None\nrecurrent_regularizer_LSTM      None\nbais_regularizer_LSTM           None\nactivity_regularizer_LSTM       None\nunits_DENSE                       50\nlayers_DENSE                       1\ndropout_DENSE                      0\nkernel_regularizer_DENSE        None\nbais_regularizer_DENSE          None\nactivity_regularizer_DENSE      None\nlag_value                         48\nnb_epoch                           2\nactivation                      relu\nbatch_size_parameter              48\nlearning_rate                 0.0001\npatience                           0\nshuffle                         True\nrepeat                             3\nName: 10, dtype: object"
     },
     "execution_count": 41,
     "metadata": {},
     "output_type": "execute_result"
    }
   ],
   "source": [
    "found_id = get_the_best_settings_MAE(error_0x1e84)\n",
    "print(get_all_error_values(np.array([found_id]),\"MAE\", error_0x1e84))\n",
    "logbook_0x1e84[str(found_id)]"
   ],
   "metadata": {
    "collapsed": false,
    "pycharm": {
     "name": "#%%\n"
    }
   }
  },
  {
   "cell_type": "code",
   "execution_count": 42,
   "outputs": [
    {
     "name": "stdout",
     "output_type": "stream",
     "text": [
      "[0.09731915 0.10723963 0.09995547]\n"
     ]
    },
    {
     "data": {
      "text/plain": "units_LSTM                       50\nlayers_LSTM                       3\ndropout_LSTM                      0\nrecurrent_dropout_LSTM            0\nkernel_regularizer_LSTM        None\nrecurrent_regularizer_LSTM     None\nbais_regularizer_LSTM          None\nactivity_regularizer_LSTM      None\nunits_DENSE                      50\nlayers_DENSE                      1\ndropout_DENSE                     0\nkernel_regularizer_DENSE       None\nbais_regularizer_DENSE         None\nactivity_regularizer_DENSE     None\nlag_value                        96\nnb_epoch                          2\nactivation                     relu\nbatch_size_parameter             48\nlearning_rate                 0.001\npatience                          0\nshuffle                        True\nrepeat                            3\nName: 23, dtype: object"
     },
     "execution_count": 42,
     "metadata": {},
     "output_type": "execute_result"
    }
   ],
   "source": [
    "found_id = get_the_best_settings_MAE(error_0xc3b)\n",
    "print(get_all_error_values(np.array([found_id]),\"MAE\", error_0xc3b))\n",
    "logbook_0xc3b[str(found_id)]"
   ],
   "metadata": {
    "collapsed": false,
    "pycharm": {
     "name": "#%%\n"
    }
   }
  },
  {
   "cell_type": "code",
   "execution_count": 43,
   "outputs": [
    {
     "name": "stdout",
     "output_type": "stream",
     "text": [
      "The improvement when choosing a certain value: {'20': 0.4460570445284695}\n",
      "The improvement when choosing a certain value: {'3': 21.339499537871543}\n",
      "The improvement when choosing a certain value: {'48': 7.5130668366641284}\n",
      "The improvement when choosing a certain value: {'0.0001': 43.00387300698031, '0.001': 23.350514787014575}\n",
      "####################################################################################################\n",
      "The improvement when choosing a certain value: {'20': 0.062236708237239924}\n",
      "The improvement when choosing a certain value: {'3': 10.603827641126596}\n",
      "The improvement when choosing a certain value: {'48': 2.8444367336322607}\n",
      "The improvement when choosing a certain value: {'0.0001': 12.773820034697392, '0.001': 2.513918858102304}\n",
      "####################################################################################################\n",
      "The improvement when choosing a certain value: {'50': 0.31899432463463606}\n",
      "The improvement when choosing a certain value: {'3': 9.981884181677426}\n",
      "The improvement when choosing a certain value: {'96': 1.759070493454118}\n",
      "The improvement when choosing a certain value: {'0.0001': 17.939144985063336, '0.001': 13.210304891013024}\n"
     ]
    },
    {
     "data": {
      "text/plain": "{'0.0001': 17.939144985063336, '0.001': 13.210304891013024}"
     },
     "execution_count": 43,
     "metadata": {},
     "output_type": "execute_result"
    }
   ],
   "source": [
    "get_improvement(\"units_LSTM\",[20,50],\"MAE\",logbook_0x78a,error_0x78a)\n",
    "get_improvement(\"layers_LSTM\",[1,3],\"MAE\",logbook_0x78a,error_0x78a)\n",
    "get_improvement(\"lag_value\",[48,96],\"MAE\",logbook_0x78a,error_0x78a)\n",
    "get_improvement(\"learning_rate\",[0.0001,0.001,0.01],\"MAE\",logbook_0x78a,error_0x78a)\n",
    "print(\"#\"*100)\n",
    "get_improvement(\"units_LSTM\",[20,50],\"MAE\",logbook_0x1e84,error_0x1e84)\n",
    "get_improvement(\"layers_LSTM\",[1,3],\"MAE\",logbook_0x1e84,error_0x1e84)\n",
    "get_improvement(\"lag_value\",[48,96],\"MAE\",logbook_0x1e84,error_0x1e84)\n",
    "get_improvement(\"learning_rate\",[0.0001,0.001,0.01],\"MAE\",logbook_0x1e84,error_0x1e84)\n",
    "print(\"#\"*100)\n",
    "get_improvement(\"units_LSTM\",[20,50],\"MAE\",logbook_0xc3b,error_0xc3b)\n",
    "get_improvement(\"layers_LSTM\",[1,3],\"MAE\",logbook_0xc3b,error_0xc3b)\n",
    "get_improvement(\"lag_value\",[48,96],\"MAE\",logbook_0xc3b,error_0xc3b)\n",
    "get_improvement(\"learning_rate\",[0.0001,0.001,0.01],\"MAE\",logbook_0xc3b,error_0xc3b)\n",
    "\n"
   ],
   "metadata": {
    "collapsed": false,
    "pycharm": {
     "name": "#%%\n"
    }
   }
  }
 ],
 "metadata": {
  "kernelspec": {
   "display_name": "Python 3",
   "language": "python",
   "name": "python3"
  },
  "language_info": {
   "codemirror_mode": {
    "name": "ipython",
    "version": 2
   },
   "file_extension": ".py",
   "mimetype": "text/x-python",
   "name": "python",
   "nbconvert_exporter": "python",
   "pygments_lexer": "ipython2",
   "version": "2.7.6"
  }
 },
 "nbformat": 4,
 "nbformat_minor": 0
}