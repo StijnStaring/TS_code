{
 "cells": [
  {
   "cell_type": "code",
   "execution_count": 2,
   "metadata": {
    "collapsed": true
   },
   "outputs": [],
   "source": [
    "from forecasting_functions import *\n",
    "from multiprocessing import Pool, cpu_count\n"
   ]
  },
  {
   "cell_type": "code",
   "execution_count": 16,
   "outputs": [
    {
     "data": {
      "text/plain": "Empty DataFrame\nColumns: []\nIndex: [lag_value, nb_epoch, batch_size_parameter, units_LSTM, units_DENSE, repeat, evaluation_frame, activation, patience, shuffle, learning_rate, layers_LSTM, layers_DENSE, dropout_LSTM, recurrent_dropout_LSTM, kernel_regularizer_LSTM, recurrent_regularizer_LSTM, bais_regularizer_LSTM, activity_regularizer_LSTM, dropout_DENSE, kernel_regularizer_DENSE, bais_regularizer_DENSE, activity_regularizer_DENSE]",
      "text/html": "<div>\n<style scoped>\n    .dataframe tbody tr th:only-of-type {\n        vertical-align: middle;\n    }\n\n    .dataframe tbody tr th {\n        vertical-align: top;\n    }\n\n    .dataframe thead th {\n        text-align: right;\n    }\n</style>\n<table border=\"1\" class=\"dataframe\">\n  <thead>\n    <tr style=\"text-align: right;\">\n      <th></th>\n    </tr>\n  </thead>\n  <tbody>\n    <tr>\n      <th>lag_value</th>\n    </tr>\n    <tr>\n      <th>nb_epoch</th>\n    </tr>\n    <tr>\n      <th>batch_size_parameter</th>\n    </tr>\n    <tr>\n      <th>units_LSTM</th>\n    </tr>\n    <tr>\n      <th>units_DENSE</th>\n    </tr>\n    <tr>\n      <th>repeat</th>\n    </tr>\n    <tr>\n      <th>evaluation_frame</th>\n    </tr>\n    <tr>\n      <th>activation</th>\n    </tr>\n    <tr>\n      <th>patience</th>\n    </tr>\n    <tr>\n      <th>shuffle</th>\n    </tr>\n    <tr>\n      <th>learning_rate</th>\n    </tr>\n    <tr>\n      <th>layers_LSTM</th>\n    </tr>\n    <tr>\n      <th>layers_DENSE</th>\n    </tr>\n    <tr>\n      <th>dropout_LSTM</th>\n    </tr>\n    <tr>\n      <th>recurrent_dropout_LSTM</th>\n    </tr>\n    <tr>\n      <th>kernel_regularizer_LSTM</th>\n    </tr>\n    <tr>\n      <th>recurrent_regularizer_LSTM</th>\n    </tr>\n    <tr>\n      <th>bais_regularizer_LSTM</th>\n    </tr>\n    <tr>\n      <th>activity_regularizer_LSTM</th>\n    </tr>\n    <tr>\n      <th>dropout_DENSE</th>\n    </tr>\n    <tr>\n      <th>kernel_regularizer_DENSE</th>\n    </tr>\n    <tr>\n      <th>bais_regularizer_DENSE</th>\n    </tr>\n    <tr>\n      <th>activity_regularizer_DENSE</th>\n    </tr>\n  </tbody>\n</table>\n</div>"
     },
     "execution_count": 16,
     "metadata": {},
     "output_type": "execute_result"
    }
   ],
   "source": [
    "\n"
   ],
   "metadata": {
    "collapsed": false,
    "pycharm": {
     "name": "#%%\n"
    }
   }
  },
  {
   "cell_type": "code",
   "execution_count": null,
   "outputs": [],
   "source": [
    "# def run_once(args):\n",
    "# \t(initial_population_size, p, termination_value, max_iterations) = args\n",
    "# \tinstance = r0620003()\n",
    "# \t#print(\"Running...\")\n",
    "# \tresult = instance.optimize(\"tour29.csv\", initial_population_size=initial_population_size, p=p, termination_value= termination_value, max_iterations = max_iterations)\n",
    "# \treturn result\n",
    "\n",
    "if __name__ == \"__main__\":\n",
    "\tprint(\"Running this file on a PC with %s cores...\" % (cpu_count()))\n",
    "    statistics = pd.DataFrame()\n",
    "    runner = forecast_setting(units_LSTM = 20, layers_LSTM = 1, units_DENSE = 20, layers_DENSE= 1, patience = 5,\n",
    "                 shuffle = False, lag_value = 3, nb_epoch = 1, batch_size_para = 32,\n",
    "                 repeat = 10, activation = 'relu', learning_rate = 0.001, dropout_LSTM = 0, recurrent_dropout_LSTM = 0, kernel_regularizer_LSTM = None,\n",
    "                 recurrent_regularizer_LSTM = None, bais_regularizer_LSTM = None, activity_regularizer_LSTM = None, dropout_DENSE = 0,\n",
    "                 kernel_regularizer_DENSE = None, bais_regularizer_DENSE = None, activity_regularizer_DENSE = None)\n",
    "    settingLogBook = pd.DataFrame(index=list(vars(runner).keys()))\n",
    "\n",
    "    # results_file_name = str(time.time()) + \".txt\"\n",
    "    # results_file = open(results_file_name, \"w\")\n",
    "    # results_file.close()\n",
    "\n",
    "    # poss_initial_population_sizes = [20,75,100,150]\n",
    "    # poss_ps = [0.02, 0.15,0.25]\n",
    "    # poss_termination_values = [100]\n",
    "    # poss_Opt_3_iterations = [1,3,5]\n",
    "\n",
    "\n",
    "\tposs_initial_population_sizes = [100]\n",
    "\tposs_ps = [0.02]\n",
    "\tposs_termination_values = [50]\n",
    "\tposs_Opt_3_iterations = [5]\n",
    "\n",
    "\tamount_of_possibilities: int = len(poss_initial_population_sizes) * len(poss_ps) * len(poss_termination_values) * len(poss_Opt_3_iterations)\n",
    "\tcurrent_possibility_index: int = 1\n",
    "\tprint(\"Found %s sets of parameters.\" % amount_of_possibilities)\n",
    "\n",
    "\tfor poss_initial_population_size in poss_initial_population_sizes:\n",
    "\t\tfor poss_p in poss_ps:\n",
    "\t\t\tfor poss_Opt_3_iteration in poss_Opt_3_iterations:\n",
    "\t\t\t\tfor poss_termination_value in poss_termination_values:\n",
    "\t\t\t\t\t\tamount_of_iterations = 1000\n",
    "\t\t\t\t\t\tp = Pool(processes=cpu_count())\n",
    "\t\t\t\t\t\tresults = p.map(run_once, [(poss_initial_population_size, poss_p, poss_termination_value, poss_Opt_3_iteration) for i in range(amount_of_iterations)])\n",
    "\n",
    "\t\t\t\t\t\t# average_score = np.mean(results)\n",
    "\t\t\t\t\t\t# scores = [i[0] for i in results]\n",
    "\t\t\t\t\t\t# times = [i[1] for i in results]\n",
    "\n",
    "\t\t\t\t\t\tcollection_best_score = [i[0] for i in results]\n",
    "\t\t\t\t\t\tcollection_mean_score = [i[1] for i in results]\n",
    "\n",
    "\t\t\t\t\t\thistograms(collection_best_score, collection_mean_score)\n",
    "\n",
    "\n",
    "\n",
    "\t\t\t\t\t\t# best_score = min(scores)\n",
    "\t\t\t\t\t\t# avg_score = np.mean(scores)\n",
    "\t\t\t\t\t\t# avg_times = np.mean(times)\n",
    "\n",
    "\t\t\t\t\t\t# results_file = open(results_file_name, \"a\")\n",
    "\t\t\t\t\t\t# results_file.write(\"#\" * 50 + \"\\r\\n\")\n",
    "\t\t\t\t\t\t# results_file.write(\"Initial population size: %s\" % poss_initial_population_size + \"\\r\\n\")\n",
    "\t\t\t\t\t\t# # results_file.write(\"Amount of offsprings: %s\" % poss_amount_of_offspring + \"\\r\\n\")\n",
    "\t\t\t\t\t\t# # results_file.write(\"Amount of offsprings: %s\" % poss_amount_of_offspring + \"\\r\\n\")\n",
    "\t\t\t\t\t\t# # results_file.write(\"k (selection): %s\" % poss_k + \"\\r\\n\")\n",
    "\t\t\t\t\t\t# results_file.write(\"p (mutation): %s\" % poss_p + \"\\r\\n\")\n",
    "\t\t\t\t\t\t# results_file.write(\"poss_Opt_3_iteration: %s\" % poss_Opt_3_iteration + \"\\r\\n\")\n",
    "\t\t\t\t\t\t# # results_file.write(\"Recombination rate: %s\" % poss_recombination_rate + \"\\r\\n\")\n",
    "\t\t\t\t\t\t# results_file.write(\"# of termination iterations: %s\" % poss_termination_value + \"\\r\\n\")\n",
    "\t\t\t\t\t\t# results_file.write(\"Best score over %s iterations: %s\" % (amount_of_iterations, best_score) + \"\\r\\n\")\n",
    "\t\t\t\t\t\t# results_file.write(\"Mean score over %s iterations:\t%s\" % (amount_of_iterations, avg_score) + \"\\r\\n\")\n",
    "\t\t\t\t\t\t# results_file.write(\"Mean time used:\t%s  iterations: %s\" % (amount_of_iterations, avg_times) + \"\\r\\n\")\n",
    "\t\t\t\t\t\t# results_file.write((\"#\" * 50) + \"\\r\\n\")\n",
    "\t\t\t\t\t\t# results_file.close()\n",
    "\n",
    "\t\t\t\t\t\tprint(\"Completed %s / %s...\" % (current_possibility_index, amount_of_possibilities))\n",
    "\t\t\t\t\t\tcurrent_possibility_index += 1\n",
    "\n",
    "\tprint(\"Finished simulation - data written to txt file.\")"
   ],
   "metadata": {
    "collapsed": false,
    "pycharm": {
     "name": "#%%\n"
    }
   }
  }
 ],
 "metadata": {
  "kernelspec": {
   "display_name": "Python 3",
   "language": "python",
   "name": "python3"
  },
  "language_info": {
   "codemirror_mode": {
    "name": "ipython",
    "version": 2
   },
   "file_extension": ".py",
   "mimetype": "text/x-python",
   "name": "python",
   "nbconvert_exporter": "python",
   "pygments_lexer": "ipython2",
   "version": "2.7.6"
  }
 },
 "nbformat": 4,
 "nbformat_minor": 0
}