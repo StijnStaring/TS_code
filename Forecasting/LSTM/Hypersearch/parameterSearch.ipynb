{
 "cells": [
  {
   "cell_type": "code",
   "execution_count": 1,
   "metadata": {
    "collapsed": true
   },
   "outputs": [
    {
     "name": "stderr",
     "output_type": "stream",
     "text": [
      "Using TensorFlow backend.\n"
     ]
    }
   ],
   "source": [
    "from forecasting_functions import *\n",
    "from multiprocessing import Pool, cpu_count\n",
    "import time\n",
    "from functools import reduce"
   ]
  },
  {
   "cell_type": "code",
   "execution_count": 2,
   "outputs": [],
   "source": [
    "# parameters that are tried\n",
    "# first stage --> regularization off\n",
    "class ParameterSearch:\n",
    "    def __init__(self):\n",
    "        self.list_units_LSTM = [20,50,100]\n",
    "        self.list_layers_LSTM = [1,2,3]\n",
    "        self.list_dropout_LSTM = [0]\n",
    "        self.list_recurrent_dropout_LSTM = [0]\n",
    "        self.list_kernel_regularization_LSTM = [None]\n",
    "        self.list_recurrent_regularization_LSTM = [None]\n",
    "        self.list_bais_regularization_LSTM = [None]\n",
    "        self.list_activity_regularization_LSTM = [None]\n",
    "\n",
    "        self.list_units_DENSE = [75]\n",
    "        self.list_layers_DENSE = [1]\n",
    "        self.list_dropout_DENSE = [0]\n",
    "        self.list_kernel_regularization_DENSE = [None]\n",
    "        self.list_bais_regularization_DENSE = [None]\n",
    "        self.list_activity_regularization_DENSE = [None]\n",
    "\n",
    "        self.list_lag_value = [48,96,336]\n",
    "        self.list_nb_epoch = [1000]\n",
    "        self.list_activation = ['relu']\n",
    "        self.list_batch_size_parameter = [1,32,64]\n",
    "        self.list_learning_rate = [10**-3,5*10**-3,10**-2,10**-1]\n",
    "        self.list_patience = [5]\n",
    "        self.list_shuffle = ['False']\n",
    "        self.list_repeat = [3]\n"
   ],
   "metadata": {
    "collapsed": false,
    "pycharm": {
     "name": "#%%\n"
    }
   }
  },
  {
   "cell_type": "code",
   "execution_count": 4,
   "outputs": [],
   "source": [
    "# It is important that each core is calculating\n",
    "\n",
    "def run_once_input_LSTM(kwargs):\n",
    "    print(\"Running LSTM input...\")\n",
    "    # Now are still trying with toy trainingset\n",
    "    print(kwargs)\n",
    "    X = np.zeros((5,5,5))\n",
    "    y = np.ones((5,1))\n",
    "\n",
    "    return X,y\n",
    "# \treturn input_output_LSTM(kwargs[\"ts\"].training, kwargs[\"ts\"].temperature_norm, kwargs[\"lag_value\"])"
   ],
   "metadata": {
    "collapsed": false,
    "pycharm": {
     "name": "#%%\n"
    }
   }
  },
  {
   "cell_type": "code",
   "execution_count": 15,
   "outputs": [
    {
     "name": "stdout",
     "output_type": "stream",
     "text": [
      "Running this file on a PC with 4 cores...\n"
     ]
    },
    {
     "ename": "FileNotFoundError",
     "evalue": "[Errno 2] No such file or directory: '../outputs/1619090578.3144298.txt'",
     "output_type": "error",
     "traceback": [
      "\u001B[1;31m---------------------------------------------------------------------------\u001B[0m",
      "\u001B[1;31mFileNotFoundError\u001B[0m                         Traceback (most recent call last)",
      "\u001B[1;32m<ipython-input-15-69ea445c71f3>\u001B[0m in \u001B[0;36m<module>\u001B[1;34m\u001B[0m\n\u001B[0;32m     28\u001B[0m \u001B[1;33m\u001B[0m\u001B[0m\n\u001B[0;32m     29\u001B[0m \u001B[0mresults_file_name\u001B[0m \u001B[1;33m=\u001B[0m \u001B[0msave_to3\u001B[0m \u001B[1;33m+\u001B[0m \u001B[0mstr\u001B[0m\u001B[1;33m(\u001B[0m\u001B[0mtime\u001B[0m\u001B[1;33m.\u001B[0m\u001B[0mtime\u001B[0m\u001B[1;33m(\u001B[0m\u001B[1;33m)\u001B[0m\u001B[1;33m)\u001B[0m \u001B[1;33m+\u001B[0m \u001B[1;34m\".txt\"\u001B[0m\u001B[1;33m\u001B[0m\u001B[1;33m\u001B[0m\u001B[0m\n\u001B[1;32m---> 30\u001B[1;33m \u001B[0mresults_file\u001B[0m \u001B[1;33m=\u001B[0m \u001B[0mopen\u001B[0m\u001B[1;33m(\u001B[0m\u001B[0mresults_file_name\u001B[0m\u001B[1;33m,\u001B[0m \u001B[1;34m\"w\"\u001B[0m\u001B[1;33m)\u001B[0m\u001B[1;33m\u001B[0m\u001B[1;33m\u001B[0m\u001B[0m\n\u001B[0m\u001B[0;32m     31\u001B[0m \u001B[0mresults_file\u001B[0m\u001B[1;33m.\u001B[0m\u001B[0mwrite\u001B[0m\u001B[1;33m(\u001B[0m\u001B[1;34m\"Running the similation on a PC with %s cores...\"\u001B[0m \u001B[1;33m%\u001B[0m \u001B[1;33m(\u001B[0m\u001B[0mcpu_count\u001B[0m\u001B[1;33m(\u001B[0m\u001B[1;33m)\u001B[0m\u001B[1;33m)\u001B[0m\u001B[1;33m)\u001B[0m\u001B[1;33m\u001B[0m\u001B[1;33m\u001B[0m\u001B[0m\n\u001B[0;32m     32\u001B[0m \u001B[0mresults_file\u001B[0m\u001B[1;33m.\u001B[0m\u001B[0mclose\u001B[0m\u001B[1;33m(\u001B[0m\u001B[1;33m)\u001B[0m\u001B[1;33m\u001B[0m\u001B[1;33m\u001B[0m\u001B[0m\n",
      "\u001B[1;31mFileNotFoundError\u001B[0m: [Errno 2] No such file or directory: '../outputs/1619090578.3144298.txt'"
     ]
    }
   ],
   "source": [
    "Stijn = True\n",
    "path_history:str\n",
    "path_temperature:str\n",
    "save_to1:str\n",
    "save_to2:str\n",
    "save_to3:str\n",
    "if Stijn:\n",
    "    path_history = \"D:\\AI_time_series_repos\\TS_code\\Forecasting\\\\basemodel\\data\\DF_three_series.csv\"\n",
    "    path_temperature = \"D:\\AI_time_series_repos\\TS_code\\Forecasting\\\\basemodel\\data\\DF_three_temp_series.csv\"\n",
    "    save_to1 = \"../outputs/statistics.csv\"\n",
    "    save_to2 = \"../outputs/logBook.csv\"\n",
    "    save_to3 = \"../outputs/\"\n",
    "else:\n",
    "    path_history = \"\"\n",
    "    path_temperature = \"\"\n",
    "    save_to1 = \"\"\n",
    "    save_to2 = \"\"\n",
    "    save_to3 = \"\"\n",
    "\n",
    "fullYeardata = pd.read_csv(path_history,index_col= \"date\",parse_dates= True)\n",
    "names = fullYeardata.columns\n",
    "av_temperature = pd.read_csv(path_temperature,index_col=\"meter_id\",parse_dates=True)\n",
    "\n",
    "print(\"Running this file on a PC with %s cores...\" % (cpu_count()))\n",
    "statistics = pd.DataFrame()\n",
    "LogBookIndex = list(vars(forecast_setting()).keys())\n",
    "LogBook = pd.DataFrame(index=LogBookIndex)\n",
    "\n",
    "results_file_name = save_to3 + str(time.time()) + \".txt\"\n",
    "results_file = open(results_file_name, \"w\")\n",
    "results_file.write(\"Running the similation on a PC with %s cores...\" % (cpu_count()))\n",
    "results_file.close()\n",
    "chosen_parameters = ParameterSearch()\n",
    "amount_of_possibilities: int = reduce((lambda x, y: x * y), [len(x) for x in list(vars(chosen_parameters).values())])\n",
    "current_possibility_index: int = 1\n",
    "print(\"Found %s sets of parameters.\" % amount_of_possibilities)\n",
    "\n",
    "# calculate the LSTM inputs for all the\n",
    "\n",
    "\n",
    "\n",
    "\n",
    "\n",
    "\n",
    "\n",
    "\n",
    "\n",
    "\n",
    "\n",
    "\n",
    "\n",
    "    #\n",
    "    #\n",
    "    # for units_LSTM in chosen_parameters.list_units_LSTM:\n",
    "    #     for layers_LSTM in chosen_parameters.list_layers_LSTM:\n",
    "    #         for dropout_LSTM in chosen_parameters.list_dropout_LSTM:\n",
    "    #             for recurrent_dropout_LSTM in chosen_parameters.list_recurrent_dropout_LSTM:\n",
    "    #                 for kernel_regularization_LSTM in chosen_parameters.list_kernel_regularization_LSTM:\n",
    "    #                     for recurrent_regularization_LSTM in chosen_parameters.list_recurrent_regularization_LSTM:\n",
    "    #                         for bais_regularization_LSTM in chosen_parameters.list_bais_regularization_LSTM:\n",
    "    #                             for activity_regularization_LSTM in chosen_parameters.list_activity_regularization_LSTM:\n",
    "    #\n",
    "    #                                 for units_DENSE in chosen_parameters.list_units_DENSE:\n",
    "    #                                     for layers_DENSE in chosen_parameters.list_layers_DENSE:\n",
    "    #                                         for dropout_DENSE in chosen_parameters.list_dropout_DENSE:\n",
    "    #                                             for kernel_regularization_DENSE in chosen_parameters.list_kernel_regularization_DENSE:\n",
    "    #                                                 for bais_regularization_DENSE in chosen_parameters.list_bais_regularization_DENSE:\n",
    "    #                                                     for activity_regularization_DENSE in chosen_parameters.list_activity_regularization_DENSE:\n",
    "    #\n",
    "    #                                                         for lag_value in chosen_parameters.list_lag_value:\n",
    "    #                                                             for nb_epoch in chosen_parameters.list_nb_epoch:\n",
    "    #                                                                 for activation in chosen_parameters.list_activation:\n",
    "    #                                                                     for batch_size_parameter in chosen_parameters.list_batch_size_parameter:\n",
    "    #                                                                         for learning_rate in chosen_parameters.list_learning_rate:\n",
    "    #                                                                             for patience in chosen_parameters.list_patience:\n",
    "    #                                                                                 for shuffle in chosen_parameters.list_shuffle:\n",
    "    #                                                                                     #repeat\n",
    "    #                                                                                     amount_of_iterations = chosen_parameters.list_repeat[0]\n",
    "    #                                                                                     runner = forecast_setting(units_LSTM = 20, layers_LSTM = 1, units_DENSE = 20, layers_DENSE= 1, patience = 5,\n",
    "    #                                                                                     shuffle = False, lag_value = 3, nb_epoch = 1, batch_size_para = 32,\n",
    "    #                                                                                     repeat = 10, activation = 'relu', learning_rate = 0.001, dropout_LSTM = 0, recurrent_dropout_LSTM = 0, kernel_regularizer_LSTM = None,\n",
    "    #                                                                                     recurrent_regularizer_LSTM = None, bais_regularizer_LSTM = None, activity_regularizer_LSTM = None, dropout_DENSE = 0,\n",
    "    #                                                                                     kernel_regularizer_DENSE = None, bais_regularizer_DENSE = None, activity_regularizer_DENSE = None)\n",
    "\n",
    "\n",
    "\n",
    "\n",
    "    # statistics.to_csv(save_to1)\n",
    "    # LogBook.to_csv(save_to2)\n",
    "\n",
    "\n",
    "\n",
    "\n",
    "\n",
    "\n",
    "\n",
    "\n",
    "\n",
    "\n",
    "\n",
    "\n",
    "\n",
    "\n",
    "\n",
    "\n",
    "\n",
    "\n",
    "\n",
    "\n",
    "\n",
    "\n",
    "\n",
    "\n",
    "\n",
    "\t\t\t\t\t\t# p = Pool(processes=cpu_count())\n",
    "\t\t\t\t\t\t# results = p.map(run_once, [(poss_initial_population_size, poss_p, poss_termination_value, poss_Opt_3_iteration) for i in range(amount_of_iterations)])\n",
    "                        #\n",
    "\t\t\t\t\t\t# # average_score = np.mean(results)\n",
    "\t\t\t\t\t\t# # scores = [i[0] for i in results]\n",
    "\t\t\t\t\t\t# # times = [i[1] for i in results]\n",
    "                        #\n",
    "\t\t\t\t\t\t# collection_best_score = [i[0] for i in results]\n",
    "\t\t\t\t\t\t# collection_mean_score = [i[1] for i in results]\n",
    "                        #\n",
    "\t\t\t\t\t\t# histograms(collection_best_score, collection_mean_score)\n",
    "\n",
    "\n",
    "\n",
    "\t\t\t\t\t\t# best_score = min(scores)\n",
    "\t\t\t\t\t\t# avg_score = np.mean(scores)\n",
    "\t\t\t\t\t\t# avg_times = np.mean(times)\n",
    "\n",
    "\t\t\t\t\t\t# results_file = open(results_file_name, \"a\")\n",
    "\t\t\t\t\t\t# results_file.write(\"#\" * 50 + \"\\r\\n\")\n",
    "\t\t\t\t\t\t# results_file.write(\"Initial population size: %s\" % poss_initial_population_size + \"\\r\\n\")\n",
    "\t\t\t\t\t\t# # results_file.write(\"Amount of offsprings: %s\" % poss_amount_of_offspring + \"\\r\\n\")\n",
    "\t\t\t\t\t\t# # results_file.write(\"Amount of offsprings: %s\" % poss_amount_of_offspring + \"\\r\\n\")\n",
    "\t\t\t\t\t\t# # results_file.write(\"k (selection): %s\" % poss_k + \"\\r\\n\")\n",
    "\t\t\t\t\t\t# results_file.write(\"p (mutation): %s\" % poss_p + \"\\r\\n\")\n",
    "\t\t\t\t\t\t# results_file.write(\"poss_Opt_3_iteration: %s\" % poss_Opt_3_iteration + \"\\r\\n\")\n",
    "\t\t\t\t\t\t# # results_file.write(\"Recombination rate: %s\" % poss_recombination_rate + \"\\r\\n\")\n",
    "\t\t\t\t\t\t# results_file.write(\"# of termination iterations: %s\" % poss_termination_value + \"\\r\\n\")\n",
    "\t\t\t\t\t\t# results_file.write(\"Best score over %s iterations: %s\" % (amount_of_iterations, best_score) + \"\\r\\n\")\n",
    "\t\t\t\t\t\t# results_file.write(\"Mean score over %s iterations:\t%s\" % (amount_of_iterations, avg_score) + \"\\r\\n\")\n",
    "\t\t\t\t\t\t# results_file.write(\"Mean time used:\t%s  iterations: %s\" % (amount_of_iterations, avg_times) + \"\\r\\n\")\n",
    "\t\t\t\t\t\t# results_file.write((\"#\" * 50) + \"\\r\\n\")\n",
    "\t\t\t\t\t\t# results_file.close()\n",
    "\n",
    "\t\t\t\t\t\t# print(\"Completed %s / %s...\" % (current_possibility_index, amount_of_possibilities))\n",
    "\t\t\t\t\t\t# current_possibility_index += 1\n",
    "\n",
    "\t# print(\"Finished simulation - data written to txt file.\")"
   ],
   "metadata": {
    "collapsed": false,
    "pycharm": {
     "name": "#%%\n"
    }
   }
  },
  {
   "cell_type": "code",
   "execution_count": 17,
   "outputs": [
    {
     "data": {
      "text/plain": "'../outputs/1619090578.3144298.txt'"
     },
     "execution_count": 17,
     "metadata": {},
     "output_type": "execute_result"
    }
   ],
   "source": [
    "results_file_name"
   ],
   "metadata": {
    "collapsed": false,
    "pycharm": {
     "name": "#%%\n"
    }
   }
  },
  {
   "cell_type": "code",
   "execution_count": 20,
   "outputs": [
    {
     "ename": "FileNotFoundError",
     "evalue": "[Errno 2] No such file or directory: '../outputs/1619090578.3144298.txt'",
     "output_type": "error",
     "traceback": [
      "\u001B[1;31m---------------------------------------------------------------------------\u001B[0m",
      "\u001B[1;31mFileNotFoundError\u001B[0m                         Traceback (most recent call last)",
      "\u001B[1;32m<ipython-input-20-b7d3aa72f0c4>\u001B[0m in \u001B[0;36m<module>\u001B[1;34m\u001B[0m\n\u001B[0;32m      1\u001B[0m \u001B[1;32mfor\u001B[0m \u001B[0mname\u001B[0m \u001B[1;32min\u001B[0m \u001B[0mnames\u001B[0m\u001B[1;33m:\u001B[0m\u001B[1;33m\u001B[0m\u001B[1;33m\u001B[0m\u001B[0m\n\u001B[1;32m----> 2\u001B[1;33m     \u001B[0mresults_file\u001B[0m \u001B[1;33m=\u001B[0m \u001B[0mopen\u001B[0m\u001B[1;33m(\u001B[0m\u001B[0mresults_file_name\u001B[0m\u001B[1;33m,\u001B[0m \u001B[1;34m\"a\"\u001B[0m\u001B[1;33m)\u001B[0m\u001B[1;33m\u001B[0m\u001B[1;33m\u001B[0m\u001B[0m\n\u001B[0m\u001B[0;32m      3\u001B[0m     \u001B[0mresults_file\u001B[0m\u001B[1;33m.\u001B[0m\u001B[0mwrite\u001B[0m\u001B[1;33m(\u001B[0m\u001B[1;34m\"#\"\u001B[0m \u001B[1;33m*\u001B[0m \u001B[1;36m50\u001B[0m \u001B[1;33m+\u001B[0m \u001B[1;34m\"\\r\\n\"\u001B[0m\u001B[1;33m)\u001B[0m\u001B[1;33m\u001B[0m\u001B[1;33m\u001B[0m\u001B[0m\n\u001B[0;32m      4\u001B[0m     \u001B[0mresults_file\u001B[0m\u001B[1;33m.\u001B[0m\u001B[0mwrite\u001B[0m\u001B[1;33m(\u001B[0m\u001B[1;34m\"The calculation of the LSTM inputs is started for serie: %s.\\r\\n\"\u001B[0m\u001B[1;33m%\u001B[0m\u001B[0mname\u001B[0m\u001B[1;33m)\u001B[0m\u001B[1;33m\u001B[0m\u001B[1;33m\u001B[0m\u001B[0m\n\u001B[0;32m      5\u001B[0m     \u001B[0mresults_file\u001B[0m\u001B[1;33m.\u001B[0m\u001B[0mwrite\u001B[0m\u001B[1;33m(\u001B[0m\u001B[1;34m\"-\"\u001B[0m\u001B[1;33m*\u001B[0m\u001B[1;36m50\u001B[0m \u001B[1;33m+\u001B[0m \u001B[1;34m\"\\r\\n\"\u001B[0m\u001B[1;33m)\u001B[0m\u001B[1;33m\u001B[0m\u001B[1;33m\u001B[0m\u001B[0m\n",
      "\u001B[1;31mFileNotFoundError\u001B[0m: [Errno 2] No such file or directory: '../outputs/1619090578.3144298.txt'"
     ]
    }
   ],
   "source": [
    "for name in names:\n",
    "    results_file = open(results_file_name, \"a\")\n",
    "    results_file.write(\"#\" * 50 + \"\\r\\n\")\n",
    "    results_file.write(\"The calculation of the LSTM inputs is started for serie: %s.\\r\\n\"%name)\n",
    "    results_file.write(\"-\"*50 + \"\\r\\n\")\n",
    "    ts = time_serie(fullYeardata[name], av_temperature)\n",
    "    p = Pool(processes=cpu_count())\n",
    "    results = p.map(run_once_input_LSTM, [{\"ts\":ts, \"lag_value\": lag_value} for lag_value in chosen_parameters.list_lag_value])\n",
    "    X_shapes = [tup[0].shape for tup in results]\n",
    "    y_shapes = [tup[1].shape for tup in results]\n",
    "    results_file = open(results_file_name, \"a\")\n",
    "    results_file.write(\"X shapes: %s.\\r\\n\"%X_shapes)\n",
    "    results_file.write(\"y shapes: %s.\\r\\n\"%y_shapes)\n",
    "    results_file.close()\n",
    "    print(\"Completed Serie: %s...\" % name)\n",
    "print(\"Finished simulation - data written to txt file.\")"
   ],
   "metadata": {
    "collapsed": false,
    "pycharm": {
     "name": "#%%\n"
    }
   }
  }
 ],
 "metadata": {
  "kernelspec": {
   "display_name": "Python 3",
   "language": "python",
   "name": "python3"
  },
  "language_info": {
   "codemirror_mode": {
    "name": "ipython",
    "version": 2
   },
   "file_extension": ".py",
   "mimetype": "text/x-python",
   "name": "python",
   "nbconvert_exporter": "python",
   "pygments_lexer": "ipython2",
   "version": "2.7.6"
  }
 },
 "nbformat": 4,
 "nbformat_minor": 0
}