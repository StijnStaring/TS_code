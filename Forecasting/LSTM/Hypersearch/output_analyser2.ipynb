{
 "cells": [
  {
   "cell_type": "code",
   "execution_count": 4,
   "metadata": {
    "collapsed": true
   },
   "outputs": [],
   "source": [
    "from local_pc.Test_basemodel_functions import  *\n",
    "from forecasting_functions import *\n",
    "from output_analyser_functions import *\n",
    "from os import *\n",
    "\n",
    "\n",
    "# best_performing_original2 = [0.13743997960396903, 0.042665758022623866, 0.10150474712810816]\n",
    "# loading the files\n",
    "# paths for model 2\n",
    "# paths = [\"D:\\AI_time_series_repos\\TS_code\\Forecasting\\LSTM\\Hypersearch\\outputs\\\\1619822432.1799135\",\n",
    "#          \"D:\\AI_time_series_repos\\TS_code\\Forecasting\\LSTM\\Hypersearch\\outputs\\\\1619822270.8200374\",\n",
    "#          \"D:\\AI_time_series_repos\\TS_code\\Forecasting\\LSTM\\Hypersearch\\outputs\\\\1619821925.5948274\",\n",
    "#          \"D:\\AI_time_series_repos\\TS_code\\Forecasting\\LSTM\\Hypersearch\\outputs\\\\1619823041.4286704\",\n",
    "#         \"D:\\AI_time_series_repos\\TS_code\\Forecasting\\LSTM\\Hypersearch\\outputs\\\\1619823082.3111334\",\n",
    "#         \"D:\\AI_time_series_repos\\TS_code\\Forecasting\\LSTM\\Hypersearch\\outputs\\\\1619823096.3800774\"\n",
    "#          ]\n",
    "\n",
    "paths = [\"D:\\AI_time_series_repos\\TS_code\\Forecasting\\LSTM\\Hypersearch\\outputs\\\\1619800899.860866\",\n",
    "         \"D:\\AI_time_series_repos\\TS_code\\Forecasting\\LSTM\\Hypersearch\\outputs\\\\1619801128.118161\",\n",
    "         \"D:\\AI_time_series_repos\\TS_code\\Forecasting\\LSTM\\Hypersearch\\outputs\\\\\",\n",
    "         \"D:\\AI_time_series_repos\\TS_code\\Forecasting\\LSTM\\Hypersearch\\outputs\\\\\",\n",
    "        \"D:\\AI_time_series_repos\\TS_code\\Forecasting\\LSTM\\Hypersearch\\outputs\\\\\",\n",
    "        \"D:\\AI_time_series_repos\\TS_code\\Forecasting\\LSTM\\Hypersearch\\outputs\\\\\"\n",
    "         ]\n",
    "\n",
    "number = 1\n",
    "if number == 1:\n",
    "    best_performing_original = [0.1353184489178497, 0.042896201126648, 0.1004939049303946] # serie 1, 2 and 3\n",
    "elif number== 2:\n",
    "    best_performing_original = [0.13743997960396903, 0.042665758022623866, 0.10150474712810816]\n",
    "\n",
    "elif number == 3:\n",
    "    best_performing_original = [0.13360000384149073, 0.05684937848098529, 0.11056869874687854]\n",
    "\n",
    "path_to_folder = paths[1]\n",
    "if number == 3:\n",
    "    kind = \"sf\"\n",
    "else:\n",
    "    kind = \"sl\"\n",
    "\n",
    "makedirs(path.join(path_to_folder,\"pictures\"),exist_ok=True)\n",
    "output_path_pictures = path.join(path_to_folder,\"pictures\")\n",
    "\n",
    "error_0x1e84_name = \"error_model\"+str(number)+\"_\"+str(kind)+\"_0x1e84e4d5cf1f463147f3e4d566167597423d7769.csv\"\n",
    "error_0x78a_name = \"error_model\"+str(number)+\"_\"+str(kind)+\"_0x78a812ecd87a4b945e0d262aec41e0eb2b59fe1e.csv\"\n",
    "error_0xc3b_name = \"error_model\"+str(number)+\"_\"+str(kind)+\"_0xc3b2f61a72e188cfd44483fce1bc11d6a628766d.csv\"\n",
    "\n",
    "error_0x1e84 = pd.read_csv(path.join(path_to_folder,error_0x1e84_name),index_col=0)\n",
    "error_0x78a = pd.read_csv(path.join(path_to_folder,error_0x78a_name),index_col=0)\n",
    "error_0xc3b = pd.read_csv(path.join(path_to_folder,error_0xc3b_name),index_col=0)\n",
    "\n",
    "logbook_0x1e84_name = \"logbook_model\"+str(number)+\"_\"+str(kind)+\"_0x1e84e4d5cf1f463147f3e4d566167597423d7769.csv\"\n",
    "logbook_0x78a_name = \"logbook_model\"+str(number)+\"_\"+str(kind)+\"_0x78a812ecd87a4b945e0d262aec41e0eb2b59fe1e.csv\"\n",
    "logbook_0xc3b_name = \"logbook_model\"+str(number)+\"_\"+str(kind)+\"_0xc3b2f61a72e188cfd44483fce1bc11d6a628766d.csv\"\n",
    "\n",
    "logbook_0x1e84 = pd.read_csv(path.join(path_to_folder,logbook_0x1e84_name),index_col=0)\n",
    "logbook_0x78a = pd.read_csv(path.join(path_to_folder,logbook_0x78a_name),index_col=0)\n",
    "logbook_0xc3b = pd.read_csv(path.join(path_to_folder,logbook_0xc3b_name),index_col=0)\n",
    "\n",
    "training_result_0x1e84_name = \"training_result_model\"+str(number)+\"_\"+str(kind)+\"_0x1e84e4d5cf1f463147f3e4d566167597423d7769.csv\"\n",
    "training_result_0x78a_name = \"training_result_model\"+str(number)+\"_\"+str(kind)+\"_0x78a812ecd87a4b945e0d262aec41e0eb2b59fe1e.csv\"\n",
    "training_result_0xc3b_name = \"training_result_model\"+str(number)+\"_\"+str(kind)+\"_0xc3b2f61a72e188cfd44483fce1bc11d6a628766d.csv\"\n",
    "\n",
    "training_result_0x1e84 = pd.read_csv(path.join(path_to_folder,training_result_0x1e84_name),index_col=0)\n",
    "training_result_0x78a = pd.read_csv(path.join(path_to_folder,training_result_0x78a_name),index_col=0)\n",
    "training_result_0xc3b = pd.read_csv(path.join(path_to_folder,training_result_0xc3b_name),index_col=0)\n"
   ]
  },
  {
   "cell_type": "code",
   "execution_count": null,
   "outputs": [],
   "source": [
    "collection_kernel_regularizer_DENSE1 = []\n",
    "collection_kernel_regularizer_DENSE2 = []\n",
    "collection_kernel_regularizer_DENSE3 = []\n",
    "for i in np.arange(1,5):\n",
    "    collection_kernel_regularizer_DENSE1.append(np.mean(get_all_error_values([i], \"MAE\", error_0x78a)))\n",
    "    collection_kernel_regularizer_DENSE2.append(np.mean(get_all_error_values([i], \"MAE\", error_0x1e84)))\n",
    "    collection_kernel_regularizer_DENSE3.append(np.mean(get_all_error_values([i], \"MAE\", error_0xc3b)))"
   ],
   "metadata": {
    "collapsed": false,
    "pycharm": {
     "name": "#%%\n"
    }
   }
  },
  {
   "cell_type": "code",
   "execution_count": null,
   "outputs": [],
   "source": [
    "collection_recurrent_regularizer_LSTM1 = []\n",
    "collection_recurrent_regularizer_LSTM2 = []\n",
    "collection_recurrent_regularizer_LSTM3= []\n",
    "for i in np.arange(1,5):\n",
    "    collection_recurrent_regularizer_LSTM1.append(np.mean(remove_nan_values(get_all_error_values([i], \"MAE\", error_0x78a))))\n",
    "    collection_recurrent_regularizer_LSTM2.append(np.mean(remove_nan_values(get_all_error_values([i], \"MAE\", error_0x1e84))))\n",
    "    collection_recurrent_regularizer_LSTM3.append(np.mean(remove_nan_values(get_all_error_values([i], \"MAE\", error_0xc3b))))\n",
    "\n"
   ],
   "metadata": {
    "collapsed": false,
    "pycharm": {
     "name": "#%%\n"
    }
   }
  },
  {
   "cell_type": "code",
   "execution_count": null,
   "outputs": [],
   "source": [
    "collection_kernel_regularizer_LSTM1 = []\n",
    "collection_kernel_regularizer_LSTM2 = []\n",
    "collection_kernel_regularizer_LSTM3= []\n",
    "for i in np.arange(1,5):\n",
    "    collection_kernel_regularizer_LSTM1.append(np.mean(remove_nan_values(get_all_error_values([i], \"MAE\", error_0x78a))))\n",
    "    collection_kernel_regularizer_LSTM2.append(np.mean(remove_nan_values(get_all_error_values([i], \"MAE\", error_0x1e84))))\n",
    "    collection_kernel_regularizer_LSTM3.append(np.mean(remove_nan_values(get_all_error_values([i], \"MAE\", error_0xc3b))))\n",
    "\n"
   ],
   "metadata": {
    "collapsed": false,
    "pycharm": {
     "name": "#%%\n"
    }
   }
  },
  {
   "cell_type": "code",
   "execution_count": 3,
   "outputs": [],
   "source": [
    "collection_dropout_LSTM1 = []\n",
    "collection_dropout_LSTM2 = []\n",
    "collection_dropout_LSTM3= []\n",
    "for i in np.arange(1,5):\n",
    "    collection_dropout_LSTM1.append(np.mean(get_all_error_values([i], \"MAE\", error_0x78a)))\n",
    "    collection_dropout_LSTM2.append(np.mean(get_all_error_values([i], \"MAE\", error_0x1e84)))\n",
    "    collection_dropout_LSTM3.append(np.mean(get_all_error_values([i], \"MAE\", error_0xc3b)))\n",
    "\n"
   ],
   "metadata": {
    "collapsed": false,
    "pycharm": {
     "name": "#%%\n"
    }
   }
  },
  {
   "cell_type": "code",
   "execution_count": null,
   "outputs": [],
   "source": [
    "collection_recurrent_dropout_LSTM1 = []\n",
    "collection_recurrent_dropout_LSTM2 = []\n",
    "collection_recurrent_dropout_LSTM3= []\n",
    "for i in np.arange(1,5):\n",
    "    collection_recurrent_dropout_LSTM1.append(np.mean(get_all_error_values([i], \"MAE\", error_0x78a)))\n",
    "    collection_recurrent_dropout_LSTM2.append(np.mean(get_all_error_values([i], \"MAE\", error_0x1e84)))\n",
    "    collection_recurrent_dropout_LSTM3.append(np.mean(get_all_error_values([i], \"MAE\", error_0xc3b)))\n",
    "\n"
   ],
   "metadata": {
    "collapsed": false,
    "pycharm": {
     "name": "#%%\n"
    }
   }
  },
  {
   "cell_type": "code",
   "execution_count": 5,
   "outputs": [],
   "source": [
    "collection_dropout_DENSE1 = []\n",
    "collection_dropout_DENSE2 = []\n",
    "collection_dropout_DENSE3= []\n",
    "for i in np.arange(1,5):\n",
    "    collection_dropout_DENSE1.append(np.mean(get_all_error_values([i], \"MAE\", error_0x78a)))\n",
    "    collection_dropout_DENSE2.append(np.mean(get_all_error_values([i], \"MAE\", error_0x1e84)))\n",
    "    collection_dropout_DENSE3.append(np.mean(get_all_error_values([i], \"MAE\", error_0xc3b)))"
   ],
   "metadata": {
    "collapsed": false,
    "pycharm": {
     "name": "#%%\n"
    }
   }
  },
  {
   "cell_type": "code",
   "execution_count": null,
   "outputs": [],
   "source": [
    "from forecasting_functions import *\n",
    "x_axis = np.array([10**-2,10**-3,10**-4,10**-5])\n",
    "axis1 = figure_layout(titel= \"Sensitivity: Serie 1\", ylabel= \"MAE [kWh]\", xlabel= \"Regularization size [-]\")\n",
    "\n",
    "# axis1.semilogx(x_axis,collection_kernel_regularizer_DENSE1,marker= \"D\",color= \"b\",label= \"r_D\")\n",
    "output1, output2 = remove_corresponding_values_nan(x_axis, np.array(collection_recurrent_regularizer_LSTM1))\n",
    "axis1.semilogx(output1, output2, marker= \"x\",color= \"r\",label= \"r_r_L\")\n",
    "output1, output2 = remove_corresponding_values_nan(x_axis, np.array(collection_kernel_regularizer_LSTM1))\n",
    "axis1.semilogx(output1, output2, marker= \"^\",color= \"k\", label = \"r_L\")\n",
    "# axis1.semilogx(x_axis,collection_dropout_LSTM1,marker= \"o\",color= \"g\", label = \"d_L\")\n",
    "# axis1.semilogx(x_axis,collection_recurrent_dropout_LSTM1,marker= \"*\",color= \"m\", label = \"r_d_L\")\n",
    "# axis1.semilogx(x_axis,collection_dropout_DENSE1,marker= \"<\",color= \"y\", label = \"d_D\")\n",
    "axis1.semilogx(x_axis,[best_performing_original[0], best_performing_original[0],best_performing_original[0],best_performing_original[0]],marker= \"s\",color= \"c\", label = \"or\")\n",
    "axis1.legend(loc=\"upper right\")\n",
    "axis1b = axis1.twiny()\n",
    "axis1b.semilogx()\n",
    "axis1b.set_xlim(axis1.get_xlim())\n",
    "axis1b.set_xticks([10**-2,10**-3,10**-4,10**-5])\n",
    "axis1b.set_xticklabels([\"0.2\",\"0.3\",\"0.4\",\"0.5\"])\n",
    "axis1b.set_xlabel(\"Dropout rate [-]\", fontsize= 22)\n",
    "fname = \"outputs/serie1_model\"+str(number)+\".png\"\n",
    "plt.savefig(fname, dpi=300, facecolor='w', edgecolor='w', orientation='portrait', format=None,\n",
    "           transparent=False, bbox_inches='tight', pad_inches=0.1, metadata=None)\n",
    "\n",
    "axis2 = figure_layout(titel= \"Sensitivity: Serie 2\", ylabel= \"MAE [kWh]\", xlabel= \"Regularization size [-]\")\n",
    "# axis2.semilogx(x_axis,collection_kernel_regularizer_DENSE2,marker= \"D\",color= \"b\",label= \"r_D\")\n",
    "output1, output2 = remove_corresponding_values_nan(x_axis, np.array(collection_recurrent_regularizer_LSTM2))\n",
    "axis2.semilogx(output1, output2, marker= \"x\",color= \"r\",label= \"r_r_L\")\n",
    "output1, output2 = remove_corresponding_values_nan(x_axis, np.array(collection_kernel_regularizer_LSTM2))\n",
    "axis2.semilogx(output1, output2, marker= \"^\",color= \"k\", label = \"r_L\")\n",
    "# axis2.semilogx(x_axis,collection_dropout_LSTM2,marker= \"o\",color= \"g\", label = \"d_L\")\n",
    "# axis2.semilogx(x_axis,collection_recurrent_dropout_LSTM2,marker= \"*\",color= \"m\", label = \"r_d_L\")\n",
    "# axis2.semilogx(x_axis,collection_dropout_DENSE2,marker= \"<\",color= \"y\", label = \"d_D\")\n",
    "axis2.semilogx(x_axis,[best_performing_original[1], best_performing_original[1],best_performing_original[1],best_performing_original[1]],marker= \"s\",color= \"c\", label = \"or\")\n",
    "axis2.legend(loc=\"upper right\")\n",
    "axis2b = axis2.twiny()\n",
    "axis2b.semilogx()\n",
    "axis2b.set_xlim(axis2.get_xlim())\n",
    "axis2b.set_xticks([10**-2,10**-3,10**-4,10**-5])\n",
    "axis2b.set_xticklabels([\"0.2\",\"0.3\",\"0.4\",\"0.5\"])\n",
    "axis2b.set_xlabel(\"Dropout rate [-]\", fontsize= 22)\n",
    "fname = \"outputs/serie2_model\"+str(number)+\".png\"\n",
    "plt.savefig(fname, dpi=300, facecolor='w', edgecolor='w', orientation='portrait', format=None,\n",
    "           transparent=False, bbox_inches='tight', pad_inches=0.1, metadata=None)\n",
    "\n",
    "axis3 = figure_layout(titel= \"Sensitivity: Serie 3\", ylabel= \"MAE [kWh]\", xlabel= \"Regularization size [-]\")\n",
    "# axis3.semilogx(x_axis,collection_kernel_regularizer_DENSE3,marker= \"D\",color= \"b\",label= \"r_D\")\n",
    "output1, output2 = remove_corresponding_values_nan(x_axis, np.array(collection_recurrent_regularizer_LSTM3))\n",
    "axis3.semilogx(output1, output2, marker= \"x\",color= \"r\",label= \"r_r_L\")\n",
    "output1, output2 = remove_corresponding_values_nan(x_axis, np.array(collection_kernel_regularizer_LSTM3))\n",
    "axis3.semilogx(output1, output2, marker= \"^\",color= \"k\", label = \"r_L\")\n",
    "# axis3.semilogx(x_axis,collection_dropout_LSTM3,marker= \"o\",color= \"g\", label = \"d_L\")\n",
    "# axis3.semilogx(x_axis,collection_recurrent_dropout_LSTM3,marker= \"*\",color= \"m\", label = \"r_d_L\")\n",
    "# axis3.semilogx(x_axis,collection_dropout_DENSE3,marker= \"<\",color= \"y\", label = \"d_D\")\n",
    "axis3.semilogx(x_axis,[best_performing_original[2], best_performing_original[2],best_performing_original[2],best_performing_original[2]],marker= \"s\",color= \"c\", label = \"or\")\n",
    "axis3.legend(loc=\"upper right\")\n",
    "axis3b = axis3.twiny()\n",
    "axis3b.semilogx()\n",
    "axis3b.set_xlim(axis3.get_xlim())\n",
    "axis3b.set_xticks([10**-2,10**-3,10**-4,10**-5])\n",
    "axis3b.set_xticklabels([\"0.2\",\"0.3\",\"0.4\",\"0.5\"])\n",
    "axis3b.set_xlabel(\"Dropout rate [-]\", fontsize= 22)\n",
    "fname = \"outputs/serie3_model\"+str(number)+\".png\"\n",
    "plt.savefig(fname, dpi=300, facecolor='w', edgecolor='w', orientation='portrait', format=None,\n",
    "           transparent=False, bbox_inches='tight', pad_inches=0.1, metadata=None)"
   ],
   "metadata": {
    "collapsed": false,
    "pycharm": {
     "name": "#%%\n"
    }
   }
  },
  {
   "cell_type": "code",
   "execution_count": 6,
   "outputs": [
    {
     "name": "stdout",
     "output_type": "stream",
     "text": [
      "##################################################\n",
      "##################################################\n",
      "[0.09752641223586918, 0.10105447529058494, 0.11397715835996854, 0.12262068158948747]\n",
      "0.09752641223586918\n",
      "[0.10162265576392526, 0.09762142613229675, 0.09715102697931706, 0.10234539584799134]\n",
      "0.09715102697931706\n"
     ]
    }
   ],
   "source": [
    "\n",
    "\n",
    "print(\"#\"*50)\n",
    "\n",
    "\n",
    "\n",
    "print(\"#\"*50)\n",
    "print(collection_dropout_LSTM3)\n",
    "collection_dropout_LSTM3_min = np.array(collection_dropout_LSTM3).min()\n",
    "print(collection_dropout_LSTM3_min)\n",
    "\n",
    "print(collection_dropout_DENSE3)\n",
    "collection_dropout_DENSE3_min = np.array(collection_dropout_DENSE3).min()\n",
    "print(collection_dropout_DENSE3_min)\n"
   ],
   "metadata": {
    "collapsed": false,
    "pycharm": {
     "name": "#%%\n"
    }
   }
  },
  {
   "cell_type": "code",
   "execution_count": null,
   "outputs": [],
   "source": [
    "# [0.1353184489178497, 0.0423892294144296, 0.09715102697931706] model1 --> serie 1,2,3\n",
    "# [0.13699221973238815, 0.0411414852401137, 0.0949438488539515] model2 --> serie 1,2,3\n",
    "\n",
    "print(collection_kernel_regularizer_DENSE1)\n",
    "collection_kernel_regularizer_DENSE1_min = np.array(collection_kernel_regularizer_DENSE1).min()\n",
    "print(collection_kernel_regularizer_DENSE1_min)\n",
    "\n",
    "print(collection_recurrent_regularizer_LSTM1)\n",
    "collection_recurrent_regularizer_LSTM1_min = np.array(collection_recurrent_regularizer_LSTM1).min()\n",
    "print(collection_recurrent_regularizer_LSTM1_min)\n",
    "\n",
    "print(collection_kernel_regularizer_LSTM1)\n",
    "collection_kernel_regularizer_LSTM1_min = np.array(collection_kernel_regularizer_LSTM1).min()\n",
    "print(collection_kernel_regularizer_LSTM1_min)\n",
    "\n",
    "print(collection_dropout_LSTM1)\n",
    "collection_dropout_LSTM1_min = np.array(collection_dropout_LSTM1).min()\n",
    "print(collection_dropout_LSTM1_min)\n",
    "\n",
    "print(collection_recurrent_dropout_LSTM1)\n",
    "collection_recurrent_dropout_LSTM1_min = np.array(collection_recurrent_dropout_LSTM1).min()\n",
    "print(collection_recurrent_dropout_LSTM1_min)\n",
    "\n",
    "print(collection_dropout_DENSE1)\n",
    "collection_dropout_DENSE1_min = np.array(collection_dropout_DENSE1).min()\n",
    "print(collection_dropout_DENSE1_min)\n",
    "print(best_performing_original[0])\n",
    "print(50*\"#\")\n",
    "\n",
    "print(collection_kernel_regularizer_DENSE2)\n",
    "collection_kernel_regularizer_DENSE2_min = np.array(collection_kernel_regularizer_DENSE2).min()\n",
    "print(collection_kernel_regularizer_DENSE2_min)\n",
    "\n",
    "print(collection_recurrent_regularizer_LSTM2)\n",
    "collection_recurrent_regularizer_LSTM2_min = np.array(collection_recurrent_regularizer_LSTM2).min()\n",
    "print(collection_recurrent_regularizer_LSTM2_min)\n",
    "\n",
    "print(collection_kernel_regularizer_LSTM2)\n",
    "collection_kernel_regularizer_LSTM2_min = np.array(collection_kernel_regularizer_LSTM2).min()\n",
    "print(collection_kernel_regularizer_LSTM2_min)\n",
    "\n",
    "print(collection_dropout_LSTM2)\n",
    "collection_dropout_LSTM2_min = np.array(collection_dropout_LSTM2).min()\n",
    "print(collection_dropout_LSTM2_min)\n",
    "\n",
    "print(collection_recurrent_dropout_LSTM2)\n",
    "collection_recurrent_dropout_LSTM2_min = np.array(collection_recurrent_dropout_LSTM2).min()\n",
    "print(collection_recurrent_dropout_LSTM2_min)\n",
    "\n",
    "print(collection_dropout_DENSE2)\n",
    "collection_dropout_DENSE2_min = np.array(collection_dropout_DENSE2).min()\n",
    "print(collection_dropout_DENSE2_min)\n",
    "\n",
    "print(best_performing_original[1])\n",
    "print(50*\"#\")\n",
    "\n",
    "print(collection_kernel_regularizer_DENSE3)\n",
    "collection_kernel_regularizer_DENSE3_min = np.array(collection_kernel_regularizer_DENSE3).min()\n",
    "print(collection_kernel_regularizer_DENSE3_min)\n",
    "\n",
    "print(collection_recurrent_regularizer_LSTM3)\n",
    "collection_recurrent_regularizer_LSTM3_min = np.array(collection_recurrent_regularizer_LSTM3).min()\n",
    "print(collection_recurrent_regularizer_LSTM3_min)\n",
    "\n",
    "print(collection_kernel_regularizer_LSTM3)\n",
    "collection_kernel_regularizer_LSTM3_min = np.array(collection_kernel_regularizer_LSTM3).min()\n",
    "print(collection_kernel_regularizer_LSTM3_min)\n",
    "\n",
    "print(collection_dropout_LSTM3)\n",
    "collection_dropout_LSTM3_min = np.array(collection_dropout_LSTM3).min()\n",
    "print(collection_dropout_LSTM3_min)\n",
    "\n",
    "print(collection_recurrent_dropout_LSTM3)\n",
    "collection_recurrent_dropout_LSTM3_min = np.array(collection_recurrent_dropout_LSTM3).min()\n",
    "print(collection_recurrent_dropout_LSTM3_min)\n",
    "\n",
    "print(collection_dropout_DENSE3)\n",
    "collection_dropout_DENSE3_min = np.array(collection_dropout_DENSE3).min()\n",
    "print(collection_dropout_DENSE3_min)\n",
    "\n",
    "print(best_performing_original[2])\n"
   ],
   "metadata": {
    "collapsed": false,
    "pycharm": {
     "name": "#%%\n"
    }
   }
  }
 ],
 "metadata": {
  "kernelspec": {
   "display_name": "Python 3",
   "language": "python",
   "name": "python3"
  },
  "language_info": {
   "codemirror_mode": {
    "name": "ipython",
    "version": 2
   },
   "file_extension": ".py",
   "mimetype": "text/x-python",
   "name": "python",
   "nbconvert_exporter": "python",
   "pygments_lexer": "ipython2",
   "version": "2.7.6"
  }
 },
 "nbformat": 4,
 "nbformat_minor": 0
}