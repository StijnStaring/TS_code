{
 "cells": [
  {
   "cell_type": "code",
   "metadata": {
    "collapsed": true,
    "pycharm": {
     "name": "#%%\n"
    }
   },
   "source": [
    "\"\"\"\n",
    "This file is implementing the vanilla LSTM.\n",
    "The test set used are the 31 days of December of a single time-serie of the 261 time-series with measurements of the full year 2017.\n",
    "Missing days are estimated with the closest day forecast. If the temperature is not available, the previous day forecast is used.\n",
    "Naive basemodels that are used are the mean forecast and the MAPE-minimization.\n",
    "Evaluation metrics used: MSE, RMSE, NRMSE, MAE, MAPE\n",
    "\n",
    "\"\"\"\n"
   ],
   "execution_count": 1,
   "outputs": [
    {
     "data": {
      "text/plain": "'\\nThis file is implementing the vanilla LSTM.\\nThe test set used are the 31 days of December of a single time-serie of the 261 time-series with measurements of the full year 2017.\\nMissing days are estimated with the closest day forecast. If the temperature is not available, the previous day forecast is used.\\nNaive basemodels that are used are the mean forecast and the MAPE-minimization. \\nEvaluation metrics used: MSE, RMSE, NRMSE, MAE, MAPE\\n\\n'"
     },
     "execution_count": 1,
     "metadata": {},
     "output_type": "execute_result"
    }
   ]
  },
  {
   "cell_type": "code",
   "execution_count": 3,
   "outputs": [],
   "source": [
    "import datetime as dt\n",
    "import pandas as pd # pandas\n",
    "import numpy as np\n",
    "from sklearn.preprocessing import MinMaxScaler\n",
    "import matplotlib.pyplot as plt\n",
    "import casadi as ca\n",
    "from Test_basemodel_functions import *\n",
    "\n",
    "plt.rc('axes', linewidth=2)\n",
    "plt.rc('axes', labelsize= 16)\n",
    "plt.rc('axes',titlesize = 18)\n",
    "plt.rc('legend',fontsize=14)\n",
    "plt.rc('xtick', labelsize=16)\n",
    "plt.rc('ytick', labelsize=16)\n",
    "plt.rc('figure',figsize=(10,8))\n"
   ],
   "metadata": {
    "collapsed": false,
    "pycharm": {
     "name": "#%%\n"
    }
   }
  },
  {
   "cell_type": "code",
   "execution_count": 4,
   "outputs": [],
   "source": [
    "# importing the data\n",
    "fullYeardata = pd.read_csv(\"D:\\Onedrive\\Leuven\\Final project\\data\\Forecasting_writtendata\\FullYear.csv\",index_col= \"date\",parse_dates= True)\n"
   ],
   "metadata": {
    "collapsed": false,
    "pycharm": {
     "name": "#%%\n"
    }
   }
  },
  {
   "cell_type": "code",
   "execution_count": 14,
   "outputs": [],
   "source": [
    "name = fullYeardata.columns[0]\n",
    "TS = fullYeardata[name]\n",
    "training = TS[TS.index.month != 12]\n",
    "test = TS[TS.index.month == 12]"
   ],
   "metadata": {
    "collapsed": false,
    "pycharm": {
     "name": "#%%\n"
    }
   }
  },
  {
   "cell_type": "code",
   "execution_count": 6,
   "outputs": [],
   "source": [
    "# remove from the test set all the days that contain nan values -> only estimate real days\n",
    "test.dropna(inplace=True)"
   ],
   "metadata": {
    "collapsed": false,
    "pycharm": {
     "name": "#%%\n"
    }
   }
  },
  {
   "cell_type": "code",
   "execution_count": 10,
   "outputs": [],
   "source": [
    "# Now the closest day forecasting model can also look to future days to predict the missing day\n",
    "\n",
    "def find_most_similar_day_MV(test_dates: pd.DatetimeIndex,serie: pd.Series,temperature: pd.Series,time_steps:int):\n",
    "    # The assumption is made that the test_dates are one continuous sequence of days\n",
    "    daily_test_dates = pd.date_range(start=test_dates[0],end=test_dates[-1],freq='D')\n",
    "    base_forecast = pd.Series(index= test_dates,name= 'closest_day_forecast')\n",
    "    temperature = norm(temperature)\n",
    "\n",
    "    for day in daily_test_dates:\n",
    "        training_days = pd.date_range(start=serie.index[0],end=serie.index[-1],freq='D')\n",
    "        holidays = EnglandAndWalesHolidayCalendar().holidays(start=serie.index[0],end=serie.index[-1])\n",
    "        training_days = training_days.symmetric_difference(holidays)\n",
    "        day_temp = temperature[temperature.index.dayofyear == day.dayofyear][0]\n",
    "\n",
    "        # if have no information about the temperature of the day --> can't forecast the day\n",
    "        if np.isnan(day_temp) :\n",
    "            forecast = np.ones(time_steps)\n",
    "            forecast[:] = np.nan\n",
    "            base_forecast[base_forecast.index.dayofyear == day.dayofyear] = forecast\n",
    "            continue\n",
    "\n",
    "        if day in holidays:\n",
    "            # look for holiday and Sunday (to get more days) --> we know that similarity is highest with Sunday\n",
    "            sundays = training_days[training_days.weekday == 6]\n",
    "            training_days = sundays.union(holidays)\n",
    "            cl_day = get_closest_day(training_days,temperature,day_temp)\n",
    "            forecast = serie[serie.index.dayofyear == cl_day.dayofyear].values\n",
    "            base_forecast[base_forecast.index.dayofyear == day.dayofyear] = forecast\n",
    "\n",
    "        else:\n",
    "            training_days = training_days[training_days.weekday == day.weekday()]\n",
    "            cl_day = get_closest_day(training_days,temperature,day_temp)\n",
    "            forecast = serie[serie.index.dayofyear == cl_day.dayofyear].values\n",
    "            base_forecast[base_forecast.index.dayofyear == day.dayofyear] = forecast\n",
    "\n",
    "    return base_forecast\n",
    "\n",
    "def mean_forecast_MV(test_dates: pd.DatetimeIndex,serie: pd.Series):\n",
    "    # The assumption is made that the test_dates are one continuous sequence of days\n",
    "    daily_test_dates = pd.date_range(start=test_dates[0],end=test_dates[-1],freq='D')\n",
    "    base_forecast = pd.Series(index= test_dates,name= \"mean_forecast\")\n",
    "\n",
    "    for day in daily_test_dates:\n",
    "        training_days = pd.date_range(start=serie.index[0],end=serie.index[-1],freq='D')\n",
    "        holidays = EnglandAndWalesHolidayCalendar().holidays(start=serie.index[0],end=serie.index[-1])\n",
    "        training_days = training_days.symmetric_difference(holidays)\n",
    "        df = pd.DataFrame()\n",
    "\n",
    "        if day in holidays:\n",
    "            #mean holiday\n",
    "            for holiday in holidays:\n",
    "                selected_day = serie[serie.index.dayofyear == holiday.dayofyear].values\n",
    "                df[str(holiday)] = selected_day\n",
    "            df_mean = df.mean(axis=1).values.squeeze()\n",
    "            base_forecast[base_forecast.index.dayofyear == day.dayofyear] = df_mean\n",
    "\n",
    "        else:\n",
    "            #mean weekday\n",
    "            training_days = training_days[training_days.weekday == day.weekday()]\n",
    "            for training_day in training_days:\n",
    "                selected_day = serie[serie.index.dayofyear == training_day.dayofyear].values\n",
    "                df[str(training_day)] = selected_day\n",
    "            df_mean = df.mean(axis=1).values.squeeze()\n",
    "            base_forecast[base_forecast.index.dayofyear == day.dayofyear] = df_mean\n",
    "\n",
    "    return base_forecast"
   ],
   "metadata": {
    "collapsed": false,
    "pycharm": {
     "name": "#%%\n"
    }
   }
  },
  {
   "cell_type": "code",
   "execution_count": 32,
   "outputs": [],
   "source": [
    "# subsitute the missing days\n",
    "daily = TS.resample('D').sum()\n",
    "nan_days = daily[daily == 0].index\n",
    "for day in nan_days:\n",
    "    find_most_similar_day_MV(test_dates: pd.DatetimeIndex,serie: pd.Series,temperature: pd.Series,time_steps=48)"
   ],
   "metadata": {
    "collapsed": false,
    "pycharm": {
     "name": "#%%\n"
    }
   }
  },
  {
   "cell_type": "code",
   "execution_count": 40,
   "outputs": [],
   "source": [],
   "metadata": {
    "collapsed": false,
    "pycharm": {
     "name": "#%%\n"
    }
   }
  }
 ],
 "metadata": {
  "kernelspec": {
   "display_name": "Python 3",
   "language": "python",
   "name": "python3"
  },
  "language_info": {
   "codemirror_mode": {
    "name": "ipython",
    "version": 2
   },
   "file_extension": ".py",
   "mimetype": "text/x-python",
   "name": "python",
   "nbconvert_exporter": "python",
   "pygments_lexer": "ipython2",
   "version": "2.7.6"
  }
 },
 "nbformat": 4,
 "nbformat_minor": 0
}