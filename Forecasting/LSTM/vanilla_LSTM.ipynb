{
 "cells": [
  {
   "cell_type": "code",
   "metadata": {
    "collapsed": true,
    "pycharm": {
     "name": "#%%\n"
    }
   },
   "source": [
    "\"\"\"\n",
    "This file is implementing the vanilla LSTM.\n",
    "The test set used are the 31 days of December of a single time-serie of the 261 time-series with measurements of the full year 2017.\n",
    "Missing days are estimated.\n",
    "Naive basemodels that are used are the mean forecast and the MAPE-minimization.\n",
    "Evaluation metrics used: MSE, RMSE, NRMSE, MAE\n",
    "####################################################\n",
    "\n",
    "calculate the MSE on the total test set and for each day of the week.\n",
    "Should normalize history and temperature with min max\n",
    "Rest: weekday, time, holiday use one hot encoder\n",
    "Stack different LSTM blocks --> hidden nodes serve as inputs for next LSTM's\n",
    "Use finally a fully connected layer to generate an output\n",
    "Use different learning rules: adam!!, stochastic gradient descent, Adagrad, Adadelta and RMSProp\n",
    "Adam has parameters: learning rate, momentum and decay\n",
    "play with mini batches\n",
    "\n",
    "Inputs:\n",
    "1. history ok\n",
    "2. temp ok\n",
    "3. day week ok\n",
    "4. time ok\n",
    "5. holiday\n",
    "6. (previous week future lag)\n",
    "7. previous week error history lag --> how good are you following previous week\n",
    "just the difference between the values\n",
    "8. previous weeks load at the same moment in time and the temperatures of these days\n",
    "\"\"\"\n"
   ],
   "execution_count": 12,
   "outputs": [
    {
     "data": {
      "text/plain": "\"\\nThis file is implementing the vanilla LSTM.\\nThe test set used are the 31 days of December of a single time-serie of the 261 time-series with measurements of the full year 2017.\\nMissing days are estimated.\\nNaive basemodels that are used are the mean forecast and the MAPE-minimization.\\nEvaluation metrics used: MSE, RMSE, NRMSE, MAE\\n####################################################\\n\\ncalculate the MSE on the total test set and for each day of the week.\\nShould normalize history and temperature with min max\\nRest: weekday, time, holiday use one hot encoder\\nStack different LSTM blocks --> hidden nodes serve as inputs for next LSTM's\\nUse finally a fully connected layer to generate an output\\nUse different learning rules: adam!!, stochastic gradient descent, Adagrad, Adadelta and RMSProp\\nAdam has parameters: learning rate, momentum and decay\\nplay with mini batches\\n\\nInputs:\\n1. history ok\\n2. temp ok\\n3. day week ok\\n4. time ok\\n5. holiday\\n6. (previous week future lag)\\n7. previous week error history lag --> how good are you following previous week\\njust the difference between the values\\n8. previous weeks load at the same moment in time and the temperatures of these days\\n\""
     },
     "execution_count": 12,
     "metadata": {},
     "output_type": "execute_result"
    }
   ]
  },
  {
   "cell_type": "code",
   "execution_count": 13,
   "outputs": [],
   "source": [
    "import datetime as dt\n",
    "import pandas as pd # pandas\n",
    "import numpy as np\n",
    "from sklearn.preprocessing import MinMaxScaler\n",
    "import matplotlib.pyplot as plt\n",
    "import casadi as ca\n",
    "from Test_basemodel_functions import *\n",
    "\n",
    "plt.rc('axes', linewidth=2)\n",
    "plt.rc('axes', labelsize= 16)\n",
    "plt.rc('axes',titlesize = 18)\n",
    "plt.rc('legend',fontsize=14)\n",
    "plt.rc('xtick', labelsize=16)\n",
    "plt.rc('ytick', labelsize=16)\n",
    "plt.rc('figure',figsize=(10,8))\n"
   ],
   "metadata": {
    "collapsed": false,
    "pycharm": {
     "name": "#%%\n"
    }
   }
  },
  {
   "cell_type": "code",
   "execution_count": 14,
   "outputs": [],
   "source": [
    "# importing the data\n",
    "fullYeardata = pd.read_csv(\"D:\\Onedrive\\Leuven\\Final project\\data\\Forecasting_writtendata\\FullYear.csv\",index_col= \"date\",parse_dates= True)\n",
    "av_temperature = pd.read_csv(\"D:\\Onedrive\\Leuven\\Final project\\data\\weather-avg.csv\",index_col='meter_id')\n",
    "av_temperature = av_temperature.transpose()\n",
    "av_temperature.index = pd.to_datetime(av_temperature.index)"
   ],
   "metadata": {
    "collapsed": false,
    "pycharm": {
     "name": "#%%\n"
    }
   }
  },
  {
   "cell_type": "code",
   "execution_count": 15,
   "outputs": [],
   "source": [
    "name = fullYeardata.columns[0]\n",
    "TS = fullYeardata[name]\n",
    "temperature = av_temperature[name]"
   ],
   "metadata": {
    "collapsed": false,
    "pycharm": {
     "name": "#%%\n"
    }
   }
  },
  {
   "cell_type": "code",
   "execution_count": 16,
   "outputs": [],
   "source": [
    "# subsitute the missing values by prev week < prev day < mean of all the values at that time of the day (rarely used)\n",
    "def substitute_missing_values(TS: pd.Series):\n",
    "    for date in TS.index:\n",
    "        if np.isnan(TS[date]):\n",
    "            prev_week =  date + dt.timedelta(days=-7)\n",
    "            prev_day = date + dt.timedelta(days=-1)\n",
    "            if not np.isnan(TS[prev_week]):\n",
    "                TS[date] = TS[prev_week]\n",
    "\n",
    "            elif not np.isnan(TS[prev_day]):\n",
    "                TS[date] = TS[prev_day]\n",
    "\n",
    "            else:\n",
    "                temp = TS[TS.index.hour == date.hour]\n",
    "                data = temp[temp.index.minute == date.minute]\n",
    "                TS[date] = data.mean()\n",
    "    print(\"amount of missing values: %s. \\n\"%TS.isnull().sum())\n",
    "    return TS"
   ],
   "metadata": {
    "collapsed": false,
    "pycharm": {
     "name": "#%%\n"
    }
   }
  },
  {
   "cell_type": "code",
   "execution_count": 17,
   "outputs": [
    {
     "name": "stdout",
     "output_type": "stream",
     "text": [
      "amount of missing values: 0. \n",
      "\n"
     ]
    }
   ],
   "source": [
    "# normalize the data --> min/max method (when using a single time serie)\n",
    "temperature_norm = norm(temperature)\n",
    "TS_norm = norm(TS)\n",
    "# temp = TS_norm[TS_norm.index.month != 12]\n",
    "# training = temp[temp != 11]\n",
    "# validation = TS_norm[TS_norm.index.month == 11]\n",
    "# test = TS_norm[TS_norm.index.month == 12]\n",
    "# remove from the test set all the days that contain nan values -> only estimate real days\n",
    "training = TS_norm[0:336]\n",
    "validation = TS_norm[336:384]\n",
    "test = TS_norm[384:432]\n",
    "test.dropna(inplace=True)\n",
    "# substitute the missing values\n",
    "training = substitute_missing_values(training)"
   ],
   "metadata": {
    "collapsed": false,
    "pycharm": {
     "name": "#%%\n"
    }
   }
  },
  {
   "cell_type": "code",
   "execution_count": 18,
   "outputs": [],
   "source": [
    "def get_av_temp(time_stamp: pd.Timestamp,temperature: pd.Series)-> float:\n",
    "    return temperature[temperature.index.dayofyear == time_stamp.dayofyear]\n",
    "\n",
    "def get_weekday(time_stamp: pd.Timestamp)-> int:\n",
    "    return time_stamp.weekday()\n",
    "\n",
    "def get_daytime(time_stamp: pd.Timestamp):\n",
    "    value = time_stamp.hour*2\n",
    "    if time_stamp.minute == 30:\n",
    "        value = value + 1\n",
    "    return value\n",
    "\n",
    "def is_holiday(time_stamp: pd.Timestamp, holidays: pd.DatetimeIndex)->bool:\n",
    "    return any(time_stamp.dayofyear == holidays.dayofyear)\n",
    "\n",
    "\n",
    "# forecast one time stamp at the time --> for loop to forecast the 48 time stamps\n",
    "def input_output_LSTM(training, temperature_norm, lag_value: int):\n",
    "    holidays = EnglandAndWalesHolidayCalendar().holidays(start=pd.Timestamp('2017-01-01'),end=pd.Timestamp('2017-12-31'))\n",
    "    amount_forecasts = len(training) - lag_value\n",
    "    amount_features = 1+1+7+48+2\n",
    "    X = np.zeros((amount_forecasts,lag_value,amount_features))\n",
    "    y = np.zeros((amount_forecasts,1))\n",
    "\n",
    "    for sample_id in np.arange(0,amount_forecasts):\n",
    "\n",
    "        history = training.values[sample_id:lag_value + sample_id]\n",
    "        y[sample_id] = training.values[lag_value + sample_id]\n",
    "        X[sample_id,:,0] = history\n",
    "        all_time_stamps = training.index[sample_id:lag_value + sample_id]\n",
    "        for lag_value_index in np.arange(0,lag_value): # goes from old to new\n",
    "            time_stamp = all_time_stamps[lag_value_index]\n",
    "\n",
    "            temperature_feed = get_av_temp(time_stamp,temperature_norm)\n",
    "            X[sample_id,lag_value_index,1] = temperature_feed\n",
    "\n",
    "            weekday = np.zeros(7)\n",
    "            day = get_weekday(time_stamp) # 0 - 6\n",
    "            weekday[day] = 1\n",
    "            X[sample_id,lag_value_index,2:9] = weekday\n",
    "\n",
    "            time = np.zeros(48)\n",
    "            time_of_day = get_daytime(time_stamp) # 0 - 47\n",
    "            time[time_of_day] = 1\n",
    "            X[sample_id,lag_value_index,9:57] = time\n",
    "\n",
    "            holiday = np.zeros(2)\n",
    "            hol = is_holiday(time_stamp,holidays) # [no, yes]\n",
    "            if hol:\n",
    "                holiday[1] = 1\n",
    "            else:\n",
    "                holiday[0] = 1\n",
    "            X[sample_id,lag_value_index,57:59] = holiday\n",
    "\n",
    "\n",
    "    return X,y\n"
   ],
   "metadata": {
    "collapsed": false,
    "pycharm": {
     "name": "#%%\n"
    }
   }
  },
  {
   "cell_type": "code",
   "execution_count": 23,
   "outputs": [],
   "source": [
    "from keras.layers import Dense,  LSTM,Embedding\n",
    "from keras.models import Sequential, save_model, load_model\n",
    "from keras import regularizers\n",
    "from keras.callbacks import EarlyStopping,ModelCheckpoint, History\n",
    "\n",
    "path_checkpoint = \"model_checkpoint.h5\"\n",
    "modelckpt_callback = ModelCheckpoint(monitor=\"val_loss\",filepath=path_checkpoint,verbose=1,save_weights_only=True,save_best_only=True)\n",
    "def build_model(training: pd.Series,validation: pd.Series, temperature_norm: pd.Series, lag_value: int,nb_epoch: int = 1, regularization_parameter: float = 0.01,batch_size_para: int = 32,verbose_para: int = 1, save: bool = False):\n",
    "    history = History()\n",
    "    X,y = input_output_LSTM(training, temperature_norm, lag_value)\n",
    "    X_val,y_val = input_output_LSTM(validation, temperature_norm, lag_value)\n",
    "    regularizers.l2(l=regularization_parameter)\n",
    "    model = Sequential()\n",
    "    # no initial state is given --> hidden state are tensors filled with zeros\n",
    "    # dropout=None,recurrent_dropout=None\n",
    "    model.add(LSTM(units=20,activation='tanh',input_shape=(X.shape[1],X.shape[2])))\n",
    "    model.add(Dense(units=20,activation='relu',kernel_regularizer='l2'))\n",
    "    # model.add(Dropout(0.10))\n",
    "    model.add(Dense(units=y.shape[1],activation='relu',kernel_regularizer='l2'))\n",
    "    model.compile(optimizer='adam',loss='mse')\n",
    "    early_stopping_monitor = EarlyStopping(patience=2,restore_best_weights=True)\n",
    "    model.fit(x=X,y=y,epochs=nb_epoch,batch_size=batch_size_para,validation_data=(X_val,y_val),callbacks=[early_stopping_monitor,modelckpt_callback,history],verbose=verbose_para)\n",
    "    # save the trained_model\n",
    "    if save:\n",
    "        file_path = \"./saved_model\"\n",
    "        save_model(model,file_path)\n",
    "\n",
    "    return model,history\n",
    "\n",
    "# model = load_model(filepath, compile = True)"
   ],
   "metadata": {
    "collapsed": false,
    "pycharm": {
     "name": "#%%\n"
    }
   }
  },
  {
   "cell_type": "code",
   "execution_count": 20,
   "outputs": [
    {
     "name": "stdout",
     "output_type": "stream",
     "text": [
      "Train on 333 samples, validate on 45 samples\n",
      "Epoch 1/150\n",
      "333/333 [==============================] - 1s 2ms/step - loss: 0.2203 - val_loss: 0.2051\b\b\b\b\b\b\b\b\b\b\b\b\b\b\b\b\b\b\b\b\b\b\b\b\b\b\b\b\b\b\b\b\b\b\b\b\b\b\b\b\b\b\n",
      "\n",
      "Epoch 00001: val_loss improved from inf to 0.20512, saving model to model_checkpoint.h5\n",
      "Epoch 2/150\n",
      "333/333 [==============================] - 0s 125us/step - loss: 0.2021 - val_loss: 0.1885\b\b\b\b\b\b\b\b\b\b\b\b\b\b\b\b\b\b\b\b\b\b\b\b\b\b\b\b\b\b\b\b\b\b\b\b\b\b\b\b\n",
      "\n",
      "Epoch 00002: val_loss improved from 0.20512 to 0.18853, saving model to model_checkpoint.h5\n",
      "Epoch 3/150\n",
      "333/333 [==============================] - 0s 143us/step - loss: 0.1858 - val_loss: 0.1734\b\b\b\b\b\b\b\b\b\b\b\b\b\b\b\b\b\b\b\b\b\b\b\b\b\b\b\b\b\b\b\b\b\b\b\b\b\b\b\b\n",
      "\n",
      "Epoch 00003: val_loss improved from 0.18853 to 0.17345, saving model to model_checkpoint.h5\n",
      "Epoch 4/150\n",
      "333/333 [==============================] - 0s 110us/step - loss: 0.1709 - val_loss: 0.1595\b\b\b\b\b\b\b\b\b\b\b\b\b\b\b\b\b\b\b\b\b\b\b\b\b\b\b\b\b\b\b\b\b\b\b\b\b\b\b\b\n",
      "\n",
      "Epoch 00004: val_loss improved from 0.17345 to 0.15955, saving model to model_checkpoint.h5\n",
      "Epoch 5/150\n",
      "333/333 [==============================] - 0s 125us/step - loss: 0.1573 - val_loss: 0.1467\b\b\b\b\b\b\b\b\b\b\b\b\b\b\b\b\b\b\b\b\b\b\b\b\b\b\b\b\b\b\b\b\b\b\b\b\b\b\b\b\n",
      "\n",
      "Epoch 00005: val_loss improved from 0.15955 to 0.14668, saving model to model_checkpoint.h5\n",
      "Epoch 6/150\n",
      "333/333 [==============================] - 0s 117us/step - loss: 0.1447 - val_loss: 0.1348\b\b\b\b\b\b\b\b\b\b\b\b\b\b\b\b\b\b\b\b\b\b\b\b\b\b\b\b\b\b\b\b\b\b\b\b\b\b\b\b\n",
      "\n",
      "Epoch 00006: val_loss improved from 0.14668 to 0.13484, saving model to model_checkpoint.h5\n",
      "Epoch 7/150\n",
      "333/333 [==============================] - 0s 88us/step - loss: 0.1331 - val_loss: 0.1239\b\b\b\b\b\b\b\b\b\b\b\b\b\b\b\b\b\b\b\b\b\b\b\b\b\b\b\b\b\b\b\b\b\b\b\b\b\b\b\b\b\n",
      "\n",
      "Epoch 00007: val_loss improved from 0.13484 to 0.12395, saving model to model_checkpoint.h5\n",
      "Epoch 8/150\n",
      "333/333 [==============================] - 0s 124us/step - loss: 0.1224 - val_loss: 0.1139\b\b\b\b\b\b\b\b\b\b\b\b\b\b\b\b\b\b\b\b\b\b\b\b\b\b\b\b\b\b\b\b\b\b\b\b\b\b\b\b\n",
      "\n",
      "Epoch 00008: val_loss improved from 0.12395 to 0.11386, saving model to model_checkpoint.h5\n",
      "Epoch 9/150\n",
      "333/333 [==============================] - 0s 183us/step - loss: 0.1124 - val_loss: 0.1046\b\b\b\b\b\b\b\b\b\b\b\b\b\b\b\b\b\b\b\b\b\b\b\b\b\b\b\b\b\b\b\b\b\b\b\b\b\b\b\b\n",
      "\n",
      "Epoch 00009: val_loss improved from 0.11386 to 0.10462, saving model to model_checkpoint.h5\n",
      "Epoch 10/150\n",
      "333/333 [==============================] - 0s 143us/step - loss: 0.1028 - val_loss: 0.0961\b\b\b\b\b\b\b\b\b\b\b\b\b\b\b\b\b\b\b\b\b\b\b\b\b\b\b\b\b\b\b\b\b\b\b\b\b\b\b\b\n",
      "\n",
      "Epoch 00010: val_loss improved from 0.10462 to 0.09610, saving model to model_checkpoint.h5\n",
      "Epoch 11/150\n",
      "333/333 [==============================] - 0s 111us/step - loss: 0.0942 - val_loss: 0.0882\b\b\b\b\b\b\b\b\b\b\b\b\b\b\b\b\b\b\b\b\b\b\b\b\b\b\b\b\b\b\b\b\b\b\b\b\b\b\b\b\n",
      "\n",
      "Epoch 00011: val_loss improved from 0.09610 to 0.08820, saving model to model_checkpoint.h5\n",
      "Epoch 12/150\n",
      "333/333 [==============================] - 0s 94us/step - loss: 0.0866 - val_loss: 0.0810\b\b\b\b\b\b\b\b\b\b\b\b\b\b\b\b\b\b\b\b\b\b\b\b\b\b\b\b\b\b\b\b\b\b\b\b\b\b\b\b\b\n",
      "\n",
      "Epoch 00012: val_loss improved from 0.08820 to 0.08101, saving model to model_checkpoint.h5\n",
      "Epoch 13/150\n",
      "333/333 [==============================] - 0s 171us/step - loss: 0.0796 - val_loss: 0.0744\b\b\b\b\b\b\b\b\b\b\b\b\b\b\b\b\b\b\b\b\b\b\b\b\b\b\b\b\b\b\b\b\b\b\b\b\b\b\b\b\n",
      "\n",
      "Epoch 00013: val_loss improved from 0.08101 to 0.07439, saving model to model_checkpoint.h5\n",
      "Epoch 14/150\n",
      "333/333 [==============================] - 0s 150us/step - loss: 0.0732 - val_loss: 0.0682\b\b\b\b\b\b\b\b\b\b\b\b\b\b\b\b\b\b\b\b\b\b\b\b\b\b\b\b\b\b\b\b\b\b\b\b\b\b\b\b\n",
      "\n",
      "Epoch 00014: val_loss improved from 0.07439 to 0.06825, saving model to model_checkpoint.h5\n",
      "Epoch 15/150\n",
      "333/333 [==============================] - 0s 153us/step - loss: 0.0673 - val_loss: 0.0627\b\b\b\b\b\b\b\b\b\b\b\b\b\b\b\b\b\b\b\b\b\b\b\b\b\b\b\b\b\b\b\b\b\b\b\b\b\b\b\b\n",
      "\n",
      "Epoch 00015: val_loss improved from 0.06825 to 0.06269, saving model to model_checkpoint.h5\n",
      "Epoch 16/150\n",
      "333/333 [==============================] - 0s 131us/step - loss: 0.0619 - val_loss: 0.0576\b\b\b\b\b\b\b\b\b\b\b\b\b\b\b\b\b\b\b\b\b\b\b\b\b\b\b\b\b\b\b\b\b\b\b\b\b\b\b\b\n",
      "\n",
      "Epoch 00016: val_loss improved from 0.06269 to 0.05760, saving model to model_checkpoint.h5\n",
      "Epoch 17/150\n",
      "333/333 [==============================] - 0s 94us/step - loss: 0.0570 - val_loss: 0.0529\b\b\b\b\b\b\b\b\b\b\b\b\b\b\b\b\b\b\b\b\b\b\b\b\b\b\b\b\b\b\b\b\b\b\b\b\b\b\b\b\b\n",
      "\n",
      "Epoch 00017: val_loss improved from 0.05760 to 0.05286, saving model to model_checkpoint.h5\n",
      "Epoch 18/150\n",
      "333/333 [==============================] - 0s 141us/step - loss: 0.0525 - val_loss: 0.0486\b\b\b\b\b\b\b\b\b\b\b\b\b\b\b\b\b\b\b\b\b\b\b\b\b\b\b\b\b\b\b\b\b\b\b\b\b\b\b\b\n",
      "\n",
      "Epoch 00018: val_loss improved from 0.05286 to 0.04859, saving model to model_checkpoint.h5\n",
      "Epoch 19/150\n",
      "333/333 [==============================] - 0s 151us/step - loss: 0.0483 - val_loss: 0.0447\b\b\b\b\b\b\b\b\b\b\b\b\b\b\b\b\b\b\b\b\b\b\b\b\b\b\b\b\b\b\b\b\b\b\b\b\b\b\b\b\n",
      "\n",
      "Epoch 00019: val_loss improved from 0.04859 to 0.04474, saving model to model_checkpoint.h5\n",
      "Epoch 20/150\n",
      "333/333 [==============================] - 0s 65us/step - loss: 0.0446 - val_loss: 0.0411\b\b\b\b\b\b\b\b\b\b\b\b\b\b\b\b\b\b\b\b\b\b\b\b\b\b\b\b\b\b\b\b\b\b\b\b\b\b\b\b\b\n",
      "\n",
      "Epoch 00020: val_loss improved from 0.04474 to 0.04114, saving model to model_checkpoint.h5\n",
      "Epoch 21/150\n",
      "333/333 [==============================] - 0s 122us/step - loss: 0.0411 - val_loss: 0.0379\b\b\b\b\b\b\b\b\b\b\b\b\b\b\b\b\b\b\b\b\b\b\b\b\b\b\b\b\b\b\b\b\b\b\b\b\b\b\b\b\n",
      "\n",
      "Epoch 00021: val_loss improved from 0.04114 to 0.03786, saving model to model_checkpoint.h5\n",
      "Epoch 22/150\n",
      "333/333 [==============================] - 0s 123us/step - loss: 0.0380 - val_loss: 0.0349\b\b\b\b\b\b\b\b\b\b\b\b\b\b\b\b\b\b\b\b\b\b\b\b\b\b\b\b\b\b\b\b\b\b\b\b\b\b\b\b\n",
      "\n",
      "Epoch 00022: val_loss improved from 0.03786 to 0.03492, saving model to model_checkpoint.h5\n",
      "Epoch 23/150\n",
      "333/333 [==============================] - 0s 199us/step - loss: 0.0351 - val_loss: 0.0323\b\b\b\b\b\b\b\b\b\b\b\b\b\b\b\b\b\b\b\b\b\b\b\b\b\b\b\b\b\b\b\b\b\b\b\b\b\b\b\b\b\b\b\b\b\b\b\b\b\b\b\b\b\b\b\b\b\b\b\b\b\b\b\b\b\b\b\b\b\b\b\b\b\b\b\b\b\b\b\b\b\b\b\b\b\b\b\b\b\b\b\b\b\b\b\b\b\b\b\b\b\b\b\b\b\n",
      "\n",
      "Epoch 00023: val_loss improved from 0.03492 to 0.03231, saving model to model_checkpoint.h5\n",
      "Epoch 24/150\n",
      "333/333 [==============================] - 0s 80us/step - loss: 0.0325 - val_loss: 0.0300\b\b\b\b\b\b\b\b\b\b\b\b\b\b\b\b\b\b\b\b\b\b\b\b\b\b\b\b\b\b\b\b\b\b\b\b\b\b\b\b\b\n",
      "\n",
      "Epoch 00024: val_loss improved from 0.03231 to 0.02995, saving model to model_checkpoint.h5\n",
      "Epoch 25/150\n",
      "333/333 [==============================] - 0s 141us/step - loss: 0.0301 - val_loss: 0.0278\b\b\b\b\b\b\b\b\b\b\b\b\b\b\b\b\b\b\b\b\b\b\b\b\b\b\b\b\b\b\b\b\b\b\b\b\b\b\b\b\n",
      "\n",
      "Epoch 00025: val_loss improved from 0.02995 to 0.02780, saving model to model_checkpoint.h5\n",
      "Epoch 26/150\n",
      "333/333 [==============================] - 0s 134us/step - loss: 0.0279 - val_loss: 0.0256\b\b\b\b\b\b\b\b\b\b\b\b\b\b\b\b\b\b\b\b\b\b\b\b\b\b\b\b\b\b\b\b\b\b\b\b\b\b\b\b\n",
      "\n",
      "Epoch 00026: val_loss improved from 0.02780 to 0.02564, saving model to model_checkpoint.h5\n",
      "Epoch 27/150\n",
      "333/333 [==============================] - 0s 109us/step - loss: 0.0260 - val_loss: 0.0239\b\b\b\b\b\b\b\b\b\b\b\b\b\b\b\b\b\b\b\b\b\b\b\b\b\b\b\b\b\b\b\b\b\b\b\b\b\b\b\b\n",
      "\n",
      "Epoch 00027: val_loss improved from 0.02564 to 0.02388, saving model to model_checkpoint.h5\n",
      "Epoch 28/150\n",
      "333/333 [==============================] - 0s 123us/step - loss: 0.0242 - val_loss: 0.0223\b\b\b\b\b\b\b\b\b\b\b\b\b\b\b\b\b\b\b\b\b\b\b\b\b\b\b\b\b\b\b\b\b\b\b\b\b\b\b\b\n",
      "\n",
      "Epoch 00028: val_loss improved from 0.02388 to 0.02229, saving model to model_checkpoint.h5\n",
      "Epoch 29/150\n",
      "333/333 [==============================] - 0s 120us/step - loss: 0.0225 - val_loss: 0.0207\b\b\b\b\b\b\b\b\b\b\b\b\b\b\b\b\b\b\b\b\b\b\b\b\b\b\b\b\b\b\b\b\b\b\b\b\b\b\b\b\n",
      "\n",
      "Epoch 00029: val_loss improved from 0.02229 to 0.02075, saving model to model_checkpoint.h5\n",
      "Epoch 30/150\n",
      "333/333 [==============================] - 0s 174us/step - loss: 0.0210 - val_loss: 0.0193\b\b\b\b\b\b\b\b\b\b\b\b\b\b\b\b\b\b\b\b\b\b\b\b\b\b\b\b\b\b\b\b\b\b\b\b\b\b\b\b\n",
      "\n",
      "Epoch 00030: val_loss improved from 0.02075 to 0.01927, saving model to model_checkpoint.h5\n",
      "Epoch 31/150\n",
      "333/333 [==============================] - 0s 222us/step - loss: 0.0197 - val_loss: 0.0182\b\b\b\b\b\b\b\b\b\b\b\b\b\b\b\b\b\b\b\b\b\b\b\b\b\b\b\b\b\b\b\b\b\b\b\b\b\b\b\b\b\b\b\b\b\b\b\b\b\b\b\b\b\b\b\b\b\b\b\b\b\b\b\b\b\b\b\b\b\b\b\b\b\b\b\b\b\b\b\b\b\b\b\b\b\b\b\b\b\b\b\b\b\b\b\b\b\b\b\b\b\b\b\b\b\n",
      "\n",
      "Epoch 00031: val_loss improved from 0.01927 to 0.01818, saving model to model_checkpoint.h5\n",
      "Epoch 32/150\n",
      "333/333 [==============================] - 0s 163us/step - loss: 0.0185 - val_loss: 0.0172\b\b\b\b\b\b\b\b\b\b\b\b\b\b\b\b\b\b\b\b\b\b\b\b\b\b\b\b\b\b\b\b\b\b\b\b\b\b\b\b\n",
      "\n",
      "Epoch 00032: val_loss improved from 0.01818 to 0.01717, saving model to model_checkpoint.h5\n",
      "Epoch 33/150\n",
      "333/333 [==============================] - 0s 147us/step - loss: 0.0174 - val_loss: 0.0162\b\b\b\b\b\b\b\b\b\b\b\b\b\b\b\b\b\b\b\b\b\b\b\b\b\b\b\b\b\b\b\b\b\b\b\b\b\b\b\b\n",
      "\n",
      "Epoch 00033: val_loss improved from 0.01717 to 0.01616, saving model to model_checkpoint.h5\n",
      "Epoch 34/150\n",
      "333/333 [==============================] - 0s 141us/step - loss: 0.0164 - val_loss: 0.0152\b\b\b\b\b\b\b\b\b\b\b\b\b\b\b\b\b\b\b\b\b\b\b\b\b\b\b\b\b\b\b\b\b\b\b\b\b\b\b\b\n",
      "\n",
      "Epoch 00034: val_loss improved from 0.01616 to 0.01517, saving model to model_checkpoint.h5\n",
      "Epoch 35/150\n",
      "333/333 [==============================] - 0s 141us/step - loss: 0.0155 - val_loss: 0.0143\b\b\b\b\b\b\b\b\b\b\b\b\b\b\b\b\b\b\b\b\b\b\b\b\b\b\b\b\b\b\b\b\b\b\b\b\b\b\b\b\n",
      "\n",
      "Epoch 00035: val_loss improved from 0.01517 to 0.01432, saving model to model_checkpoint.h5\n",
      "Epoch 36/150\n",
      "333/333 [==============================] - 0s 123us/step - loss: 0.0147 - val_loss: 0.0138\b\b\b\b\b\b\b\b\b\b\b\b\b\b\b\b\b\b\b\b\b\b\b\b\b\b\b\b\b\b\b\b\b\b\b\b\b\b\b\b\n",
      "\n",
      "Epoch 00036: val_loss improved from 0.01432 to 0.01377, saving model to model_checkpoint.h5\n",
      "Epoch 37/150\n",
      "333/333 [==============================] - 0s 109us/step - loss: 0.0140 - val_loss: 0.0132\b\b\b\b\b\b\b\b\b\b\b\b\b\b\b\b\b\b\b\b\b\b\b\b\b\b\b\b\b\b\b\b\b\b\b\b\b\b\b\b\n",
      "\n",
      "Epoch 00037: val_loss improved from 0.01377 to 0.01318, saving model to model_checkpoint.h5\n",
      "Epoch 38/150\n",
      "333/333 [==============================] - 0s 94us/step - loss: 0.0133 - val_loss: 0.0126\b\b\b\b\b\b\b\b\b\b\b\b\b\b\b\b\b\b\b\b\b\b\b\b\b\b\b\b\b\b\b\b\b\b\b\b\b\b\b\b\b\n",
      "\n",
      "Epoch 00038: val_loss improved from 0.01318 to 0.01256, saving model to model_checkpoint.h5\n",
      "Epoch 39/150\n",
      "333/333 [==============================] - 0s 152us/step - loss: 0.0127 - val_loss: 0.0119\b\b\b\b\b\b\b\b\b\b\b\b\b\b\b\b\b\b\b\b\b\b\b\b\b\b\b\b\b\b\b\b\b\b\b\b\b\b\b\b\n",
      "\n",
      "Epoch 00039: val_loss improved from 0.01256 to 0.01194, saving model to model_checkpoint.h5\n",
      "Epoch 40/150\n",
      "333/333 [==============================] - 0s 243us/step - loss: 0.0121 - val_loss: 0.0114\b\b\b\b\b\b\b\b\b\b\b\b\b\b\b\b\b\b\b\b\b\b\b\b\b\b\b\b\b\b\b\b\b\b\b\b\b\b\b\b\n",
      "\n",
      "Epoch 00040: val_loss improved from 0.01194 to 0.01137, saving model to model_checkpoint.h5\n",
      "Epoch 41/150\n",
      "333/333 [==============================] - 0s 132us/step - loss: 0.0117 - val_loss: 0.0109\b\b\b\b\b\b\b\b\b\b\b\b\b\b\b\b\b\b\b\b\b\b\b\b\b\b\b\b\b\b\b\b\b\b\b\b\b\b\b\b\n",
      "\n",
      "Epoch 00041: val_loss improved from 0.01137 to 0.01088, saving model to model_checkpoint.h5\n",
      "Epoch 42/150\n",
      "333/333 [==============================] - 0s 180us/step - loss: 0.0113 - val_loss: 0.0106\b\b\b\b\b\b\b\b\b\b\b\b\b\b\b\b\b\b\b\b\b\b\b\b\b\b\b\b\b\b\b\b\b\b\b\b\b\b\b\b\n",
      "\n",
      "Epoch 00042: val_loss improved from 0.01088 to 0.01061, saving model to model_checkpoint.h5\n",
      "Epoch 43/150\n",
      "333/333 [==============================] - 0s 144us/step - loss: 0.0108 - val_loss: 0.0103\b\b\b\b\b\b\b\b\b\b\b\b\b\b\b\b\b\b\b\b\b\b\b\b\b\b\b\b\b\b\b\b\b\b\b\b\b\b\b\b\n",
      "\n",
      "Epoch 00043: val_loss improved from 0.01061 to 0.01029, saving model to model_checkpoint.h5\n",
      "Epoch 44/150\n",
      "333/333 [==============================] - 0s 141us/step - loss: 0.0105 - val_loss: 0.0100\b\b\b\b\b\b\b\b\b\b\b\b\b\b\b\b\b\b\b\b\b\b\b\b\b\b\b\b\b\b\b\b\b\b\b\b\b\b\b\b\n",
      "\n",
      "Epoch 00044: val_loss improved from 0.01029 to 0.00996, saving model to model_checkpoint.h5\n",
      "Epoch 45/150\n",
      "333/333 [==============================] - 0s 117us/step - loss: 0.0102 - val_loss: 0.0099\b\b\b\b\b\b\b\b\b\b\b\b\b\b\b\b\b\b\b\b\b\b\b\b\b\b\b\b\b\b\b\b\b\b\b\b\b\b\b\b\n",
      "\n",
      "Epoch 00045: val_loss improved from 0.00996 to 0.00985, saving model to model_checkpoint.h5\n",
      "Epoch 46/150\n",
      "333/333 [==============================] - 0s 94us/step - loss: 0.0099 - val_loss: 0.0097\b\b\b\b\b\b\b\b\b\b\b\b\b\b\b\b\b\b\b\b\b\b\b\b\b\b\b\b\b\b\b\b\b\b\b\b\b\b\b\b\b\n",
      "\n",
      "Epoch 00046: val_loss improved from 0.00985 to 0.00967, saving model to model_checkpoint.h5\n",
      "Epoch 47/150\n",
      "333/333 [==============================] - 0s 94us/step - loss: 0.0096 - val_loss: 0.0094\b\b\b\b\b\b\b\b\b\b\b\b\b\b\b\b\b\b\b\b\b\b\b\b\b\b\b\b\b\b\b\b\b\b\b\b\b\b\b\b\b\n",
      "\n",
      "Epoch 00047: val_loss improved from 0.00967 to 0.00941, saving model to model_checkpoint.h5\n",
      "Epoch 48/150\n",
      "333/333 [==============================] - 0s 94us/step - loss: 0.0093 - val_loss: 0.0093\b\b\b\b\b\b\b\b\b\b\b\b\b\b\b\b\b\b\b\b\b\b\b\b\b\b\b\b\b\b\b\b\b\b\b\b\b\b\b\b\b\n",
      "\n",
      "Epoch 00048: val_loss improved from 0.00941 to 0.00928, saving model to model_checkpoint.h5\n",
      "Epoch 49/150\n",
      "333/333 [==============================] - 0s 121us/step - loss: 0.0092 - val_loss: 0.0090\b\b\b\b\b\b\b\b\b\b\b\b\b\b\b\b\b\b\b\b\b\b\b\b\b\b\b\b\b\b\b\b\b\b\b\b\b\b\b\b\n",
      "\n",
      "Epoch 00049: val_loss improved from 0.00928 to 0.00903, saving model to model_checkpoint.h5\n",
      "Epoch 50/150\n",
      "333/333 [==============================] - 0s 89us/step - loss: 0.0090 - val_loss: 0.0090\b\b\b\b\b\b\b\b\b\b\b\b\b\b\b\b\b\b\b\b\b\b\b\b\b\b\b\b\b\b\b\b\b\b\b\b\b\b\b\b\b\n",
      "\n",
      "Epoch 00050: val_loss improved from 0.00903 to 0.00897, saving model to model_checkpoint.h5\n",
      "Epoch 51/150\n",
      "333/333 [==============================] - 0s 94us/step - loss: 0.0089 - val_loss: 0.0095\b\b\b\b\b\b\b\b\b\b\b\b\b\b\b\b\b\b\b\b\b\b\b\b\b\b\b\b\b\b\b\b\b\b\b\b\b\b\b\b\b\n",
      "\n",
      "Epoch 00051: val_loss did not improve from 0.00897\n",
      "Epoch 52/150\n",
      "333/333 [==============================] - 0s 141us/step - loss: 0.0087 - val_loss: 0.0090\b\b\b\b\b\b\b\b\b\b\b\b\b\b\b\b\b\b\b\b\b\b\b\b\b\b\b\b\b\b\b\b\b\b\b\b\b\b\b\b\n",
      "\n",
      "Epoch 00052: val_loss improved from 0.00897 to 0.00896, saving model to model_checkpoint.h5\n",
      "Epoch 53/150\n",
      "333/333 [==============================] - 0s 158us/step - loss: 0.0085 - val_loss: 0.0090\b\b\b\b\b\b\b\b\b\b\b\b\b\b\b\b\b\b\b\b\b\b\b\b\b\b\b\b\b\b\b\b\b\b\b\b\b\b\b\b\n",
      "\n",
      "Epoch 00053: val_loss did not improve from 0.00896\n",
      "Epoch 54/150\n",
      "333/333 [==============================] - 0s 111us/step - loss: 0.0083 - val_loss: 0.0090\b\b\b\b\b\b\b\b\b\b\b\b\b\b\b\b\b\b\b\b\b\b\b\b\b\b\b\b\b\b\b\b\b\b\b\b\b\b\b\b\n",
      "\n",
      "Epoch 00054: val_loss improved from 0.00896 to 0.00895, saving model to model_checkpoint.h5\n",
      "Epoch 55/150\n",
      "333/333 [==============================] - 0s 94us/step - loss: 0.0082 - val_loss: 0.0087\b\b\b\b\b\b\b\b\b\b\b\b\b\b\b\b\b\b\b\b\b\b\b\b\b\b\b\b\b\b\b\b\b\b\b\b\b\b\b\b\b\n",
      "\n",
      "Epoch 00055: val_loss improved from 0.00895 to 0.00866, saving model to model_checkpoint.h5\n",
      "Epoch 56/150\n",
      "333/333 [==============================] - 0s 94us/step - loss: 0.0081 - val_loss: 0.0086\b\b\b\b\b\b\b\b\b\b\b\b\b\b\b\b\b\b\b\b\b\b\b\b\b\b\b\b\b\b\b\b\b\b\b\b\b\b\b\b\b\n",
      "\n",
      "Epoch 00056: val_loss improved from 0.00866 to 0.00858, saving model to model_checkpoint.h5\n",
      "Epoch 57/150\n",
      "333/333 [==============================] - 0s 171us/step - loss: 0.0080 - val_loss: 0.0086\b\b\b\b\b\b\b\b\b\b\b\b\b\b\b\b\b\b\b\b\b\b\b\b\b\b\b\b\b\b\b\b\b\b\b\b\b\b\b\b\n",
      "\n",
      "Epoch 00057: val_loss did not improve from 0.00858\n",
      "Epoch 58/150\n",
      "333/333 [==============================] - 0s 96us/step - loss: 0.0079 - val_loss: 0.0085\b\b\b\b\b\b\b\b\b\b\b\b\b\b\b\b\b\b\b\b\b\b\b\b\b\b\b\b\b\b\b\b\b\b\b\b\b\b\b\b\b\n",
      "\n",
      "Epoch 00058: val_loss improved from 0.00858 to 0.00850, saving model to model_checkpoint.h5\n",
      "Epoch 59/150\n",
      "333/333 [==============================] - 0s 94us/step - loss: 0.0078 - val_loss: 0.0085\b\b\b\b\b\b\b\b\b\b\b\b\b\b\b\b\b\b\b\b\b\b\b\b\b\b\b\b\b\b\b\b\b\b\b\b\b\b\b\b\b\n",
      "\n",
      "Epoch 00059: val_loss improved from 0.00850 to 0.00848, saving model to model_checkpoint.h5\n",
      "Epoch 60/150\n",
      "333/333 [==============================] - 0s 94us/step - loss: 0.0078 - val_loss: 0.0086\b\b\b\b\b\b\b\b\b\b\b\b\b\b\b\b\b\b\b\b\b\b\b\b\b\b\b\b\b\b\b\b\b\b\b\b\b\b\b\b\b\n",
      "\n",
      "Epoch 00060: val_loss did not improve from 0.00848\n",
      "Epoch 61/150\n",
      "333/333 [==============================] - 0s 133us/step - loss: 0.0077 - val_loss: 0.0083\b\b\b\b\b\b\b\b\b\b\b\b\b\b\b\b\b\b\b\b\b\b\b\b\b\b\b\b\b\b\b\b\b\b\b\b\b\b\b\b\n",
      "\n",
      "Epoch 00061: val_loss improved from 0.00848 to 0.00834, saving model to model_checkpoint.h5\n",
      "Epoch 62/150\n",
      "333/333 [==============================] - 0s 99us/step - loss: 0.0076 - val_loss: 0.0085\b\b\b\b\b\b\b\b\b\b\b\b\b\b\b\b\b\b\b\b\b\b\b\b\b\b\b\b\b\b\b\b\b\b\b\b\b\b\b\b\b\n",
      "\n",
      "Epoch 00062: val_loss did not improve from 0.00834\n",
      "Epoch 63/150\n",
      "333/333 [==============================] - 0s 141us/step - loss: 0.0076 - val_loss: 0.0083\b\b\b\b\b\b\b\b\b\b\b\b\b\b\b\b\b\b\b\b\b\b\b\b\b\b\b\b\b\b\b\b\b\b\b\b\b\b\b\b\n",
      "\n",
      "Epoch 00063: val_loss improved from 0.00834 to 0.00828, saving model to model_checkpoint.h5\n",
      "Epoch 64/150\n",
      "333/333 [==============================] - 0s 94us/step - loss: 0.0075 - val_loss: 0.0083\b\b\b\b\b\b\b\b\b\b\b\b\b\b\b\b\b\b\b\b\b\b\b\b\b\b\b\b\b\b\b\b\b\b\b\b\b\b\b\b\b\n",
      "\n",
      "Epoch 00064: val_loss did not improve from 0.00828\n",
      "Epoch 65/150\n",
      "333/333 [==============================] - 0s 94us/step - loss: 0.0076 - val_loss: 0.0090\b\b\b\b\b\b\b\b\b\b\b\b\b\b\b\b\b\b\b\b\b\b\b\b\b\b\b\b\b\b\b\b\b\b\b\b\b\b\b\b\b\n",
      "\n",
      "Epoch 00065: val_loss did not improve from 0.00828\n"
     ]
    }
   ],
   "source": [
    "trained_model,hist = build_model(training=training,validation=validation,temperature_norm=temperature_norm,lag_value=3,nb_epoch=150)"
   ],
   "metadata": {
    "collapsed": false,
    "pycharm": {
     "name": "#%%\n"
    }
   }
  },
  {
   "cell_type": "code",
   "execution_count": 21,
   "outputs": [],
   "source": [
    "# predictions\n",
    "# run the predictor ``warm'' on the trainingset --> before going to do predictions (remember matlab file)\n",
    "# History().history\n",
    "# loss = history.history[\"loss\"]\n",
    "# history.keys()\n",
    "\n",
    "# hist = trained_model[1]"
   ],
   "metadata": {
    "collapsed": false,
    "pycharm": {
     "name": "#%%\n"
    }
   }
  },
  {
   "cell_type": "code",
   "execution_count": 22,
   "outputs": [
    {
     "data": {
      "text/plain": "<Figure size 720x576 with 1 Axes>",
      "image/png": "[encoded data removed]"
     },
     "metadata": {
      "needs_background": "light"
     },
     "output_type": "display_data"
    }
   ],
   "source": [
    "def visualize_loss(history):\n",
    "    loss = history.history[\"loss\"]\n",
    "    val_loss = history.history[\"val_loss\"]\n",
    "    epochs = range(len(loss))\n",
    "    figure_layout(figsize=(10,8),titel=\"Training and Validation Loss\",xlabel=\"Epochs\",ylabel=\"MSE\",grid=False)\n",
    "    plt.plot(epochs, loss, \"b\", label=\"Training loss\")\n",
    "    plt.plot(epochs, val_loss, \"r\", label=\"Validation loss\")\n",
    "    plt.legend()\n",
    "    plt.show()\n",
    "\n",
    "visualize_loss(hist)"
   ],
   "metadata": {
    "collapsed": false,
    "pycharm": {
     "name": "#%%\n"
    }
   }
  },
  {
   "cell_type": "code",
   "execution_count": null,
   "outputs": [],
   "source": [],
   "metadata": {
    "collapsed": false,
    "pycharm": {
     "name": "#%%\n"
    }
   }
  },
  {
   "cell_type": "code",
   "execution_count": null,
   "outputs": [],
   "source": [
    "def forecasting_24h(model, TS, temperature_norm, lag_value, test):\n",
    "    \n",
    "    # doing predictions with the trained model\n",
    "    model.predict()"
   ],
   "metadata": {
    "collapsed": false,
    "pycharm": {
     "name": "#%%\n"
    }
   }
  }
 ],
 "metadata": {
  "kernelspec": {
   "display_name": "Python 3",
   "language": "python",
   "name": "python3"
  },
  "language_info": {
   "codemirror_mode": {
    "name": "ipython",
    "version": 2
   },
   "file_extension": ".py",
   "mimetype": "text/x-python",
   "name": "python",
   "nbconvert_exporter": "python",
   "pygments_lexer": "ipython2",
   "version": "2.7.6"
  }
 },
 "nbformat": 4,
 "nbformat_minor": 0
}