{
 "cells": [
  {
   "cell_type": "code",
   "metadata": {
    "collapsed": true,
    "pycharm": {
     "name": "#%%\n"
    }
   },
   "source": [
    "\"\"\"\n",
    "This file is implementing the vanilla LSTM.\n",
    "The test set used are the 31 days of December of a single time-serie of the 261 time-series with measurements of the full year 2017.\n",
    "Missing days are estimated.\n",
    "Naive basemodels that are used are the mean forecast and the MAPE-minimization.\n",
    "Evaluation metrics used: MSE, RMSE, NRMSE, MAE\n",
    "####################################################\n",
    "\n",
    "calculate the MSE on the total test set and for each day of the week.\n",
    "Should normalize history and temperature with min max\n",
    "Rest: weekday, time, holiday use one hot encoder\n",
    "Stack different LSTM blocks --> hidden nodes serve as inputs for next LSTM's\n",
    "Use finally a fully connected layer to generate an output\n",
    "Use different learning rules: adam!!, stochastic gradient descent, Adagrad, Adadelta and RMSProp\n",
    "Adam has parameters: learning rate, momentum and decay\n",
    "play with mini batches\n",
    "\n",
    "Inputs:\n",
    "1. history ok\n",
    "2. temp ok\n",
    "3. day week ok\n",
    "4. time ok\n",
    "5. holiday\n",
    "6. (previous week future lag)\n",
    "7. previous week error history lag --> how good are you following previous week\n",
    "just the difference between the values\n",
    "8. previous weeks load at the same moment in time and the temperatures of these days\n",
    "\"\"\"\n"
   ],
   "execution_count": 33,
   "outputs": [
    {
     "data": {
      "text/plain": "\"\\nThis file is implementing the vanilla LSTM.\\nThe test set used are the 31 days of December of a single time-serie of the 261 time-series with measurements of the full year 2017.\\nMissing days are estimated.\\nNaive basemodels that are used are the mean forecast and the MAPE-minimization.\\nEvaluation metrics used: MSE, RMSE, NRMSE, MAE\\n####################################################\\n\\ncalculate the MSE on the total test set and for each day of the week.\\nShould normalize history and temperature with min max\\nRest: weekday, time, holiday use one hot encoder\\nStack different LSTM blocks --> hidden nodes serve as inputs for next LSTM's\\nUse finally a fully connected layer to generate an output\\nUse different learning rules: adam!!, stochastic gradient descent, Adagrad, Adadelta and RMSProp\\nAdam has parameters: learning rate, momentum and decay\\nplay with mini batches\\n\\nInputs:\\n1. history ok\\n2. temp ok\\n3. day week ok\\n4. time ok\\n5. holiday\\n6. (previous week future lag)\\n7. previous week error history lag --> how good are you following previous week\\njust the difference between the values\\n8. previous weeks load at the same moment in time and the temperatures of these days\\n\""
     },
     "execution_count": 33,
     "metadata": {},
     "output_type": "execute_result"
    }
   ]
  },
  {
   "cell_type": "code",
   "execution_count": 34,
   "outputs": [],
   "source": [
    "import datetime as dt\n",
    "import pandas as pd # pandas\n",
    "import numpy as np\n",
    "from sklearn.preprocessing import MinMaxScaler\n",
    "import matplotlib.pyplot as plt\n",
    "import casadi as ca\n",
    "from Test_basemodel_functions import *\n",
    "\n",
    "plt.rc('axes', linewidth=2)\n",
    "plt.rc('axes', labelsize= 16)\n",
    "plt.rc('axes',titlesize = 18)\n",
    "plt.rc('legend',fontsize=14)\n",
    "plt.rc('xtick', labelsize=16)\n",
    "plt.rc('ytick', labelsize=16)\n",
    "plt.rc('figure',figsize=(10,8))\n"
   ],
   "metadata": {
    "collapsed": false,
    "pycharm": {
     "name": "#%%\n"
    }
   }
  },
  {
   "cell_type": "code",
   "execution_count": 35,
   "outputs": [],
   "source": [
    "# importing the data\n",
    "fullYeardata = pd.read_csv(\"D:\\Onedrive\\Leuven\\Final project\\data\\Forecasting_writtendata\\FullYear.csv\",index_col= \"date\",parse_dates= True)\n",
    "av_temperature = pd.read_csv(\"D:\\Onedrive\\Leuven\\Final project\\data\\weather-avg.csv\",index_col='meter_id')\n",
    "av_temperature = av_temperature.transpose()\n",
    "av_temperature.index = pd.to_datetime(av_temperature.index)"
   ],
   "metadata": {
    "collapsed": false,
    "pycharm": {
     "name": "#%%\n"
    }
   }
  },
  {
   "cell_type": "code",
   "execution_count": 36,
   "outputs": [],
   "source": [
    "name = fullYeardata.columns[0]\n",
    "TS = fullYeardata[name]\n",
    "temperature = av_temperature[name]"
   ],
   "metadata": {
    "collapsed": false,
    "pycharm": {
     "name": "#%%\n"
    }
   }
  },
  {
   "cell_type": "code",
   "execution_count": 37,
   "outputs": [],
   "source": [
    "# subsitute the missing values by prev week < prev day < mean of all the values at that time of the day (rarely used)\n",
    "def substitute_missing_values(TS: pd.Series):\n",
    "    for date in TS.index:\n",
    "        if np.isnan(TS[date]):\n",
    "            prev_week =  date + dt.timedelta(days=-7)\n",
    "            prev_day = date + dt.timedelta(days=-1)\n",
    "            if not np.isnan(TS[prev_week]):\n",
    "                TS[date] = TS[prev_week]\n",
    "\n",
    "            elif not np.isnan(TS[prev_day]):\n",
    "                TS[date] = TS[prev_day]\n",
    "\n",
    "            else:\n",
    "                temp = TS[TS.index.hour == date.hour]\n",
    "                data = temp[temp.index.minute == date.minute]\n",
    "                TS[date] = data.mean()\n",
    "    print(\"amount of missing values: %s. \\n\"%TS.isnull().sum())\n",
    "    return TS"
   ],
   "metadata": {
    "collapsed": false,
    "pycharm": {
     "name": "#%%\n"
    }
   }
  },
  {
   "cell_type": "code",
   "execution_count": 38,
   "outputs": [
    {
     "name": "stdout",
     "output_type": "stream",
     "text": [
      "amount of missing values: 0. \n",
      "\n"
     ]
    }
   ],
   "source": [
    "# normalize the data --> min/max method (when using a single time serie)\n",
    "temperature_norm = norm(temperature)\n",
    "TS_norm = norm(TS)\n",
    "temp = TS_norm[TS_norm.index.month != 12]\n",
    "training = temp[temp != 11]\n",
    "validation = TS_norm[TS_norm.index.month == 11]\n",
    "test = TS_norm[TS_norm.index.month == 12]\n",
    "# remove from the test set all the days that contain nan values -> only estimate real days\n",
    "test.dropna(inplace=True)\n",
    "# substitute the missing values\n",
    "training = substitute_missing_values(training)"
   ],
   "metadata": {
    "collapsed": false,
    "pycharm": {
     "name": "#%%\n"
    }
   }
  },
  {
   "cell_type": "code",
   "execution_count": 39,
   "outputs": [],
   "source": [
    "def get_av_temp(time_stamp: pd.Timestamp,temperature: pd.Series)-> float:\n",
    "    return temperature[temperature.index.dayofyear == time_stamp.dayofyear]\n",
    "\n",
    "def get_weekday(time_stamp: pd.Timestamp)-> int:\n",
    "    return time_stamp.weekday()\n",
    "\n",
    "def get_daytime(time_stamp: pd.Timestamp):\n",
    "    value = time_stamp.hour*2\n",
    "    if time_stamp.minute == 30:\n",
    "        value = value + 1\n",
    "    return value\n",
    "\n",
    "def is_holiday(time_stamp: pd.Timestamp, holidays: pd.DatetimeIndex)->bool:\n",
    "    return time_stamp in holidays\n",
    "\n",
    "\n",
    "# forecast one time stamp at the time --> for loop to forecast the 48 time stamps\n",
    "def input_output_LSTM(training, temperature_norm, lag_value: int):\n",
    "    holidays = EnglandAndWalesHolidayCalendar().holidays(start=pd.Timestamp('2017-01-01'),end=pd.Timestamp('2017-12-31'))\n",
    "    amount_forecasts = len(training) - lag_value\n",
    "\n",
    "    history = np.zeros((amount_forecasts,lag_value))\n",
    "    temperature_feed = np.zeros((amount_forecasts,1))\n",
    "    weekday = np.zeros((amount_forecasts,7))\n",
    "    time = np.zeros((amount_forecasts,48))\n",
    "    holiday = np.zeros((amount_forecasts,2))\n",
    "\n",
    "    y = training[lag_value:].values.squeeze()\n",
    "\n",
    "    for sample_id in np.arange(0,amount_forecasts):\n",
    "        time_stamp = training.index[lag_value + sample_id]\n",
    "        history[sample_id,:] = training.values[sample_id:lag_value + sample_id]\n",
    "        temperature_feed[sample_id,:] = get_av_temp(time_stamp,temperature_norm)\n",
    "        day = get_weekday(time_stamp) # 0 - 6\n",
    "        weekday[sample_id,day] = 1\n",
    "        time_of_day = get_daytime(time_stamp) # 0 - 47\n",
    "        time[sample_id,time_of_day] = 1\n",
    "        hol = is_holiday(time_stamp,holidays) # [no, yes]\n",
    "        if hol:\n",
    "            holiday[sample_id,1] = 1\n",
    "        else:\n",
    "            holiday[sample_id,0] = 1\n",
    "\n",
    "    # horizontally stack the different arrays\n",
    "    X = np.hstack((history,temperature_feed,weekday,time,holiday))\n",
    "\n",
    "    return X,y"
   ],
   "metadata": {
    "collapsed": false,
    "pycharm": {
     "name": "#%%\n"
    }
   }
  },
  {
   "cell_type": "code",
   "execution_count": 42,
   "outputs": [
    {
     "name": "stdout",
     "output_type": "stream",
     "text": [
      "[[0.04907459 0.0608525  0.04907459 ... 0.         1.         0.        ]\n",
      " [0.0608525  0.04907459 0.05776781 ... 0.         1.         0.        ]\n",
      " [0.04907459 0.05776781 0.05243971 ... 0.         1.         0.        ]\n",
      " ...\n",
      " [0.04122266 0.11497476 0.08356702 ... 0.         1.         0.        ]\n",
      " [0.11497476 0.08356702 0.08524958 ... 0.         1.         0.        ]\n",
      " [0.08356702 0.08524958 0.06225463 ... 1.         1.         0.        ]]\n"
     ]
    }
   ],
   "source": [
    "from keras.layers import Dense,  LSTM,Embedding\n",
    "from keras.models import Sequential\n",
    "from keras import regularizers\n",
    "from keras.callbacks import EarlyStopping\n",
    "def build_model(training: pd.Series, temperature_norm: pd.Series, lag_value: int,regularization_parameter):\n",
    "    X,y = input_output_LSTM(training, temperature_norm, lag_value)\n",
    "    regularizers.l2(l=regularization_parameter)\n",
    "    model = Sequential()\n",
    "    model.add(LSTM(units=20,activation='tanh',dropout=0,recurrent_dropout=0,input_shape=(X.shape[1],)))\n",
    "    model.add(Dense(units=20,activation='relu',kernel_regularizer='l2'))\n",
    "    # model.add(Dropout(0.10))\n",
    "    model.compile(optimizer='adam',loss='mse',metrics=['accuracy'])\n",
    "    early_stopping_monitor = EarlyStopping()\n",
    "\n",
    "    # implement early stopping as extra regularization method"
   ],
   "metadata": {
    "collapsed": false,
    "pycharm": {
     "name": "#%%\n"
    }
   }
  }
 ],
 "metadata": {
  "kernelspec": {
   "display_name": "Python 3",
   "language": "python",
   "name": "python3"
  },
  "language_info": {
   "codemirror_mode": {
    "name": "ipython",
    "version": 2
   },
   "file_extension": ".py",
   "mimetype": "text/x-python",
   "name": "python",
   "nbconvert_exporter": "python",
   "pygments_lexer": "ipython2",
   "version": "2.7.6"
  }
 },
 "nbformat": 4,
 "nbformat_minor": 0
}