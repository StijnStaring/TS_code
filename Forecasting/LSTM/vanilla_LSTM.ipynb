{
 "cells": [
  {
   "cell_type": "code",
   "metadata": {
    "collapsed": true,
    "pycharm": {
     "name": "#%%\n"
    }
   },
   "source": [
    "\"\"\"\n",
    "This file is implementing the vanilla LSTM.\n",
    "The test set used are the 31 days of December of a single time-serie of the 261 time-series with measurements of the full year 2017.\n",
    "Missing days are estimated.\n",
    "Naive basemodels that are used are the mean forecast and the MAPE-minimization.\n",
    "Evaluation metrics used: MSE, RMSE, NRMSE, MAE\n",
    "####################################################\n",
    "\n",
    "calculate the MSE on the total test set and for each day of the week.\n",
    "Should normalize history and temperature with min max\n",
    "Rest: weekday, time, holiday use one hot encoder\n",
    "Stack different LSTM blocks --> hidden nodes serve as inputs for next LSTM's\n",
    "Use finally a fully connected layer to generate an output\n",
    "Use different learning rules: adam!!, stochastic gradient descent, Adagrad, Adadelta and RMSProp\n",
    "Adam has parameters: learning rate, momentum and decay\n",
    "play with mini batches\n",
    "\n",
    "Inputs:\n",
    "1. history ok\n",
    "2. temp ok\n",
    "3. day week ok\n",
    "4. time ok\n",
    "5. holiday\n",
    "6. (previous week future lag)\n",
    "7. previous week error history lag --> how good are you following previous week\n",
    "just the difference between the values\n",
    "8. previous weeks load at the same moment in time and the temperatures of these days\n",
    "\"\"\"\n"
   ],
   "execution_count": 1,
   "outputs": [
    {
     "data": {
      "text/plain": "\"\\nThis file is implementing the vanilla LSTM.\\nThe test set used are the 31 days of December of a single time-serie of the 261 time-series with measurements of the full year 2017.\\nMissing days are estimated.\\nNaive basemodels that are used are the mean forecast and the MAPE-minimization.\\nEvaluation metrics used: MSE, RMSE, NRMSE, MAE\\n####################################################\\n\\ncalculate the MSE on the total test set and for each day of the week.\\nShould normalize history and temperature with min max\\nRest: weekday, time, holiday use one hot encoder\\nStack different LSTM blocks --> hidden nodes serve as inputs for next LSTM's\\nUse finally a fully connected layer to generate an output\\nUse different learning rules: adam!!, stochastic gradient descent, Adagrad, Adadelta and RMSProp\\nAdam has parameters: learning rate, momentum and decay\\nplay with mini batches\\n\\nInputs:\\n1. history ok\\n2. temp ok\\n3. day week ok\\n4. time ok\\n5. holiday\\n6. (previous week future lag)\\n7. previous week error history lag --> how good are you following previous week\\njust the difference between the values\\n8. previous weeks load at the same moment in time and the temperatures of these days\\n\""
     },
     "execution_count": 1,
     "metadata": {},
     "output_type": "execute_result"
    }
   ]
  },
  {
   "cell_type": "code",
   "execution_count": 2,
   "outputs": [],
   "source": [
    "import datetime as dt\n",
    "import pandas as pd # pandas\n",
    "import numpy as np\n",
    "from sklearn.preprocessing import MinMaxScaler\n",
    "import matplotlib.pyplot as plt\n",
    "import casadi as ca\n",
    "from Test_basemodel_functions import *\n",
    "\n",
    "plt.rc('axes', linewidth=2)\n",
    "plt.rc('axes', labelsize= 16)\n",
    "plt.rc('axes',titlesize = 18)\n",
    "plt.rc('legend',fontsize=14)\n",
    "plt.rc('xtick', labelsize=16)\n",
    "plt.rc('ytick', labelsize=16)\n",
    "plt.rc('figure',figsize=(10,8))\n"
   ],
   "metadata": {
    "collapsed": false,
    "pycharm": {
     "name": "#%%\n"
    }
   }
  },
  {
   "cell_type": "code",
   "execution_count": 3,
   "outputs": [],
   "source": [
    "# importing the data\n",
    "fullYeardata = pd.read_csv(\"D:\\Onedrive\\Leuven\\Final project\\data\\Forecasting_writtendata\\FullYear.csv\",index_col= \"date\",parse_dates= True)\n",
    "av_temperature = pd.read_csv(\"D:\\Onedrive\\Leuven\\Final project\\data\\weather-avg.csv\",index_col='meter_id')\n",
    "av_temperature = av_temperature.transpose()\n",
    "av_temperature.index = pd.to_datetime(av_temperature.index)"
   ],
   "metadata": {
    "collapsed": false,
    "pycharm": {
     "name": "#%%\n"
    }
   }
  },
  {
   "cell_type": "code",
   "execution_count": 4,
   "outputs": [],
   "source": [
    "name = fullYeardata.columns[0]\n",
    "TS = fullYeardata[name]\n",
    "temperature = av_temperature[name]"
   ],
   "metadata": {
    "collapsed": false,
    "pycharm": {
     "name": "#%%\n"
    }
   }
  },
  {
   "cell_type": "code",
   "execution_count": 5,
   "outputs": [],
   "source": [
    "# subsitute the missing values by prev week < prev day < mean of all the values at that time of the day (rarely used)\n",
    "def substitute_missing_values(TS: pd.Series):\n",
    "    for date in TS.index:\n",
    "        if np.isnan(TS[date]):\n",
    "            prev_week =  date + dt.timedelta(days=-7)\n",
    "            prev_day = date + dt.timedelta(days=-1)\n",
    "            if not np.isnan(TS[prev_week]):\n",
    "                TS[date] = TS[prev_week]\n",
    "\n",
    "            elif not np.isnan(TS[prev_day]):\n",
    "                TS[date] = TS[prev_day]\n",
    "\n",
    "            else:\n",
    "                temp = TS[TS.index.hour == date.hour]\n",
    "                data = temp[temp.index.minute == date.minute]\n",
    "                TS[date] = data.mean()\n",
    "    print(\"amount of missing values: %s. \\n\"%TS.isnull().sum())\n",
    "    return TS"
   ],
   "metadata": {
    "collapsed": false,
    "pycharm": {
     "name": "#%%\n"
    }
   }
  },
  {
   "cell_type": "code",
   "execution_count": 6,
   "outputs": [
    {
     "name": "stdout",
     "output_type": "stream",
     "text": [
      "amount of missing values: 0. \n",
      "\n"
     ]
    }
   ],
   "source": [
    "# normalize the data --> min/max method (when using a single time serie)\n",
    "temperature_norm = norm(temperature)\n",
    "TS_norm = norm(TS)\n",
    "# temp = TS_norm[TS_norm.index.month != 12]\n",
    "# training = temp[temp != 11]\n",
    "# validation = TS_norm[TS_norm.index.month == 11]\n",
    "# test = TS_norm[TS_norm.index.month == 12]\n",
    "# remove from the test set all the days that contain nan values -> only estimate real days\n",
    "training = TS_norm[0:336]\n",
    "validation = TS_norm[336:384]\n",
    "test = TS_norm[384:432]\n",
    "test.dropna(inplace=True)\n",
    "# substitute the missing values\n",
    "training = substitute_missing_values(training)"
   ],
   "metadata": {
    "collapsed": false,
    "pycharm": {
     "name": "#%%\n"
    }
   }
  },
  {
   "cell_type": "code",
   "execution_count": 40,
   "outputs": [],
   "source": [
    "def get_av_temp(time_stamp: pd.Timestamp,temperature: pd.Series)-> float:\n",
    "    return temperature[temperature.index.dayofyear == time_stamp.dayofyear]\n",
    "\n",
    "def get_weekday(time_stamp: pd.Timestamp)-> int:\n",
    "    return time_stamp.weekday()\n",
    "\n",
    "def get_daytime(time_stamp: pd.Timestamp):\n",
    "    value = time_stamp.hour*2\n",
    "    if time_stamp.minute == 30:\n",
    "        value = value + 1\n",
    "    return value\n",
    "\n",
    "def is_holiday(time_stamp: pd.Timestamp, holidays: pd.DatetimeIndex)->bool:\n",
    "    return any(time_stamp.dayofyear == holidays.dayofyear)\n",
    "\n",
    "\n",
    "# forecast one time stamp at the time --> for loop to forecast the 48 time stamps\n",
    "def input_output_LSTM(training, temperature_norm, lag_value: int):\n",
    "    holidays = EnglandAndWalesHolidayCalendar().holidays(start=pd.Timestamp('2017-01-01'),end=pd.Timestamp('2017-12-31'))\n",
    "    amount_forecasts = len(training) - lag_value\n",
    "    amount_features = 1+1+7+48+2\n",
    "    X = np.zeros((amount_forecasts,lag_value,amount_features))\n",
    "    y = np.zeros((amount_forecasts,1))\n",
    "\n",
    "    for sample_id in np.arange(0,amount_forecasts):\n",
    "\n",
    "        history = training.values[sample_id:lag_value + sample_id]\n",
    "        y[sample_id] = training.values[lag_value + sample_id]\n",
    "        X[sample_id,:,0] = history\n",
    "        all_time_stamps = training.index[sample_id:lag_value + sample_id]\n",
    "        for lag_value_index in np.arange(0,lag_value): # goes from old to new\n",
    "            time_stamp = all_time_stamps[lag_value_index]\n",
    "\n",
    "            temperature_feed = get_av_temp(time_stamp,temperature_norm)\n",
    "            X[sample_id,lag_value_index,1] = temperature_feed\n",
    "\n",
    "            weekday = np.zeros(7)\n",
    "            day = get_weekday(time_stamp) # 0 - 6\n",
    "            weekday[day] = 1\n",
    "            X[sample_id,lag_value_index,2:9] = weekday\n",
    "\n",
    "            time = np.zeros(48)\n",
    "            time_of_day = get_daytime(time_stamp) # 0 - 47\n",
    "            time[time_of_day] = 1\n",
    "            X[sample_id,lag_value_index,9:57] = time\n",
    "\n",
    "            holiday = np.zeros(2)\n",
    "            hol = is_holiday(time_stamp,holidays) # [no, yes]\n",
    "            if hol:\n",
    "                holiday[1] = 1\n",
    "            else:\n",
    "                holiday[0] = 1\n",
    "            X[sample_id,lag_value_index,57:59] = holiday\n",
    "\n",
    "\n",
    "    return X,y\n"
   ],
   "metadata": {
    "collapsed": false,
    "pycharm": {
     "name": "#%%\n"
    }
   }
  },
  {
   "cell_type": "code",
   "execution_count": 107,
   "outputs": [],
   "source": [
    "from keras.layers import Dense,  LSTM,Embedding\n",
    "from keras.models import Sequential\n",
    "from keras import regularizers\n",
    "from keras.callbacks import EarlyStopping,ModelCheckpoint, History\n",
    "\n",
    "path_checkpoint = \"model_checkpoint.h5\"\n",
    "modelckpt_callback = ModelCheckpoint(monitor=\"val_loss\",filepath=path_checkpoint,verbose=1,save_weights_only=True,save_best_only=True)\n",
    "def build_model(training: pd.Series,validation: pd.Series, temperature_norm: pd.Series, lag_value: int,nb_epoch: int = 1, regularization_parameter = 0.01,batch_size_para: int = 32,verbose_para: int = 1):\n",
    "    history = History()\n",
    "    X,y = input_output_LSTM(training, temperature_norm, lag_value)\n",
    "    X_val,y_val = input_output_LSTM(validation, temperature_norm, lag_value)\n",
    "    regularizers.l2(l=regularization_parameter)\n",
    "    model = Sequential()\n",
    "    # no initial state is given --> hidden state are tensors filled with zeros\n",
    "    # dropout=None,recurrent_dropout=None\n",
    "    model.add(LSTM(units=20,activation='tanh',input_shape=(X.shape[1],X.shape[2])))\n",
    "    model.add(Dense(units=20,activation='relu',kernel_regularizer='l2'))\n",
    "    # model.add(Dropout(0.10))\n",
    "    model.add(Dense(units=y.shape[1],activation='relu',kernel_regularizer='l2'))\n",
    "    model.compile(optimizer='adam',loss='mse')\n",
    "    early_stopping_monitor = EarlyStopping(patience=2,restore_best_weights=True)\n",
    "    model.fit(x=X,y=y,epochs=nb_epoch,batch_size=batch_size_para,validation_data=(X_val,y_val),callbacks=[early_stopping_monitor,modelckpt_callback,history],verbose=verbose_para)\n",
    "\n",
    "    return model,history"
   ],
   "metadata": {
    "collapsed": false,
    "pycharm": {
     "name": "#%%\n"
    }
   }
  },
  {
   "cell_type": "code",
   "execution_count": 108,
   "outputs": [
    {
     "name": "stdout",
     "output_type": "stream",
     "text": [
      "Train on 333 samples, validate on 45 samples\n",
      "Epoch 1/150\n",
      "333/333 [==============================] - 1s 3ms/step - loss: 0.2246 - val_loss: 0.2070\b\b\b\b\b\b\b\b\b\b\b\b\b\b\b\b\b\b\b\b\b\b\b\b\b\b\b\b\b\b\b\b\b\b\b\b\b\b\b\b\b\b\n",
      "\n",
      "Epoch 00001: val_loss improved from inf to 0.20698, saving model to model_checkpoint.h5\n",
      "Epoch 2/150\n",
      "333/333 [==============================] - 0s 94us/step - loss: 0.2044 - val_loss: 0.1908\b\b\b\b\b\b\b\b\b\b\b\b\b\b\b\b\b\b\b\b\b\b\b\b\b\b\b\b\b\b\b\b\b\b\b\b\b\b\b\b\b\n",
      "\n",
      "Epoch 00002: val_loss improved from 0.20698 to 0.19083, saving model to model_checkpoint.h5\n",
      "Epoch 3/150\n",
      "333/333 [==============================] - 0s 94us/step - loss: 0.1875 - val_loss: 0.1749\b\b\b\b\b\b\b\b\b\b\b\b\b\b\b\b\b\b\b\b\b\b\b\b\b\b\b\b\b\b\b\b\b\b\b\b\b\b\b\b\b\n",
      "\n",
      "Epoch 00003: val_loss improved from 0.19083 to 0.17493, saving model to model_checkpoint.h5\n",
      "Epoch 4/150\n",
      "333/333 [==============================] - 0s 141us/step - loss: 0.1724 - val_loss: 0.1610\b\b\b\b\b\b\b\b\b\b\b\b\b\b\b\b\b\b\b\b\b\b\b\b\b\b\b\b\b\b\b\b\b\b\b\b\b\b\b\b\n",
      "\n",
      "Epoch 00004: val_loss improved from 0.17493 to 0.16098, saving model to model_checkpoint.h5\n",
      "Epoch 5/150\n",
      "333/333 [==============================] - 0s 94us/step - loss: 0.1585 - val_loss: 0.1483\b\b\b\b\b\b\b\b\b\b\b\b\b\b\b\b\b\b\b\b\b\b\b\b\b\b\b\b\b\b\b\b\b\b\b\b\b\b\b\b\b\n",
      "\n",
      "Epoch 00005: val_loss improved from 0.16098 to 0.14830, saving model to model_checkpoint.h5\n",
      "Epoch 6/150\n",
      "333/333 [==============================] - 0s 69us/step - loss: 0.1459 - val_loss: 0.1365\b\b\b\b\b\b\b\b\b\b\b\b\b\b\b\b\b\b\b\b\b\b\b\b\b\b\b\b\b\b\b\b\b\b\b\b\b\b\b\b\b\n",
      "\n",
      "Epoch 00006: val_loss improved from 0.14830 to 0.13650, saving model to model_checkpoint.h5\n",
      "Epoch 7/150\n",
      "333/333 [==============================] - 0s 94us/step - loss: 0.1343 - val_loss: 0.1256\b\b\b\b\b\b\b\b\b\b\b\b\b\b\b\b\b\b\b\b\b\b\b\b\b\b\b\b\b\b\b\b\b\b\b\b\b\b\b\b\b\n",
      "\n",
      "Epoch 00007: val_loss improved from 0.13650 to 0.12560, saving model to model_checkpoint.h5\n",
      "Epoch 8/150\n",
      "333/333 [==============================] - 0s 141us/step - loss: 0.1236 - val_loss: 0.1155\b\b\b\b\b\b\b\b\b\b\b\b\b\b\b\b\b\b\b\b\b\b\b\b\b\b\b\b\b\b\b\b\b\b\b\b\b\b\b\b\n",
      "\n",
      "Epoch 00008: val_loss improved from 0.12560 to 0.11555, saving model to model_checkpoint.h5\n",
      "Epoch 9/150\n",
      "333/333 [==============================] - 0s 128us/step - loss: 0.1137 - val_loss: 0.1063\b\b\b\b\b\b\b\b\b\b\b\b\b\b\b\b\b\b\b\b\b\b\b\b\b\b\b\b\b\b\b\b\b\b\b\b\b\b\b\b\n",
      "\n",
      "Epoch 00009: val_loss improved from 0.11555 to 0.10628, saving model to model_checkpoint.h5\n",
      "Epoch 10/150\n",
      "333/333 [==============================] - 0s 110us/step - loss: 0.1047 - val_loss: 0.0976\b\b\b\b\b\b\b\b\b\b\b\b\b\b\b\b\b\b\b\b\b\b\b\b\b\b\b\b\b\b\b\b\b\b\b\b\b\b\b\b\n",
      "\n",
      "Epoch 00010: val_loss improved from 0.10628 to 0.09761, saving model to model_checkpoint.h5\n",
      "Epoch 11/150\n",
      "333/333 [==============================] - 0s 141us/step - loss: 0.0964 - val_loss: 0.0896\b\b\b\b\b\b\b\b\b\b\b\b\b\b\b\b\b\b\b\b\b\b\b\b\b\b\b\b\b\b\b\b\b\b\b\b\b\b\b\b\n",
      "\n",
      "Epoch 00011: val_loss improved from 0.09761 to 0.08964, saving model to model_checkpoint.h5\n",
      "Epoch 12/150\n",
      "333/333 [==============================] - 0s 141us/step - loss: 0.0886 - val_loss: 0.0824\b\b\b\b\b\b\b\b\b\b\b\b\b\b\b\b\b\b\b\b\b\b\b\b\b\b\b\b\b\b\b\b\b\b\b\b\b\b\b\b\n",
      "\n",
      "Epoch 00012: val_loss improved from 0.08964 to 0.08244, saving model to model_checkpoint.h5\n",
      "Epoch 13/150\n",
      "333/333 [==============================] - 0s 143us/step - loss: 0.0816 - val_loss: 0.0757\b\b\b\b\b\b\b\b\b\b\b\b\b\b\b\b\b\b\b\b\b\b\b\b\b\b\b\b\b\b\b\b\b\b\b\b\b\b\b\b\n",
      "\n",
      "Epoch 00013: val_loss improved from 0.08244 to 0.07574, saving model to model_checkpoint.h5\n",
      "Epoch 14/150\n",
      "333/333 [==============================] - 0s 68us/step - loss: 0.0751 - val_loss: 0.0695\b\b\b\b\b\b\b\b\b\b\b\b\b\b\b\b\b\b\b\b\b\b\b\b\b\b\b\b\b\b\b\b\b\b\b\b\b\b\b\b\b\n",
      "\n",
      "Epoch 00014: val_loss improved from 0.07574 to 0.06948, saving model to model_checkpoint.h5\n",
      "Epoch 15/150\n",
      "333/333 [==============================] - 0s 94us/step - loss: 0.0691 - val_loss: 0.0638\b\b\b\b\b\b\b\b\b\b\b\b\b\b\b\b\b\b\b\b\b\b\b\b\b\b\b\b\b\b\b\b\b\b\b\b\b\b\b\b\b\n",
      "\n",
      "Epoch 00015: val_loss improved from 0.06948 to 0.06383, saving model to model_checkpoint.h5\n",
      "Epoch 16/150\n",
      "333/333 [==============================] - 0s 94us/step - loss: 0.0636 - val_loss: 0.0586\b\b\b\b\b\b\b\b\b\b\b\b\b\b\b\b\b\b\b\b\b\b\b\b\b\b\b\b\b\b\b\b\b\b\b\b\b\b\b\b\b\n",
      "\n",
      "Epoch 00016: val_loss improved from 0.06383 to 0.05859, saving model to model_checkpoint.h5\n",
      "Epoch 17/150\n",
      "333/333 [==============================] - 0s 160us/step - loss: 0.0586 - val_loss: 0.0539\b\b\b\b\b\b\b\b\b\b\b\b\b\b\b\b\b\b\b\b\b\b\b\b\b\b\b\b\b\b\b\b\b\b\b\b\b\b\b\b\n",
      "\n",
      "Epoch 00017: val_loss improved from 0.05859 to 0.05389, saving model to model_checkpoint.h5\n",
      "Epoch 18/150\n",
      "333/333 [==============================] - 0s 101us/step - loss: 0.0540 - val_loss: 0.0496\b\b\b\b\b\b\b\b\b\b\b\b\b\b\b\b\b\b\b\b\b\b\b\b\b\b\b\b\b\b\b\b\b\b\b\b\b\b\b\b\n",
      "\n",
      "Epoch 00018: val_loss improved from 0.05389 to 0.04958, saving model to model_checkpoint.h5\n",
      "Epoch 19/150\n",
      "333/333 [==============================] - 0s 141us/step - loss: 0.0498 - val_loss: 0.0456\b\b\b\b\b\b\b\b\b\b\b\b\b\b\b\b\b\b\b\b\b\b\b\b\b\b\b\b\b\b\b\b\b\b\b\b\b\b\b\b\n",
      "\n",
      "Epoch 00019: val_loss improved from 0.04958 to 0.04562, saving model to model_checkpoint.h5\n",
      "Epoch 20/150\n",
      "333/333 [==============================] - 0s 141us/step - loss: 0.0460 - val_loss: 0.0420\b\b\b\b\b\b\b\b\b\b\b\b\b\b\b\b\b\b\b\b\b\b\b\b\b\b\b\b\b\b\b\b\b\b\b\b\b\b\b\b\n",
      "\n",
      "Epoch 00020: val_loss improved from 0.04562 to 0.04201, saving model to model_checkpoint.h5\n",
      "Epoch 21/150\n",
      "333/333 [==============================] - 0s 145us/step - loss: 0.0425 - val_loss: 0.0387\b\b\b\b\b\b\b\b\b\b\b\b\b\b\b\b\b\b\b\b\b\b\b\b\b\b\b\b\b\b\b\b\b\b\b\b\b\b\b\b\n",
      "\n",
      "Epoch 00021: val_loss improved from 0.04201 to 0.03870, saving model to model_checkpoint.h5\n",
      "Epoch 22/150\n",
      "333/333 [==============================] - 0s 71us/step - loss: 0.0393 - val_loss: 0.0357\b\b\b\b\b\b\b\b\b\b\b\b\b\b\b\b\b\b\b\b\b\b\b\b\b\b\b\b\b\b\b\b\b\b\b\b\b\b\b\b\b\n",
      "\n",
      "Epoch 00022: val_loss improved from 0.03870 to 0.03568, saving model to model_checkpoint.h5\n",
      "Epoch 23/150\n",
      "333/333 [==============================] - 0s 94us/step - loss: 0.0363 - val_loss: 0.0330\b\b\b\b\b\b\b\b\b\b\b\b\b\b\b\b\b\b\b\b\b\b\b\b\b\b\b\b\b\b\b\b\b\b\b\b\b\b\b\b\b\n",
      "\n",
      "Epoch 00023: val_loss improved from 0.03568 to 0.03301, saving model to model_checkpoint.h5\n",
      "Epoch 24/150\n",
      "333/333 [==============================] - 0s 141us/step - loss: 0.0337 - val_loss: 0.0307\b\b\b\b\b\b\b\b\b\b\b\b\b\b\b\b\b\b\b\b\b\b\b\b\b\b\b\b\b\b\b\b\b\b\b\b\b\b\b\b\n",
      "\n",
      "Epoch 00024: val_loss improved from 0.03301 to 0.03067, saving model to model_checkpoint.h5\n",
      "Epoch 25/150\n",
      "333/333 [==============================] - 0s 145us/step - loss: 0.0312 - val_loss: 0.0284\b\b\b\b\b\b\b\b\b\b\b\b\b\b\b\b\b\b\b\b\b\b\b\b\b\b\b\b\b\b\b\b\b\b\b\b\b\b\b\b\n",
      "\n",
      "Epoch 00025: val_loss improved from 0.03067 to 0.02835, saving model to model_checkpoint.h5\n",
      "Epoch 26/150\n",
      "333/333 [==============================] - 0s 101us/step - loss: 0.0290 - val_loss: 0.0263\b\b\b\b\b\b\b\b\b\b\b\b\b\b\b\b\b\b\b\b\b\b\b\b\b\b\b\b\b\b\b\b\b\b\b\b\b\b\b\b\n",
      "\n",
      "Epoch 00026: val_loss improved from 0.02835 to 0.02628, saving model to model_checkpoint.h5\n",
      "Epoch 27/150\n",
      "333/333 [==============================] - 0s 94us/step - loss: 0.0270 - val_loss: 0.0243\b\b\b\b\b\b\b\b\b\b\b\b\b\b\b\b\b\b\b\b\b\b\b\b\b\b\b\b\b\b\b\b\b\b\b\b\b\b\b\b\b\n",
      "\n",
      "Epoch 00027: val_loss improved from 0.02628 to 0.02433, saving model to model_checkpoint.h5\n",
      "Epoch 28/150\n",
      "333/333 [==============================] - 0s 141us/step - loss: 0.0251 - val_loss: 0.0226\b\b\b\b\b\b\b\b\b\b\b\b\b\b\b\b\b\b\b\b\b\b\b\b\b\b\b\b\b\b\b\b\b\b\b\b\b\b\b\b\n",
      "\n",
      "Epoch 00028: val_loss improved from 0.02433 to 0.02264, saving model to model_checkpoint.h5\n",
      "Epoch 29/150\n",
      "333/333 [==============================] - 0s 149us/step - loss: 0.0234 - val_loss: 0.0211\b\b\b\b\b\b\b\b\b\b\b\b\b\b\b\b\b\b\b\b\b\b\b\b\b\b\b\b\b\b\b\b\b\b\b\b\b\b\b\b\n",
      "\n",
      "Epoch 00029: val_loss improved from 0.02264 to 0.02111, saving model to model_checkpoint.h5\n",
      "Epoch 30/150\n",
      "333/333 [==============================] - 0s 144us/step - loss: 0.0219 - val_loss: 0.0197\b\b\b\b\b\b\b\b\b\b\b\b\b\b\b\b\b\b\b\b\b\b\b\b\b\b\b\b\b\b\b\b\b\b\b\b\b\b\b\b\n",
      "\n",
      "Epoch 00030: val_loss improved from 0.02111 to 0.01968, saving model to model_checkpoint.h5\n",
      "Epoch 31/150\n",
      "333/333 [==============================] - 0s 94us/step - loss: 0.0205 - val_loss: 0.0184\b\b\b\b\b\b\b\b\b\b\b\b\b\b\b\b\b\b\b\b\b\b\b\b\b\b\b\b\b\b\b\b\b\b\b\b\b\b\b\b\b\n",
      "\n",
      "Epoch 00031: val_loss improved from 0.01968 to 0.01839, saving model to model_checkpoint.h5\n",
      "Epoch 32/150\n",
      "333/333 [==============================] - 0s 141us/step - loss: 0.0193 - val_loss: 0.0172\b\b\b\b\b\b\b\b\b\b\b\b\b\b\b\b\b\b\b\b\b\b\b\b\b\b\b\b\b\b\b\b\b\b\b\b\b\b\b\b\n",
      "\n",
      "Epoch 00032: val_loss improved from 0.01839 to 0.01724, saving model to model_checkpoint.h5\n",
      "Epoch 33/150\n",
      "333/333 [==============================] - 0s 202us/step - loss: 0.0181 - val_loss: 0.0162\b\b\b\b\b\b\b\b\b\b\b\b\b\b\b\b\b\b\b\b\b\b\b\b\b\b\b\b\b\b\b\b\b\b\b\b\b\b\b\b\b\b\b\b\b\b\b\b\b\b\b\b\b\b\b\b\b\b\b\b\b\b\b\b\b\b\b\b\b\b\b\b\b\b\b\b\b\b\b\b\b\b\b\b\b\b\b\b\b\b\b\b\b\b\b\b\b\b\b\b\b\b\b\b\b\n",
      "\n",
      "Epoch 00033: val_loss improved from 0.01724 to 0.01619, saving model to model_checkpoint.h5\n",
      "Epoch 34/150\n",
      "333/333 [==============================] - 0s 107us/step - loss: 0.0171 - val_loss: 0.0153\b\b\b\b\b\b\b\b\b\b\b\b\b\b\b\b\b\b\b\b\b\b\b\b\b\b\b\b\b\b\b\b\b\b\b\b\b\b\b\b\n",
      "\n",
      "Epoch 00034: val_loss improved from 0.01619 to 0.01528, saving model to model_checkpoint.h5\n",
      "Epoch 35/150\n",
      "333/333 [==============================] - 0s 94us/step - loss: 0.0161 - val_loss: 0.0145\b\b\b\b\b\b\b\b\b\b\b\b\b\b\b\b\b\b\b\b\b\b\b\b\b\b\b\b\b\b\b\b\b\b\b\b\b\b\b\b\b\n",
      "\n",
      "Epoch 00035: val_loss improved from 0.01528 to 0.01454, saving model to model_checkpoint.h5\n",
      "Epoch 36/150\n",
      "333/333 [==============================] - 0s 94us/step - loss: 0.0153 - val_loss: 0.0138\b\b\b\b\b\b\b\b\b\b\b\b\b\b\b\b\b\b\b\b\b\b\b\b\b\b\b\b\b\b\b\b\b\b\b\b\b\b\b\b\b\n",
      "\n",
      "Epoch 00036: val_loss improved from 0.01454 to 0.01380, saving model to model_checkpoint.h5\n",
      "Epoch 37/150\n",
      "333/333 [==============================] - 0s 138us/step - loss: 0.0145 - val_loss: 0.0131\b\b\b\b\b\b\b\b\b\b\b\b\b\b\b\b\b\b\b\b\b\b\b\b\b\b\b\b\b\b\b\b\b\b\b\b\b\b\b\b\n",
      "\n",
      "Epoch 00037: val_loss improved from 0.01380 to 0.01312, saving model to model_checkpoint.h5\n",
      "Epoch 38/150\n",
      "333/333 [==============================] - 0s 68us/step - loss: 0.0139 - val_loss: 0.0127\b\b\b\b\b\b\b\b\b\b\b\b\b\b\b\b\b\b\b\b\b\b\b\b\b\b\b\b\b\b\b\b\b\b\b\b\b\b\b\b\b\n",
      "\n",
      "Epoch 00038: val_loss improved from 0.01312 to 0.01265, saving model to model_checkpoint.h5\n",
      "Epoch 39/150\n",
      "333/333 [==============================] - 0s 94us/step - loss: 0.0133 - val_loss: 0.0120\b\b\b\b\b\b\b\b\b\b\b\b\b\b\b\b\b\b\b\b\b\b\b\b\b\b\b\b\b\b\b\b\b\b\b\b\b\b\b\b\b\n",
      "\n",
      "Epoch 00039: val_loss improved from 0.01265 to 0.01196, saving model to model_checkpoint.h5\n",
      "Epoch 40/150\n",
      "333/333 [==============================] - 0s 156us/step - loss: 0.0126 - val_loss: 0.0115\b\b\b\b\b\b\b\b\b\b\b\b\b\b\b\b\b\b\b\b\b\b\b\b\b\b\b\b\b\b\b\b\b\b\b\b\b\b\b\b\n",
      "\n",
      "Epoch 00040: val_loss improved from 0.01196 to 0.01146, saving model to model_checkpoint.h5\n",
      "Epoch 41/150\n",
      "333/333 [==============================] - 0s 72us/step - loss: 0.0121 - val_loss: 0.0112\b\b\b\b\b\b\b\b\b\b\b\b\b\b\b\b\b\b\b\b\b\b\b\b\b\b\b\b\b\b\b\b\b\b\b\b\b\b\b\b\b\n",
      "\n",
      "Epoch 00041: val_loss improved from 0.01146 to 0.01122, saving model to model_checkpoint.h5\n",
      "Epoch 42/150\n",
      "333/333 [==============================] - 0s 94us/step - loss: 0.0117 - val_loss: 0.0109\b\b\b\b\b\b\b\b\b\b\b\b\b\b\b\b\b\b\b\b\b\b\b\b\b\b\b\b\b\b\b\b\b\b\b\b\b\b\b\b\b\n",
      "\n",
      "Epoch 00042: val_loss improved from 0.01122 to 0.01085, saving model to model_checkpoint.h5\n",
      "Epoch 43/150\n",
      "333/333 [==============================] - 0s 94us/step - loss: 0.0112 - val_loss: 0.0104\b\b\b\b\b\b\b\b\b\b\b\b\b\b\b\b\b\b\b\b\b\b\b\b\b\b\b\b\b\b\b\b\b\b\b\b\b\b\b\b\b\n",
      "\n",
      "Epoch 00043: val_loss improved from 0.01085 to 0.01042, saving model to model_checkpoint.h5\n",
      "Epoch 44/150\n",
      "333/333 [==============================] - 0s 138us/step - loss: 0.0108 - val_loss: 0.0100\b\b\b\b\b\b\b\b\b\b\b\b\b\b\b\b\b\b\b\b\b\b\b\b\b\b\b\b\b\b\b\b\b\b\b\b\b\b\b\b\n",
      "\n",
      "Epoch 00044: val_loss improved from 0.01042 to 0.01003, saving model to model_checkpoint.h5\n",
      "Epoch 45/150\n",
      "333/333 [==============================] - 0s 94us/step - loss: 0.0105 - val_loss: 0.0098\b\b\b\b\b\b\b\b\b\b\b\b\b\b\b\b\b\b\b\b\b\b\b\b\b\b\b\b\b\b\b\b\b\b\b\b\b\b\b\b\b\n",
      "\n",
      "Epoch 00045: val_loss improved from 0.01003 to 0.00982, saving model to model_checkpoint.h5\n",
      "Epoch 46/150\n",
      "333/333 [==============================] - 0s 94us/step - loss: 0.0102 - val_loss: 0.0097\b\b\b\b\b\b\b\b\b\b\b\b\b\b\b\b\b\b\b\b\b\b\b\b\b\b\b\b\b\b\b\b\b\b\b\b\b\b\b\b\b\n",
      "\n",
      "Epoch 00046: val_loss improved from 0.00982 to 0.00971, saving model to model_checkpoint.h5\n",
      "Epoch 47/150\n",
      "333/333 [==============================] - 0s 160us/step - loss: 0.0099 - val_loss: 0.0093\b\b\b\b\b\b\b\b\b\b\b\b\b\b\b\b\b\b\b\b\b\b\b\b\b\b\b\b\b\b\b\b\b\b\b\b\b\b\b\b\n",
      "\n",
      "Epoch 00047: val_loss improved from 0.00971 to 0.00926, saving model to model_checkpoint.h5\n",
      "Epoch 48/150\n",
      "333/333 [==============================] - 0s 110us/step - loss: 0.0097 - val_loss: 0.0091\b\b\b\b\b\b\b\b\b\b\b\b\b\b\b\b\b\b\b\b\b\b\b\b\b\b\b\b\b\b\b\b\b\b\b\b\b\b\b\b\n",
      "\n",
      "Epoch 00048: val_loss improved from 0.00926 to 0.00914, saving model to model_checkpoint.h5\n",
      "Epoch 49/150\n",
      "333/333 [==============================] - 0s 94us/step - loss: 0.0094 - val_loss: 0.0089\b\b\b\b\b\b\b\b\b\b\b\b\b\b\b\b\b\b\b\b\b\b\b\b\b\b\b\b\b\b\b\b\b\b\b\b\b\b\b\b\b\n",
      "\n",
      "Epoch 00049: val_loss improved from 0.00914 to 0.00885, saving model to model_checkpoint.h5\n",
      "Epoch 50/150\n",
      "333/333 [==============================] - 0s 94us/step - loss: 0.0092 - val_loss: 0.0087\b\b\b\b\b\b\b\b\b\b\b\b\b\b\b\b\b\b\b\b\b\b\b\b\b\b\b\b\b\b\b\b\b\b\b\b\b\b\b\b\b\n",
      "\n",
      "Epoch 00050: val_loss improved from 0.00885 to 0.00869, saving model to model_checkpoint.h5\n",
      "Epoch 51/150\n",
      "333/333 [==============================] - 0s 141us/step - loss: 0.0091 - val_loss: 0.0086\b\b\b\b\b\b\b\b\b\b\b\b\b\b\b\b\b\b\b\b\b\b\b\b\b\b\b\b\b\b\b\b\b\b\b\b\b\b\b\b\n",
      "\n",
      "Epoch 00051: val_loss improved from 0.00869 to 0.00861, saving model to model_checkpoint.h5\n",
      "Epoch 52/150\n",
      "333/333 [==============================] - 0s 112us/step - loss: 0.0089 - val_loss: 0.0085\b\b\b\b\b\b\b\b\b\b\b\b\b\b\b\b\b\b\b\b\b\b\b\b\b\b\b\b\b\b\b\b\b\b\b\b\b\b\b\b\n",
      "\n",
      "Epoch 00052: val_loss improved from 0.00861 to 0.00850, saving model to model_checkpoint.h5\n",
      "Epoch 53/150\n",
      "333/333 [==============================] - 0s 94us/step - loss: 0.0087 - val_loss: 0.0084\b\b\b\b\b\b\b\b\b\b\b\b\b\b\b\b\b\b\b\b\b\b\b\b\b\b\b\b\b\b\b\b\b\b\b\b\b\b\b\b\b\n",
      "\n",
      "Epoch 00053: val_loss improved from 0.00850 to 0.00841, saving model to model_checkpoint.h5\n",
      "Epoch 54/150\n",
      "333/333 [==============================] - 0s 127us/step - loss: 0.0086 - val_loss: 0.0083\b\b\b\b\b\b\b\b\b\b\b\b\b\b\b\b\b\b\b\b\b\b\b\b\b\b\b\b\b\b\b\b\b\b\b\b\b\b\b\b\n",
      "\n",
      "Epoch 00054: val_loss improved from 0.00841 to 0.00832, saving model to model_checkpoint.h5\n",
      "Epoch 55/150\n",
      "333/333 [==============================] - 0s 114us/step - loss: 0.0085 - val_loss: 0.0083\b\b\b\b\b\b\b\b\b\b\b\b\b\b\b\b\b\b\b\b\b\b\b\b\b\b\b\b\b\b\b\b\b\b\b\b\b\b\b\b\n",
      "\n",
      "Epoch 00055: val_loss improved from 0.00832 to 0.00826, saving model to model_checkpoint.h5\n",
      "Epoch 56/150\n",
      "333/333 [==============================] - 0s 94us/step - loss: 0.0084 - val_loss: 0.0082\b\b\b\b\b\b\b\b\b\b\b\b\b\b\b\b\b\b\b\b\b\b\b\b\b\b\b\b\b\b\b\b\b\b\b\b\b\b\b\b\b\n",
      "\n",
      "Epoch 00056: val_loss improved from 0.00826 to 0.00820, saving model to model_checkpoint.h5\n",
      "Epoch 57/150\n",
      "333/333 [==============================] - 0s 94us/step - loss: 0.0083 - val_loss: 0.0083\b\b\b\b\b\b\b\b\b\b\b\b\b\b\b\b\b\b\b\b\b\b\b\b\b\b\b\b\b\b\b\b\b\b\b\b\b\b\b\b\b\n",
      "\n",
      "Epoch 00057: val_loss did not improve from 0.00820\n",
      "Epoch 58/150\n",
      "333/333 [==============================] - 0s 164us/step - loss: 0.0082 - val_loss: 0.0082\b\b\b\b\b\b\b\b\b\b\b\b\b\b\b\b\b\b\b\b\b\b\b\b\b\b\b\b\b\b\b\b\b\b\b\b\b\b\b\b\n",
      "\n",
      "Epoch 00058: val_loss improved from 0.00820 to 0.00815, saving model to model_checkpoint.h5\n",
      "Epoch 59/150\n",
      "333/333 [==============================] - 0s 75us/step - loss: 0.0081 - val_loss: 0.0080\b\b\b\b\b\b\b\b\b\b\b\b\b\b\b\b\b\b\b\b\b\b\b\b\b\b\b\b\b\b\b\b\b\b\b\b\b\b\b\b\b\n",
      "\n",
      "Epoch 00059: val_loss improved from 0.00815 to 0.00804, saving model to model_checkpoint.h5\n",
      "Epoch 60/150\n",
      "333/333 [==============================] - 0s 94us/step - loss: 0.0081 - val_loss: 0.0078\b\b\b\b\b\b\b\b\b\b\b\b\b\b\b\b\b\b\b\b\b\b\b\b\b\b\b\b\b\b\b\b\b\b\b\b\b\b\b\b\b\n",
      "\n",
      "Epoch 00060: val_loss improved from 0.00804 to 0.00783, saving model to model_checkpoint.h5\n",
      "Epoch 61/150\n",
      "333/333 [==============================] - 0s 94us/step - loss: 0.0080 - val_loss: 0.0079\b\b\b\b\b\b\b\b\b\b\b\b\b\b\b\b\b\b\b\b\b\b\b\b\b\b\b\b\b\b\b\b\b\b\b\b\b\b\b\b\b\n",
      "\n",
      "Epoch 00061: val_loss did not improve from 0.00783\n",
      "Epoch 62/150\n",
      "333/333 [==============================] - 0s 151us/step - loss: 0.0079 - val_loss: 0.0078\b\b\b\b\b\b\b\b\b\b\b\b\b\b\b\b\b\b\b\b\b\b\b\b\b\b\b\b\b\b\b\b\b\b\b\b\b\b\b\b\n",
      "\n",
      "Epoch 00062: val_loss improved from 0.00783 to 0.00782, saving model to model_checkpoint.h5\n",
      "Epoch 63/150\n",
      "333/333 [==============================] - 0s 90us/step - loss: 0.0079 - val_loss: 0.0078\b\b\b\b\b\b\b\b\b\b\b\b\b\b\b\b\b\b\b\b\b\b\b\b\b\b\b\b\b\b\b\b\b\b\b\b\b\b\b\b\b\n",
      "\n",
      "Epoch 00063: val_loss improved from 0.00782 to 0.00776, saving model to model_checkpoint.h5\n",
      "Epoch 64/150\n",
      "333/333 [==============================] - 0s 94us/step - loss: 0.0078 - val_loss: 0.0080\b\b\b\b\b\b\b\b\b\b\b\b\b\b\b\b\b\b\b\b\b\b\b\b\b\b\b\b\b\b\b\b\b\b\b\b\b\b\b\b\b\n",
      "\n",
      "Epoch 00064: val_loss did not improve from 0.00776\n",
      "Epoch 65/150\n",
      "333/333 [==============================] - 0s 94us/step - loss: 0.0078 - val_loss: 0.0078\b\b\b\b\b\b\b\b\b\b\b\b\b\b\b\b\b\b\b\b\b\b\b\b\b\b\b\b\b\b\b\b\b\b\b\b\b\b\b\b\b\n",
      "\n",
      "Epoch 00065: val_loss did not improve from 0.00776\n"
     ]
    }
   ],
   "source": [
    "trained_model,hist = build_model(training=training,validation=validation,temperature_norm=temperature_norm,lag_value=3,nb_epoch=150)"
   ],
   "metadata": {
    "collapsed": false,
    "pycharm": {
     "name": "#%%\n"
    }
   }
  },
  {
   "cell_type": "code",
   "execution_count": 106,
   "outputs": [
    {
     "data": {
      "text/plain": "{'val_loss': [0.19803865022129483,\n  0.18094995551639134,\n  0.16586868895424736,\n  0.15253843400213454,\n  0.14028306702772778,\n  0.1289905935525894,\n  0.11866488920317755,\n  0.10915889259841707,\n  0.10043974667787552,\n  0.09245944635735617,\n  0.08507642067141002,\n  0.07820391886764103,\n  0.07197773026095497,\n  0.06620914737383525,\n  0.06092593901687198,\n  0.056051867620812525,\n  0.05170997124579218,\n  0.04773288675480419,\n  0.04403094127774239,\n  0.040604069994555576],\n 'loss': [0.21320977833893923,\n  0.19503376259281113,\n  0.1786124589027943,\n  0.16413902914201892,\n  0.1508435681238547,\n  0.13878312832242376,\n  0.12768291746889865,\n  0.1175807636600357,\n  0.10821892086181555,\n  0.09942670873514525,\n  0.09104553733144079,\n  0.0835968850924446,\n  0.07693715926047202,\n  0.07083490271647055,\n  0.0652414354699868,\n  0.06021535123611714,\n  0.055576273472280474,\n  0.05128451329362285,\n  0.04730695213104512,\n  0.04370149741838644]}"
     },
     "execution_count": 106,
     "metadata": {},
     "output_type": "execute_result"
    }
   ],
   "source": [
    "# predictions\n",
    "# run the predictor ``warm'' on the trainingset --> before going to do predictions (remember matlab file)\n",
    "# History().history\n",
    "# loss = history.history[\"loss\"]\n",
    "# history.keys()\n",
    "\n",
    "# hist = trained_model[1]"
   ],
   "metadata": {
    "collapsed": false,
    "pycharm": {
     "name": "#%%\n"
    }
   }
  },
  {
   "cell_type": "code",
   "execution_count": 111,
   "outputs": [
    {
     "data": {
      "text/plain": "<Figure size 720x576 with 1 Axes>",
      "image/png": "[encoded data removed]"
     },
     "metadata": {
      "needs_background": "light"
     },
     "output_type": "display_data"
    }
   ],
   "source": [
    "def visualize_loss(history):\n",
    "    loss = history.history[\"loss\"]\n",
    "    val_loss = history.history[\"val_loss\"]\n",
    "    epochs = range(len(loss))\n",
    "    figure_layout(figsize=(10,8),titel=\"Training and Validation Loss\",xlabel=\"Epochs\",ylabel=\"MSE\",grid=False)\n",
    "    plt.plot(epochs, loss, \"b\", label=\"Training loss\")\n",
    "    plt.plot(epochs, val_loss, \"r\", label=\"Validation loss\")\n",
    "    plt.legend()\n",
    "    plt.show()\n",
    "\n",
    "\n",
    "visualize_loss(hist)"
   ],
   "metadata": {
    "collapsed": false,
    "pycharm": {
     "name": "#%%\n"
    }
   }
  }
 ],
 "metadata": {
  "kernelspec": {
   "display_name": "Python 3",
   "language": "python",
   "name": "python3"
  },
  "language_info": {
   "codemirror_mode": {
    "name": "ipython",
    "version": 2
   },
   "file_extension": ".py",
   "mimetype": "text/x-python",
   "name": "python",
   "nbconvert_exporter": "python",
   "pygments_lexer": "ipython2",
   "version": "2.7.6"
  }
 },
 "nbformat": 4,
 "nbformat_minor": 0
}