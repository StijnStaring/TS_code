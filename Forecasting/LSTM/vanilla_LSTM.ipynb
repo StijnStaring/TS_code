{
 "cells": [
  {
   "cell_type": "code",
   "metadata": {
    "collapsed": true,
    "pycharm": {
     "name": "#%%\n"
    }
   },
   "source": [
    "\"\"\"\n",
    "This file is implementing the vanilla LSTM.\n",
    "The test set used are the 31 days of December of a single time-serie of the 261 time-series with measurements of the full year 2017.\n",
    "Missing days are estimated.\n",
    "Naive basemodels that are used are the mean forecast and the MAPE-minimization.\n",
    "Evaluation metrics used: MSE, RMSE, NRMSE, MAE\n",
    "####################################################\n",
    "\n",
    "calculate the MSE on the total test set and for each day of the week.\n",
    "Should normalize history and temperature with min max\n",
    "Rest: weekday, time, holiday use one hot encoder\n",
    "Stack different LSTM blocks --> hidden nodes serve as inputs for next LSTM's\n",
    "Use finally a fully connected layer to generate an output\n",
    "Use different learning rules: adam!!, stochastic gradient descent, Adagrad, Adadelta and RMSProp\n",
    "Adam has parameters: learning rate, momentum and decay\n",
    "play with mini batches\n",
    "\n",
    "Inputs:\n",
    "1. history ok\n",
    "2. temp ok\n",
    "3. day week ok\n",
    "4. time ok\n",
    "5. holiday\n",
    "6. (previous week future lag)\n",
    "7. previous week error history lag --> how good are you following previous week\n",
    "just the difference between the values\n",
    "8. previous weeks load at the same moment in time and the temperatures of these days\n",
    "\"\"\"\n"
   ],
   "execution_count": 2,
   "outputs": [
    {
     "data": {
      "text/plain": "\"\\nThis file is implementing the vanilla LSTM.\\nThe test set used are the 31 days of December of a single time-serie of the 261 time-series with measurements of the full year 2017.\\nMissing days are estimated.\\nNaive basemodels that are used are the mean forecast and the MAPE-minimization.\\nEvaluation metrics used: MSE, RMSE, NRMSE, MAE\\n####################################################\\n\\ncalculate the MSE on the total test set and for each day of the week.\\nShould normalize history and temperature with min max\\nRest: weekday, time, holiday use one hot encoder\\nStack different LSTM blocks --> hidden nodes serve as inputs for next LSTM's\\nUse finally a fully connected layer to generate an output\\nUse different learning rules: adam!!, stochastic gradient descent, Adagrad, Adadelta and RMSProp\\nAdam has parameters: learning rate, momentum and decay\\nplay with mini batches\\n\\nInputs:\\n1. history ok\\n2. temp ok\\n3. day week ok\\n4. time ok\\n5. holiday\\n6. (previous week future lag)\\n7. previous week error history lag --> how good are you following previous week\\njust the difference between the values\\n8. previous weeks load at the same moment in time and the temperatures of these days\\n\""
     },
     "execution_count": 2,
     "metadata": {},
     "output_type": "execute_result"
    }
   ]
  },
  {
   "cell_type": "code",
   "execution_count": 3,
   "outputs": [],
   "source": [
    "import datetime as dt\n",
    "import pandas as pd # pandas\n",
    "import numpy as np\n",
    "from sklearn.preprocessing import MinMaxScaler\n",
    "import matplotlib.pyplot as plt\n",
    "import casadi as ca\n",
    "from Test_basemodel_functions import *\n",
    "\n",
    "plt.rc('axes', linewidth=2)\n",
    "plt.rc('axes', labelsize= 16)\n",
    "plt.rc('axes',titlesize = 18)\n",
    "plt.rc('legend',fontsize=14)\n",
    "plt.rc('xtick', labelsize=16)\n",
    "plt.rc('ytick', labelsize=16)\n",
    "plt.rc('figure',figsize=(10,8))\n"
   ],
   "metadata": {
    "collapsed": false,
    "pycharm": {
     "name": "#%%\n"
    }
   }
  },
  {
   "cell_type": "code",
   "execution_count": 4,
   "outputs": [],
   "source": [
    "# importing the data\n",
    "fullYeardata = pd.read_csv(\"D:\\Onedrive\\Leuven\\Final project\\data\\Forecasting_writtendata\\FullYear.csv\",index_col= \"date\",parse_dates= True)\n",
    "av_temperature = pd.read_csv(\"D:\\Onedrive\\Leuven\\Final project\\data\\weather-avg.csv\",index_col='meter_id')\n",
    "av_temperature = av_temperature.transpose()\n",
    "av_temperature.index = pd.to_datetime(av_temperature.index)"
   ],
   "metadata": {
    "collapsed": false,
    "pycharm": {
     "name": "#%%\n"
    }
   }
  },
  {
   "cell_type": "code",
   "execution_count": 5,
   "outputs": [],
   "source": [
    "name = fullYeardata.columns[0]\n",
    "TS = fullYeardata[name]\n",
    "temperature = av_temperature[name]"
   ],
   "metadata": {
    "collapsed": false,
    "pycharm": {
     "name": "#%%\n"
    }
   }
  },
  {
   "cell_type": "code",
   "execution_count": 6,
   "outputs": [],
   "source": [
    "# subsitute the missing values by prev week < prev day < mean of all the values at that time of the day (rarely used)\n",
    "def substitute_missing_values(TS: pd.Series):\n",
    "    for date in TS.index:\n",
    "        if np.isnan(TS[date]):\n",
    "            prev_week =  date + dt.timedelta(days=-7)\n",
    "            prev_day = date + dt.timedelta(days=-1)\n",
    "            if not np.isnan(TS[prev_week]):\n",
    "                TS[date] = TS[prev_week]\n",
    "\n",
    "            elif not np.isnan(TS[prev_day]):\n",
    "                TS[date] = TS[prev_day]\n",
    "\n",
    "            else:\n",
    "                temp = TS[TS.index.hour == date.hour]\n",
    "                data = temp[temp.index.minute == date.minute]\n",
    "                TS[date] = data.mean()\n",
    "    print(\"amount of missing values: %s. \\n\"%TS.isnull().sum())\n",
    "    return TS"
   ],
   "metadata": {
    "collapsed": false,
    "pycharm": {
     "name": "#%%\n"
    }
   }
  },
  {
   "cell_type": "code",
   "execution_count": 107,
   "outputs": [
    {
     "name": "stdout",
     "output_type": "stream",
     "text": [
      "amount of missing values: 0. \n",
      "\n",
      "amount of missing values: 0. \n",
      "\n"
     ]
    }
   ],
   "source": [
    "# all the training dates are present, dates from the test set can be missing.\n",
    "\n",
    "# normalize the data --> min/max method (when using a single time serie)\n",
    "temperature_norm = norm(temperature)\n",
    "TS_norm = norm(TS)\n",
    "# temp = TS_norm[TS_norm.index.month != 12]\n",
    "# training = temp[temp != 11]\n",
    "# validation = TS_norm[TS_norm.index.month == 11]\n",
    "# test = TS_norm[TS_norm.index.month == 12]\n",
    "# remove from the test set all the days that contain nan values -> only estimate real days\n",
    "training = TS_norm[0:336]\n",
    "validation = TS_norm[336:384]\n",
    "test = TS_norm[384:528]\n",
    "test.dropna(inplace=True)\n",
    "# substitute the missing values\n",
    "training = substitute_missing_values(training)\n",
    "TS_norm_full = substitute_missing_values(TS_norm)"
   ],
   "metadata": {
    "collapsed": false,
    "pycharm": {
     "name": "#%%\n"
    }
   }
  },
  {
   "cell_type": "code",
   "execution_count": 8,
   "outputs": [],
   "source": [
    "def get_av_temp(time_stamp: pd.Timestamp,temperature: pd.Series)-> float:\n",
    "    return temperature[temperature.index.dayofyear == time_stamp.dayofyear]\n",
    "\n",
    "def get_weekday(time_stamp: pd.Timestamp)-> int:\n",
    "    return time_stamp.weekday()\n",
    "\n",
    "def get_daytime(time_stamp: pd.Timestamp):\n",
    "    value = time_stamp.hour*2\n",
    "    if time_stamp.minute == 30:\n",
    "        value = value + 1\n",
    "    return value\n",
    "\n",
    "def is_holiday(time_stamp: pd.Timestamp, holidays: pd.DatetimeIndex)->bool:\n",
    "    return any(time_stamp.dayofyear == holidays.dayofyear)\n",
    "\n",
    "\n",
    "# forecast one time stamp at the time --> for loop to forecast the 48 time stamps\n",
    "def input_output_LSTM(training, temperature_norm, lag_value: int):\n",
    "    holidays = EnglandAndWalesHolidayCalendar().holidays(start=pd.Timestamp('2017-01-01'),end=pd.Timestamp('2017-12-31'))\n",
    "    amount_forecasts = len(training) - lag_value\n",
    "    amount_features = 1+1+7+48+2\n",
    "    X = np.zeros((amount_forecasts,lag_value,amount_features))\n",
    "    y = np.zeros((amount_forecasts,1))\n",
    "\n",
    "    for sample_id in np.arange(0,amount_forecasts):\n",
    "\n",
    "        history = training.values[sample_id:lag_value + sample_id]\n",
    "        y[sample_id] = training.values[lag_value + sample_id]\n",
    "        X[sample_id,:,0] = history\n",
    "        all_time_stamps = training.index[sample_id:lag_value + sample_id]\n",
    "        for lag_value_index in np.arange(0,lag_value): # goes from old to new\n",
    "            time_stamp = all_time_stamps[lag_value_index]\n",
    "\n",
    "            temperature_feed = get_av_temp(time_stamp,temperature_norm)\n",
    "            X[sample_id,lag_value_index,1] = temperature_feed\n",
    "\n",
    "            weekday = np.zeros(7)\n",
    "            day = get_weekday(time_stamp) # 0 - 6\n",
    "            weekday[day] = 1\n",
    "            X[sample_id,lag_value_index,2:9] = weekday\n",
    "\n",
    "            time = np.zeros(48)\n",
    "            time_of_day = get_daytime(time_stamp) # 0 - 47\n",
    "            time[time_of_day] = 1\n",
    "            X[sample_id,lag_value_index,9:57] = time\n",
    "\n",
    "            holiday = np.zeros(2)\n",
    "            hol = is_holiday(time_stamp,holidays) # [no, yes]\n",
    "            if hol:\n",
    "                holiday[1] = 1\n",
    "            else:\n",
    "                holiday[0] = 1\n",
    "            X[sample_id,lag_value_index,57:59] = holiday\n",
    "\n",
    "\n",
    "    return X,y\n"
   ],
   "metadata": {
    "collapsed": false,
    "pycharm": {
     "name": "#%%\n"
    }
   }
  },
  {
   "cell_type": "code",
   "execution_count": 9,
   "outputs": [
    {
     "name": "stderr",
     "output_type": "stream",
     "text": [
      "Using TensorFlow backend.\n",
      "D:\\ProgrammaX100\\Anaconda\\envs\\tensorflow\\lib\\site-packages\\tensorflow\\python\\framework\\dtypes.py:516: FutureWarning: Passing (type, 1) or '1type' as a synonym of type is deprecated; in a future version of numpy, it will be understood as (type, (1,)) / '(1,)type'.\n",
      "  _np_qint8 = np.dtype([(\"qint8\", np.int8, 1)])\n",
      "D:\\ProgrammaX100\\Anaconda\\envs\\tensorflow\\lib\\site-packages\\tensorflow\\python\\framework\\dtypes.py:517: FutureWarning: Passing (type, 1) or '1type' as a synonym of type is deprecated; in a future version of numpy, it will be understood as (type, (1,)) / '(1,)type'.\n",
      "  _np_quint8 = np.dtype([(\"quint8\", np.uint8, 1)])\n",
      "D:\\ProgrammaX100\\Anaconda\\envs\\tensorflow\\lib\\site-packages\\tensorflow\\python\\framework\\dtypes.py:518: FutureWarning: Passing (type, 1) or '1type' as a synonym of type is deprecated; in a future version of numpy, it will be understood as (type, (1,)) / '(1,)type'.\n",
      "  _np_qint16 = np.dtype([(\"qint16\", np.int16, 1)])\n",
      "D:\\ProgrammaX100\\Anaconda\\envs\\tensorflow\\lib\\site-packages\\tensorflow\\python\\framework\\dtypes.py:519: FutureWarning: Passing (type, 1) or '1type' as a synonym of type is deprecated; in a future version of numpy, it will be understood as (type, (1,)) / '(1,)type'.\n",
      "  _np_quint16 = np.dtype([(\"quint16\", np.uint16, 1)])\n",
      "D:\\ProgrammaX100\\Anaconda\\envs\\tensorflow\\lib\\site-packages\\tensorflow\\python\\framework\\dtypes.py:520: FutureWarning: Passing (type, 1) or '1type' as a synonym of type is deprecated; in a future version of numpy, it will be understood as (type, (1,)) / '(1,)type'.\n",
      "  _np_qint32 = np.dtype([(\"qint32\", np.int32, 1)])\n",
      "D:\\ProgrammaX100\\Anaconda\\envs\\tensorflow\\lib\\site-packages\\tensorflow\\python\\framework\\dtypes.py:525: FutureWarning: Passing (type, 1) or '1type' as a synonym of type is deprecated; in a future version of numpy, it will be understood as (type, (1,)) / '(1,)type'.\n",
      "  np_resource = np.dtype([(\"resource\", np.ubyte, 1)])\n",
      "D:\\ProgrammaX100\\Anaconda\\envs\\tensorflow\\lib\\site-packages\\tensorboard\\compat\\tensorflow_stub\\dtypes.py:541: FutureWarning: Passing (type, 1) or '1type' as a synonym of type is deprecated; in a future version of numpy, it will be understood as (type, (1,)) / '(1,)type'.\n",
      "  _np_qint8 = np.dtype([(\"qint8\", np.int8, 1)])\n",
      "D:\\ProgrammaX100\\Anaconda\\envs\\tensorflow\\lib\\site-packages\\tensorboard\\compat\\tensorflow_stub\\dtypes.py:542: FutureWarning: Passing (type, 1) or '1type' as a synonym of type is deprecated; in a future version of numpy, it will be understood as (type, (1,)) / '(1,)type'.\n",
      "  _np_quint8 = np.dtype([(\"quint8\", np.uint8, 1)])\n",
      "D:\\ProgrammaX100\\Anaconda\\envs\\tensorflow\\lib\\site-packages\\tensorboard\\compat\\tensorflow_stub\\dtypes.py:543: FutureWarning: Passing (type, 1) or '1type' as a synonym of type is deprecated; in a future version of numpy, it will be understood as (type, (1,)) / '(1,)type'.\n",
      "  _np_qint16 = np.dtype([(\"qint16\", np.int16, 1)])\n",
      "D:\\ProgrammaX100\\Anaconda\\envs\\tensorflow\\lib\\site-packages\\tensorboard\\compat\\tensorflow_stub\\dtypes.py:544: FutureWarning: Passing (type, 1) or '1type' as a synonym of type is deprecated; in a future version of numpy, it will be understood as (type, (1,)) / '(1,)type'.\n",
      "  _np_quint16 = np.dtype([(\"quint16\", np.uint16, 1)])\n",
      "D:\\ProgrammaX100\\Anaconda\\envs\\tensorflow\\lib\\site-packages\\tensorboard\\compat\\tensorflow_stub\\dtypes.py:545: FutureWarning: Passing (type, 1) or '1type' as a synonym of type is deprecated; in a future version of numpy, it will be understood as (type, (1,)) / '(1,)type'.\n",
      "  _np_qint32 = np.dtype([(\"qint32\", np.int32, 1)])\n",
      "D:\\ProgrammaX100\\Anaconda\\envs\\tensorflow\\lib\\site-packages\\tensorboard\\compat\\tensorflow_stub\\dtypes.py:550: FutureWarning: Passing (type, 1) or '1type' as a synonym of type is deprecated; in a future version of numpy, it will be understood as (type, (1,)) / '(1,)type'.\n",
      "  np_resource = np.dtype([(\"resource\", np.ubyte, 1)])\n"
     ]
    }
   ],
   "source": [
    "from keras.layers import Dense,  LSTM,Embedding\n",
    "from keras.models import Sequential, save_model, load_model\n",
    "from keras import regularizers\n",
    "from keras.callbacks import EarlyStopping,ModelCheckpoint, History\n",
    "\n",
    "path_checkpoint = \"model_checkpoint.h5\"\n",
    "modelckpt_callback = ModelCheckpoint(monitor=\"val_loss\",filepath=path_checkpoint,verbose=1,save_weights_only=True,save_best_only=True)\n",
    "def build_model(training: pd.Series,validation: pd.Series, temperature_norm: pd.Series, lag_value: int,nb_epoch: int = 1, regularization_parameter: float = 0.01,batch_size_para: int = 32,verbose_para: int = 1, save: bool = False):\n",
    "    history = History()\n",
    "    X,y = input_output_LSTM(training, temperature_norm, lag_value)\n",
    "    X_val,y_val = input_output_LSTM(validation, temperature_norm, lag_value)\n",
    "    regularizers.l2(l=regularization_parameter)\n",
    "    model = Sequential()\n",
    "    # no initial state is given --> hidden state are tensors filled with zeros\n",
    "    # dropout=None,recurrent_dropout=None\n",
    "    model.add(LSTM(units=20,activation='tanh',input_shape=(X.shape[1],X.shape[2])))\n",
    "    model.add(Dense(units=20,activation='relu',kernel_regularizer='l2'))\n",
    "    # model.add(Dropout(0.10))\n",
    "    model.add(Dense(units=y.shape[1],activation='relu',kernel_regularizer='l2'))\n",
    "    model.compile(optimizer='adam',loss='mse')\n",
    "    early_stopping_monitor = EarlyStopping(patience=2,restore_best_weights=True)\n",
    "    model.fit(x=X,y=y,epochs=nb_epoch,batch_size=batch_size_para,validation_data=(X_val,y_val),callbacks=[early_stopping_monitor,modelckpt_callback,history],verbose=verbose_para)\n",
    "    # save the trained_model\n",
    "    if save:\n",
    "        file_path = \"./saved_model\"\n",
    "        save_model(model,file_path)\n",
    "\n",
    "    return model,history\n",
    "\n",
    "# model = load_model(filepath, compile = True)"
   ],
   "metadata": {
    "collapsed": false,
    "pycharm": {
     "name": "#%%\n"
    }
   }
  },
  {
   "cell_type": "code",
   "execution_count": 10,
   "outputs": [
    {
     "name": "stdout",
     "output_type": "stream",
     "text": [
      "WARNING:tensorflow:From D:\\ProgrammaX100\\Anaconda\\envs\\tensorflow\\lib\\site-packages\\keras\\backend\\tensorflow_backend.py:422: The name tf.global_variables is deprecated. Please use tf.compat.v1.global_variables instead.\n",
      "\n",
      "Train on 333 samples, validate on 45 samples\n",
      "Epoch 1/150\n",
      "333/333 [==============================] - 1s 2ms/step - loss: 0.2246 - val_loss: 0.2107\b\b\b\b\b\b\b\b\b\b\b\b\b\b\b\b\b\b\b\b\b\b\b\b\b\b\b\b\b\b\b\b\b\b\b\b\b\b\b\b\b\b\n",
      "\n",
      "Epoch 00001: val_loss improved from inf to 0.21070, saving model to model_checkpoint.h5\n",
      "Epoch 2/150\n",
      "333/333 [==============================] - 0s 99us/step - loss: 0.2063 - val_loss: 0.1944\b\b\b\b\b\b\b\b\b\b\b\b\b\b\b\b\b\b\b\b\b\b\b\b\b\b\b\b\b\b\b\b\b\b\b\b\b\b\b\b\b\n",
      "\n",
      "Epoch 00002: val_loss improved from 0.21070 to 0.19445, saving model to model_checkpoint.h5\n",
      "Epoch 3/150\n",
      "333/333 [==============================] - 0s 141us/step - loss: 0.1898 - val_loss: 0.1793\b\b\b\b\b\b\b\b\b\b\b\b\b\b\b\b\b\b\b\b\b\b\b\b\b\b\b\b\b\b\b\b\b\b\b\b\b\b\b\b\n",
      "\n",
      "Epoch 00003: val_loss improved from 0.19445 to 0.17927, saving model to model_checkpoint.h5\n",
      "Epoch 4/150\n",
      "333/333 [==============================] - 0s 141us/step - loss: 0.1747 - val_loss: 0.1655\b\b\b\b\b\b\b\b\b\b\b\b\b\b\b\b\b\b\b\b\b\b\b\b\b\b\b\b\b\b\b\b\b\b\b\b\b\b\b\b\n",
      "\n",
      "Epoch 00004: val_loss improved from 0.17927 to 0.16550, saving model to model_checkpoint.h5\n",
      "Epoch 5/150\n",
      "333/333 [==============================] - 0s 240us/step - loss: 0.1608 - val_loss: 0.1525\b\b\b\b\b\b\b\b\b\b\b\b\b\b\b\b\b\b\b\b\b\b\b\b\b\b\b\b\b\b\b\b\b\b\b\b\b\b\b\b\b\b\b\b\b\b\b\b\b\b\b\b\b\b\b\b\b\b\b\b\b\b\b\b\b\b\b\b\b\b\b\b\b\b\b\b\b\b\b\b\b\b\b\b\b\b\b\b\b\b\b\b\b\b\b\b\b\b\b\b\b\b\b\b\b\n",
      "\n",
      "Epoch 00005: val_loss improved from 0.16550 to 0.15250, saving model to model_checkpoint.h5\n",
      "Epoch 6/150\n",
      "333/333 [==============================] - 0s 174us/step - loss: 0.1481 - val_loss: 0.1406\b\b\b\b\b\b\b\b\b\b\b\b\b\b\b\b\b\b\b\b\b\b\b\b\b\b\b\b\b\b\b\b\b\b\b\b\b\b\b\b\n",
      "\n",
      "Epoch 00006: val_loss improved from 0.15250 to 0.14062, saving model to model_checkpoint.h5\n",
      "Epoch 7/150\n",
      "333/333 [==============================] - 0s 141us/step - loss: 0.1363 - val_loss: 0.1293\b\b\b\b\b\b\b\b\b\b\b\b\b\b\b\b\b\b\b\b\b\b\b\b\b\b\b\b\b\b\b\b\b\b\b\b\b\b\b\b\n",
      "\n",
      "Epoch 00007: val_loss improved from 0.14062 to 0.12934, saving model to model_checkpoint.h5\n",
      "Epoch 8/150\n",
      "333/333 [==============================] - 0s 145us/step - loss: 0.1254 - val_loss: 0.1193\b\b\b\b\b\b\b\b\b\b\b\b\b\b\b\b\b\b\b\b\b\b\b\b\b\b\b\b\b\b\b\b\b\b\b\b\b\b\b\b\n",
      "\n",
      "Epoch 00008: val_loss improved from 0.12934 to 0.11935, saving model to model_checkpoint.h5\n",
      "Epoch 9/150\n",
      "333/333 [==============================] - 0s 94us/step - loss: 0.1154 - val_loss: 0.1098\b\b\b\b\b\b\b\b\b\b\b\b\b\b\b\b\b\b\b\b\b\b\b\b\b\b\b\b\b\b\b\b\b\b\b\b\b\b\b\b\b\n",
      "\n",
      "Epoch 00009: val_loss improved from 0.11935 to 0.10982, saving model to model_checkpoint.h5\n",
      "Epoch 10/150\n",
      "333/333 [==============================] - 0s 94us/step - loss: 0.1062 - val_loss: 0.1011\b\b\b\b\b\b\b\b\b\b\b\b\b\b\b\b\b\b\b\b\b\b\b\b\b\b\b\b\b\b\b\b\b\b\b\b\b\b\b\b\b\n",
      "\n",
      "Epoch 00010: val_loss improved from 0.10982 to 0.10114, saving model to model_checkpoint.h5\n",
      "Epoch 11/150\n",
      "333/333 [==============================] - 0s 94us/step - loss: 0.0978 - val_loss: 0.0931\b\b\b\b\b\b\b\b\b\b\b\b\b\b\b\b\b\b\b\b\b\b\b\b\b\b\b\b\b\b\b\b\b\b\b\b\b\b\b\b\b\n",
      "\n",
      "Epoch 00011: val_loss improved from 0.10114 to 0.09313, saving model to model_checkpoint.h5\n",
      "Epoch 12/150\n",
      "333/333 [==============================] - 0s 159us/step - loss: 0.0900 - val_loss: 0.0856\b\b\b\b\b\b\b\b\b\b\b\b\b\b\b\b\b\b\b\b\b\b\b\b\b\b\b\b\b\b\b\b\b\b\b\b\b\b\b\b\n",
      "\n",
      "Epoch 00012: val_loss improved from 0.09313 to 0.08561, saving model to model_checkpoint.h5\n",
      "Epoch 13/150\n",
      "333/333 [==============================] - 0s 94us/step - loss: 0.0828 - val_loss: 0.0787\b\b\b\b\b\b\b\b\b\b\b\b\b\b\b\b\b\b\b\b\b\b\b\b\b\b\b\b\b\b\b\b\b\b\b\b\b\b\b\b\b\n",
      "\n",
      "Epoch 00013: val_loss improved from 0.08561 to 0.07873, saving model to model_checkpoint.h5\n",
      "Epoch 14/150\n",
      "333/333 [==============================] - 0s 94us/step - loss: 0.0762 - val_loss: 0.0728\b\b\b\b\b\b\b\b\b\b\b\b\b\b\b\b\b\b\b\b\b\b\b\b\b\b\b\b\b\b\b\b\b\b\b\b\b\b\b\b\b\n",
      "\n",
      "Epoch 00014: val_loss improved from 0.07873 to 0.07282, saving model to model_checkpoint.h5\n",
      "Epoch 15/150\n",
      "333/333 [==============================] - 0s 141us/step - loss: 0.0702 - val_loss: 0.0670\b\b\b\b\b\b\b\b\b\b\b\b\b\b\b\b\b\b\b\b\b\b\b\b\b\b\b\b\b\b\b\b\b\b\b\b\b\b\b\b\n",
      "\n",
      "Epoch 00015: val_loss improved from 0.07282 to 0.06696, saving model to model_checkpoint.h5\n",
      "Epoch 16/150\n",
      "333/333 [==============================] - 0s 138us/step - loss: 0.0646 - val_loss: 0.0616\b\b\b\b\b\b\b\b\b\b\b\b\b\b\b\b\b\b\b\b\b\b\b\b\b\b\b\b\b\b\b\b\b\b\b\b\b\b\b\b\n",
      "\n",
      "Epoch 00016: val_loss improved from 0.06696 to 0.06162, saving model to model_checkpoint.h5\n",
      "Epoch 17/150\n",
      "333/333 [==============================] - 0s 141us/step - loss: 0.0595 - val_loss: 0.0567\b\b\b\b\b\b\b\b\b\b\b\b\b\b\b\b\b\b\b\b\b\b\b\b\b\b\b\b\b\b\b\b\b\b\b\b\b\b\b\b\n",
      "\n",
      "Epoch 00017: val_loss improved from 0.06162 to 0.05670, saving model to model_checkpoint.h5\n",
      "Epoch 18/150\n",
      "333/333 [==============================] - 0s 94us/step - loss: 0.0549 - val_loss: 0.0522\b\b\b\b\b\b\b\b\b\b\b\b\b\b\b\b\b\b\b\b\b\b\b\b\b\b\b\b\b\b\b\b\b\b\b\b\b\b\b\b\b\n",
      "\n",
      "Epoch 00018: val_loss improved from 0.05670 to 0.05217, saving model to model_checkpoint.h5\n",
      "Epoch 19/150\n",
      "333/333 [==============================] - 0s 136us/step - loss: 0.0506 - val_loss: 0.0479\b\b\b\b\b\b\b\b\b\b\b\b\b\b\b\b\b\b\b\b\b\b\b\b\b\b\b\b\b\b\b\b\b\b\b\b\b\b\b\b\n",
      "\n",
      "Epoch 00019: val_loss improved from 0.05217 to 0.04795, saving model to model_checkpoint.h5\n",
      "Epoch 20/150\n",
      "333/333 [==============================] - 0s 97us/step - loss: 0.0467 - val_loss: 0.0443\b\b\b\b\b\b\b\b\b\b\b\b\b\b\b\b\b\b\b\b\b\b\b\b\b\b\b\b\b\b\b\b\b\b\b\b\b\b\b\b\b\n",
      "\n",
      "Epoch 00020: val_loss improved from 0.04795 to 0.04427, saving model to model_checkpoint.h5\n",
      "Epoch 21/150\n",
      "333/333 [==============================] - 0s 141us/step - loss: 0.0431 - val_loss: 0.0408\b\b\b\b\b\b\b\b\b\b\b\b\b\b\b\b\b\b\b\b\b\b\b\b\b\b\b\b\b\b\b\b\b\b\b\b\b\b\b\b\n",
      "\n",
      "Epoch 00021: val_loss improved from 0.04427 to 0.04082, saving model to model_checkpoint.h5\n",
      "Epoch 22/150\n",
      "333/333 [==============================] - 0s 94us/step - loss: 0.0398 - val_loss: 0.0378\b\b\b\b\b\b\b\b\b\b\b\b\b\b\b\b\b\b\b\b\b\b\b\b\b\b\b\b\b\b\b\b\b\b\b\b\b\b\b\b\b\n",
      "\n",
      "Epoch 00022: val_loss improved from 0.04082 to 0.03776, saving model to model_checkpoint.h5\n",
      "Epoch 23/150\n",
      "333/333 [==============================] - 0s 145us/step - loss: 0.0368 - val_loss: 0.0349\b\b\b\b\b\b\b\b\b\b\b\b\b\b\b\b\b\b\b\b\b\b\b\b\b\b\b\b\b\b\b\b\b\b\b\b\b\b\b\b\n",
      "\n",
      "Epoch 00023: val_loss improved from 0.03776 to 0.03492, saving model to model_checkpoint.h5\n",
      "Epoch 24/150\n",
      "333/333 [==============================] - 0s 109us/step - loss: 0.0341 - val_loss: 0.0323\b\b\b\b\b\b\b\b\b\b\b\b\b\b\b\b\b\b\b\b\b\b\b\b\b\b\b\b\b\b\b\b\b\b\b\b\b\b\b\b\n",
      "\n",
      "Epoch 00024: val_loss improved from 0.03492 to 0.03229, saving model to model_checkpoint.h5\n",
      "Epoch 25/150\n",
      "333/333 [==============================] - 0s 141us/step - loss: 0.0316 - val_loss: 0.0299\b\b\b\b\b\b\b\b\b\b\b\b\b\b\b\b\b\b\b\b\b\b\b\b\b\b\b\b\b\b\b\b\b\b\b\b\b\b\b\b\n",
      "\n",
      "Epoch 00025: val_loss improved from 0.03229 to 0.02995, saving model to model_checkpoint.h5\n",
      "Epoch 26/150\n",
      "333/333 [==============================] - 0s 94us/step - loss: 0.0293 - val_loss: 0.0277\b\b\b\b\b\b\b\b\b\b\b\b\b\b\b\b\b\b\b\b\b\b\b\b\b\b\b\b\b\b\b\b\b\b\b\b\b\b\b\b\b\n",
      "\n",
      "Epoch 00026: val_loss improved from 0.02995 to 0.02770, saving model to model_checkpoint.h5\n",
      "Epoch 27/150\n",
      "333/333 [==============================] - 0s 156us/step - loss: 0.0273 - val_loss: 0.0257\b\b\b\b\b\b\b\b\b\b\b\b\b\b\b\b\b\b\b\b\b\b\b\b\b\b\b\b\b\b\b\b\b\b\b\b\b\b\b\b\n",
      "\n",
      "Epoch 00027: val_loss improved from 0.02770 to 0.02566, saving model to model_checkpoint.h5\n",
      "Epoch 28/150\n",
      "333/333 [==============================] - 0s 103us/step - loss: 0.0254 - val_loss: 0.0240\b\b\b\b\b\b\b\b\b\b\b\b\b\b\b\b\b\b\b\b\b\b\b\b\b\b\b\b\b\b\b\b\b\b\b\b\b\b\b\b\n",
      "\n",
      "Epoch 00028: val_loss improved from 0.02566 to 0.02396, saving model to model_checkpoint.h5\n",
      "Epoch 29/150\n",
      "333/333 [==============================] - 0s 94us/step - loss: 0.0237 - val_loss: 0.0223\b\b\b\b\b\b\b\b\b\b\b\b\b\b\b\b\b\b\b\b\b\b\b\b\b\b\b\b\b\b\b\b\b\b\b\b\b\b\b\b\b\n",
      "\n",
      "Epoch 00029: val_loss improved from 0.02396 to 0.02227, saving model to model_checkpoint.h5\n",
      "Epoch 30/150\n",
      "333/333 [==============================] - 0s 165us/step - loss: 0.0221 - val_loss: 0.0208\b\b\b\b\b\b\b\b\b\b\b\b\b\b\b\b\b\b\b\b\b\b\b\b\b\b\b\b\b\b\b\b\b\b\b\b\b\b\b\b\n",
      "\n",
      "Epoch 00030: val_loss improved from 0.02227 to 0.02081, saving model to model_checkpoint.h5\n",
      "Epoch 31/150\n",
      "333/333 [==============================] - 0s 92us/step - loss: 0.0207 - val_loss: 0.0195\b\b\b\b\b\b\b\b\b\b\b\b\b\b\b\b\b\b\b\b\b\b\b\b\b\b\b\b\b\b\b\b\b\b\b\b\b\b\b\b\b\n",
      "\n",
      "Epoch 00031: val_loss improved from 0.02081 to 0.01954, saving model to model_checkpoint.h5\n",
      "Epoch 32/150\n",
      "333/333 [==============================] - 0s 141us/step - loss: 0.0194 - val_loss: 0.0183\b\b\b\b\b\b\b\b\b\b\b\b\b\b\b\b\b\b\b\b\b\b\b\b\b\b\b\b\b\b\b\b\b\b\b\b\b\b\b\b\n",
      "\n",
      "Epoch 00032: val_loss improved from 0.01954 to 0.01827, saving model to model_checkpoint.h5\n",
      "Epoch 33/150\n",
      "333/333 [==============================] - 0s 94us/step - loss: 0.0183 - val_loss: 0.0171\b\b\b\b\b\b\b\b\b\b\b\b\b\b\b\b\b\b\b\b\b\b\b\b\b\b\b\b\b\b\b\b\b\b\b\b\b\b\b\b\b\n",
      "\n",
      "Epoch 00033: val_loss improved from 0.01827 to 0.01709, saving model to model_checkpoint.h5\n",
      "Epoch 34/150\n",
      "333/333 [==============================] - 0s 123us/step - loss: 0.0172 - val_loss: 0.0161\b\b\b\b\b\b\b\b\b\b\b\b\b\b\b\b\b\b\b\b\b\b\b\b\b\b\b\b\b\b\b\b\b\b\b\b\b\b\b\b\n",
      "\n",
      "Epoch 00034: val_loss improved from 0.01709 to 0.01612, saving model to model_checkpoint.h5\n",
      "Epoch 35/150\n",
      "333/333 [==============================] - 0s 97us/step - loss: 0.0163 - val_loss: 0.0153\b\b\b\b\b\b\b\b\b\b\b\b\b\b\b\b\b\b\b\b\b\b\b\b\b\b\b\b\b\b\b\b\b\b\b\b\b\b\b\b\b\n",
      "\n",
      "Epoch 00035: val_loss improved from 0.01612 to 0.01531, saving model to model_checkpoint.h5\n",
      "Epoch 36/150\n",
      "333/333 [==============================] - 0s 94us/step - loss: 0.0154 - val_loss: 0.0145\b\b\b\b\b\b\b\b\b\b\b\b\b\b\b\b\b\b\b\b\b\b\b\b\b\b\b\b\b\b\b\b\b\b\b\b\b\b\b\b\b\n",
      "\n",
      "Epoch 00036: val_loss improved from 0.01531 to 0.01445, saving model to model_checkpoint.h5\n",
      "Epoch 37/150\n",
      "333/333 [==============================] - 0s 158us/step - loss: 0.0147 - val_loss: 0.0137\b\b\b\b\b\b\b\b\b\b\b\b\b\b\b\b\b\b\b\b\b\b\b\b\b\b\b\b\b\b\b\b\b\b\b\b\b\b\b\b\n",
      "\n",
      "Epoch 00037: val_loss improved from 0.01445 to 0.01368, saving model to model_checkpoint.h5\n",
      "Epoch 38/150\n",
      "333/333 [==============================] - 0s 78us/step - loss: 0.0140 - val_loss: 0.0132\b\b\b\b\b\b\b\b\b\b\b\b\b\b\b\b\b\b\b\b\b\b\b\b\b\b\b\b\b\b\b\b\b\b\b\b\b\b\b\b\b\n",
      "\n",
      "Epoch 00038: val_loss improved from 0.01368 to 0.01318, saving model to model_checkpoint.h5\n",
      "Epoch 39/150\n",
      "333/333 [==============================] - 0s 94us/step - loss: 0.0133 - val_loss: 0.0125\b\b\b\b\b\b\b\b\b\b\b\b\b\b\b\b\b\b\b\b\b\b\b\b\b\b\b\b\b\b\b\b\b\b\b\b\b\b\b\b\b\n",
      "\n",
      "Epoch 00039: val_loss improved from 0.01318 to 0.01250, saving model to model_checkpoint.h5\n",
      "Epoch 40/150\n",
      "333/333 [==============================] - 0s 141us/step - loss: 0.0127 - val_loss: 0.0122\b\b\b\b\b\b\b\b\b\b\b\b\b\b\b\b\b\b\b\b\b\b\b\b\b\b\b\b\b\b\b\b\b\b\b\b\b\b\b\b\n",
      "\n",
      "Epoch 00040: val_loss improved from 0.01250 to 0.01221, saving model to model_checkpoint.h5\n",
      "Epoch 41/150\n",
      "333/333 [==============================] - 0s 120us/step - loss: 0.0122 - val_loss: 0.0118\b\b\b\b\b\b\b\b\b\b\b\b\b\b\b\b\b\b\b\b\b\b\b\b\b\b\b\b\b\b\b\b\b\b\b\b\b\b\b\b\n",
      "\n",
      "Epoch 00041: val_loss improved from 0.01221 to 0.01184, saving model to model_checkpoint.h5\n",
      "Epoch 42/150\n",
      "333/333 [==============================] - 0s 94us/step - loss: 0.0117 - val_loss: 0.0113\b\b\b\b\b\b\b\b\b\b\b\b\b\b\b\b\b\b\b\b\b\b\b\b\b\b\b\b\b\b\b\b\b\b\b\b\b\b\b\b\b\n",
      "\n",
      "Epoch 00042: val_loss improved from 0.01184 to 0.01132, saving model to model_checkpoint.h5\n",
      "Epoch 43/150\n",
      "333/333 [==============================] - 0s 141us/step - loss: 0.0113 - val_loss: 0.0110\b\b\b\b\b\b\b\b\b\b\b\b\b\b\b\b\b\b\b\b\b\b\b\b\b\b\b\b\b\b\b\b\b\b\b\b\b\b\b\b\n",
      "\n",
      "Epoch 00043: val_loss improved from 0.01132 to 0.01100, saving model to model_checkpoint.h5\n",
      "Epoch 44/150\n",
      "333/333 [==============================] - 0s 185us/step - loss: 0.0109 - val_loss: 0.0106\b\b\b\b\b\b\b\b\b\b\b\b\b\b\b\b\b\b\b\b\b\b\b\b\b\b\b\b\b\b\b\b\b\b\b\b\b\b\b\b\b\b\b\b\b\b\b\b\b\b\b\b\b\b\b\b\b\b\b\b\b\b\b\b\b\b\b\b\b\b\b\b\b\b\b\b\b\b\b\b\b\b\b\b\b\b\b\b\b\b\b\b\b\b\b\b\b\b\b\b\b\b\b\b\b\n",
      "\n",
      "Epoch 00044: val_loss improved from 0.01100 to 0.01065, saving model to model_checkpoint.h5\n",
      "Epoch 45/150\n",
      "333/333 [==============================] - 0s 62us/step - loss: 0.0106 - val_loss: 0.0104\b\b\b\b\b\b\b\b\b\b\b\b\b\b\b\b\b\b\b\b\b\b\b\b\b\b\b\b\b\b\b\b\b\b\b\b\b\b\b\b\b\n",
      "\n",
      "Epoch 00045: val_loss improved from 0.01065 to 0.01040, saving model to model_checkpoint.h5\n",
      "Epoch 46/150\n",
      "333/333 [==============================] - 0s 188us/step - loss: 0.0103 - val_loss: 0.0100\b\b\b\b\b\b\b\b\b\b\b\b\b\b\b\b\b\b\b\b\b\b\b\b\b\b\b\b\b\b\b\b\b\b\b\b\b\b\b\b\n",
      "\n",
      "Epoch 00046: val_loss improved from 0.01040 to 0.01001, saving model to model_checkpoint.h5\n",
      "Epoch 47/150\n",
      "333/333 [==============================] - 0s 182us/step - loss: 0.0100 - val_loss: 0.0101\b\b\b\b\b\b\b\b\b\b\b\b\b\b\b\b\b\b\b\b\b\b\b\b\b\b\b\b\b\b\b\b\b\b\b\b\b\b\b\b\n",
      "\n",
      "Epoch 00047: val_loss did not improve from 0.01001\n",
      "Epoch 48/150\n",
      "333/333 [==============================] - 0s 137us/step - loss: 0.0097 - val_loss: 0.0099\b\b\b\b\b\b\b\b\b\b\b\b\b\b\b\b\b\b\b\b\b\b\b\b\b\b\b\b\b\b\b\b\b\b\b\b\b\b\b\b\n",
      "\n",
      "Epoch 00048: val_loss improved from 0.01001 to 0.00991, saving model to model_checkpoint.h5\n",
      "Epoch 49/150\n",
      "333/333 [==============================] - 0s 94us/step - loss: 0.0095 - val_loss: 0.0095\b\b\b\b\b\b\b\b\b\b\b\b\b\b\b\b\b\b\b\b\b\b\b\b\b\b\b\b\b\b\b\b\b\b\b\b\b\b\b\b\b\n",
      "\n",
      "Epoch 00049: val_loss improved from 0.00991 to 0.00954, saving model to model_checkpoint.h5\n",
      "Epoch 50/150\n",
      "333/333 [==============================] - 0s 245us/step - loss: 0.0093 - val_loss: 0.0093\b\b\b\b\b\b\b\b\b\b\b\b\b\b\b\b\b\b\b\b\b\b\b\b\b\b\b\b\b\b\b\b\b\b\b\b\b\b\b\b\b\b\b\b\b\b\b\b\b\b\b\b\b\b\b\b\b\b\b\b\b\b\b\b\b\b\b\b\b\b\b\b\b\b\b\b\b\b\b\b\b\b\b\b\b\b\b\b\b\b\b\b\b\b\b\b\b\b\b\b\b\b\b\b\b\n",
      "\n",
      "Epoch 00050: val_loss improved from 0.00954 to 0.00931, saving model to model_checkpoint.h5\n",
      "Epoch 51/150\n",
      "333/333 [==============================] - 0s 78us/step - loss: 0.0091 - val_loss: 0.0094\b\b\b\b\b\b\b\b\b\b\b\b\b\b\b\b\b\b\b\b\b\b\b\b\b\b\b\b\b\b\b\b\b\b\b\b\b\b\b\b\b\n",
      "\n",
      "Epoch 00051: val_loss did not improve from 0.00931\n",
      "Epoch 52/150\n",
      "333/333 [==============================] - 0s 94us/step - loss: 0.0089 - val_loss: 0.0093\b\b\b\b\b\b\b\b\b\b\b\b\b\b\b\b\b\b\b\b\b\b\b\b\b\b\b\b\b\b\b\b\b\b\b\b\b\b\b\b\b\n",
      "\n",
      "Epoch 00052: val_loss improved from 0.00931 to 0.00930, saving model to model_checkpoint.h5\n",
      "Epoch 53/150\n",
      "333/333 [==============================] - 0s 94us/step - loss: 0.0088 - val_loss: 0.0091\b\b\b\b\b\b\b\b\b\b\b\b\b\b\b\b\b\b\b\b\b\b\b\b\b\b\b\b\b\b\b\b\b\b\b\b\b\b\b\b\b\n",
      "\n",
      "Epoch 00053: val_loss improved from 0.00930 to 0.00914, saving model to model_checkpoint.h5\n",
      "Epoch 54/150\n",
      "333/333 [==============================] - 0s 134us/step - loss: 0.0086 - val_loss: 0.0089\b\b\b\b\b\b\b\b\b\b\b\b\b\b\b\b\b\b\b\b\b\b\b\b\b\b\b\b\b\b\b\b\b\b\b\b\b\b\b\b\n",
      "\n",
      "Epoch 00054: val_loss improved from 0.00914 to 0.00887, saving model to model_checkpoint.h5\n",
      "Epoch 55/150\n",
      "333/333 [==============================] - 0s 111us/step - loss: 0.0085 - val_loss: 0.0089\b\b\b\b\b\b\b\b\b\b\b\b\b\b\b\b\b\b\b\b\b\b\b\b\b\b\b\b\b\b\b\b\b\b\b\b\b\b\b\b\n",
      "\n",
      "Epoch 00055: val_loss improved from 0.00887 to 0.00887, saving model to model_checkpoint.h5\n",
      "Epoch 56/150\n",
      "333/333 [==============================] - 0s 94us/step - loss: 0.0084 - val_loss: 0.0088\b\b\b\b\b\b\b\b\b\b\b\b\b\b\b\b\b\b\b\b\b\b\b\b\b\b\b\b\b\b\b\b\b\b\b\b\b\b\b\b\b\n",
      "\n",
      "Epoch 00056: val_loss improved from 0.00887 to 0.00882, saving model to model_checkpoint.h5\n",
      "Epoch 57/150\n",
      "333/333 [==============================] - 0s 141us/step - loss: 0.0083 - val_loss: 0.0087\b\b\b\b\b\b\b\b\b\b\b\b\b\b\b\b\b\b\b\b\b\b\b\b\b\b\b\b\b\b\b\b\b\b\b\b\b\b\b\b\n",
      "\n",
      "Epoch 00057: val_loss improved from 0.00882 to 0.00873, saving model to model_checkpoint.h5\n",
      "Epoch 58/150\n",
      "333/333 [==============================] - 0s 123us/step - loss: 0.0082 - val_loss: 0.0088\b\b\b\b\b\b\b\b\b\b\b\b\b\b\b\b\b\b\b\b\b\b\b\b\b\b\b\b\b\b\b\b\b\b\b\b\b\b\b\b\n",
      "\n",
      "Epoch 00058: val_loss did not improve from 0.00873\n",
      "Epoch 59/150\n",
      "333/333 [==============================] - 0s 120us/step - loss: 0.0081 - val_loss: 0.0087\b\b\b\b\b\b\b\b\b\b\b\b\b\b\b\b\b\b\b\b\b\b\b\b\b\b\b\b\b\b\b\b\b\b\b\b\b\b\b\b\n",
      "\n",
      "Epoch 00059: val_loss did not improve from 0.00873\n"
     ]
    }
   ],
   "source": [
    "trained_model,hist = build_model(training=training,validation=validation,temperature_norm=temperature_norm,lag_value=3,nb_epoch=150)"
   ],
   "metadata": {
    "collapsed": false,
    "pycharm": {
     "name": "#%%\n"
    }
   }
  },
  {
   "cell_type": "code",
   "execution_count": 11,
   "outputs": [],
   "source": [
    "# predictions\n",
    "# run the predictor ``warm'' on the trainingset --> before going to do predictions (remember matlab file)\n",
    "# History().history\n",
    "# loss = history.history[\"loss\"]\n",
    "# history.keys()\n",
    "\n",
    "# hist = trained_model[1]"
   ],
   "metadata": {
    "collapsed": false,
    "pycharm": {
     "name": "#%%\n"
    }
   }
  },
  {
   "cell_type": "code",
   "execution_count": 54,
   "outputs": [
    {
     "data": {
      "text/plain": "<Figure size 720x576 with 1 Axes>",
      "image/png": "[encoded data removed]"
     },
     "metadata": {
      "needs_background": "light"
     },
     "output_type": "display_data"
    }
   ],
   "source": [
    "def visualize_loss(history):\n",
    "    loss = history.history[\"loss\"]\n",
    "    val_loss = history.history[\"val_loss\"]\n",
    "    epochs = range(len(loss))\n",
    "    figure_layout(figsize=(10,8),titel=\"Training and Validation Loss\",xlabel=\"Epochs\",ylabel=\"MSE\",grid=False)\n",
    "    plt.plot(epochs, loss, \"b\", label=\"Training loss\")\n",
    "    plt.plot(epochs, val_loss, \"r\", label=\"Validation loss\")\n",
    "    plt.legend()\n",
    "    plt.show()\n",
    "\n",
    "visualize_loss(hist)"
   ],
   "metadata": {
    "collapsed": false,
    "pycharm": {
     "name": "#%%\n"
    }
   }
  },
  {
   "cell_type": "code",
   "execution_count": 55,
   "outputs": [],
   "source": [
    "# trained_model.summary()"
   ],
   "metadata": {
    "collapsed": false,
    "pycharm": {
     "name": "#%%\n"
    }
   }
  },
  {
   "cell_type": "code",
   "execution_count": 112,
   "outputs": [],
   "source": [
    "def daily_prediction(model: Sequential, TS_norm_full: pd.Series, temperature_norm: pd.Series, lag_value: int, daily_time_stamps: pd.DatetimeIndex):\n",
    "    if len(daily_time_stamps) != 48:\n",
    "            raise Exception(\"The test data doesn't equal 48 steps.\")\n",
    "    TS_copy = TS_norm_full.copy(deep= True)\n",
    "    history_predictions = pd.Series(index= daily_time_stamps)\n",
    "    history_reference = pd.Series(index= daily_time_stamps)\n",
    "    for i in np.arange(0,len(daily_time_stamps)):\n",
    "        time_stamp = daily_time_stamps[i]\n",
    "        index_time_stamp = TS_copy.index.get_loc(time_stamp) # want to predict the time_stamp\n",
    "        start = index_time_stamp - lag_value\n",
    "        end = index_time_stamp\n",
    "        history = TS[start:end+1]\n",
    "        prediction_input, reference = input_output_LSTM(history, temperature_norm, lag_value)\n",
    "        y_hat = model.predict(prediction_input)\n",
    "        # integrate the prediction in the TS_copy to be used in the next iterate\n",
    "        TS_copy[time_stamp] = y_hat\n",
    "        history_predictions[i] = y_hat\n",
    "        history_reference[i] = reference\n",
    "\n",
    "    return history_predictions, history_reference\n",
    "\n",
    "# print(time_step_prediction(model = trained_model, TS = TS, temperature_norm= temperature_norm, lag_value= 3, daily_time_stamps= pd.date_range(start=pd.Time)))\n"
   ],
   "metadata": {
    "collapsed": false,
    "pycharm": {
     "name": "#%%\n"
    }
   }
  },
  {
   "cell_type": "code",
   "execution_count": 111,
   "outputs": [],
   "source": [
    "def get_all_days_of_year(serie: pd.Series)->set:\n",
    "    collection = set()\n",
    "    for date in serie.index:\n",
    "        collection.add(date.dayofyear)\n",
    "    return collection"
   ],
   "metadata": {
    "collapsed": false,
    "pycharm": {
     "name": "#%%\n"
    }
   }
  },
  {
   "cell_type": "code",
   "execution_count": 110,
   "outputs": [],
   "source": [
    "def test_set_prediction(model: Sequential, TS_norm_full: pd.Series, temperature_norm: pd.Series, lag_value: int, test_set:pd.Series):\n",
    "    # assumption that the test set has no gaps in the dates is not valid\n",
    "    collection = list(get_all_days_of_year(test_set))\n",
    "    day_int = collection[0]\n",
    "    daily_time_stamps = test_set[test_set.index.dayofyear == day_int].index\n",
    "    (history_predictions, history_reference) = daily_prediction(model, TS_norm_full, temperature_norm, lag_value, daily_time_stamps)\n",
    "    all_predictions = history_predictions\n",
    "    all_references = history_reference\n",
    "\n",
    "    if len(collection) > 1:\n",
    "        for day_int in collection[1:]:\n",
    "            daily_time_stamps = test_set[test_set.index.dayofyear == day_int].index\n",
    "            (history_predictions, history_reference) = daily_prediction(model, TS_norm_full, temperature_norm, lag_value, daily_time_stamps)\n",
    "            print(history_predictions)\n",
    "            all_predictions.append(history_predictions)\n",
    "            all_references.append(history_reference)\n",
    "\n",
    "    return all_predictions, all_references"
   ],
   "metadata": {
    "collapsed": false,
    "pycharm": {
     "name": "#%%\n"
    }
   }
  },
  {
   "cell_type": "code",
   "execution_count": 118,
   "outputs": [
    {
     "name": "stdout",
     "output_type": "stream",
     "text": [
      "date\n",
      "2017-01-10 00:00:00    0.046831\n",
      "2017-01-10 00:30:00    0.033651\n",
      "2017-01-10 01:00:00    0.044027\n",
      "2017-01-10 01:30:00    0.038418\n",
      "2017-01-10 02:00:00    0.038979\n",
      "2017-01-10 02:30:00    0.043746\n",
      "2017-01-10 03:00:00    0.033932\n",
      "2017-01-10 03:30:00    0.045149\n",
      "2017-01-10 04:00:00    0.037016\n",
      "2017-01-10 04:30:00    0.077958\n",
      "2017-01-10 05:00:00    0.049916\n",
      "2017-01-10 05:30:00    0.038979\n",
      "2017-01-10 06:00:00    0.040662\n",
      "2017-01-10 06:30:00    0.043186\n",
      "2017-01-10 07:00:00    0.036175\n",
      "2017-01-10 07:30:00    0.048233\n",
      "2017-01-10 08:00:00    0.031127\n",
      "2017-01-10 08:30:00    0.048514\n",
      "2017-01-10 09:00:00    0.033371\n",
      "2017-01-10 09:30:00    0.088615\n",
      "2017-01-10 10:00:00    0.046270\n",
      "2017-01-10 10:30:00    0.050196\n",
      "2017-01-10 11:00:00    0.040381\n",
      "2017-01-10 11:30:00    0.049635\n",
      "2017-01-10 12:00:00    0.047672\n",
      "2017-01-10 12:30:00    0.057487\n",
      "2017-01-10 13:00:00    0.126472\n",
      "2017-01-10 13:30:00    0.042905\n",
      "2017-01-10 14:00:00    0.060292\n",
      "2017-01-10 14:30:00    0.119181\n",
      "2017-01-10 15:00:00    0.062535\n",
      "2017-01-10 15:30:00    0.194055\n",
      "2017-01-10 16:00:00    0.292204\n",
      "2017-01-10 16:30:00    0.243971\n",
      "2017-01-10 17:00:00    0.404375\n",
      "2017-01-10 17:30:00    0.305945\n",
      "2017-01-10 18:00:00    0.097588\n",
      "2017-01-10 18:30:00    0.323331\n",
      "2017-01-10 19:00:00    0.450365\n",
      "2017-01-10 19:30:00    0.137970\n",
      "2017-01-10 20:00:00    0.356702\n",
      "2017-01-10 20:30:00    0.050477\n",
      "2017-01-10 21:00:00    0.053001\n",
      "2017-01-10 21:30:00    0.053561\n",
      "2017-01-10 22:00:00    0.036736\n",
      "2017-01-10 22:30:00    0.042625\n",
      "2017-01-10 23:00:00    0.038138\n",
      "2017-01-10 23:30:00    0.038699\n",
      "dtype: float64\n"
     ]
    }
   ],
   "source": [
    "print(TS_norm[432:480])"
   ],
   "metadata": {
    "collapsed": false,
    "pycharm": {
     "name": "#%%\n"
    }
   }
  },
  {
   "cell_type": "code",
   "execution_count": 109,
   "outputs": [
    {
     "name": "stderr",
     "output_type": "stream",
     "text": [
      "C:\\Users\\Stijn\\AppData\\Roaming\\Python\\Python37\\site-packages\\ipykernel_launcher.py:5: DeprecationWarning: The default dtype for empty Series will be 'object' instead of 'float64' in a future version. Specify a dtype explicitly to silence this warning.\n",
      "  \"\"\"\n",
      "C:\\Users\\Stijn\\AppData\\Roaming\\Python\\Python37\\site-packages\\ipykernel_launcher.py:6: DeprecationWarning: The default dtype for empty Series will be 'object' instead of 'float64' in a future version. Specify a dtype explicitly to silence this warning.\n",
      "  \n",
      "C:\\Users\\Stijn\\AppData\\Roaming\\Python\\Python37\\site-packages\\ipykernel_launcher.py:5: DeprecationWarning: The default dtype for empty Series will be 'object' instead of 'float64' in a future version. Specify a dtype explicitly to silence this warning.\n",
      "  \"\"\"\n",
      "C:\\Users\\Stijn\\AppData\\Roaming\\Python\\Python37\\site-packages\\ipykernel_launcher.py:6: DeprecationWarning: The default dtype for empty Series will be 'object' instead of 'float64' in a future version. Specify a dtype explicitly to silence this warning.\n",
      "  \n"
     ]
    },
    {
     "name": "stdout",
     "output_type": "stream",
     "text": [
      "date\n",
      "2017-01-11 00:00:00         NaN\n",
      "2017-01-11 00:30:00         NaN\n",
      "2017-01-11 01:00:00         NaN\n",
      "2017-01-11 01:30:00    0.049439\n",
      "2017-01-11 02:00:00    0.049156\n",
      "2017-01-11 02:30:00    0.049507\n",
      "2017-01-11 03:00:00    0.049223\n",
      "2017-01-11 03:30:00    0.051070\n",
      "2017-01-11 04:00:00    0.054907\n",
      "2017-01-11 04:30:00    0.067554\n",
      "2017-01-11 05:00:00    0.067499\n",
      "2017-01-11 05:30:00    0.065647\n",
      "2017-01-11 06:00:00    0.058311\n",
      "2017-01-11 06:30:00    0.058676\n",
      "2017-01-11 07:00:00    0.063269\n",
      "2017-01-11 07:30:00    0.093215\n",
      "2017-01-11 08:00:00    0.112054\n",
      "2017-01-11 08:30:00    0.105178\n",
      "2017-01-11 09:00:00    0.088045\n",
      "2017-01-11 09:30:00    0.074878\n",
      "2017-01-11 10:00:00    0.088451\n",
      "2017-01-11 10:30:00    0.103925\n",
      "2017-01-11 11:00:00    0.114302\n",
      "2017-01-11 11:30:00    0.095784\n",
      "2017-01-11 12:00:00    0.061012\n",
      "2017-01-11 12:30:00    0.061127\n",
      "2017-01-11 13:00:00    0.100282\n",
      "2017-01-11 13:30:00    0.130029\n",
      "2017-01-11 14:00:00    0.139801\n",
      "2017-01-11 14:30:00    0.112206\n",
      "2017-01-11 15:00:00    0.090084\n",
      "2017-01-11 15:30:00    0.119045\n",
      "2017-01-11 16:00:00    0.143586\n",
      "2017-01-11 16:30:00    0.146323\n",
      "2017-01-11 17:00:00    0.163537\n",
      "2017-01-11 17:30:00    0.200683\n",
      "2017-01-11 18:00:00    0.215282\n",
      "2017-01-11 18:30:00    0.222115\n",
      "2017-01-11 19:00:00    0.191424\n",
      "2017-01-11 19:30:00    0.163689\n",
      "2017-01-11 20:00:00    0.156531\n",
      "2017-01-11 20:30:00    0.139035\n",
      "2017-01-11 21:00:00    0.137762\n",
      "2017-01-11 21:30:00    0.109126\n",
      "2017-01-11 22:00:00    0.085284\n",
      "2017-01-11 22:30:00    0.061094\n",
      "2017-01-11 23:00:00    0.050360\n",
      "2017-01-11 23:30:00    0.053520\n",
      "dtype: float64\n",
      "all_predictions: date\n",
      "2017-01-09 00:00:00    0.063984\n",
      "2017-01-09 00:30:00    0.067113\n",
      "2017-01-09 01:00:00    0.071547\n",
      "2017-01-09 01:30:00    0.070599\n",
      "2017-01-09 02:00:00    0.068290\n",
      "2017-01-09 02:30:00    0.067326\n",
      "2017-01-09 03:00:00    0.067180\n",
      "2017-01-09 03:30:00    0.075175\n",
      "2017-01-09 04:00:00    0.078458\n",
      "2017-01-09 04:30:00    0.094030\n",
      "2017-01-09 05:00:00    0.091214\n",
      "2017-01-09 05:30:00    0.090269\n",
      "2017-01-09 06:00:00    0.077874\n",
      "2017-01-09 06:30:00    0.076573\n",
      "2017-01-09 07:00:00    0.075324\n",
      "2017-01-09 07:30:00    0.103749\n",
      "2017-01-09 08:00:00    0.126844\n",
      "2017-01-09 08:30:00    0.122550\n",
      "2017-01-09 09:00:00    0.106323\n",
      "2017-01-09 09:30:00    0.095340\n",
      "2017-01-09 10:00:00    0.110964\n",
      "2017-01-09 10:30:00    0.107488\n",
      "2017-01-09 11:00:00    0.114512\n",
      "2017-01-09 11:30:00    0.092280\n",
      "2017-01-09 12:00:00    0.084443\n",
      "2017-01-09 12:30:00    0.078106\n",
      "2017-01-09 13:00:00    0.098674\n",
      "2017-01-09 13:30:00    0.093801\n",
      "2017-01-09 14:00:00    0.093248\n",
      "2017-01-09 14:30:00    0.103572\n",
      "2017-01-09 15:00:00    0.118972\n",
      "2017-01-09 15:30:00    0.147220\n",
      "2017-01-09 16:00:00    0.165445\n",
      "2017-01-09 16:30:00    0.168982\n",
      "2017-01-09 17:00:00    0.188931\n",
      "2017-01-09 17:30:00    0.194928\n",
      "2017-01-09 18:00:00    0.193654\n",
      "2017-01-09 18:30:00    0.198218\n",
      "2017-01-09 19:00:00    0.224848\n",
      "2017-01-09 19:30:00    0.224044\n",
      "2017-01-09 20:00:00    0.210193\n",
      "2017-01-09 20:30:00    0.162943\n",
      "2017-01-09 21:00:00    0.136067\n",
      "2017-01-09 21:30:00    0.116677\n",
      "2017-01-09 22:00:00    0.098751\n",
      "2017-01-09 22:30:00    0.069875\n",
      "2017-01-09 23:00:00    0.060151\n",
      "2017-01-09 23:30:00    0.070240\n",
      "dtype: float64 \n",
      ".\n",
      "all_references: date\n",
      "2017-01-09 00:00:00    0.183\n",
      "2017-01-09 00:30:00    0.201\n",
      "2017-01-09 01:00:00    0.225\n",
      "2017-01-09 01:30:00    0.221\n",
      "2017-01-09 02:00:00    0.226\n",
      "2017-01-09 02:30:00    0.222\n",
      "2017-01-09 03:00:00    0.323\n",
      "2017-01-09 03:30:00    0.126\n",
      "2017-01-09 04:00:00    0.137\n",
      "2017-01-09 04:30:00    0.108\n",
      "2017-01-09 05:00:00    0.136\n",
      "2017-01-09 05:30:00    0.113\n",
      "2017-01-09 06:00:00    0.123\n",
      "2017-01-09 06:30:00    0.105\n",
      "2017-01-09 07:00:00    0.105\n",
      "2017-01-09 07:30:00    0.111\n",
      "2017-01-09 08:00:00    0.098\n",
      "2017-01-09 08:30:00    0.117\n",
      "2017-01-09 09:00:00    0.106\n",
      "2017-01-09 09:30:00    0.110\n",
      "2017-01-09 10:00:00    0.101\n",
      "2017-01-09 10:30:00    0.118\n",
      "2017-01-09 11:00:00    0.094\n",
      "2017-01-09 11:30:00    0.254\n",
      "2017-01-09 12:00:00    0.133\n",
      "2017-01-09 12:30:00    0.156\n",
      "2017-01-09 13:00:00    0.148\n",
      "2017-01-09 13:30:00    0.153\n",
      "2017-01-09 14:00:00    0.241\n",
      "2017-01-09 14:30:00    0.208\n",
      "2017-01-09 15:00:00    0.199\n",
      "2017-01-09 15:30:00    0.211\n",
      "2017-01-09 16:00:00    0.236\n",
      "2017-01-09 16:30:00    0.138\n",
      "2017-01-09 17:00:00    0.154\n",
      "2017-01-09 17:30:00    0.110\n",
      "2017-01-09 18:00:00    0.159\n",
      "2017-01-09 18:30:00    1.035\n",
      "2017-01-09 19:00:00    0.684\n",
      "2017-01-09 19:30:00    0.376\n",
      "2017-01-09 20:00:00    0.230\n",
      "2017-01-09 20:30:00    0.101\n",
      "2017-01-09 21:00:00    0.133\n",
      "2017-01-09 21:30:00    0.100\n",
      "2017-01-09 22:00:00    0.135\n",
      "2017-01-09 22:30:00    0.098\n",
      "2017-01-09 23:00:00    0.142\n",
      "2017-01-09 23:30:00    0.105\n",
      "dtype: float64 \n",
      ".\n"
     ]
    }
   ],
   "source": [
    "all_predictions, all_references = test_set_prediction(trained_model, TS_norm_full, temperature_norm, 3, test)\n",
    "print(\"all_predictions: %s \\n.\"%all_predictions)\n",
    "print(\"all_references: %s \\n.\"%all_references)"
   ],
   "metadata": {
    "collapsed": false,
    "pycharm": {
     "name": "#%%\n"
    }
   }
  },
  {
   "cell_type": "code",
   "execution_count": 47,
   "outputs": [],
   "source": [
    "def show_forecast(all_predictions, all_references):\n",
    "    axis = figure_layout(figsize=(10,8),titel=\"\",xlabel=\"date\",ylabel=\"\")\n",
    "    labels = [\"True Future\", \"Model Prediction\"]\n",
    "    marker = [\".-\", \".-\"]\n",
    "    time_steps = list(range(-(plot_data[0].shape[0]), 0))\n",
    "    if delta:\n",
    "        future = delta\n",
    "    else:\n",
    "        future = 0\n",
    "\n",
    "    plt.title(title)\n",
    "    for i, val in enumerate(plot_data):\n",
    "        if i:\n",
    "            plt.plot(future, plot_data[i], marker[i], markersize=10, label=labels[i])\n",
    "        else:\n",
    "            plt.plot(time_steps, plot_data[i].flatten(), marker[i], label=labels[i])\n",
    "    plt.legend()\n",
    "    plt.xlim([time_steps[0], (future + 5) * 2])\n",
    "    plt.xlabel(\"Time-Step\")\n",
    "    plt.show()\n",
    "    return\n",
    "\n",
    "\n",
    "for x, y in dataset_val.take(5):\n",
    "    show_plot(\n",
    "        [x[0][:, 1].numpy(), y[0].numpy(), model.predict(x)[0]],\n",
    "        12,\n",
    "        \"Single Step Prediction\",\n",
    "    )\n"
   ],
   "metadata": {
    "collapsed": false,
    "pycharm": {
     "name": "#%%\n"
    }
   }
  },
  {
   "cell_type": "code",
   "execution_count": 88,
   "outputs": [
    {
     "name": "stderr",
     "output_type": "stream",
     "text": [
      "C:\\Users\\Stijn\\AppData\\Roaming\\Python\\Python37\\site-packages\\ipykernel_launcher.py:1: DeprecationWarning: The default dtype for empty Series will be 'object' instead of 'float64' in a future version. Specify a dtype explicitly to silence this warning.\n",
      "  \"\"\"Entry point for launching an IPython kernel.\n",
      "C:\\Users\\Stijn\\AppData\\Roaming\\Python\\Python37\\site-packages\\ipykernel_launcher.py:2: DeprecationWarning: The default dtype for empty Series will be 'object' instead of 'float64' in a future version. Specify a dtype explicitly to silence this warning.\n",
      "  \n"
     ]
    },
    {
     "data": {
      "text/plain": "2017-02-01   NaN\n2017-02-02   NaN\n2017-02-03   NaN\n2017-02-04   NaN\n2017-02-05   NaN\n2017-02-06   NaN\n2017-02-07   NaN\n2017-02-08   NaN\n2017-02-09   NaN\n2017-02-10   NaN\n2017-01-01   NaN\n2017-01-02   NaN\n2017-01-03   NaN\n2017-01-04   NaN\n2017-01-05   NaN\n2017-01-06   NaN\n2017-01-07   NaN\n2017-01-08   NaN\n2017-01-09   NaN\n2017-01-10   NaN\ndtype: float64"
     },
     "execution_count": 88,
     "metadata": {},
     "output_type": "execute_result"
    }
   ],
   "source": [
    "serieA = pd.Series(index= pd.date_range(start= pd.Timestamp(\"2017-02-01\"), end= pd.Timestamp(\"2017-02-10\")), name= \"serieA\")\n",
    "serieB = pd.Series(index= pd.date_range(start= pd.Timestamp(\"2017-01-01\"), end= pd.Timestamp(\"2017-01-10\")), name= \"serieB\")\n",
    "serieA.append(serieB)"
   ],
   "metadata": {
    "collapsed": false,
    "pycharm": {
     "name": "#%%\n"
    }
   }
  }
 ],
 "metadata": {
  "kernelspec": {
   "display_name": "Python 3",
   "language": "python",
   "name": "python3"
  },
  "language_info": {
   "codemirror_mode": {
    "name": "ipython",
    "version": 2
   },
   "file_extension": ".py",
   "mimetype": "text/x-python",
   "name": "python",
   "nbconvert_exporter": "python",
   "pygments_lexer": "ipython2",
   "version": "2.7.6"
  }
 },
 "nbformat": 4,
 "nbformat_minor": 0
}