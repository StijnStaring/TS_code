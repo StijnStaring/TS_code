{
 "cells": [
  {
   "cell_type": "code",
   "execution_count": 1,
   "outputs": [],
   "source": [
    "import datetime as dt\n",
    "import pandas as pd # pandas\n",
    "import numpy as np\n",
    "from sklearn.preprocessing import MinMaxScaler\n",
    "import matplotlib.pyplot as plt\n",
    "\n",
    "plt.rc('axes', linewidth=2)\n",
    "plt.rc('axes', labelsize= 16)\n",
    "plt.rc('axes',titlesize = 18)\n",
    "plt.rc('legend',fontsize=14)\n",
    "plt.rc('xtick', labelsize=16)\n",
    "plt.rc('ytick', labelsize=16)\n",
    "plt.rc('figure',figsize=(10,8))\n",
    "\n",
    "\n",
    "def figure_layout(figsize=(10,8),titel=\"\",xlabel=\"\",ylabel=\"\",fontsize_titel=18,fontsize_axis=16,fontsize_legend=14,fontsize_ticks=16):\n",
    "    plt.figure(figsize=figsize)\n",
    "    ax1 = plt.gca()\n",
    "    plt.rc('legend',fontsize=fontsize_legend)\n",
    "    plt.title(titel, fontsize=fontsize_titel, fontweight = 'bold')\n",
    "    plt.grid(True)\n",
    "    plt.xlabel(xlabel, fontsize=fontsize_axis)\n",
    "    plt.ylabel(ylabel, fontsize=fontsize_axis)\n",
    "    for tick in ax1.xaxis.get_major_ticks():\n",
    "            tick.label1.set_fontsize(fontsize_ticks)\n",
    "    #         tick.label1.set_fontweight('bold')\n",
    "    for tick in ax1.yaxis.get_major_ticks():\n",
    "        tick.label1.set_fontsize(fontsize_ticks)\n",
    "    #     tick.label1.set_fontweight('bold')\n",
    "\n",
    "    return ax1"
   ],
   "metadata": {
    "collapsed": false,
    "pycharm": {
     "name": "#%%\n"
    }
   }
  },
  {
   "cell_type": "code",
   "execution_count": 2,
   "outputs": [],
   "source": [
    "# importing the data and getting the all the meters with full data\n",
    "# consumptionLoad = pd.read_csv(\"D:\\Onedrive\\Leuven\\Final project\\data\\consumption.csv\",index_col = \"meter_id\")"
   ],
   "metadata": {
    "collapsed": false,
    "pycharm": {
     "name": "#%%\n"
    }
   }
  },
  {
   "cell_type": "code",
   "execution_count": 3,
   "outputs": [],
   "source": [
    "# consumptionLoad = consumptionLoad.transpose()\n",
    "# consumptionLoad.info()"
   ],
   "metadata": {
    "collapsed": false,
    "pycharm": {
     "name": "#%%\n"
    }
   }
  },
  {
   "cell_type": "code",
   "execution_count": 4,
   "outputs": [],
   "source": [
    "# consumptionLoad.index = pd.to_datetime(consumptionLoad.index)\n",
    "# consumptionLoad.info()"
   ],
   "metadata": {
    "collapsed": false,
    "pycharm": {
     "name": "#%%\n"
    }
   }
  },
  {
   "cell_type": "code",
   "execution_count": 5,
   "outputs": [],
   "source": [
    "# # Getting the time-series with full year data\n",
    "# data_monthly = consumptionLoad.resample('MS',axis=0).sum()\n",
    "# new_index_months = data_monthly.index.month_name()\n",
    "# data_monthly.set_index(new_index_months,inplace=True)\n",
    "# ### Create an empty dataframe to store the first index of non zero value\n",
    "# first_non_zero_ind = pd.DataFrame(index = ['first_non_zero_row'])\n",
    "#\n",
    "# ### Create empty list to store IDs of TS to remove (because they are full of zeros/NaN only)\n",
    "# ID_NaN = []\n",
    "# ### Loop through the columns and though the indexes of the dataframe\n",
    "# for col_ind in range(len(data_monthly.columns)):\n",
    "#     ID = data_monthly.columns[col_ind]\n",
    "#     for row_ind in range(len(data_monthly.index)):\n",
    "# ### we check for non zero values, but only if a first value has not been selected yet\n",
    "#         if (data_monthly.iloc[[row_ind],[col_ind]].values != 0) and (not ID in first_non_zero_ind.columns):\n",
    "#             first_non_zero_ind.insert(col_ind,ID,[row_ind]) #The value inserted indicates when the data starts\n",
    "# ### in the case of an 'empty' TS, we place a NaN and we save the ID of this TS\n",
    "#         elif ( all(val == 0 for val in data_monthly[[ID]].values) ) and (not ID in first_non_zero_ind.columns):\n",
    "#             first_non_zero_ind.insert(col_ind,ID,np.NaN)\n",
    "#             ID_NaN.append(ID)\n",
    "#\n",
    "# print(\"Meter without data: {}.\".format(ID_NaN))\n",
    "#\n",
    "# meters_with_full_data = first_non_zero_ind.columns[first_non_zero_ind.iloc[0] == 0]\n",
    "# fullYeardata = consumptionLoad[meters_with_full_data]\n",
    "#\n",
    "# # Directly loading in order to save time.\n",
    "# # fullYeardata.to_csv(\"D:\\Onedrive\\Leuven\\Final project\\data\\Forecasting_writtendata\\FullYear.csv\")\n",
    "#"
   ],
   "metadata": {
    "collapsed": false,
    "pycharm": {
     "name": "#%%\n"
    }
   }
  },
  {
   "cell_type": "code",
   "execution_count": 6,
   "outputs": [],
   "source": [
    "# fullYeardata = fullYeardata.fillna(value = 10**5)\n",
    "# fullYeardata.isnull().sum(axis=0)"
   ],
   "metadata": {
    "collapsed": false,
    "pycharm": {
     "name": "#%%\n"
    }
   }
  },
  {
   "cell_type": "code",
   "execution_count": 7,
   "outputs": [],
   "source": [
    "# # Dealing with missing values --> avoiding the introduction of the estimation error by dropping the missing days."
   ],
   "metadata": {
    "collapsed": false,
    "pycharm": {
     "name": "#%%\n"
    }
   }
  },
  {
   "cell_type": "code",
   "execution_count": 8,
   "outputs": [],
   "source": [
    "# # removing the time-series with zero daily consumption\n",
    "# fydc_new_daily = fullYeardata.resample('D',axis=0).sum()\n",
    "# amountZeroDays = dict()\n",
    "#\n",
    "# for col in fydc_new_daily.columns:\n",
    "#     count = 0\n",
    "#     for row in fydc_new_daily.index:\n",
    "#         value = fydc_new_daily.loc[row,col]\n",
    "#         if value == 0:\n",
    "#             count = count + 1\n",
    "#     amountZeroDays[col] = count\n",
    "#"
   ],
   "metadata": {
    "collapsed": false,
    "pycharm": {
     "name": "#%%\n"
    }
   }
  },
  {
   "cell_type": "code",
   "execution_count": 9,
   "outputs": [],
   "source": [
    "# originalLength = fullYeardata.shape[1]\n",
    "# for key in amountZeroDays:\n",
    "#     if amountZeroDays[key] > 0:\n",
    "#         fullYeardata.drop(key,axis=1,inplace=True)\n",
    "#         print(\"Meter that is dropped: %s.\"% key)\n",
    "# newLength = fullYeardata.shape[1]\n",
    "# print(\"Amount of meters original: %s.\\nAfter removal: %s.\"%(originalLength,newLength))"
   ],
   "metadata": {
    "collapsed": false,
    "pycharm": {
     "name": "#%%\n"
    }
   }
  },
  {
   "cell_type": "code",
   "execution_count": 10,
   "outputs": [],
   "source": [
    "# fullYeardata = fullYeardata.replace(to_replace=10**5,value=np.nan)\n",
    "# fullYeardata.to_csv(\"D:\\Onedrive\\Leuven\\Final project\\data\\Forecasting_writtendata\\FullYear.csv\")"
   ],
   "metadata": {
    "collapsed": false,
    "pycharm": {
     "name": "#%%\n"
    }
   }
  },
  {
   "cell_type": "code",
   "execution_count": 11,
   "outputs": [],
   "source": [
    "# Still containing nan values\n",
    "fullYeardata = pd.read_csv(\"D:\\Onedrive\\Leuven\\Final project\\data\\Forecasting_writtendata\\FullYear.csv\",index_col= \"date\",parse_dates= True)"
   ],
   "metadata": {
    "collapsed": false,
    "pycharm": {
     "name": "#%%\n"
    }
   }
  },
  {
   "cell_type": "markdown",
   "source": [
    "### Baseline model: same forecast as same day previous week\n",
    "All the baseline models:\n",
    "1. find most similar consumption in trainingset based on id house, which day, which time, which temperature ok\n",
    "2. previous day ok\n",
    "3. previous week ok\n",
    "4. Mean forecast based on time of day and type of day\n",
    "5. Empirical mape minimization"
   ],
   "metadata": {
    "collapsed": false,
    "pycharm": {
     "name": "#%% md\n"
    }
   }
  },
  {
   "cell_type": "code",
   "execution_count": 12,
   "outputs": [],
   "source": [
    "# drop all the nan values that are in the time-serie\n",
    "name = fullYeardata.columns[0]\n",
    "TS = fullYeardata[name]\n",
    "TS_december = TS[TS.index.month == 12]"
   ],
   "metadata": {
    "collapsed": false,
    "pycharm": {
     "name": "#%%\n"
    }
   }
  },
  {
   "cell_type": "markdown",
   "source": [
    "previous day and week"
   ],
   "metadata": {
    "collapsed": false,
    "pycharm": {
     "name": "#%% md\n"
    }
   }
  },
  {
   "cell_type": "code",
   "execution_count": 13,
   "outputs": [],
   "source": [
    "# The model will not always produce an output --> can be that the previous day is not known\n",
    "def base_model_week_before(test_dates: pd.DatetimeIndex,serie: pd.Series,amount_days:int = 7):\n",
    "    base_forecast = pd.Series(index= test_dates,name= 'base_forecast: ' + str(amount_days) + ' days')\n",
    "    for d in test_dates:\n",
    "        get_date = d + dt.timedelta(days=-amount_days)\n",
    "        forecast = serie.loc[get_date]\n",
    "        base_forecast[d] = forecast\n",
    "\n",
    "    return base_forecast"
   ],
   "metadata": {
    "collapsed": false,
    "pycharm": {
     "name": "#%%\n"
    }
   }
  },
  {
   "cell_type": "code",
   "execution_count": 14,
   "outputs": [
    {
     "name": "stderr",
     "output_type": "stream",
     "text": [
      "C:\\Users\\Stijn\\AppData\\Roaming\\Python\\Python37\\site-packages\\ipykernel_launcher.py:2: DeprecationWarning: The default dtype for empty Series will be 'object' instead of 'float64' in a future version. Specify a dtype explicitly to silence this warning.\n",
      "  \n"
     ]
    }
   ],
   "source": [
    "forecast1 = base_model_week_before(TS_december.index,TS)\n",
    "forecast2 = base_model_week_before(TS_december.index,TS,amount_days=1)\n",
    "# ax1 = figure_layout(figsize=(10,8),titel=\"\",xlabel=\"\",ylabel=\"\",fontsize_titel=18,fontsize_axis=16,fontsize_legend=14,fontsize_ticks=16)\n",
    "# forecast1.plot(ax=ax1,grid=True,lw=3.0)\n",
    "# forecast2.plot(ax=ax1,grid=True,lw=3.0)\n",
    "# plt.show()"
   ],
   "metadata": {
    "collapsed": false,
    "pycharm": {
     "name": "#%%\n"
    }
   }
  },
  {
   "cell_type": "code",
   "execution_count": 15,
   "outputs": [],
   "source": [
    "test_TS = TS_december"
   ],
   "metadata": {
    "collapsed": false,
    "pycharm": {
     "name": "#%%\n"
    }
   }
  },
  {
   "cell_type": "code",
   "execution_count": 16,
   "outputs": [
    {
     "name": "stdout",
     "output_type": "stream",
     "text": [
      "<class 'pandas.core.frame.DataFrame'>\n",
      "DatetimeIndex: 365 entries, 2017-01-01 to 2017-12-31\n",
      "Columns: 3248 entries, 0xa62b9f23553ff183f61e2bf943aab3d5983d02d7 to 0x7b5ab0d98465e18c8efc1969685e814293352a1b\n",
      "dtypes: float64(3248)\n",
      "memory usage: 9.0 MB\n"
     ]
    }
   ],
   "source": [
    "av_temperature = pd.read_csv(\"D:\\Onedrive\\Leuven\\Final project\\data\\weather-avg.csv\",index_col='meter_id')\n",
    "av_temperature = av_temperature.transpose()\n",
    "av_temperature.index = pd.to_datetime(av_temperature.index)\n",
    "av_temperature.info()"
   ],
   "metadata": {
    "collapsed": false,
    "pycharm": {
     "name": "#%%\n"
    }
   }
  },
  {
   "cell_type": "code",
   "execution_count": 17,
   "outputs": [],
   "source": [
    "TS_av_temperature = av_temperature[name]"
   ],
   "metadata": {
    "collapsed": false,
    "pycharm": {
     "name": "#%%\n"
    }
   }
  },
  {
   "cell_type": "code",
   "execution_count": 18,
   "outputs": [],
   "source": [
    "# importing the holidays\n",
    "from pandas.tseries.holiday import (\n",
    "    AbstractHolidayCalendar, DateOffset, EasterMonday,\n",
    "    GoodFriday, Holiday, MO,\n",
    "    next_monday, next_monday_or_tuesday)\n",
    "class EnglandAndWalesHolidayCalendar(AbstractHolidayCalendar):\n",
    "    rules = [\n",
    "        Holiday('New Years Day', month=1, day=1, observance=next_monday),\n",
    "        GoodFriday,\n",
    "        EasterMonday,\n",
    "        Holiday('Early May bank holiday',\n",
    "                month=5, day=1, offset=DateOffset(weekday=MO(1))),\n",
    "        Holiday('Spring bank holiday',\n",
    "                month=5, day=31, offset=DateOffset(weekday=MO(-1))),\n",
    "        Holiday('Summer bank holiday',\n",
    "                month=8, day=31, offset=DateOffset(weekday=MO(-1))),\n",
    "        Holiday('Christmas Day', month=12, day=25, observance=next_monday),\n",
    "        Holiday('Boxing Day',\n",
    "                month=12, day=26, observance=next_monday_or_tuesday)\n",
    "    ]"
   ],
   "metadata": {
    "collapsed": false,
    "pycharm": {
     "name": "#%%\n"
    }
   }
  },
  {
   "cell_type": "markdown",
   "source": [
    "find the corresponding weekday based on kind of day and temperature"
   ],
   "metadata": {
    "collapsed": false,
    "pycharm": {
     "name": "#%% md\n"
    }
   }
  },
  {
   "cell_type": "code",
   "execution_count": 19,
   "outputs": [],
   "source": [
    "# normalization is not really necessary\n",
    "def norm(serie: pd.Series):\n",
    "    values = serie.values\n",
    "    l = len(values)\n",
    "    values = values.reshape((l, 1))\n",
    "    scaler = MinMaxScaler(feature_range=(0, 1))\n",
    "    scaler = scaler.fit(values)\n",
    "    norm_serie = scaler.transform(values)\n",
    "    norm_serie = norm_serie.squeeze()\n",
    "    norm_serie = pd.Series(data=norm_serie,index=serie.index)\n",
    "    return norm_serie\n",
    "\n",
    "def get_closest_day(training_days: pd.DatetimeIndex,temperature: pd.Series,daily_temp:float):\n",
    "    day = abs(temperature[training_days] - daily_temp).idxmin()\n",
    "    return day\n",
    "\n",
    "def find_most_similar_day(test_dates: pd.DatetimeIndex,serie: pd.Series,temperature: pd.Series):\n",
    "    # The assumption is made that the test_dates are one continuous sequence of days\n",
    "    daily_test_dates = pd.date_range(start=test_dates[0],end=test_dates[-1],freq='D')\n",
    "    base_forecast = pd.Series(index= test_dates,name= 'closest_day_forecast')\n",
    "    temperature = norm(temperature)\n",
    "\n",
    "    for day in daily_test_dates:\n",
    "        training_days = pd.date_range(start=pd.Timestamp('2017-01-01'),end=day + dt.timedelta(-1),freq='D')\n",
    "        holidays = EnglandAndWalesHolidayCalendar().holidays(start=pd.Timestamp('2017-01-01'),end=day + dt.timedelta(-1))\n",
    "        training_days = training_days.symmetric_difference(holidays)\n",
    "        day_temp = temperature[temperature.index.dayofyear == day.dayofyear][0]\n",
    "\n",
    "        if day in holidays:\n",
    "            # look for holiday and Sunday (to get more days) --> we know that similarity is highest with Sunday\n",
    "            sundays = training_days[training_days.weekday == 6]\n",
    "            training_days = sundays.union(holidays)\n",
    "            cl_day = get_closest_day(training_days,temperature,day_temp)\n",
    "            forecast = serie[serie.index.dayofyear == cl_day.dayofyear].values\n",
    "            base_forecast[base_forecast.index.dayofyear == day.dayofyear] = forecast\n",
    "\n",
    "        else:\n",
    "            training_days = training_days[training_days.weekday == day.weekday()]\n",
    "            cl_day = get_closest_day(training_days,temperature,day_temp)\n",
    "            forecast = serie[serie.index.dayofyear == cl_day.dayofyear].values\n",
    "            base_forecast[base_forecast.index.dayofyear == day.dayofyear] = forecast\n",
    "\n",
    "    return base_forecast\n"
   ],
   "metadata": {
    "collapsed": false,
    "pycharm": {
     "name": "#%%\n"
    }
   }
  },
  {
   "cell_type": "code",
   "execution_count": 22,
   "outputs": [],
   "source": [
    "# forecast3 = find_most_similar_day(test_TS.index,TS,TS_av_temperature)\n",
    "# ax1 = figure_layout(figsize=(10,8),titel=\"\",xlabel=\"\",ylabel=\"\",fontsize_titel=18,fontsize_axis=16,fontsize_legend=14,fontsize_ticks=16)\n",
    "# forecast3.plot(ax=ax1,grid=True,lw=3.0)\n",
    "# plt.show()\n",
    "\n",
    "# If want to include all the different time-series in a dataframe\n",
    "# df = pd.DataFrame(index=TS_december.index)\n",
    "# df = df.join(forecast1)\n",
    "# df = df.join(forecast2)"
   ],
   "metadata": {
    "collapsed": false,
    "pycharm": {
     "name": "#%%\n"
    }
   }
  },
  {
   "cell_type": "markdown",
   "source": [
    "mean forecast, based on time of day and day type (holiday and which day of the week)"
   ],
   "metadata": {
    "collapsed": false,
    "pycharm": {
     "name": "#%% md\n"
    }
   }
  },
  {
   "cell_type": "code",
   "execution_count": 29,
   "outputs": [],
   "source": [
    "def mean_forecast(test_dates: pd.DatetimeIndex,serie: pd.Series):\n",
    "    # The assumption is made that the test_dates are one continuous sequence of days\n",
    "    daily_test_dates = pd.date_range(start=test_dates[0],end=test_dates[-1],freq='D')\n",
    "    base_forecast = pd.Series(index= test_dates,name= \"mean_forecast\")\n",
    "\n",
    "    for day in daily_test_dates:\n",
    "        training_days = pd.date_range(start=pd.Timestamp('2017-01-01'),end=day + dt.timedelta(-1),freq='D')\n",
    "        holidays = EnglandAndWalesHolidayCalendar().holidays(start=pd.Timestamp('2017-01-01'),end=day + dt.timedelta(-1))\n",
    "        training_days = training_days.symmetric_difference(holidays)\n",
    "        df = pd.DataFrame()\n",
    "\n",
    "        if day in holidays:\n",
    "            #mean holiday\n",
    "            for holiday in holidays:\n",
    "                selected_day = serie[serie.index.dayofyear == holiday.dayofyear].values\n",
    "                df[str(holiday)] = selected_day\n",
    "            df_mean = df.mean(axis=1).values.squeeze()\n",
    "            base_forecast[base_forecast.index.dayofyear == day.dayofyear] = df_mean\n",
    "\n",
    "        else:\n",
    "            #mean weekday\n",
    "            training_days = training_days[training_days.weekday == day.weekday()]\n",
    "            for training_day in training_days:\n",
    "                selected_day = serie[serie.index.dayofyear == training_day.dayofyear].values\n",
    "                df[str(training_day)] = selected_day\n",
    "            df_mean = df.mean(axis=1).values.squeeze()\n",
    "            base_forecast[base_forecast.index.dayofyear == day.dayofyear] = df_mean\n",
    "\n",
    "    return base_forecast"
   ],
   "metadata": {
    "collapsed": false,
    "pycharm": {
     "name": "#%%\n"
    }
   }
  },
  {
   "cell_type": "code",
   "execution_count": 32,
   "outputs": [],
   "source": [
    "# forecast4 = mean_forecast(test_TS.index,TS)\n",
    "# ax1 = figure_layout(figsize=(10,8),titel=\"\",xlabel=\"\",ylabel=\"\",fontsize_titel=18,fontsize_axis=16,fontsize_legend=14,fontsize_ticks=16)\n",
    "# forecast4.plot(ax=ax1,grid=True,lw=3.0)\n",
    "# plt.show()"
   ],
   "metadata": {
    "collapsed": false,
    "pycharm": {
     "name": "#%%\n"
    }
   }
  },
  {
   "cell_type": "markdown",
   "source": [
    "Empirical MAPE minimization\n",
    "To calculate the amount of bins the ‘fd’ (Freedman Diaconis Estimator) is used."
   ],
   "metadata": {
    "collapsed": false,
    "pycharm": {
     "name": "#%% md\n"
    }
   }
  },
  {
   "cell_type": "code",
   "execution_count": 41,
   "outputs": [],
   "source": [
    "# making histogram\n",
    "def histogram(training_serie: pd.Series):\n",
    "    loads = training_serie.values\n",
    "    ax = figure_layout(figsize=(10,8),titel=\"Discretized distribution\",xlabel=\"Load [kWh]\",ylabel=\"Probability [-]\")\n",
    "    ax.grid(axis='y', alpha=0.75)\n",
    "    ax.grid(axis='x', alpha=0.75)\n",
    "    n, bins, patches = plt.hist(x=loads, bins='fd', color='#0504aa', alpha=0.7, rwidth=0.85) #alpha is setting opacity\n",
    "    plt.clf()\n",
    "    return n,bins,patches\n"
   ],
   "metadata": {
    "collapsed": false,
    "pycharm": {
     "name": "#%%\n"
    }
   }
  },
  {
   "cell_type": "code",
   "execution_count": 46,
   "outputs": [],
   "source": [
    "# need to select the time of the day and day type\n",
    "def MAPE_estimator(test_dates: pd.DatetimeIndex,serie: pd.Series):\n",
    "    daily_test_dates = pd.date_range(start=test_dates[0],end=test_dates[-1],freq='D')\n",
    "    base_forecast = pd.Series(index= test_dates,name= 'closest_day_forecast')\n",
    "\n",
    "    for day in daily_test_dates:\n",
    "        training_days = pd.date_range(start=pd.Timestamp('2017-01-01'),end=day + dt.timedelta(-1),freq='D')\n",
    "        holidays = EnglandAndWalesHolidayCalendar().holidays(start=pd.Timestamp('2017-01-01'),end=day + dt.timedelta(-1))\n",
    "        training_days = training_days.symmetric_difference(holidays)\n",
    "        day_temp = temperature[temperature.index.dayofyear == day.dayofyear][0]\n",
    "\n",
    "        if day in holidays:\n",
    "            # look for holiday and Sunday (to get more days) --> we know that similarity is highest with Sunday\n",
    "            sundays = training_days[training_days.weekday == 6]\n",
    "            training_days = sundays.union(holidays)\n",
    "            cl_day = get_closest_day(training_days,temperature,day_temp)\n",
    "            forecast = serie[serie.index.dayofyear == cl_day.dayofyear].values\n",
    "            base_forecast[base_forecast.index.dayofyear == day.dayofyear] = forecast\n",
    "\n",
    "        else:\n",
    "            training_days = training_days[training_days.weekday == day.weekday()]\n",
    "            cl_day = get_closest_day(training_days,temperature,day_temp)\n",
    "            forecast = serie[serie.index.dayofyear == cl_day.dayofyear].values\n",
    "            base_forecast[base_forecast.index.dayofyear == day.dayofyear] = forecast\n",
    "\n",
    "    return base_forecast\n"
   ],
   "metadata": {
    "collapsed": false,
    "pycharm": {
     "name": "#%%\n"
    }
   }
  },
  {
   "cell_type": "code",
   "execution_count": 45,
   "outputs": [
    {
     "data": {
      "text/plain": "array([0.        , 0.01128481, 0.02256962, 0.03385443, 0.04513924,\n       0.05642405, 0.06770886, 0.07899367, 0.09027848, 0.10156329,\n       0.1128481 , 0.12413291, 0.13541772, 0.14670253, 0.15798734,\n       0.16927215, 0.18055696, 0.19184177, 0.20312658, 0.21441139,\n       0.2256962 , 0.23698101, 0.24826582, 0.25955063, 0.27083544,\n       0.28212025, 0.29340506, 0.30468987, 0.31597468, 0.32725949,\n       0.3385443 , 0.34982911, 0.36111392, 0.37239873, 0.38368354,\n       0.39496835, 0.40625316, 0.41753797, 0.42882278, 0.44010759,\n       0.45139241, 0.46267722, 0.47396203, 0.48524684, 0.49653165,\n       0.50781646, 0.51910127, 0.53038608, 0.54167089, 0.5529557 ,\n       0.56424051, 0.57552532, 0.58681013, 0.59809494, 0.60937975,\n       0.62066456, 0.63194937, 0.64323418, 0.65451899, 0.6658038 ,\n       0.67708861, 0.68837342, 0.69965823, 0.71094304, 0.72222785,\n       0.73351266, 0.74479747, 0.75608228, 0.76736709, 0.7786519 ,\n       0.78993671, 0.80122152, 0.81250633, 0.82379114, 0.83507595,\n       0.84636076, 0.85764557, 0.86893038, 0.88021519, 0.8915    ,\n       0.90278481, 0.91406962, 0.92535443, 0.93663924, 0.94792405,\n       0.95920886, 0.97049367, 0.98177848, 0.99306329, 1.0043481 ,\n       1.01563291, 1.02691772, 1.03820253, 1.04948734, 1.06077215,\n       1.07205696, 1.08334177, 1.09462658, 1.10591139, 1.1171962 ,\n       1.12848101, 1.13976582, 1.15105063, 1.16233544, 1.17362025,\n       1.18490506, 1.19618987, 1.20747468, 1.21875949, 1.2300443 ,\n       1.24132911, 1.25261392, 1.26389873, 1.27518354, 1.28646835,\n       1.29775316, 1.30903797, 1.32032278, 1.33160759, 1.34289241,\n       1.35417722, 1.36546203, 1.37674684, 1.38803165, 1.39931646,\n       1.41060127, 1.42188608, 1.43317089, 1.4444557 , 1.45574051,\n       1.46702532, 1.47831013, 1.48959494, 1.50087975, 1.51216456,\n       1.52344937, 1.53473418, 1.54601899, 1.5573038 , 1.56858861,\n       1.57987342, 1.59115823, 1.60244304, 1.61372785, 1.62501266,\n       1.63629747, 1.64758228, 1.65886709, 1.6701519 , 1.68143671,\n       1.69272152, 1.70400633, 1.71529114, 1.72657595, 1.73786076,\n       1.74914557, 1.76043038, 1.77171519, 1.783     , 1.79428481,\n       1.80556962, 1.81685443, 1.82813924, 1.83942405, 1.85070886,\n       1.86199367, 1.87327848, 1.88456329, 1.8958481 , 1.90713291,\n       1.91841772, 1.92970253, 1.94098734, 1.95227215, 1.96355696,\n       1.97484177, 1.98612658, 1.99741139, 2.0086962 , 2.01998101,\n       2.03126582, 2.04255063, 2.05383544, 2.06512025, 2.07640506,\n       2.08768987, 2.09897468, 2.11025949, 2.1215443 , 2.13282911,\n       2.14411392, 2.15539873, 2.16668354, 2.17796835, 2.18925316,\n       2.20053797, 2.21182278, 2.22310759, 2.23439241, 2.24567722,\n       2.25696203, 2.26824684, 2.27953165, 2.29081646, 2.30210127,\n       2.31338608, 2.32467089, 2.3359557 , 2.34724051, 2.35852532,\n       2.36981013, 2.38109494, 2.39237975, 2.40366456, 2.41494937,\n       2.42623418, 2.43751899, 2.4488038 , 2.46008861, 2.47137342,\n       2.48265823, 2.49394304, 2.50522785, 2.51651266, 2.52779747,\n       2.53908228, 2.55036709, 2.5616519 , 2.57293671, 2.58422152,\n       2.59550633, 2.60679114, 2.61807595, 2.62936076, 2.64064557,\n       2.65193038, 2.66321519, 2.6745    , 2.68578481, 2.69706962,\n       2.70835443, 2.71963924, 2.73092405, 2.74220886, 2.75349367,\n       2.76477848, 2.77606329, 2.7873481 , 2.79863291, 2.80991772,\n       2.82120253, 2.83248734, 2.84377215, 2.85505696, 2.86634177,\n       2.87762658, 2.88891139, 2.9001962 , 2.91148101, 2.92276582,\n       2.93405063, 2.94533544, 2.95662025, 2.96790506, 2.97918987,\n       2.99047468, 3.00175949, 3.0130443 , 3.02432911, 3.03561392,\n       3.04689873, 3.05818354, 3.06946835, 3.08075316, 3.09203797,\n       3.10332278, 3.11460759, 3.12589241, 3.13717722, 3.14846203,\n       3.15974684, 3.17103165, 3.18231646, 3.19360127, 3.20488608,\n       3.21617089, 3.2274557 , 3.23874051, 3.25002532, 3.26131013,\n       3.27259494, 3.28387975, 3.29516456, 3.30644937, 3.31773418,\n       3.32901899, 3.3403038 , 3.35158861, 3.36287342, 3.37415823,\n       3.38544304, 3.39672785, 3.40801266, 3.41929747, 3.43058228,\n       3.44186709, 3.4531519 , 3.46443671, 3.47572152, 3.48700633,\n       3.49829114, 3.50957595, 3.52086076, 3.53214557, 3.54343038,\n       3.55471519, 3.566     ])"
     },
     "execution_count": 45,
     "metadata": {},
     "output_type": "execute_result"
    }
   ],
   "source": [
    "def MAPE_optimization():"
   ],
   "metadata": {
    "collapsed": false,
    "pycharm": {
     "name": "#%%\n"
    }
   }
  }
 ],
 "metadata": {
  "kernelspec": {
   "name": "python3",
   "language": "python",
   "display_name": "Python 3"
  },
  "language_info": {
   "codemirror_mode": {
    "name": "ipython",
    "version": 2
   },
   "file_extension": ".py",
   "mimetype": "text/x-python",
   "name": "python",
   "nbconvert_exporter": "python",
   "pygments_lexer": "ipython2",
   "version": "2.7.6"
  }
 },
 "nbformat": 4,
 "nbformat_minor": 0
}