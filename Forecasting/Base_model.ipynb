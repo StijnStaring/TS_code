{
 "cells": [
  {
   "cell_type": "code",
   "execution_count": 2,
   "outputs": [],
   "source": [
    "import datetime as dt\n",
    "import pandas as pd # pandas\n",
    "import numpy as np\n",
    "from sklearn.preprocessing import MinMaxScaler\n",
    "import matplotlib.pyplot as plt\n",
    "import casadi as ca\n",
    "\n",
    "plt.rc('axes', linewidth=2)\n",
    "plt.rc('axes', labelsize= 16)\n",
    "plt.rc('axes',titlesize = 18)\n",
    "plt.rc('legend',fontsize=14)\n",
    "plt.rc('xtick', labelsize=16)\n",
    "plt.rc('ytick', labelsize=16)\n",
    "plt.rc('figure',figsize=(10,8))\n",
    "\n",
    "\n",
    "def figure_layout(figsize=(10,8),titel=\"\",xlabel=\"\",ylabel=\"\",fontsize_titel=18,fontsize_axis=16,fontsize_legend=14,fontsize_ticks=16):\n",
    "    plt.figure(figsize=figsize)\n",
    "    ax1 = plt.gca()\n",
    "    plt.rc('legend',fontsize=fontsize_legend)\n",
    "    plt.title(titel, fontsize=fontsize_titel, fontweight = 'bold')\n",
    "    plt.grid(True)\n",
    "    plt.xlabel(xlabel, fontsize=fontsize_axis)\n",
    "    plt.ylabel(ylabel, fontsize=fontsize_axis)\n",
    "    for tick in ax1.xaxis.get_major_ticks():\n",
    "            tick.label1.set_fontsize(fontsize_ticks)\n",
    "    #         tick.label1.set_fontweight('bold')\n",
    "    for tick in ax1.yaxis.get_major_ticks():\n",
    "        tick.label1.set_fontsize(fontsize_ticks)\n",
    "    #     tick.label1.set_fontweight('bold')\n",
    "\n",
    "    return ax1"
   ],
   "metadata": {
    "collapsed": false,
    "pycharm": {
     "name": "#%%\n"
    }
   }
  },
  {
   "cell_type": "code",
   "execution_count": 3,
   "outputs": [],
   "source": [
    "# importing the data and getting the all the meters with full data\n",
    "# consumptionLoad = pd.read_csv(\"D:\\Onedrive\\Leuven\\Final project\\data\\consumption.csv\",index_col = \"meter_id\")"
   ],
   "metadata": {
    "collapsed": false,
    "pycharm": {
     "name": "#%%\n"
    }
   }
  },
  {
   "cell_type": "code",
   "execution_count": 4,
   "outputs": [],
   "source": [
    "# consumptionLoad = consumptionLoad.transpose()\n",
    "# consumptionLoad.info()"
   ],
   "metadata": {
    "collapsed": false,
    "pycharm": {
     "name": "#%%\n"
    }
   }
  },
  {
   "cell_type": "code",
   "execution_count": 5,
   "outputs": [],
   "source": [
    "# consumptionLoad.index = pd.to_datetime(consumptionLoad.index)\n",
    "# consumptionLoad.info()"
   ],
   "metadata": {
    "collapsed": false,
    "pycharm": {
     "name": "#%%\n"
    }
   }
  },
  {
   "cell_type": "code",
   "execution_count": 6,
   "outputs": [],
   "source": [
    "# # Getting the time-series with full year data\n",
    "# data_monthly = consumptionLoad.resample('MS',axis=0).sum()\n",
    "# new_index_months = data_monthly.index.month_name()\n",
    "# data_monthly.set_index(new_index_months,inplace=True)\n",
    "# ### Create an empty dataframe to store the first index of non zero value\n",
    "# first_non_zero_ind = pd.DataFrame(index = ['first_non_zero_row'])\n",
    "#\n",
    "# ### Create empty list to store IDs of TS to remove (because they are full of zeros/NaN only)\n",
    "# ID_NaN = []\n",
    "# ### Loop through the columns and though the indexes of the dataframe\n",
    "# for col_ind in range(len(data_monthly.columns)):\n",
    "#     ID = data_monthly.columns[col_ind]\n",
    "#     for row_ind in range(len(data_monthly.index)):\n",
    "# ### we check for non zero values, but only if a first value has not been selected yet\n",
    "#         if (data_monthly.iloc[[row_ind],[col_ind]].values != 0) and (not ID in first_non_zero_ind.columns):\n",
    "#             first_non_zero_ind.insert(col_ind,ID,[row_ind]) #The value inserted indicates when the data starts\n",
    "# ### in the case of an 'empty' TS, we place a NaN and we save the ID of this TS\n",
    "#         elif ( all(val == 0 for val in data_monthly[[ID]].values) ) and (not ID in first_non_zero_ind.columns):\n",
    "#             first_non_zero_ind.insert(col_ind,ID,np.NaN)\n",
    "#             ID_NaN.append(ID)\n",
    "#\n",
    "# print(\"Meter without data: {}.\".format(ID_NaN))\n",
    "#\n",
    "# meters_with_full_data = first_non_zero_ind.columns[first_non_zero_ind.iloc[0] == 0]\n",
    "# fullYeardata = consumptionLoad[meters_with_full_data]\n",
    "#\n",
    "# # Directly loading in order to save time.\n",
    "# # fullYeardata.to_csv(\"D:\\Onedrive\\Leuven\\Final project\\data\\Forecasting_writtendata\\FullYear.csv\")\n",
    "#"
   ],
   "metadata": {
    "collapsed": false,
    "pycharm": {
     "name": "#%%\n"
    }
   }
  },
  {
   "cell_type": "code",
   "execution_count": 7,
   "outputs": [],
   "source": [
    "# fullYeardata = fullYeardata.fillna(value = 10**5)\n",
    "# fullYeardata.isnull().sum(axis=0)"
   ],
   "metadata": {
    "collapsed": false,
    "pycharm": {
     "name": "#%%\n"
    }
   }
  },
  {
   "cell_type": "code",
   "execution_count": 8,
   "outputs": [],
   "source": [
    "# # Dealing with missing values --> avoiding the introduction of the estimation error by dropping the missing days."
   ],
   "metadata": {
    "collapsed": false,
    "pycharm": {
     "name": "#%%\n"
    }
   }
  },
  {
   "cell_type": "code",
   "execution_count": 9,
   "outputs": [],
   "source": [
    "# # removing the time-series with zero daily consumption\n",
    "# fydc_new_daily = fullYeardata.resample('D',axis=0).sum()\n",
    "# amountZeroDays = dict()\n",
    "#\n",
    "# for col in fydc_new_daily.columns:\n",
    "#     count = 0\n",
    "#     for row in fydc_new_daily.index:\n",
    "#         value = fydc_new_daily.loc[row,col]\n",
    "#         if value == 0:\n",
    "#             count = count + 1\n",
    "#     amountZeroDays[col] = count\n",
    "#"
   ],
   "metadata": {
    "collapsed": false,
    "pycharm": {
     "name": "#%%\n"
    }
   }
  },
  {
   "cell_type": "code",
   "execution_count": 10,
   "outputs": [],
   "source": [
    "# originalLength = fullYeardata.shape[1]\n",
    "# for key in amountZeroDays:\n",
    "#     if amountZeroDays[key] > 0:\n",
    "#         fullYeardata.drop(key,axis=1,inplace=True)\n",
    "#         print(\"Meter that is dropped: %s.\"% key)\n",
    "# newLength = fullYeardata.shape[1]\n",
    "# print(\"Amount of meters original: %s.\\nAfter removal: %s.\"%(originalLength,newLength))"
   ],
   "metadata": {
    "collapsed": false,
    "pycharm": {
     "name": "#%%\n"
    }
   }
  },
  {
   "cell_type": "code",
   "execution_count": 11,
   "outputs": [],
   "source": [
    "# fullYeardata = fullYeardata.replace(to_replace=10**5,value=np.nan)\n",
    "# fullYeardata.to_csv(\"D:\\Onedrive\\Leuven\\Final project\\data\\Forecasting_writtendata\\FullYear.csv\")"
   ],
   "metadata": {
    "collapsed": false,
    "pycharm": {
     "name": "#%%\n"
    }
   }
  },
  {
   "cell_type": "code",
   "execution_count": 12,
   "outputs": [],
   "source": [
    "# Still containing nan values\n",
    "fullYeardata = pd.read_csv(\"D:\\Onedrive\\Leuven\\Final project\\data\\Forecasting_writtendata\\FullYear.csv\",index_col= \"date\",parse_dates= True)"
   ],
   "metadata": {
    "collapsed": false,
    "pycharm": {
     "name": "#%%\n"
    }
   }
  },
  {
   "cell_type": "markdown",
   "source": [
    "### Baseline model: same forecast as same day previous week\n",
    "All the baseline models:\n",
    "1. find most similar consumption in trainingset based on id house, which day, which time, which temperature ok\n",
    "2. previous day ok\n",
    "3. previous week ok\n",
    "4. Mean forecast based on time of day and type of day\n",
    "5. Empirical mape minimization"
   ],
   "metadata": {
    "collapsed": false,
    "pycharm": {
     "name": "#%% md\n"
    }
   }
  },
  {
   "cell_type": "code",
   "execution_count": 13,
   "outputs": [],
   "source": [
    "# drop all the nan values that are in the time-serie\n",
    "name = fullYeardata.columns[0]\n",
    "TS = fullYeardata[name]\n",
    "TS_december = TS[TS.index.month == 12]"
   ],
   "metadata": {
    "collapsed": false,
    "pycharm": {
     "name": "#%%\n"
    }
   }
  },
  {
   "cell_type": "markdown",
   "source": [
    "previous day and week"
   ],
   "metadata": {
    "collapsed": false,
    "pycharm": {
     "name": "#%% md\n"
    }
   }
  },
  {
   "cell_type": "code",
   "execution_count": 14,
   "outputs": [],
   "source": [
    "# The model will not always produce an output --> can be that the previous day is not known\n",
    "def base_model_week_before(test_dates: pd.DatetimeIndex,serie: pd.Series,amount_days:int = 7):\n",
    "    base_forecast = pd.Series(index= test_dates,name= 'base_forecast: ' + str(amount_days) + ' days')\n",
    "    for d in test_dates:\n",
    "        get_date = d + dt.timedelta(days=-amount_days)\n",
    "        forecast = serie.loc[get_date]\n",
    "        base_forecast[d] = forecast\n",
    "\n",
    "    return base_forecast"
   ],
   "metadata": {
    "collapsed": false,
    "pycharm": {
     "name": "#%%\n"
    }
   }
  },
  {
   "cell_type": "code",
   "execution_count": 15,
   "outputs": [
    {
     "name": "stderr",
     "output_type": "stream",
     "text": [
      "C:\\Users\\Stijn\\AppData\\Roaming\\Python\\Python37\\site-packages\\ipykernel_launcher.py:3: DeprecationWarning: The default dtype for empty Series will be 'object' instead of 'float64' in a future version. Specify a dtype explicitly to silence this warning.\n",
      "  This is separate from the ipykernel package so we can avoid doing imports until\n"
     ]
    }
   ],
   "source": [
    "forecast1 = base_model_week_before(TS_december.index,TS)\n",
    "forecast2 = base_model_week_before(TS_december.index,TS,amount_days=1)\n",
    "# ax1 = figure_layout(figsize=(10,8),titel=\"\",xlabel=\"\",ylabel=\"\",fontsize_titel=18,fontsize_axis=16,fontsize_legend=14,fontsize_ticks=16)\n",
    "# forecast1.plot(ax=ax1,grid=True,lw=3.0)\n",
    "# forecast2.plot(ax=ax1,grid=True,lw=3.0)\n",
    "# plt.show()"
   ],
   "metadata": {
    "collapsed": false,
    "pycharm": {
     "name": "#%%\n"
    }
   }
  },
  {
   "cell_type": "code",
   "execution_count": 16,
   "outputs": [],
   "source": [
    "test_TS = TS_december"
   ],
   "metadata": {
    "collapsed": false,
    "pycharm": {
     "name": "#%%\n"
    }
   }
  },
  {
   "cell_type": "code",
   "execution_count": 17,
   "outputs": [
    {
     "name": "stdout",
     "output_type": "stream",
     "text": [
      "<class 'pandas.core.frame.DataFrame'>\n",
      "DatetimeIndex: 365 entries, 2017-01-01 to 2017-12-31\n",
      "Columns: 3248 entries, 0xa62b9f23553ff183f61e2bf943aab3d5983d02d7 to 0x7b5ab0d98465e18c8efc1969685e814293352a1b\n",
      "dtypes: float64(3248)\n",
      "memory usage: 9.0 MB\n"
     ]
    }
   ],
   "source": [
    "av_temperature = pd.read_csv(\"D:\\Onedrive\\Leuven\\Final project\\data\\weather-avg.csv\",index_col='meter_id')\n",
    "av_temperature = av_temperature.transpose()\n",
    "av_temperature.index = pd.to_datetime(av_temperature.index)\n",
    "av_temperature.info()"
   ],
   "metadata": {
    "collapsed": false,
    "pycharm": {
     "name": "#%%\n"
    }
   }
  },
  {
   "cell_type": "code",
   "execution_count": 18,
   "outputs": [],
   "source": [
    "TS_av_temperature = av_temperature[name]"
   ],
   "metadata": {
    "collapsed": false,
    "pycharm": {
     "name": "#%%\n"
    }
   }
  },
  {
   "cell_type": "code",
   "execution_count": 19,
   "outputs": [],
   "source": [
    "# importing the holidays\n",
    "from pandas.tseries.holiday import (\n",
    "    AbstractHolidayCalendar, DateOffset, EasterMonday,\n",
    "    GoodFriday, Holiday, MO,\n",
    "    next_monday, next_monday_or_tuesday)\n",
    "class EnglandAndWalesHolidayCalendar(AbstractHolidayCalendar):\n",
    "    rules = [\n",
    "        Holiday('New Years Day', month=1, day=1, observance=next_monday),\n",
    "        GoodFriday,\n",
    "        EasterMonday,\n",
    "        Holiday('Early May bank holiday',\n",
    "                month=5, day=1, offset=DateOffset(weekday=MO(1))),\n",
    "        Holiday('Spring bank holiday',\n",
    "                month=5, day=31, offset=DateOffset(weekday=MO(-1))),\n",
    "        Holiday('Summer bank holiday',\n",
    "                month=8, day=31, offset=DateOffset(weekday=MO(-1))),\n",
    "        Holiday('Christmas Day', month=12, day=25, observance=next_monday),\n",
    "        Holiday('Boxing Day',\n",
    "                month=12, day=26, observance=next_monday_or_tuesday)\n",
    "    ]"
   ],
   "metadata": {
    "collapsed": false,
    "pycharm": {
     "name": "#%%\n"
    }
   }
  },
  {
   "cell_type": "markdown",
   "source": [
    "find the corresponding weekday based on kind of day and temperature"
   ],
   "metadata": {
    "collapsed": false,
    "pycharm": {
     "name": "#%% md\n"
    }
   }
  },
  {
   "cell_type": "code",
   "execution_count": 20,
   "outputs": [],
   "source": [
    "# normalization is not really necessary\n",
    "def norm(serie: pd.Series):\n",
    "    values = serie.values\n",
    "    l = len(values)\n",
    "    values = values.reshape((l, 1))\n",
    "    scaler = MinMaxScaler(feature_range=(0, 1))\n",
    "    scaler = scaler.fit(values)\n",
    "    norm_serie = scaler.transform(values)\n",
    "    norm_serie = norm_serie.squeeze()\n",
    "    norm_serie = pd.Series(data=norm_serie,index=serie.index)\n",
    "    return norm_serie\n",
    "\n",
    "def get_closest_day(training_days: pd.DatetimeIndex,temperature: pd.Series,daily_temp:float):\n",
    "    day = abs(temperature[training_days] - daily_temp).idxmin()\n",
    "    return day\n",
    "\n",
    "def find_most_similar_day(test_dates: pd.DatetimeIndex,serie: pd.Series,temperature: pd.Series):\n",
    "    # The assumption is made that the test_dates are one continuous sequence of days\n",
    "    daily_test_dates = pd.date_range(start=test_dates[0],end=test_dates[-1],freq='D')\n",
    "    base_forecast = pd.Series(index= test_dates,name= 'closest_day_forecast')\n",
    "    temperature = norm(temperature)\n",
    "\n",
    "    for day in daily_test_dates:\n",
    "        training_days = pd.date_range(start=pd.Timestamp('2017-01-01'),end=day + dt.timedelta(-1),freq='D')\n",
    "        holidays = EnglandAndWalesHolidayCalendar().holidays(start=pd.Timestamp('2017-01-01'),end=day + dt.timedelta(-1))\n",
    "        training_days = training_days.symmetric_difference(holidays)\n",
    "        day_temp = temperature[temperature.index.dayofyear == day.dayofyear][0]\n",
    "\n",
    "        if day in holidays:\n",
    "            # look for holiday and Sunday (to get more days) --> we know that similarity is highest with Sunday\n",
    "            sundays = training_days[training_days.weekday == 6]\n",
    "            training_days = sundays.union(holidays)\n",
    "            cl_day = get_closest_day(training_days,temperature,day_temp)\n",
    "            forecast = serie[serie.index.dayofyear == cl_day.dayofyear].values\n",
    "            base_forecast[base_forecast.index.dayofyear == day.dayofyear] = forecast\n",
    "\n",
    "        else:\n",
    "            training_days = training_days[training_days.weekday == day.weekday()]\n",
    "            cl_day = get_closest_day(training_days,temperature,day_temp)\n",
    "            forecast = serie[serie.index.dayofyear == cl_day.dayofyear].values\n",
    "            base_forecast[base_forecast.index.dayofyear == day.dayofyear] = forecast\n",
    "\n",
    "    return base_forecast\n"
   ],
   "metadata": {
    "collapsed": false,
    "pycharm": {
     "name": "#%%\n"
    }
   }
  },
  {
   "cell_type": "code",
   "execution_count": 21,
   "outputs": [],
   "source": [
    "# forecast3 = find_most_similar_day(test_TS.index,TS,TS_av_temperature)\n",
    "# ax1 = figure_layout(figsize=(10,8),titel=\"\",xlabel=\"\",ylabel=\"\",fontsize_titel=18,fontsize_axis=16,fontsize_legend=14,fontsize_ticks=16)\n",
    "# forecast3.plot(ax=ax1,grid=True,lw=3.0)\n",
    "# plt.show()\n",
    "\n",
    "# If want to include all the different time-series in a dataframe\n",
    "# df = pd.DataFrame(index=TS_december.index)\n",
    "# df = df.join(forecast1)\n",
    "# df = df.join(forecast2)"
   ],
   "metadata": {
    "collapsed": false,
    "pycharm": {
     "name": "#%%\n"
    }
   }
  },
  {
   "cell_type": "markdown",
   "source": [
    "mean forecast, based on time of day and day type (holiday and which day of the week)"
   ],
   "metadata": {
    "collapsed": false,
    "pycharm": {
     "name": "#%% md\n"
    }
   }
  },
  {
   "cell_type": "code",
   "execution_count": 22,
   "outputs": [],
   "source": [
    "def mean_forecast(test_dates: pd.DatetimeIndex,serie: pd.Series):\n",
    "    # The assumption is made that the test_dates are one continuous sequence of days\n",
    "    daily_test_dates = pd.date_range(start=test_dates[0],end=test_dates[-1],freq='D')\n",
    "    base_forecast = pd.Series(index= test_dates,name= \"mean_forecast\")\n",
    "\n",
    "    for day in daily_test_dates:\n",
    "        training_days = pd.date_range(start=pd.Timestamp('2017-01-01'),end=day + dt.timedelta(-1),freq='D')\n",
    "        holidays = EnglandAndWalesHolidayCalendar().holidays(start=pd.Timestamp('2017-01-01'),end=day + dt.timedelta(-1))\n",
    "        training_days = training_days.symmetric_difference(holidays)\n",
    "        df = pd.DataFrame()\n",
    "\n",
    "        if day in holidays:\n",
    "            #mean holiday\n",
    "            for holiday in holidays:\n",
    "                selected_day = serie[serie.index.dayofyear == holiday.dayofyear].values\n",
    "                df[str(holiday)] = selected_day\n",
    "            df_mean = df.mean(axis=1).values.squeeze()\n",
    "            base_forecast[base_forecast.index.dayofyear == day.dayofyear] = df_mean\n",
    "\n",
    "        else:\n",
    "            #mean weekday\n",
    "            training_days = training_days[training_days.weekday == day.weekday()]\n",
    "            for training_day in training_days:\n",
    "                selected_day = serie[serie.index.dayofyear == training_day.dayofyear].values\n",
    "                df[str(training_day)] = selected_day\n",
    "            df_mean = df.mean(axis=1).values.squeeze()\n",
    "            base_forecast[base_forecast.index.dayofyear == day.dayofyear] = df_mean\n",
    "\n",
    "    return base_forecast"
   ],
   "metadata": {
    "collapsed": false,
    "pycharm": {
     "name": "#%%\n"
    }
   }
  },
  {
   "cell_type": "code",
   "execution_count": 23,
   "outputs": [],
   "source": [
    "# forecast4 = mean_forecast(test_TS.index,TS)\n",
    "# ax1 = figure_layout(figsize=(10,8),titel=\"\",xlabel=\"\",ylabel=\"\",fontsize_titel=18,fontsize_axis=16,fontsize_legend=14,fontsize_ticks=16)\n",
    "# forecast4.plot(ax=ax1,grid=True,lw=3.0)\n",
    "# plt.show()"
   ],
   "metadata": {
    "collapsed": false,
    "pycharm": {
     "name": "#%%\n"
    }
   }
  },
  {
   "cell_type": "markdown",
   "source": [
    "Empirical MAPE minimization\n",
    "To calculate the amount of bins the ‘fd’ (Freedman Diaconis Estimator) is used."
   ],
   "metadata": {
    "collapsed": false,
    "pycharm": {
     "name": "#%% md\n"
    }
   }
  },
  {
   "cell_type": "code",
   "execution_count": 24,
   "outputs": [],
   "source": [
    "# making histogram\n",
    "def histogram(training_serie: pd.Series):\n",
    "    loads = training_serie.values\n",
    "    ax = figure_layout(figsize=(10,8),titel=\"Discretized distribution\",xlabel=\"Load [kWh]\",ylabel=\"Probability [-]\")\n",
    "    ax.grid(axis='y', alpha=0.75)\n",
    "    ax.grid(axis='x', alpha=0.75)\n",
    "    n, bins, patches = plt.hist(x=loads, bins='fd', color='#0504aa', alpha=0.7, rwidth=0.85) #alpha is setting opacity\n",
    "    plt.clf()\n",
    "    return n,bins,patches\n"
   ],
   "metadata": {
    "collapsed": false,
    "pycharm": {
     "name": "#%%\n"
    }
   }
  },
  {
   "cell_type": "code",
   "execution_count": 25,
   "outputs": [],
   "source": [
    "# need to select the time of the day and day type\n",
    "def MAPE_estimator(test_dates: pd.DatetimeIndex,serie: pd.Series):\n",
    "    # The assumption is made that the test_dates are one continuous sequence of days\n",
    "    daily_test_dates = pd.date_range(start=test_dates[0],end=test_dates[-1],freq='D')\n",
    "    base_forecast = pd.Series(index= test_dates,name= 'MAPE_forecast')\n",
    "\n",
    "    for day in daily_test_dates:\n",
    "        training_days = pd.date_range(start=pd.Timestamp('2017-01-01'),end=day + dt.timedelta(-1),freq='D')\n",
    "        holidays = EnglandAndWalesHolidayCalendar().holidays(start=pd.Timestamp('2017-01-01'),end=day + dt.timedelta(-1))\n",
    "        training_days = training_days.symmetric_difference(holidays)\n",
    "\n",
    "        if day in holidays:\n",
    "            sundays = training_days[training_days.weekday == 6]\n",
    "            training_days = sundays.union(holidays)\n",
    "            forecast = MAPE_optimization(training_days,serie) # numpy array\n",
    "            base_forecast[base_forecast.index.dayofyear == day.dayofyear] = forecast\n",
    "\n",
    "        else:\n",
    "            training_days = training_days[training_days.weekday == day.weekday()]\n",
    "            forecast = MAPE_optimization(training_days,serie) # numpy array\n",
    "            base_forecast[base_forecast.index.dayofyear == day.dayofyear] = forecast\n",
    "\n",
    "    return base_forecast"
   ],
   "metadata": {
    "collapsed": false,
    "pycharm": {
     "name": "#%%\n"
    }
   }
  },
  {
   "cell_type": "code",
   "execution_count": 26,
   "outputs": [],
   "source": [
    "def MAPE_optimization(training_days:pd.DatetimeIndex,serie:pd.Series,time_steps:int=48):\n",
    "    stock = np.zeros(time_steps)\n",
    "    training_hours = pd.date_range(start='00:00:00',periods=time_steps,freq='30min')\n",
    "    training_30min = pd.date_range(start=training_days[0],periods=time_steps,freq='30min')\n",
    "    for training_day in training_days[1:]:\n",
    "        new_day = pd.date_range(start=training_day,periods=time_steps,freq='30min')\n",
    "        training_30min = training_30min.union(new_day)\n",
    "\n",
    "    # Select the hours for which an individual forecast should be made\n",
    "    for index in np.arange(0,time_steps):\n",
    "        temp = training_30min[training_30min.hour == training_hours[index].hour]\n",
    "        data = temp[temp.minute == training_hours[index].minute]\n",
    "        n,bins,patches = histogram(serie[data])\n",
    "\n",
    "        probability = n/sum(n)\n",
    "        discretized_values = np.zeros(len(n))\n",
    "        for j in np.arange(0,len(bins)-1):\n",
    "            if probability[j] != 0:\n",
    "                discretized_values[j] = (bins[j] + bins[j+1])/2\n",
    "        # remove zero probabilities\n",
    "        probability = probability[probability != 0]\n",
    "        if len(probability) != len(discretized_values):\n",
    "            raise Exception(\"The lenghts are not equal.\")\n",
    "\n",
    "        # solve the optimization problem\n",
    "        opti = ca.Opti()\n",
    "        p = opti.variable()\n",
    "        obj = 0\n",
    "        for j in np.arange(0,len(discretized_values)):\n",
    "            pi = discretized_values[j]\n",
    "            obj = obj + probability[j]*((p-pi)/pi)**2\n",
    "        opti.minimize(obj)\n",
    "        opti.subject_to(p>=0)\n",
    "        opti.set_initial(p,0.3)\n",
    "        opti.solver('ipopt')\n",
    "        sol = opti.solve()\n",
    "        print(100*\"#\")\n",
    "        stock[index] = sol.value(p)\n",
    "\n",
    "    return stock"
   ],
   "metadata": {
    "collapsed": false,
    "pycharm": {
     "name": "#%%\n"
    }
   }
  },
  {
   "cell_type": "code",
   "execution_count": null,
   "outputs": [],
   "source": [],
   "metadata": {
    "collapsed": false,
    "pycharm": {
     "name": "#%%\n"
    }
   }
  }
 ],
 "metadata": {
  "kernelspec": {
   "name": "python3",
   "language": "python",
   "display_name": "Python 3"
  },
  "language_info": {
   "codemirror_mode": {
    "name": "ipython",
    "version": 2
   },
   "file_extension": ".py",
   "mimetype": "text/x-python",
   "name": "python",
   "nbconvert_exporter": "python",
   "pygments_lexer": "ipython2",
   "version": "2.7.6"
  }
 },
 "nbformat": 4,
 "nbformat_minor": 0
}