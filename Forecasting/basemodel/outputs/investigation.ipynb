{
 "cells": [
  {
   "cell_type": "code",
   "execution_count": 1,
   "metadata": {
    "collapsed": true
   },
   "outputs": [],
   "source": [
    "import pandas as pd\n",
    "serie1 = pd.read_csv(\"ID0x1e84e4d5cf1f463147f3e4d566167597423d7769.csv\")\n",
    "serie2 = pd.read_csv(\"ID0x78a812ecd87a4b945e0d262aec41e0eb2b59fe1e.csv\")\n",
    "serie3 = pd.read_csv(\"ID0xc3b2f61a72e188cfd44483fce1bc11d6a628766d.csv\")\n"
   ]
  },
  {
   "cell_type": "code",
   "execution_count": 5,
   "outputs": [
    {
     "data": {
      "text/plain": "                     date  closest_day_forecast  base_forecast: 1 day(s)  \\\n0     2017-12-01 00:00:00                 0.050                    0.016   \n1     2017-12-01 00:30:00                 0.009                    0.064   \n2     2017-12-01 01:00:00                 0.009                    0.010   \n3     2017-12-01 01:30:00                 0.009                    0.009   \n4     2017-12-01 02:00:00                 0.075                    0.009   \n...                   ...                   ...                      ...   \n1483  2017-12-31 21:30:00                   NaN                    0.094   \n1484  2017-12-31 22:00:00                   NaN                    0.061   \n1485  2017-12-31 22:30:00                   NaN                    0.078   \n1486  2017-12-31 23:00:00                   NaN                    0.065   \n1487  2017-12-31 23:30:00                   NaN                    0.025   \n\n      base_forecast: 7 day(s)  mean_forecast  MAPE_forecast  real_values  \n0                       0.056       0.038698       0.020500          NaN  \n1                       0.028       0.039000       0.018900          NaN  \n2                       0.009       0.038907       0.022300          NaN  \n3                       0.020       0.028116       0.014643          NaN  \n4                       0.064       0.036419       0.022833          NaN  \n...                       ...            ...            ...          ...  \n1483                      NaN       0.061600       0.045786        0.062  \n1484                      NaN       0.051460       0.019450        0.022  \n1485                      NaN       0.038800       0.020750        0.010  \n1486                      NaN       0.041620       0.020500        0.008  \n1487                      NaN       0.035520       0.019333        0.040  \n\n[1488 rows x 7 columns]",
      "text/html": "<div>\n<style scoped>\n    .dataframe tbody tr th:only-of-type {\n        vertical-align: middle;\n    }\n\n    .dataframe tbody tr th {\n        vertical-align: top;\n    }\n\n    .dataframe thead th {\n        text-align: right;\n    }\n</style>\n<table border=\"1\" class=\"dataframe\">\n  <thead>\n    <tr style=\"text-align: right;\">\n      <th></th>\n      <th>date</th>\n      <th>closest_day_forecast</th>\n      <th>base_forecast: 1 day(s)</th>\n      <th>base_forecast: 7 day(s)</th>\n      <th>mean_forecast</th>\n      <th>MAPE_forecast</th>\n      <th>real_values</th>\n    </tr>\n  </thead>\n  <tbody>\n    <tr>\n      <th>0</th>\n      <td>2017-12-01 00:00:00</td>\n      <td>0.050</td>\n      <td>0.016</td>\n      <td>0.056</td>\n      <td>0.038698</td>\n      <td>0.020500</td>\n      <td>NaN</td>\n    </tr>\n    <tr>\n      <th>1</th>\n      <td>2017-12-01 00:30:00</td>\n      <td>0.009</td>\n      <td>0.064</td>\n      <td>0.028</td>\n      <td>0.039000</td>\n      <td>0.018900</td>\n      <td>NaN</td>\n    </tr>\n    <tr>\n      <th>2</th>\n      <td>2017-12-01 01:00:00</td>\n      <td>0.009</td>\n      <td>0.010</td>\n      <td>0.009</td>\n      <td>0.038907</td>\n      <td>0.022300</td>\n      <td>NaN</td>\n    </tr>\n    <tr>\n      <th>3</th>\n      <td>2017-12-01 01:30:00</td>\n      <td>0.009</td>\n      <td>0.009</td>\n      <td>0.020</td>\n      <td>0.028116</td>\n      <td>0.014643</td>\n      <td>NaN</td>\n    </tr>\n    <tr>\n      <th>4</th>\n      <td>2017-12-01 02:00:00</td>\n      <td>0.075</td>\n      <td>0.009</td>\n      <td>0.064</td>\n      <td>0.036419</td>\n      <td>0.022833</td>\n      <td>NaN</td>\n    </tr>\n    <tr>\n      <th>...</th>\n      <td>...</td>\n      <td>...</td>\n      <td>...</td>\n      <td>...</td>\n      <td>...</td>\n      <td>...</td>\n      <td>...</td>\n    </tr>\n    <tr>\n      <th>1483</th>\n      <td>2017-12-31 21:30:00</td>\n      <td>NaN</td>\n      <td>0.094</td>\n      <td>NaN</td>\n      <td>0.061600</td>\n      <td>0.045786</td>\n      <td>0.062</td>\n    </tr>\n    <tr>\n      <th>1484</th>\n      <td>2017-12-31 22:00:00</td>\n      <td>NaN</td>\n      <td>0.061</td>\n      <td>NaN</td>\n      <td>0.051460</td>\n      <td>0.019450</td>\n      <td>0.022</td>\n    </tr>\n    <tr>\n      <th>1485</th>\n      <td>2017-12-31 22:30:00</td>\n      <td>NaN</td>\n      <td>0.078</td>\n      <td>NaN</td>\n      <td>0.038800</td>\n      <td>0.020750</td>\n      <td>0.010</td>\n    </tr>\n    <tr>\n      <th>1486</th>\n      <td>2017-12-31 23:00:00</td>\n      <td>NaN</td>\n      <td>0.065</td>\n      <td>NaN</td>\n      <td>0.041620</td>\n      <td>0.020500</td>\n      <td>0.008</td>\n    </tr>\n    <tr>\n      <th>1487</th>\n      <td>2017-12-31 23:30:00</td>\n      <td>NaN</td>\n      <td>0.025</td>\n      <td>NaN</td>\n      <td>0.035520</td>\n      <td>0.019333</td>\n      <td>0.040</td>\n    </tr>\n  </tbody>\n</table>\n<p>1488 rows × 7 columns</p>\n</div>"
     },
     "execution_count": 5,
     "metadata": {},
     "output_type": "execute_result"
    }
   ],
   "source": [
    "serie1"
   ],
   "metadata": {
    "collapsed": false,
    "pycharm": {
     "name": "#%%\n"
    }
   }
  },
  {
   "cell_type": "code",
   "execution_count": 4,
   "outputs": [
    {
     "data": {
      "text/plain": "date                       0.0\nclosest_day_forecast       1.0\nbase_forecast: 1 day(s)    8.0\nbase_forecast: 7 day(s)    6.0\nmean_forecast              0.0\nMAPE_forecast              0.0\nreal_values                8.0\ndtype: float64"
     },
     "execution_count": 4,
     "metadata": {},
     "output_type": "execute_result"
    }
   ],
   "source": [
    "amount_missing_days1 = serie1.isnull().sum()\n",
    "amount_missing_days1/48"
   ],
   "metadata": {
    "collapsed": false,
    "pycharm": {
     "name": "#%%\n"
    }
   }
  },
  {
   "cell_type": "code",
   "execution_count": 6,
   "outputs": [
    {
     "data": {
      "text/plain": "date                       0.0\nclosest_day_forecast       0.0\nbase_forecast: 1 day(s)    0.0\nbase_forecast: 7 day(s)    0.0\nmean_forecast              0.0\nMAPE_forecast              0.0\nreal_values                0.0\ndtype: float64"
     },
     "execution_count": 6,
     "metadata": {},
     "output_type": "execute_result"
    }
   ],
   "source": [
    "amount_missing_days1 = serie2.isnull().sum()\n",
    "amount_missing_days1/48"
   ],
   "metadata": {
    "collapsed": false,
    "pycharm": {
     "name": "#%%\n"
    }
   }
  },
  {
   "cell_type": "code",
   "execution_count": 7,
   "outputs": [
    {
     "data": {
      "text/plain": "date                       0.0\nclosest_day_forecast       0.0\nbase_forecast: 1 day(s)    8.0\nbase_forecast: 7 day(s)    6.0\nmean_forecast              0.0\nMAPE_forecast              0.0\nreal_values                8.0\ndtype: float64"
     },
     "execution_count": 7,
     "metadata": {},
     "output_type": "execute_result"
    }
   ],
   "source": [
    "amount_missing_days1 = serie3.isnull().sum()\n",
    "amount_missing_days1/48"
   ],
   "metadata": {
    "collapsed": false,
    "pycharm": {
     "name": "#%%\n"
    }
   }
  }
 ],
 "metadata": {
  "kernelspec": {
   "display_name": "Python 3",
   "language": "python",
   "name": "python3"
  },
  "language_info": {
   "codemirror_mode": {
    "name": "ipython",
    "version": 2
   },
   "file_extension": ".py",
   "mimetype": "text/x-python",
   "name": "python",
   "nbconvert_exporter": "python",
   "pygments_lexer": "ipython2",
   "version": "2.7.6"
  }
 },
 "nbformat": 4,
 "nbformat_minor": 0
}