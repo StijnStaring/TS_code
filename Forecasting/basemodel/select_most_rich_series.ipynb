{
 "cells": [
  {
   "cell_type": "code",
   "execution_count": 134,
   "metadata": {
    "collapsed": true
   },
   "outputs": [],
   "source": [
    "from Test_basemodel_functions import figure_layout\n",
    "import pandas as pd\n",
    "fullYeardata = pd.read_csv(\"D:\\Onedrive\\Leuven\\Final project\\data\\Forecasting_writtendata\\FullYear.csv\",index_col= \"date\",parse_dates= True)"
   ]
  },
  {
   "cell_type": "code",
   "execution_count": 135,
   "outputs": [],
   "source": [
    "null_serie = fullYeardata.isnull().sum()"
   ],
   "metadata": {
    "collapsed": false,
    "pycharm": {
     "name": "#%%\n"
    }
   }
  },
  {
   "cell_type": "code",
   "execution_count": 136,
   "outputs": [
    {
     "data": {
      "text/plain": "0x096fa3d4f7a692bca65dfae1a7fcc01089685b58    1344\n0x0d65536896a29a82ce55a81d592c3a9c6c0f797b    1584\n0xddfe42d6b1d34d71ffcb1e4c58b1a8b2f9c03a80    1344\n0x62e55dbe3cdd3cac46d61144544f6c488041de48    1392\n0x88fc9ea558b9a98e3fc91ec0044b3c83ac630790    1392\n                                              ... \n0x7dd7a7b8ee1bec7c44b24f738c752482f6161065    1392\n0xfdaf9f857621ec06f2cf801f42a020a322835090    2400\n0xd28f2f001e0cd4d6c121a3cb2e1427207e170e18    1344\n0x47218b46abb2fcaade487a211911406dc6e13730    1296\n0xcd19e6fe3d887bc5dcac7ca18d46199695463fdd    1392\nLength: 261, dtype: int64"
     },
     "execution_count": 136,
     "metadata": {},
     "output_type": "execute_result"
    }
   ],
   "source": [
    "null_serie"
   ],
   "metadata": {
    "collapsed": false,
    "pycharm": {
     "name": "#%%\n"
    }
   }
  },
  {
   "cell_type": "code",
   "execution_count": 137,
   "outputs": [],
   "source": [
    "# select the three time-series that contain the least missing values.\n",
    "sorted_list = sorted(list(enumerate(null_serie.values)), key=lambda x: x[1])\n",
    "names = []\n",
    "amount_series = 10\n",
    "for (index,_) in sorted_list[:amount_series]:\n",
    "    names.append(fullYeardata.columns[index])\n"
   ],
   "metadata": {
    "collapsed": false,
    "pycharm": {
     "name": "#%%\n"
    }
   }
  },
  {
   "cell_type": "code",
   "execution_count": 138,
   "outputs": [],
   "source": [
    "DF_three_series = fullYeardata.loc[:, [names[0],names[1],names[3]]]"
   ],
   "metadata": {
    "collapsed": false,
    "pycharm": {
     "name": "#%%\n"
    }
   }
  },
  {
   "cell_type": "code",
   "execution_count": 139,
   "outputs": [],
   "source": [
    "av_temperature = pd.read_csv(\"D:\\Onedrive\\Leuven\\Final project\\data\\weather-avg.csv\",index_col='meter_id')\n",
    "av_temperature = av_temperature.transpose()\n",
    "av_temperature.index = pd.to_datetime(av_temperature.index)"
   ],
   "metadata": {
    "collapsed": false,
    "pycharm": {
     "name": "#%%\n"
    }
   }
  },
  {
   "cell_type": "code",
   "execution_count": 79,
   "outputs": [],
   "source": [
    "# when I check the time-series, names[2] is a bit weird.\n",
    "DF_temp_three_series = av_temperature.loc[:, [names[0],names[1],names[3]]]\n"
   ],
   "metadata": {
    "collapsed": false,
    "pycharm": {
     "name": "#%%\n"
    }
   }
  },
  {
   "cell_type": "code",
   "execution_count": 153,
   "outputs": [
    {
     "data": {
      "text/plain": "       0x78a812ecd87a4b945e0d262aec41e0eb2b59fe1e\ncount                                  361.000000\nmean                                    14.547817\nstd                                      3.214598\nmin                                      7.512500\n25%                                     12.242000\n50%                                     14.090500\n75%                                     16.471000\nmax                                     30.083500",
      "text/html": "<div>\n<style scoped>\n    .dataframe tbody tr th:only-of-type {\n        vertical-align: middle;\n    }\n\n    .dataframe tbody tr th {\n        vertical-align: top;\n    }\n\n    .dataframe thead th {\n        text-align: right;\n    }\n</style>\n<table border=\"1\" class=\"dataframe\">\n  <thead>\n    <tr style=\"text-align: right;\">\n      <th></th>\n      <th>0x78a812ecd87a4b945e0d262aec41e0eb2b59fe1e</th>\n    </tr>\n  </thead>\n  <tbody>\n    <tr>\n      <th>count</th>\n      <td>361.000000</td>\n    </tr>\n    <tr>\n      <th>mean</th>\n      <td>14.547817</td>\n    </tr>\n    <tr>\n      <th>std</th>\n      <td>3.214598</td>\n    </tr>\n    <tr>\n      <th>min</th>\n      <td>7.512500</td>\n    </tr>\n    <tr>\n      <th>25%</th>\n      <td>12.242000</td>\n    </tr>\n    <tr>\n      <th>50%</th>\n      <td>14.090500</td>\n    </tr>\n    <tr>\n      <th>75%</th>\n      <td>16.471000</td>\n    </tr>\n    <tr>\n      <th>max</th>\n      <td>30.083500</td>\n    </tr>\n  </tbody>\n</table>\n</div>"
     },
     "execution_count": 153,
     "metadata": {},
     "output_type": "execute_result"
    }
   ],
   "source": [
    "serie1 = DF_three_series.iloc[:,[0]]\n",
    "serie1_daily = serie1.resample('D',axis=0).sum()\n",
    "serie1_daily = serie1_daily[serie1_daily.values != 0]\n",
    "serie1_daily.describe()"
   ],
   "metadata": {
    "collapsed": false,
    "pycharm": {
     "name": "#%%\n"
    }
   }
  },
  {
   "cell_type": "code",
   "execution_count": 147,
   "outputs": [
    {
     "data": {
      "text/plain": "31"
     },
     "execution_count": 147,
     "metadata": {},
     "output_type": "execute_result"
    }
   ],
   "source": [
    "len(serie1_daily[serie1_daily.index.month == 12])"
   ],
   "metadata": {
    "collapsed": false,
    "pycharm": {
     "name": "#%%\n"
    }
   }
  },
  {
   "cell_type": "code",
   "execution_count": 149,
   "outputs": [
    {
     "data": {
      "text/plain": "       0x1e84e4d5cf1f463147f3e4d566167597423d7769\ncount                                  340.000000\nmean                                     3.168109\nstd                                      0.991313\nmin                                      1.826000\n25%                                      2.350250\n50%                                      2.960500\n75%                                      3.766250\nmax                                      6.598000",
      "text/html": "<div>\n<style scoped>\n    .dataframe tbody tr th:only-of-type {\n        vertical-align: middle;\n    }\n\n    .dataframe tbody tr th {\n        vertical-align: top;\n    }\n\n    .dataframe thead th {\n        text-align: right;\n    }\n</style>\n<table border=\"1\" class=\"dataframe\">\n  <thead>\n    <tr style=\"text-align: right;\">\n      <th></th>\n      <th>0x1e84e4d5cf1f463147f3e4d566167597423d7769</th>\n    </tr>\n  </thead>\n  <tbody>\n    <tr>\n      <th>count</th>\n      <td>340.000000</td>\n    </tr>\n    <tr>\n      <th>mean</th>\n      <td>3.168109</td>\n    </tr>\n    <tr>\n      <th>std</th>\n      <td>0.991313</td>\n    </tr>\n    <tr>\n      <th>min</th>\n      <td>1.826000</td>\n    </tr>\n    <tr>\n      <th>25%</th>\n      <td>2.350250</td>\n    </tr>\n    <tr>\n      <th>50%</th>\n      <td>2.960500</td>\n    </tr>\n    <tr>\n      <th>75%</th>\n      <td>3.766250</td>\n    </tr>\n    <tr>\n      <th>max</th>\n      <td>6.598000</td>\n    </tr>\n  </tbody>\n</table>\n</div>"
     },
     "execution_count": 149,
     "metadata": {},
     "output_type": "execute_result"
    }
   ],
   "source": [
    "serie2 = DF_three_series.iloc[:,[1]]\n",
    "serie2_daily = serie2.resample('D',axis=0).sum()\n",
    "serie2_daily = serie2_daily[serie2_daily.values != 0]\n",
    "serie2_daily.describe()"
   ],
   "metadata": {
    "collapsed": false,
    "pycharm": {
     "name": "#%%\n"
    }
   }
  },
  {
   "cell_type": "code",
   "execution_count": 152,
   "outputs": [
    {
     "data": {
      "text/plain": "29"
     },
     "execution_count": 152,
     "metadata": {},
     "output_type": "execute_result"
    }
   ],
   "source": [
    "len(serie2_daily[serie2_daily.index.month == 11])"
   ],
   "metadata": {
    "collapsed": false,
    "pycharm": {
     "name": "#%%\n"
    }
   }
  },
  {
   "cell_type": "code",
   "execution_count": 154,
   "outputs": [
    {
     "data": {
      "text/plain": "       0xc3b2f61a72e188cfd44483fce1bc11d6a628766d\ncount                                  339.000000\nmean                                     6.576000\nstd                                      2.571675\nmin                                      1.500000\n25%                                      4.898500\n50%                                      5.877000\n75%                                      7.947500\nmax                                     17.153000",
      "text/html": "<div>\n<style scoped>\n    .dataframe tbody tr th:only-of-type {\n        vertical-align: middle;\n    }\n\n    .dataframe tbody tr th {\n        vertical-align: top;\n    }\n\n    .dataframe thead th {\n        text-align: right;\n    }\n</style>\n<table border=\"1\" class=\"dataframe\">\n  <thead>\n    <tr style=\"text-align: right;\">\n      <th></th>\n      <th>0xc3b2f61a72e188cfd44483fce1bc11d6a628766d</th>\n    </tr>\n  </thead>\n  <tbody>\n    <tr>\n      <th>count</th>\n      <td>339.000000</td>\n    </tr>\n    <tr>\n      <th>mean</th>\n      <td>6.576000</td>\n    </tr>\n    <tr>\n      <th>std</th>\n      <td>2.571675</td>\n    </tr>\n    <tr>\n      <th>min</th>\n      <td>1.500000</td>\n    </tr>\n    <tr>\n      <th>25%</th>\n      <td>4.898500</td>\n    </tr>\n    <tr>\n      <th>50%</th>\n      <td>5.877000</td>\n    </tr>\n    <tr>\n      <th>75%</th>\n      <td>7.947500</td>\n    </tr>\n    <tr>\n      <th>max</th>\n      <td>17.153000</td>\n    </tr>\n  </tbody>\n</table>\n</div>"
     },
     "execution_count": 154,
     "metadata": {},
     "output_type": "execute_result"
    }
   ],
   "source": [
    "serie2 = DF_three_series.iloc[:,[2]]\n",
    "serie2_daily = serie2.resample('D',axis=0).sum()\n",
    "serie2_daily = serie2_daily[serie2_daily.values != 0]\n",
    "serie2_daily.describe()"
   ],
   "metadata": {
    "collapsed": false,
    "pycharm": {
     "name": "#%%\n"
    }
   }
  },
  {
   "cell_type": "code",
   "execution_count": 156,
   "outputs": [
    {
     "data": {
      "text/plain": "23"
     },
     "execution_count": 156,
     "metadata": {},
     "output_type": "execute_result"
    }
   ],
   "source": [
    "len(serie2_daily[serie2_daily.index.month == 12])"
   ],
   "metadata": {
    "collapsed": false,
    "pycharm": {
     "name": "#%%\n"
    }
   }
  },
  {
   "cell_type": "code",
   "execution_count": 165,
   "outputs": [
    {
     "data": {
      "text/plain": "meter_id  0x78a812ecd87a4b945e0d262aec41e0eb2b59fe1e  \\\ncount                                     365.000000   \nmean                                       10.373890   \nstd                                         5.086640   \nmin                                        -1.070833   \n25%                                         6.558333   \n50%                                        10.457143   \n75%                                        14.670833   \nmax                                        23.991667   \n\nmeter_id  0x1e84e4d5cf1f463147f3e4d566167597423d7769  \\\ncount                                     365.000000   \nmean                                       10.609140   \nstd                                         5.203944   \nmin                                        -1.279167   \n25%                                         6.891667   \n50%                                        10.608333   \n75%                                        14.850000   \nmax                                        24.516667   \n\nmeter_id  0xc3b2f61a72e188cfd44483fce1bc11d6a628766d  \ncount                                     365.000000  \nmean                                       10.219587  \nstd                                         5.009998  \nmin                                        -1.420833  \n25%                                         6.404167  \n50%                                        10.345833  \n75%                                        14.591667  \nmax                                        22.950000  ",
      "text/html": "<div>\n<style scoped>\n    .dataframe tbody tr th:only-of-type {\n        vertical-align: middle;\n    }\n\n    .dataframe tbody tr th {\n        vertical-align: top;\n    }\n\n    .dataframe thead th {\n        text-align: right;\n    }\n</style>\n<table border=\"1\" class=\"dataframe\">\n  <thead>\n    <tr style=\"text-align: right;\">\n      <th>meter_id</th>\n      <th>0x78a812ecd87a4b945e0d262aec41e0eb2b59fe1e</th>\n      <th>0x1e84e4d5cf1f463147f3e4d566167597423d7769</th>\n      <th>0xc3b2f61a72e188cfd44483fce1bc11d6a628766d</th>\n    </tr>\n  </thead>\n  <tbody>\n    <tr>\n      <th>count</th>\n      <td>365.000000</td>\n      <td>365.000000</td>\n      <td>365.000000</td>\n    </tr>\n    <tr>\n      <th>mean</th>\n      <td>10.373890</td>\n      <td>10.609140</td>\n      <td>10.219587</td>\n    </tr>\n    <tr>\n      <th>std</th>\n      <td>5.086640</td>\n      <td>5.203944</td>\n      <td>5.009998</td>\n    </tr>\n    <tr>\n      <th>min</th>\n      <td>-1.070833</td>\n      <td>-1.279167</td>\n      <td>-1.420833</td>\n    </tr>\n    <tr>\n      <th>25%</th>\n      <td>6.558333</td>\n      <td>6.891667</td>\n      <td>6.404167</td>\n    </tr>\n    <tr>\n      <th>50%</th>\n      <td>10.457143</td>\n      <td>10.608333</td>\n      <td>10.345833</td>\n    </tr>\n    <tr>\n      <th>75%</th>\n      <td>14.670833</td>\n      <td>14.850000</td>\n      <td>14.591667</td>\n    </tr>\n    <tr>\n      <th>max</th>\n      <td>23.991667</td>\n      <td>24.516667</td>\n      <td>22.950000</td>\n    </tr>\n  </tbody>\n</table>\n</div>"
     },
     "execution_count": 165,
     "metadata": {},
     "output_type": "execute_result"
    }
   ],
   "source": [
    "DF_temp_three_series.describe()"
   ],
   "metadata": {
    "collapsed": false,
    "pycharm": {
     "name": "#%%\n"
    }
   }
  },
  {
   "cell_type": "code",
   "execution_count": 163,
   "outputs": [
    {
     "data": {
      "text/plain": "1753"
     },
     "execution_count": 163,
     "metadata": {},
     "output_type": "execute_result"
    }
   ],
   "source": [
    "av_temperature.isnull().sum().sum()"
   ],
   "metadata": {
    "collapsed": false,
    "pycharm": {
     "name": "#%%\n"
    }
   }
  },
  {
   "cell_type": "code",
   "execution_count": 166,
   "outputs": [],
   "source": [
    "from Test_basemodel_functions import *\n",
    "\n",
    "holidays = EnglandAndWalesHolidayCalendar().holidays(start=pd.Timestamp('2017-01-01'),end=pd.Timestamp('2017-12-31'))"
   ],
   "metadata": {
    "collapsed": false,
    "pycharm": {
     "name": "#%%\n"
    }
   }
  },
  {
   "cell_type": "code",
   "execution_count": 167,
   "outputs": [
    {
     "data": {
      "text/plain": "8"
     },
     "execution_count": 167,
     "metadata": {},
     "output_type": "execute_result"
    }
   ],
   "source": [
    "len(holidays)"
   ],
   "metadata": {
    "collapsed": false,
    "pycharm": {
     "name": "#%%\n"
    }
   }
  },
  {
   "cell_type": "code",
   "execution_count": 8,
   "outputs": [],
   "source": [
    "# from os import makedirs\n",
    "# data_path = \"./data/\"\n",
    "# makedirs(data_path,exist_ok=True)\n",
    "#\n",
    "# DF_three_series.to_csv(data_path+\"DF_three_series.csv\",index_label= 'date')\n",
    "# DF_temp_three_series.to_csv(data_path+\"DF_three_temp_series.csv\",index_label= 'meter_id')"
   ],
   "metadata": {
    "collapsed": false,
    "pycharm": {
     "name": "#%%\n"
    }
   }
  },
  {
   "cell_type": "code",
   "execution_count": 9,
   "outputs": [],
   "source": [
    "# from os import path\n",
    "# import matplotlib.pyplot as plt\n",
    "# save_to = \"D:\\Onedrive\\Leuven\\Final project\\Results\\Forecasting\\Base_model_figures\\\\three_series\"\n",
    "# for col in DF_three_series.columns:\n",
    "#     fname = path.join(save_to,\"Serie\"+str(col))\n",
    "#     figure_layout(titel='Serie: '+ str(col))\n",
    "#     DF_three_series.loc[:,col].plot()\n",
    "#     plt.savefig(fname, dpi=300, facecolor='w', edgecolor='w', orientation='portrait', format=None,\n",
    "#                 transparent=False, bbox_inches='tight', pad_inches=0.1, metadata=None)\n",
    "# plt.show()"
   ],
   "metadata": {
    "collapsed": false,
    "pycharm": {
     "name": "#%%\n"
    }
   }
  }
 ],
 "metadata": {
  "kernelspec": {
   "display_name": "Python 3",
   "language": "python",
   "name": "python3"
  },
  "language_info": {
   "codemirror_mode": {
    "name": "ipython",
    "version": 2
   },
   "file_extension": ".py",
   "mimetype": "text/x-python",
   "name": "python",
   "nbconvert_exporter": "python",
   "pygments_lexer": "ipython2",
   "version": "2.7.6"
  }
 },
 "nbformat": 4,
 "nbformat_minor": 0
}