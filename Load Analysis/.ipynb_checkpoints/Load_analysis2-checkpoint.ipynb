{
 "cells": [
  {
   "cell_type": "markdown",
   "metadata": {},
   "source": [
    "## Importing the time series and setting date time"
   ]
  },
  {
   "cell_type": "code",
   "execution_count": 2,
   "metadata": {},
   "outputs": [],
   "source": [
    "import pandas as pd # pandas\n",
    "import numpy as np\n",
    "import matplotlib.pyplot as plt\n",
    "import seaborn as sns\n",
    "from sklearn.impute import SimpleImputer\n",
    "# from sklearn import impute\n",
    "from  scipy.stats import skew, kurtosis, shapiro\n",
    "\n",
    "\n",
    "plt.rc('axes', linewidth=2)\n",
    "plt.rc('axes', labelsize= 16)\n",
    "plt.rc('axes',titlesize = 18)\n",
    "plt.rc('legend',fontsize=14)\n",
    "plt.rc('xtick', labelsize=16) \n",
    "plt.rc('ytick', labelsize=16) \n",
    "plt.rc('figure',figsize=(10,8))\n",
    "\n",
    "consumptionLoad = pd.read_csv(\"D:\\Onedrive\\Leuven\\Final project\\data\\consumption.csv\",index_col = \"meter_id\")\n",
    "new_index = np.arange(1,len(consumptionLoad.index)+1)\n",
    "new_index = []\n",
    "for i in np.arange(1,len(consumptionLoad.index)+1):\n",
    "    new_index.append(\"meter_\" + str(i))\n",
    "new_index = pd.Series(new_index)\n",
    "consumptionLoad.set_index(new_index,inplace=True)\n",
    "consumptionLoad_T = consumptionLoad.transpose()\n",
    "dates = pd.to_datetime(consumptionLoad_T.index)\n",
    "consumptionLoad_T = consumptionLoad_T.set_index(dates);consumptionLoad_T.head()\n",
    "consumptionLoad = consumptionLoad_T\n",
    "\n",
    "def figure_layout(figsize=(10,8),titel=\"\",xlabel=\"\",ylabel=\"\",fontsize_titel=18,fontsize_axis=16,fontsize_legend=14,fontsize_ticks=16):\n",
    "    plt.figure(figsize=figsize)\n",
    "    ax1 = plt.gca()\n",
    "    plt.rc('legend',fontsize=fontsize_legend)\n",
    "    plt.title(titel, fontsize=fontsize_titel, fontweight = 'bold')\n",
    "    plt.grid(True)\n",
    "    plt.xlabel(xlabel, fontsize=fontsize_axis)\n",
    "    plt.ylabel(ylabel, fontsize=fontsize_axis)\n",
    "    for tick in ax1.xaxis.get_major_ticks():\n",
    "            tick.label1.set_fontsize(fontsize_ticks)\n",
    "    #         tick.label1.set_fontweight('bold')\n",
    "    for tick in ax1.yaxis.get_major_ticks():\n",
    "        tick.label1.set_fontsize(fontsize_ticks)\n",
    "    #     tick.label1.set_fontweight('bold')\n",
    "    \n",
    "    return ax1\n",
    "\n",
    "plt.rc('axes', linewidth=2)\n",
    "plt.rc('axes', labelsize= 16)\n",
    "plt.rc('axes',titlesize = 18)\n",
    "plt.rc('legend',fontsize=14)\n",
    "plt.rc('xtick', labelsize=16) \n",
    "plt.rc('ytick', labelsize=16) \n",
    "plt.rc('figure',figsize=(10,8))\n",
    "\n"
   ]
  },
  {
   "cell_type": "code",
   "execution_count": 28,
   "metadata": {},
   "outputs": [],
   "source": [
    "def visualization_NaN(months_show,meter_show,rows = 4, columns = 3):\n",
    "    if rows*columns != len(months_show):\n",
    "        raise Exception(\"The number of months doesn't match with the amount of provided figures\")\n",
    "    originalMeter = pd.DataFrame(data=consumptionLoad_T[meter_show])\n",
    "    originalMeter[\"month\"] = originalMeter.index.month_name()\n",
    "    originalMeter[\"day\"] = originalMeter.index.day\n",
    "    r=0\n",
    "    c=0\n",
    "    _, axes = plt.subplots(rows,columns)\n",
    "\n",
    "    for m in months_show:\n",
    "        originalMeter_month = originalMeter[originalMeter[\"month\"] == m]\n",
    "\n",
    "        index = []\n",
    "        lost = []\n",
    "        full = []\n",
    "\n",
    "        for i in np.arange(originalMeter_month[\"day\"][0],originalMeter_month[\"day\"][-1]+1,1):\n",
    "            dataDay = originalMeter_month[originalMeter_month[\"day\"] == i]\n",
    "            index.append(str(i))\n",
    "            nNaN = dataDay[meter_show].isnull().sum()\n",
    "            lost.append(nNaN)\n",
    "            full.append(len(dataDay)-nNaN)\n",
    "\n",
    "        df = pd.DataFrame(index=index)\n",
    "        df[\"full\"] = full\n",
    "        df[\"lost\"] = lost\n",
    "\n",
    "        df.plot.bar(stacked=True,figsize=(30,24),ax=axes[r][c],title= m)\n",
    "\n",
    "        if c == columns - 1:\n",
    "            r += 1\n",
    "            c = 0\n",
    "        else:\n",
    "            c += 1\n",
    "    \n",
    "    plt.show()"
   ]
  },
  {
   "cell_type": "markdown",
   "metadata": {},
   "source": [
    "## Selecting the meters that have observations in all months."
   ]
  },
  {
   "cell_type": "code",
   "execution_count": 3,
   "metadata": {},
   "outputs": [],
   "source": [
    "data_monthly = consumptionLoad_T.resample('MS',axis=0).sum()\n",
    "new_index_months = data_monthly.index.month_name()\n",
    "data_monthly.set_index(new_index_months,inplace=True)\n",
    "### Create an empty dataframe to store the first index of non zero value\n",
    "first_non_zero_ind = pd.DataFrame(index = ['first_non_zero_row'])"
   ]
  },
  {
   "cell_type": "code",
   "execution_count": 4,
   "metadata": {},
   "outputs": [],
   "source": [
    "### Create empty list to store IDs of TS to remove (because they are full of zeros/NaN only)\n",
    "ID_NaN = []\n",
    "### Loop through the columns and though the indexes of the dataframe\n",
    "for col_ind in range(len(data_monthly.columns)):\n",
    "    ID = data_monthly.columns[col_ind]\n",
    "    for row_ind in range(len(data_monthly.index)):\n",
    "### we check for non zero values, but only if a first value has not been selected yet \n",
    "        if (data_monthly.iloc[[row_ind],[col_ind]].values != 0) and (not ID in first_non_zero_ind.columns):\n",
    "            first_non_zero_ind.insert(col_ind,ID,[row_ind]) #The value inserted indicates when the data starts\n",
    "### in the case of an 'empty' TS, we place a NaN and we save the ID of this TS     \n",
    "        elif ( all(val == 0 for val in data_monthly[[ID]].values) ) and (not ID in first_non_zero_ind.columns):\n",
    "            first_non_zero_ind.insert(col_ind,ID,np.NaN)\n",
    "            ID_NaN.append(ID)"
   ]
  },
  {
   "cell_type": "code",
   "execution_count": 5,
   "metadata": {},
   "outputs": [
    {
     "name": "stdout",
     "output_type": "stream",
     "text": [
      "Meter without data: ['meter_258'].\n"
     ]
    }
   ],
   "source": [
    "print(\"Meter without data: {}.\".format(ID_NaN))"
   ]
  },
  {
   "cell_type": "code",
   "execution_count": 6,
   "metadata": {},
   "outputs": [],
   "source": [
    "meters_with_full_data = first_non_zero_ind.columns[first_non_zero_ind.iloc[0] == 0]\n",
    "fullYeardata = consumptionLoad_T[meters_with_full_data]"
   ]
  },
  {
   "cell_type": "code",
   "execution_count": 7,
   "metadata": {},
   "outputs": [],
   "source": [
    "amount_measurements = fullYeardata.shape[1]"
   ]
  },
  {
   "cell_type": "markdown",
   "metadata": {},
   "source": [
    "## Investigating best way to subsitude the missing values"
   ]
  },
  {
   "cell_type": "code",
   "execution_count": 8,
   "metadata": {},
   "outputs": [
    {
     "name": "stdout",
     "output_type": "stream",
     "text": [
      "The amount of missing data per smart meter ranges between 1.1 % and 35.34 %.\n"
     ]
    }
   ],
   "source": [
    "amount_measurements = fullYeardata.shape[0]\n",
    "pct_NaN = fullYeardata.isnull().sum().sort_values().div(amount_measurements).mul(100)\n",
    "print(\"The amount of missing data per smart meter ranges between {} % and {} %.\".format(np.around(pct_NaN.min(),2),np.around(pct_NaN.max(),2)))"
   ]
  },
  {
   "cell_type": "code",
   "execution_count": 63,
   "metadata": {
    "scrolled": true
   },
   "outputs": [
    {
     "name": "stdout",
     "output_type": "stream",
     "text": [
      "Amount of meters with no missing days in the month March: 181.\n"
     ]
    }
   ],
   "source": [
    "data_MV = fullYeardata.copy(deep=True)\n",
    "data_MV[\"month\"] = data_MV.index.month_name()\n",
    "data_MV = data_MV[data_MV[\"month\"] == \"March\"]\n",
    "data_MV.drop(\"month\",axis='columns', inplace=True)\n",
    "# visualization_NaN([\"January\",\"February\",\"March\",\"April\",\"May\",\"June\",\"July\",\"August\",\"September\",\"October\",\"November\",\"December\"],\"meter_3002\")\n",
    "print(\"Amount of meters with no missing days in the month March: {}.\".format(len(data_MV.columns[data_MV.isnull().sum() == 0])))\n",
    "col_no_missing = list(data_MV.columns[data_MV.isnull().sum() == 0])\n"
   ]
  },
  {
   "cell_type": "code",
   "execution_count": 80,
   "metadata": {},
   "outputs": [],
   "source": [
    "reference = data_MV[col_no_missing].copy(deep=True)\n",
    "test = reference.copy(deep = True)"
   ]
  },
  {
   "cell_type": "code",
   "execution_count": 83,
   "metadata": {},
   "outputs": [
    {
     "data": {
      "text/plain": [
       "DatetimeIndex(['2017-03-01 00:00:00', '2017-03-01 00:30:00',\n",
       "               '2017-03-01 01:00:00', '2017-03-01 01:30:00',\n",
       "               '2017-03-01 02:00:00', '2017-03-01 02:30:00',\n",
       "               '2017-03-01 03:00:00', '2017-03-01 03:30:00',\n",
       "               '2017-03-01 04:00:00', '2017-03-01 04:30:00',\n",
       "               ...\n",
       "               '2017-03-31 19:00:00', '2017-03-31 19:30:00',\n",
       "               '2017-03-31 20:00:00', '2017-03-31 20:30:00',\n",
       "               '2017-03-31 21:00:00', '2017-03-31 21:30:00',\n",
       "               '2017-03-31 22:00:00', '2017-03-31 22:30:00',\n",
       "               '2017-03-31 23:00:00', '2017-03-31 23:30:00'],\n",
       "              dtype='datetime64[ns]', length=1488, freq=None)"
      ]
     },
     "execution_count": 83,
     "metadata": {},
     "output_type": "execute_result"
    }
   ],
   "source": [
    "test.index"
   ]
  },
  {
   "cell_type": "code",
   "execution_count": 84,
   "metadata": {},
   "outputs": [
    {
     "ename": "NameError",
     "evalue": "name 'temporal' is not defined",
     "output_type": "error",
     "traceback": [
      "\u001b[1;31m---------------------------------------------------------------------------\u001b[0m",
      "\u001b[1;31mNameError\u001b[0m                                 Traceback (most recent call last)",
      "\u001b[1;32m<ipython-input-84-bbcb71e5b3c2>\u001b[0m in \u001b[0;36m<module>\u001b[1;34m\u001b[0m\n\u001b[0;32m      5\u001b[0m     \u001b[0mrand_days\u001b[0m \u001b[1;33m=\u001b[0m \u001b[0mnp\u001b[0m\u001b[1;33m.\u001b[0m\u001b[0mrandom\u001b[0m\u001b[1;33m.\u001b[0m\u001b[0mrandint\u001b[0m\u001b[1;33m(\u001b[0m\u001b[1;36m2\u001b[0m\u001b[1;33m,\u001b[0m\u001b[1;36m31\u001b[0m\u001b[1;33m,\u001b[0m\u001b[0msize\u001b[0m\u001b[1;33m=\u001b[0m\u001b[1;36m7\u001b[0m\u001b[1;33m)\u001b[0m\u001b[1;33m\u001b[0m\u001b[1;33m\u001b[0m\u001b[0m\n\u001b[0;32m      6\u001b[0m     \u001b[0mtemporal_df\u001b[0m \u001b[1;33m=\u001b[0m \u001b[0mpd\u001b[0m\u001b[1;33m.\u001b[0m\u001b[0mDataFrame\u001b[0m\u001b[1;33m(\u001b[0m\u001b[0mindex\u001b[0m \u001b[1;33m=\u001b[0m \u001b[0mtest\u001b[0m\u001b[1;33m.\u001b[0m\u001b[0mindex\u001b[0m\u001b[1;33m)\u001b[0m\u001b[1;33m\u001b[0m\u001b[1;33m\u001b[0m\u001b[0m\n\u001b[1;32m----> 7\u001b[1;33m     \u001b[0mtemporal\u001b[0m\u001b[1;33m[\u001b[0m\u001b[1;34m\"day\"\u001b[0m\u001b[1;33m]\u001b[0m \u001b[1;33m=\u001b[0m \u001b[0mtest\u001b[0m\u001b[1;33m.\u001b[0m\u001b[0mindex\u001b[0m\u001b[1;33m.\u001b[0m\u001b[0mday\u001b[0m\u001b[1;33m\u001b[0m\u001b[1;33m\u001b[0m\u001b[0m\n\u001b[0m\u001b[0;32m      8\u001b[0m \u001b[1;33m\u001b[0m\u001b[0m\n\u001b[0;32m      9\u001b[0m \u001b[1;33m\u001b[0m\u001b[0m\n",
      "\u001b[1;31mNameError\u001b[0m: name 'temporal' is not defined"
     ]
    }
   ],
   "source": [
    "# Select randomly 7 days that will be removed. \n",
    "\n",
    "for col_ind in range(len(test.columns)):\n",
    "    ID = test.columns[col_ind]\n",
    "    rand_days = np.random.randint(2,31,size=7)\n",
    "    temporal_df = pd.DataFrame(index = test.index)\n",
    "    temporal_df[\"day\"] = test.index.day\n",
    "\n",
    "\n",
    "\n",
    "\n",
    "\n",
    "\n",
    "\n",
    "\n",
    "\n",
    "\n",
    "# Test the error that is made on the estimated days\n",
    "\n",
    "\n",
    "\n"
   ]
  }
 ],
 "metadata": {
  "kernelspec": {
   "display_name": "Python 3",
   "language": "python",
   "name": "python3"
  },
  "language_info": {
   "codemirror_mode": {
    "name": "ipython",
    "version": 3
   },
   "file_extension": ".py",
   "mimetype": "text/x-python",
   "name": "python",
   "nbconvert_exporter": "python",
   "pygments_lexer": "ipython3",
   "version": "3.8.3"
  }
 },
 "nbformat": 4,
 "nbformat_minor": 2
}
