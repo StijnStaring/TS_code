{
 "cells": [
  {
   "cell_type": "markdown",
   "metadata": {},
   "source": [
    "## Importing the time series and setting date time"
   ]
  },
  {
   "cell_type": "code",
   "execution_count": 1,
   "metadata": {},
   "outputs": [],
   "source": [
    "import pandas as pd # pandas\n",
    "import numpy as np\n",
    "import matplotlib.pyplot as plt\n",
    "import seaborn as sns\n",
    "from sklearn.impute import SimpleImputer\n",
    "# from sklearn import impute\n",
    "from  scipy.stats import skew, kurtosis, shapiro\n",
    "import datetime\n",
    "\n",
    "\n",
    "plt.rc('axes', linewidth=2)\n",
    "plt.rc('axes', labelsize= 16)\n",
    "plt.rc('axes',titlesize = 18)\n",
    "plt.rc('legend',fontsize=14)\n",
    "plt.rc('xtick', labelsize=16) \n",
    "plt.rc('ytick', labelsize=16) \n",
    "plt.rc('figure',figsize=(10,8))\n",
    "\n",
    "consumptionLoad = pd.read_csv(\"D:\\Onedrive\\Leuven\\Final project\\data\\consumption.csv\",index_col = \"meter_id\")\n",
    "new_index = np.arange(1,len(consumptionLoad.index)+1)\n",
    "new_index = []\n",
    "for i in np.arange(1,len(consumptionLoad.index)+1):\n",
    "    new_index.append(\"meter_\" + str(i))\n",
    "new_index = pd.Series(new_index)\n",
    "consumptionLoad.set_index(new_index,inplace=True)\n",
    "consumptionLoad_T = consumptionLoad.transpose()\n",
    "dates = pd.to_datetime(consumptionLoad_T.index)\n",
    "consumptionLoad_T = consumptionLoad_T.set_index(dates);consumptionLoad_T.head()\n",
    "consumptionLoad = consumptionLoad_T\n",
    "\n",
    "def figure_layout(figsize=(10,8),titel=\"\",xlabel=\"\",ylabel=\"\",fontsize_titel=18,fontsize_axis=16,fontsize_legend=14,fontsize_ticks=16):\n",
    "    plt.figure(figsize=figsize)\n",
    "    ax1 = plt.gca()\n",
    "    plt.rc('legend',fontsize=fontsize_legend)\n",
    "    plt.title(titel, fontsize=fontsize_titel, fontweight = 'bold')\n",
    "    plt.grid(True)\n",
    "    plt.xlabel(xlabel, fontsize=fontsize_axis)\n",
    "    plt.ylabel(ylabel, fontsize=fontsize_axis)\n",
    "    for tick in ax1.xaxis.get_major_ticks():\n",
    "            tick.label1.set_fontsize(fontsize_ticks)\n",
    "    #         tick.label1.set_fontweight('bold')\n",
    "    for tick in ax1.yaxis.get_major_ticks():\n",
    "        tick.label1.set_fontsize(fontsize_ticks)\n",
    "    #     tick.label1.set_fontweight('bold')\n",
    "    \n",
    "    return ax1\n",
    "\n",
    "plt.rc('axes', linewidth=2)\n",
    "plt.rc('axes', labelsize= 16)\n",
    "plt.rc('axes',titlesize = 18)\n",
    "plt.rc('legend',fontsize=14)\n",
    "plt.rc('xtick', labelsize=16) \n",
    "plt.rc('ytick', labelsize=16) \n",
    "plt.rc('figure',figsize=(10,8))\n",
    "\n"
   ]
  },
  {
   "cell_type": "code",
   "execution_count": 2,
   "metadata": {},
   "outputs": [],
   "source": [
    "def visualization_NaN(months_show,meter_show,rows = 4, columns = 3):\n",
    "    if rows*columns != len(months_show):\n",
    "        raise Exception(\"The number of months doesn't match with the amount of provided figures\")\n",
    "    originalMeter = pd.DataFrame(data=consumptionLoad_T[meter_show])\n",
    "    originalMeter[\"month\"] = originalMeter.index.month_name()\n",
    "    originalMeter[\"day\"] = originalMeter.index.day\n",
    "    r=0\n",
    "    c=0\n",
    "    _, axes = plt.subplots(rows,columns)\n",
    "\n",
    "    for m in months_show:\n",
    "        originalMeter_month = originalMeter[originalMeter[\"month\"] == m]\n",
    "\n",
    "        index = []\n",
    "        lost = []\n",
    "        full = []\n",
    "\n",
    "        for i in np.arange(originalMeter_month[\"day\"][0],originalMeter_month[\"day\"][-1]+1,1):\n",
    "            dataDay = originalMeter_month[originalMeter_month[\"day\"] == i]\n",
    "            index.append(str(i))\n",
    "            nNaN = dataDay[meter_show].isnull().sum()\n",
    "            lost.append(nNaN)\n",
    "            full.append(len(dataDay)-nNaN)\n",
    "\n",
    "        df = pd.DataFrame(index=index)\n",
    "        df[\"full\"] = full\n",
    "        df[\"lost\"] = lost\n",
    "\n",
    "        df.plot.bar(stacked=True,figsize=(30,24),ax=axes[r][c],title= m)\n",
    "\n",
    "        if c == columns - 1:\n",
    "            r += 1\n",
    "            c = 0\n",
    "        else:\n",
    "            c += 1\n",
    "    \n",
    "    plt.show()"
   ]
  },
  {
   "cell_type": "markdown",
   "metadata": {},
   "source": [
    "## Selecting the meters that have observations in all months."
   ]
  },
  {
   "cell_type": "code",
   "execution_count": 3,
   "metadata": {},
   "outputs": [],
   "source": [
    "data_monthly = consumptionLoad_T.resample('MS',axis=0).sum()\n",
    "new_index_months = data_monthly.index.month_name()\n",
    "data_monthly.set_index(new_index_months,inplace=True)\n",
    "### Create an empty dataframe to store the first index of non zero value\n",
    "first_non_zero_ind = pd.DataFrame(index = ['first_non_zero_row'])"
   ]
  },
  {
   "cell_type": "code",
   "execution_count": 4,
   "metadata": {},
   "outputs": [],
   "source": [
    "### Create empty list to store IDs of TS to remove (because they are full of zeros/NaN only)\n",
    "ID_NaN = []\n",
    "### Loop through the columns and though the indexes of the dataframe\n",
    "for col_ind in range(len(data_monthly.columns)):\n",
    "    ID = data_monthly.columns[col_ind]\n",
    "    for row_ind in range(len(data_monthly.index)):\n",
    "### we check for non zero values, but only if a first value has not been selected yet \n",
    "        if (data_monthly.iloc[[row_ind],[col_ind]].values != 0) and (not ID in first_non_zero_ind.columns):\n",
    "            first_non_zero_ind.insert(col_ind,ID,[row_ind]) #The value inserted indicates when the data starts\n",
    "### in the case of an 'empty' TS, we place a NaN and we save the ID of this TS     \n",
    "        elif ( all(val == 0 for val in data_monthly[[ID]].values) ) and (not ID in first_non_zero_ind.columns):\n",
    "            first_non_zero_ind.insert(col_ind,ID,np.NaN)\n",
    "            ID_NaN.append(ID)"
   ]
  },
  {
   "cell_type": "code",
   "execution_count": 5,
   "metadata": {},
   "outputs": [
    {
     "output_type": "stream",
     "name": "stdout",
     "text": [
      "Meter without data: ['meter_258'].\n"
     ]
    }
   ],
   "source": [
    "print(\"Meter without data: {}.\".format(ID_NaN))"
   ]
  },
  {
   "cell_type": "code",
   "execution_count": 6,
   "metadata": {},
   "outputs": [],
   "source": [
    "meters_with_full_data = first_non_zero_ind.columns[first_non_zero_ind.iloc[0] == 0]\n",
    "fullYeardata = consumptionLoad_T[meters_with_full_data]"
   ]
  },
  {
   "cell_type": "code",
   "execution_count": 7,
   "metadata": {},
   "outputs": [
    {
     "output_type": "stream",
     "name": "stdout",
     "text": [
      "The amount of measurements: 17520.\nThe amount of meters: 270.\n"
     ]
    }
   ],
   "source": [
    "amount_measurements = fullYeardata.shape[0]\n",
    "amount_meters = fullYeardata.shape[1]\n",
    "print(\"The amount of measurements: {}.\".format(amount_measurements))\n",
    "print(\"The amount of meters: {}.\".format(amount_meters))"
   ]
  },
  {
   "cell_type": "markdown",
   "metadata": {},
   "source": [
    "## Investigating best way to subsitude the missing values"
   ]
  },
  {
   "cell_type": "code",
   "execution_count": 8,
   "metadata": {},
   "outputs": [
    {
     "output_type": "stream",
     "name": "stdout",
     "text": [
      "The amount of missing data per smart meter ranges between 1.1 % and 35.34 %.\n"
     ]
    }
   ],
   "source": [
    "pct_NaN = fullYeardata.isnull().sum().sort_values().div(amount_measurements).mul(100)\n",
    "print(\"The amount of missing data per smart meter ranges between {} % and {} %.\".format(np.around(pct_NaN.min(),2),np.around(pct_NaN.max(),2)))"
   ]
  },
  {
   "cell_type": "code",
   "execution_count": 9,
   "metadata": {
    "scrolled": true
   },
   "outputs": [
    {
     "output_type": "stream",
     "name": "stdout",
     "text": [
      "Amount of meters with no missing days in the month March: 181.\n"
     ]
    }
   ],
   "source": [
    "data_MV = fullYeardata.copy(deep=True)\n",
    "data_MV[\"month\"] = data_MV.index.month_name()\n",
    "data_MV = data_MV[data_MV[\"month\"] == \"March\"]\n",
    "data_MV.drop(\"month\",axis='columns', inplace=True)\n",
    "# visualization_NaN([\"January\",\"February\",\"March\",\"April\",\"May\",\"June\",\"July\",\"August\",\"September\",\"October\",\"November\",\"December\"],\"meter_3002\")\n",
    "print(\"Amount of meters with no missing days in the month March: {}.\".format(len(data_MV.columns[data_MV.isnull().sum() == 0])))\n",
    "col_no_missing = list(data_MV.columns[data_MV.isnull().sum() == 0])\n"
   ]
  },
  {
   "cell_type": "code",
   "execution_count": 31,
   "metadata": {},
   "outputs": [],
   "source": [
    "reference = data_MV[col_no_missing].copy(deep=True)\n",
    "test = reference.copy(deep = True)"
   ]
  },
  {
   "cell_type": "code",
   "execution_count": 32,
   "metadata": {},
   "outputs": [
    {
     "output_type": "stream",
     "name": "stdout",
     "text": [
      "meter_2979    240\nmeter_2981    336\nmeter_2983    288\nmeter_2986    336\nmeter_2988    288\n             ... \nmeter_3239    288\nmeter_3240    288\nmeter_3241    240\nmeter_3243    288\nmeter_3246    240\nLength: 181, dtype: int64\n"
     ]
    }
   ],
   "source": [
    "# Select randomly 7 days that will be removed. \n",
    "removed_days = dict()\n",
    "test[\"day\"] = test.index.day\n",
    "for col_ind in range(len(test.columns)):\n",
    "    ID = test.columns[col_ind]\n",
    "    rand_days = np.random.randint(2,31,size=7)\n",
    "    removed_days[ID] = rand_days\n",
    "    for i in rand_days:\n",
    "        test.loc[test[\"day\"] == i,ID] = np.nan\n",
    "test.drop(\"day\",axis=1,inplace = True)\n",
    "print(test.isnull().sum())"
   ]
  },
  {
   "cell_type": "code",
   "execution_count": 33,
   "metadata": {},
   "outputs": [],
   "source": [
    "part_test = test.loc[:, 'meter_2981']"
   ]
  },
  {
   "cell_type": "code",
   "execution_count": 36,
   "metadata": {},
   "outputs": [
    {
     "output_type": "stream",
     "name": "stdout",
     "text": [
      "meter_2981    336\ndtype: int64\n                     meter_2981\n2017-03-01 00:00:00       0.648\n2017-03-01 00:30:00       1.773\n2017-03-01 01:00:00       1.733\n2017-03-01 01:30:00       1.742\n2017-03-01 02:00:00       1.747\n...                         ...\n2017-03-31 21:30:00       0.132\n2017-03-31 22:00:00       0.605\n2017-03-31 22:30:00       0.466\n2017-03-31 23:00:00       0.052\n2017-03-31 23:30:00       0.498\n\n[1488 rows x 1 columns]\n<class 'pandas.core.frame.DataFrame'>\n"
     ]
    }
   ],
   "source": [
    "df = pd.DataFrame(index = part_test.index, data = part_test)\n",
    "print(df.isnull().sum())\n",
    "print(df)\n",
    "print(type(df))"
   ]
  },
  {
   "cell_type": "code",
   "execution_count": 114,
   "metadata": {},
   "outputs": [],
   "source": [
    "# Estimate the missing data based on previous and future observations\n",
    "def estimated_mean_signal(test):\n",
    "    for col_ID in test.columns:\n",
    "        missing_index = test.loc[pd.isna(test[col_ID]), :].index\n",
    "        for date in missing_index:\n",
    "            n = 1\n",
    "            next_measure_index = date + datetime.timedelta(days= 1)\n",
    "            next_measure_value = test.loc[[next_measure_index],[col_ID]].iloc[0,0]\n",
    "            \n",
    "            previous_measure_index = date + datetime.timedelta(days= -1)\n",
    "            previous_measure_value = test.loc[[previous_measure_index],[col_ID]].iloc[0,0]\n",
    "            print(\"next_measure_value: %s\\tprevious_measure_value: %s\" % (next_measure_value, previous_measure_value))\n",
    "            print(np.isnan(next_measure_value))\n",
    "\n",
    "            while np.isnan(next_measure_value) or np.isnan(previous_measure_value):\n",
    "                n += 1\n",
    "                print(n)\n",
    "                \n",
    "                if np.isnan(next_measure_value) and np.isnan(previous_measure_value):\n",
    "\n",
    "                    next_measure_index = date + datetime.timedelta(days= n + 1)\n",
    "                    next_measure_value = test.loc[[next_measure_index],[col_ID]].iloc[0,0]\n",
    "                    previous_measure_index = date + datetime.timedelta(days= -1*(n + 1))\n",
    "                    previous_measure_value = test.loc[[next_measure_index],[col_ID]].iloc[0,0]\n",
    "                \n",
    "                elif np.isnan(next_measure_value):\n",
    "                    next_measure_index = date + datetime.timedelta(days= n + 1)\n",
    "                    next_measure_value = test.loc[[next_measure_index],[col_ID]].iloc[0,0]\n",
    "\n",
    "                elif np.isnan(previous_measure_value):\n",
    "                    previous_measure_index = date + datetime.timedelta(days= -1*(n + 1))\n",
    "                    previous_measure_value = test.loc[[next_measure_index],[col_ID]].iloc[0,0]\n",
    "\n",
    "                else:\n",
    "                    raise Exception(\"Should have been excepted by one of the previous cases.\")\n",
    "                    \n",
    "\n",
    "            estimation = (next_measure_value + previous_measure_value)/2\n",
    "            test.loc[date,col_ID] = estimation\n",
    "\n",
    "# Take a measure when first or last day of the year are missing\n",
    "\n"
   ]
  },
  {
   "cell_type": "code",
   "execution_count": 115,
   "metadata": {},
   "outputs": [
    {
     "output_type": "stream",
     "name": "stdout",
     "text": [
      "next_measure_value: nan\tprevious_measure_value: 0.065\n",
      "True\n",
      "2\n",
      "next_measure_value: nan\tprevious_measure_value: 1.6380000000000001\n",
      "True\n",
      "2\n",
      "next_measure_value: nan\tprevious_measure_value: 0.47200000000000003\n",
      "True\n",
      "2\n",
      "next_measure_value: nan\tprevious_measure_value: 0.358\n",
      "True\n",
      "2\n",
      "next_measure_value: nan\tprevious_measure_value: 0.306\n",
      "True\n",
      "2\n",
      "next_measure_value: nan\tprevious_measure_value: 0.068\n",
      "True\n",
      "2\n",
      "next_measure_value: nan\tprevious_measure_value: 1.1520000000000001\n",
      "True\n",
      "2\n",
      "next_measure_value: nan\tprevious_measure_value: 1.548\n",
      "True\n",
      "2\n",
      "next_measure_value: nan\tprevious_measure_value: 0.855\n",
      "True\n",
      "2\n",
      "next_measure_value: nan\tprevious_measure_value: 0.027000000000000003\n",
      "True\n",
      "2\n",
      "next_measure_value: nan\tprevious_measure_value: 0.040999999999999995\n",
      "True\n",
      "2\n",
      "next_measure_value: nan\tprevious_measure_value: 0.242\n",
      "True\n",
      "2\n",
      "next_measure_value: nan\tprevious_measure_value: 0.027000000000000003\n",
      "True\n",
      "2\n",
      "next_measure_value: nan\tprevious_measure_value: 0.045\n",
      "True\n",
      "2\n",
      "next_measure_value: nan\tprevious_measure_value: 0.055\n",
      "True\n",
      "2\n",
      "next_measure_value: nan\tprevious_measure_value: 0.02\n",
      "True\n",
      "2\n",
      "next_measure_value: nan\tprevious_measure_value: 0.20600000000000002\n",
      "True\n",
      "2\n",
      "next_measure_value: nan\tprevious_measure_value: 0.179\n",
      "True\n",
      "2\n",
      "next_measure_value: nan\tprevious_measure_value: 0.021\n",
      "True\n",
      "2\n",
      "next_measure_value: nan\tprevious_measure_value: 0.061\n",
      "True\n",
      "2\n",
      "next_measure_value: nan\tprevious_measure_value: 0.242\n",
      "True\n",
      "2\n",
      "next_measure_value: nan\tprevious_measure_value: 0.21600000000000005\n",
      "True\n",
      "2\n",
      "next_measure_value: nan\tprevious_measure_value: 0.185\n",
      "True\n",
      "2\n",
      "next_measure_value: nan\tprevious_measure_value: 0.158\n",
      "True\n",
      "2\n",
      "next_measure_value: nan\tprevious_measure_value: 0.22\n",
      "True\n",
      "2\n",
      "next_measure_value: nan\tprevious_measure_value: 0.20199999999999999\n",
      "True\n",
      "2\n",
      "next_measure_value: nan\tprevious_measure_value: 0.18899999999999997\n",
      "True\n",
      "2\n",
      "next_measure_value: nan\tprevious_measure_value: 0.231\n",
      "True\n",
      "2\n",
      "next_measure_value: nan\tprevious_measure_value: 0.192\n",
      "True\n",
      "2\n",
      "next_measure_value: nan\tprevious_measure_value: 0.2\n",
      "True\n",
      "2\n",
      "next_measure_value: nan\tprevious_measure_value: 0.21899999999999997\n",
      "True\n",
      "2\n",
      "next_measure_value: nan\tprevious_measure_value: 0.191\n",
      "True\n",
      "2\n",
      "next_measure_value: nan\tprevious_measure_value: 0.217\n",
      "True\n",
      "2\n",
      "next_measure_value: nan\tprevious_measure_value: 0.207\n",
      "True\n",
      "2\n",
      "next_measure_value: nan\tprevious_measure_value: 0.192\n",
      "True\n",
      "2\n",
      "next_measure_value: nan\tprevious_measure_value: 0.235\n",
      "True\n",
      "2\n",
      "next_measure_value: nan\tprevious_measure_value: 0.204\n",
      "True\n",
      "2\n",
      "next_measure_value: nan\tprevious_measure_value: 0.35\n",
      "True\n",
      "2\n",
      "next_measure_value: nan\tprevious_measure_value: 0.8590000000000001\n",
      "True\n",
      "2\n",
      "next_measure_value: nan\tprevious_measure_value: 0.715\n",
      "True\n",
      "2\n",
      "next_measure_value: nan\tprevious_measure_value: 0.713\n",
      "True\n",
      "2\n",
      "next_measure_value: nan\tprevious_measure_value: 0.48700000000000004\n",
      "True\n",
      "2\n",
      "next_measure_value: nan\tprevious_measure_value: 0.37\n",
      "True\n",
      "2\n",
      "next_measure_value: nan\tprevious_measure_value: 0.57\n",
      "True\n",
      "2\n",
      "next_measure_value: nan\tprevious_measure_value: 0.773\n",
      "True\n",
      "2\n",
      "next_measure_value: nan\tprevious_measure_value: 0.41700000000000004\n",
      "True\n",
      "2\n",
      "next_measure_value: nan\tprevious_measure_value: 0.052000000000000005\n",
      "True\n",
      "2\n",
      "next_measure_value: nan\tprevious_measure_value: 0.563\n",
      "True\n",
      "2\n",
      "next_measure_value: nan\tprevious_measure_value: 0.062\n",
      "True\n",
      "2\n",
      "next_measure_value: nan\tprevious_measure_value: 1.62\n",
      "True\n",
      "2\n",
      "next_measure_value: nan\tprevious_measure_value: 1.0350000000000001\n",
      "True\n",
      "2\n",
      "next_measure_value: nan\tprevious_measure_value: 0.9949999999999999\n",
      "True\n",
      "2\n",
      "next_measure_value: nan\tprevious_measure_value: 0.3175\n",
      "True\n",
      "2\n",
      "next_measure_value: nan\tprevious_measure_value: 0.1605\n",
      "True\n",
      "2\n",
      "next_measure_value: nan\tprevious_measure_value: 0.6060000000000001\n",
      "True\n",
      "2\n",
      "next_measure_value: nan\tprevious_measure_value: 0.878\n",
      "True\n",
      "2\n",
      "next_measure_value: nan\tprevious_measure_value: 0.456\n",
      "True\n",
      "2\n",
      "next_measure_value: nan\tprevious_measure_value: 0.1235\n",
      "True\n",
      "2\n",
      "next_measure_value: nan\tprevious_measure_value: 0.034\n",
      "True\n",
      "2\n",
      "next_measure_value: nan\tprevious_measure_value: 0.1575\n",
      "True\n",
      "2\n",
      "next_measure_value: nan\tprevious_measure_value: 0.1405\n",
      "True\n",
      "2\n",
      "next_measure_value: nan\tprevious_measure_value: 0.041\n",
      "True\n",
      "2\n",
      "next_measure_value: nan\tprevious_measure_value: 0.1405\n",
      "True\n",
      "2\n",
      "next_measure_value: nan\tprevious_measure_value: 0.1005\n",
      "True\n",
      "2\n",
      "next_measure_value: nan\tprevious_measure_value: 0.185\n",
      "True\n",
      "2\n",
      "next_measure_value: nan\tprevious_measure_value: 0.11099999999999999\n",
      "True\n",
      "2\n",
      "next_measure_value: nan\tprevious_measure_value: 0.0415\n",
      "True\n",
      "2\n",
      "next_measure_value: nan\tprevious_measure_value: 0.052500000000000005\n",
      "True\n",
      "2\n",
      "next_measure_value: nan\tprevious_measure_value: 0.1535\n",
      "True\n",
      "2\n",
      "next_measure_value: nan\tprevious_measure_value: 0.14350000000000002\n",
      "True\n",
      "2\n",
      "next_measure_value: nan\tprevious_measure_value: 0.1065\n",
      "True\n",
      "2\n",
      "next_measure_value: nan\tprevious_measure_value: 0.114\n",
      "True\n",
      "2\n",
      "next_measure_value: nan\tprevious_measure_value: 0.14300000000000002\n",
      "True\n",
      "2\n",
      "next_measure_value: nan\tprevious_measure_value: 0.11149999999999999\n",
      "True\n",
      "2\n",
      "next_measure_value: nan\tprevious_measure_value: 0.1205\n",
      "True\n",
      "2\n",
      "next_measure_value: nan\tprevious_measure_value: 0.1335\n",
      "True\n",
      "2\n",
      "next_measure_value: nan\tprevious_measure_value: 0.119\n",
      "True\n",
      "2\n",
      "next_measure_value: nan\tprevious_measure_value: 0.1965\n",
      "True\n",
      "2\n",
      "next_measure_value: nan\tprevious_measure_value: 0.12099999999999998\n",
      "True\n",
      "2\n",
      "next_measure_value: nan\tprevious_measure_value: 0.1225\n",
      "True\n",
      "2\n",
      "next_measure_value: nan\tprevious_measure_value: 0.14200000000000002\n",
      "True\n",
      "2\n",
      "next_measure_value: nan\tprevious_measure_value: 0.1245\n",
      "True\n",
      "2\n",
      "next_measure_value: nan\tprevious_measure_value: 0.131\n",
      "True\n",
      "2\n",
      "next_measure_value: nan\tprevious_measure_value: 0.13649999999999998\n",
      "True\n",
      "2\n",
      "next_measure_value: nan\tprevious_measure_value: 0.15\n",
      "True\n",
      "2\n",
      "next_measure_value: nan\tprevious_measure_value: 0.2465\n",
      "True\n",
      "2\n",
      "next_measure_value: nan\tprevious_measure_value: 0.49350000000000005\n",
      "True\n",
      "2\n",
      "next_measure_value: nan\tprevious_measure_value: 0.439\n",
      "True\n",
      "2\n",
      "next_measure_value: nan\tprevious_measure_value: 0.4795\n",
      "True\n",
      "2\n",
      "next_measure_value: nan\tprevious_measure_value: 0.3055\n",
      "True\n",
      "2\n",
      "next_measure_value: nan\tprevious_measure_value: 0.352\n",
      "True\n",
      "2\n",
      "next_measure_value: nan\tprevious_measure_value: 0.45949999999999996\n",
      "True\n",
      "2\n",
      "next_measure_value: nan\tprevious_measure_value: 0.617\n",
      "True\n",
      "2\n",
      "next_measure_value: nan\tprevious_measure_value: 0.251\n",
      "True\n",
      "2\n",
      "next_measure_value: nan\tprevious_measure_value: 0.29000000000000004\n",
      "True\n",
      "2\n",
      "next_measure_value: nan\tprevious_measure_value: 0.3155\n",
      "True\n",
      "2\n",
      "next_measure_value: 0.059000000000000004\tprevious_measure_value: 0.043\n",
      "False\n",
      "next_measure_value: 1.6019999999999999\tprevious_measure_value: 1.6065\n",
      "False\n",
      "next_measure_value: 1.598\tprevious_measure_value: 0.8125\n",
      "False\n",
      "next_measure_value: 1.632\tprevious_measure_value: 0.631\n",
      "False\n",
      "next_measure_value: 0.32899999999999996\tprevious_measure_value: 0.28975\n",
      "False\n",
      "next_measure_value: 0.253\tprevious_measure_value: 0.09325\n",
      "False\n",
      "next_measure_value: 0.06\tprevious_measure_value: 0.42950000000000005\n",
      "False\n",
      "next_measure_value: 0.20800000000000002\tprevious_measure_value: 0.462\n",
      "False\n",
      "next_measure_value: 0.057\tprevious_measure_value: 0.24150000000000002\n",
      "False\n",
      "next_measure_value: 0.22\tprevious_measure_value: 0.09725\n",
      "False\n",
      "next_measure_value: 0.027000000000000003\tprevious_measure_value: 0.12500000000000003\n",
      "False\n",
      "next_measure_value: 0.073\tprevious_measure_value: 0.10125\n",
      "False\n",
      "next_measure_value: 0.254\tprevious_measure_value: 0.16225\n",
      "False\n",
      "next_measure_value: 0.037000000000000005\tprevious_measure_value: 0.146\n",
      "False\n",
      "next_measure_value: 0.226\tprevious_measure_value: 0.27925\n",
      "False\n",
      "next_measure_value: 0.18100000000000002\tprevious_measure_value: 0.08225\n",
      "False\n",
      "next_measure_value: 0.16399999999999998\tprevious_measure_value: 0.1145\n",
      "False\n",
      "next_measure_value: 0.043\tprevious_measure_value: 0.0895\n",
      "False\n",
      "next_measure_value: 0.062\tprevious_measure_value: 0.05425000000000001\n",
      "False\n",
      "next_measure_value: 0.044000000000000004\tprevious_measure_value: 0.044750000000000005\n",
      "False\n",
      "next_measure_value: 0.065\tprevious_measure_value: 0.17725000000000002\n",
      "False\n",
      "next_measure_value: 0.071\tprevious_measure_value: 0.10575000000000001\n",
      "False\n",
      "next_measure_value: 0.027999999999999997\tprevious_measure_value: 0.08925\n",
      "False\n",
      "next_measure_value: 0.07\tprevious_measure_value: 0.092\n",
      "False\n",
      "next_measure_value: 0.066\tprevious_measure_value: 0.09250000000000001\n",
      "False\n",
      "next_measure_value: 0.021\tprevious_measure_value: 0.06624999999999999\n",
      "False\n",
      "next_measure_value: 0.052000000000000005\tprevious_measure_value: 0.09125\n",
      "False\n",
      "next_measure_value: 0.036000000000000004\tprevious_measure_value: 0.08125\n",
      "False\n",
      "next_measure_value: 0.046\tprevious_measure_value: 0.0745\n",
      "False\n",
      "next_measure_value: 0.193\tprevious_measure_value: 0.12975\n",
      "False\n",
      "next_measure_value: 0.023\tprevious_measure_value: 0.071\n",
      "False\n",
      "next_measure_value: 0.054000000000000006\tprevious_measure_value: 0.17475\n",
      "False\n",
      "next_measure_value: 0.067\tprevious_measure_value: 0.11900000000000001\n",
      "False\n",
      "next_measure_value: 0.042\tprevious_measure_value: 0.09225\n",
      "False\n",
      "next_measure_value: 0.07\tprevious_measure_value: 0.1065\n",
      "False\n",
      "next_measure_value: 0.038\tprevious_measure_value: 0.10474999999999998\n",
      "False\n",
      "next_measure_value: 0.096\tprevious_measure_value: 0.0995\n",
      "False\n",
      "next_measure_value: 0.14300000000000002\tprevious_measure_value: 0.18875\n",
      "False\n",
      "next_measure_value: 0.128\tprevious_measure_value: 0.29575\n",
      "False\n",
      "next_measure_value: 0.163\tprevious_measure_value: 0.298\n",
      "False\n",
      "next_measure_value: 0.24600000000000002\tprevious_measure_value: 0.33075\n",
      "False\n",
      "next_measure_value: 0.124\tprevious_measure_value: 0.28525\n",
      "False\n",
      "next_measure_value: 0.33399999999999996\tprevious_measure_value: 0.26349999999999996\n",
      "False\n",
      "next_measure_value: 0.349\tprevious_measure_value: 0.29525\n",
      "False\n",
      "next_measure_value: 0.461\tprevious_measure_value: 0.326\n",
      "False\n",
      "next_measure_value: 0.085\tprevious_measure_value: 0.1625\n",
      "False\n",
      "next_measure_value: 0.528\tprevious_measure_value: 0.16000000000000003\n",
      "False\n",
      "next_measure_value: 0.068\tprevious_measure_value: 0.17975\n",
      "False\n"
     ]
    }
   ],
   "source": [
    "estimated_mean_signal(df)"
   ]
  },
  {
   "cell_type": "code",
   "execution_count": 116,
   "metadata": {},
   "outputs": [
    {
     "output_type": "stream",
     "name": "stdout",
     "text": [
      "                     meter_2981\n2017-03-26 00:00:00    0.062000\n2017-03-26 00:30:00    1.620000\n2017-03-26 01:00:00    1.035000\n2017-03-26 01:30:00    0.995000\n2017-03-26 02:00:00    0.317500\n...                         ...\n2017-03-28 21:30:00    0.322125\n2017-03-28 22:00:00    0.393500\n2017-03-28 22:30:00    0.123750\n2017-03-28 23:00:00    0.344000\n2017-03-28 23:30:00    0.123875\n\n[144 rows x 1 columns]\n"
     ]
    }
   ],
   "source": [
    "print(df.loc['2017-03-26':'2017-03-28'])\n",
    "\n"
   ]
  },
  {
   "cell_type": "code",
   "execution_count": 117,
   "metadata": {},
   "outputs": [
    {
     "output_type": "execute_result",
     "data": {
      "text/plain": [
       "<matplotlib.axes._subplots.AxesSubplot at 0x2823795d460>"
      ]
     },
     "metadata": {},
     "execution_count": 117
    },
    {
     "output_type": "display_data",
     "data": {
      "text/plain": "<Figure size 720x576 with 1 Axes>",
      "image/svg+xml": "<?xml version=\"1.0\" encoding=\"utf-8\" standalone=\"no\"?>\r\n<!DOCTYPE svg PUBLIC \"-//W3C//DTD SVG 1.1//EN\"\r\n  \"http://www.w3.org/Graphics/SVG/1.1/DTD/svg11.dtd\">\r\n<!-- Created with matplotlib (https://matplotlib.org/) -->\r\n<svg height=\"525.5145pt\" version=\"1.1\" viewBox=\"0 0 592.76 525.5145\" width=\"592.76pt\" xmlns=\"http://www.w3.org/2000/svg\" xmlns:xlink=\"http://www.w3.org/1999/xlink\">\r\n <defs>\r\n  <style type=\"text/css\">\r\n*{stroke-linecap:butt;stroke-linejoin:round;}\r\n  </style>\r\n </defs>\r\n <g id=\"figure_1\">\r\n  <g id=\"patch_1\">\r\n   <path d=\"M 0 525.5145 \r\nL 592.76 525.5145 \r\nL 592.76 0 \r\nL 0 0 \r\nz\r\n\" style=\"fill:none;\"/>\r\n  </g>\r\n  <g id=\"axes_1\">\r\n   <g id=\"patch_2\">\r\n    <path d=\"M 27.56 442.08 \r\nL 585.56 442.08 \r\nL 585.56 7.2 \r\nL 27.56 7.2 \r\nz\r\n\" style=\"fill:#ffffff;\"/>\r\n   </g>\r\n   <g id=\"matplotlib.axis_1\">\r\n    <g id=\"xtick_1\">\r\n     <g id=\"line2d_1\">\r\n      <defs>\r\n       <path d=\"M 0 0 \r\nL 0 3.5 \r\n\" id=\"mafec7c1d99\" style=\"stroke:#000000;stroke-width:0.8;\"/>\r\n      </defs>\r\n      <g>\r\n       <use style=\"stroke:#000000;stroke-width:0.8;\" x=\"27.56\" xlink:href=\"#mafec7c1d99\" y=\"442.08\"/>\r\n      </g>\r\n     </g>\r\n     <g id=\"text_1\">\r\n      <!--  -->\r\n      <g transform=\"translate(27.56 461.2375)scale(0.16 -0.16)\"/>\r\n      <!--  -->\r\n      <g transform=\"translate(27.56 479.154)scale(0.16 -0.16)\"/>\r\n      <!-- Mar -->\r\n      <defs>\r\n       <path d=\"M 9.8125 72.90625 \r\nL 24.515625 72.90625 \r\nL 43.109375 23.296875 \r\nL 61.8125 72.90625 \r\nL 76.515625 72.90625 \r\nL 76.515625 0 \r\nL 66.890625 0 \r\nL 66.890625 64.015625 \r\nL 48.09375 14.015625 \r\nL 38.1875 14.015625 \r\nL 19.390625 64.015625 \r\nL 19.390625 0 \r\nL 9.8125 0 \r\nz\r\n\" id=\"DejaVuSans-77\"/>\r\n       <path d=\"M 34.28125 27.484375 \r\nQ 23.390625 27.484375 19.1875 25 \r\nQ 14.984375 22.515625 14.984375 16.5 \r\nQ 14.984375 11.71875 18.140625 8.90625 \r\nQ 21.296875 6.109375 26.703125 6.109375 \r\nQ 34.1875 6.109375 38.703125 11.40625 \r\nQ 43.21875 16.703125 43.21875 25.484375 \r\nL 43.21875 27.484375 \r\nz\r\nM 52.203125 31.203125 \r\nL 52.203125 0 \r\nL 43.21875 0 \r\nL 43.21875 8.296875 \r\nQ 40.140625 3.328125 35.546875 0.953125 \r\nQ 30.953125 -1.421875 24.3125 -1.421875 \r\nQ 15.921875 -1.421875 10.953125 3.296875 \r\nQ 6 8.015625 6 15.921875 \r\nQ 6 25.140625 12.171875 29.828125 \r\nQ 18.359375 34.515625 30.609375 34.515625 \r\nL 43.21875 34.515625 \r\nL 43.21875 35.40625 \r\nQ 43.21875 41.609375 39.140625 45 \r\nQ 35.0625 48.390625 27.6875 48.390625 \r\nQ 23 48.390625 18.546875 47.265625 \r\nQ 14.109375 46.140625 10.015625 43.890625 \r\nL 10.015625 52.203125 \r\nQ 14.9375 54.109375 19.578125 55.046875 \r\nQ 24.21875 56 28.609375 56 \r\nQ 40.484375 56 46.34375 49.84375 \r\nQ 52.203125 43.703125 52.203125 31.203125 \r\nz\r\n\" id=\"DejaVuSans-97\"/>\r\n       <path d=\"M 41.109375 46.296875 \r\nQ 39.59375 47.171875 37.8125 47.578125 \r\nQ 36.03125 48 33.890625 48 \r\nQ 26.265625 48 22.1875 43.046875 \r\nQ 18.109375 38.09375 18.109375 28.8125 \r\nL 18.109375 0 \r\nL 9.078125 0 \r\nL 9.078125 54.6875 \r\nL 18.109375 54.6875 \r\nL 18.109375 46.1875 \r\nQ 20.953125 51.171875 25.484375 53.578125 \r\nQ 30.03125 56 36.53125 56 \r\nQ 37.453125 56 38.578125 55.875 \r\nQ 39.703125 55.765625 41.0625 55.515625 \r\nz\r\n\" id=\"DejaVuSans-114\"/>\r\n      </defs>\r\n      <g transform=\"translate(12.46625 497.0705)scale(0.16 -0.16)\">\r\n       <use xlink:href=\"#DejaVuSans-77\"/>\r\n       <use x=\"86.279297\" xlink:href=\"#DejaVuSans-97\"/>\r\n       <use x=\"147.558594\" xlink:href=\"#DejaVuSans-114\"/>\r\n      </g>\r\n      <!-- 2017 -->\r\n      <defs>\r\n       <path d=\"M 19.1875 8.296875 \r\nL 53.609375 8.296875 \r\nL 53.609375 0 \r\nL 7.328125 0 \r\nL 7.328125 8.296875 \r\nQ 12.9375 14.109375 22.625 23.890625 \r\nQ 32.328125 33.6875 34.8125 36.53125 \r\nQ 39.546875 41.84375 41.421875 45.53125 \r\nQ 43.3125 49.21875 43.3125 52.78125 \r\nQ 43.3125 58.59375 39.234375 62.25 \r\nQ 35.15625 65.921875 28.609375 65.921875 \r\nQ 23.96875 65.921875 18.8125 64.3125 \r\nQ 13.671875 62.703125 7.8125 59.421875 \r\nL 7.8125 69.390625 \r\nQ 13.765625 71.78125 18.9375 73 \r\nQ 24.125 74.21875 28.421875 74.21875 \r\nQ 39.75 74.21875 46.484375 68.546875 \r\nQ 53.21875 62.890625 53.21875 53.421875 \r\nQ 53.21875 48.921875 51.53125 44.890625 \r\nQ 49.859375 40.875 45.40625 35.40625 \r\nQ 44.1875 33.984375 37.640625 27.21875 \r\nQ 31.109375 20.453125 19.1875 8.296875 \r\nz\r\n\" id=\"DejaVuSans-50\"/>\r\n       <path d=\"M 31.78125 66.40625 \r\nQ 24.171875 66.40625 20.328125 58.90625 \r\nQ 16.5 51.421875 16.5 36.375 \r\nQ 16.5 21.390625 20.328125 13.890625 \r\nQ 24.171875 6.390625 31.78125 6.390625 \r\nQ 39.453125 6.390625 43.28125 13.890625 \r\nQ 47.125 21.390625 47.125 36.375 \r\nQ 47.125 51.421875 43.28125 58.90625 \r\nQ 39.453125 66.40625 31.78125 66.40625 \r\nz\r\nM 31.78125 74.21875 \r\nQ 44.046875 74.21875 50.515625 64.515625 \r\nQ 56.984375 54.828125 56.984375 36.375 \r\nQ 56.984375 17.96875 50.515625 8.265625 \r\nQ 44.046875 -1.421875 31.78125 -1.421875 \r\nQ 19.53125 -1.421875 13.0625 8.265625 \r\nQ 6.59375 17.96875 6.59375 36.375 \r\nQ 6.59375 54.828125 13.0625 64.515625 \r\nQ 19.53125 74.21875 31.78125 74.21875 \r\nz\r\n\" id=\"DejaVuSans-48\"/>\r\n       <path d=\"M 12.40625 8.296875 \r\nL 28.515625 8.296875 \r\nL 28.515625 63.921875 \r\nL 10.984375 60.40625 \r\nL 10.984375 69.390625 \r\nL 28.421875 72.90625 \r\nL 38.28125 72.90625 \r\nL 38.28125 8.296875 \r\nL 54.390625 8.296875 \r\nL 54.390625 0 \r\nL 12.40625 0 \r\nz\r\n\" id=\"DejaVuSans-49\"/>\r\n       <path d=\"M 8.203125 72.90625 \r\nL 55.078125 72.90625 \r\nL 55.078125 68.703125 \r\nL 28.609375 0 \r\nL 18.3125 0 \r\nL 43.21875 64.59375 \r\nL 8.203125 64.59375 \r\nz\r\n\" id=\"DejaVuSans-55\"/>\r\n      </defs>\r\n      <g transform=\"translate(7.2 514.987)scale(0.16 -0.16)\">\r\n       <use xlink:href=\"#DejaVuSans-50\"/>\r\n       <use x=\"63.623047\" xlink:href=\"#DejaVuSans-48\"/>\r\n       <use x=\"127.246094\" xlink:href=\"#DejaVuSans-49\"/>\r\n       <use x=\"190.869141\" xlink:href=\"#DejaVuSans-55\"/>\r\n      </g>\r\n     </g>\r\n    </g>\r\n    <g id=\"xtick_2\">\r\n     <g id=\"line2d_2\">\r\n      <g>\r\n       <use style=\"stroke:#000000;stroke-width:0.8;\" x=\"585.56\" xlink:href=\"#mafec7c1d99\" y=\"442.08\"/>\r\n      </g>\r\n     </g>\r\n    </g>\r\n    <g id=\"xtick_3\">\r\n     <g id=\"line2d_3\">\r\n      <defs>\r\n       <path d=\"M 0 0 \r\nL 0 2 \r\n\" id=\"m9bdf63196b\" style=\"stroke:#000000;stroke-width:0.6;\"/>\r\n      </defs>\r\n      <g>\r\n       <use style=\"stroke:#000000;stroke-width:0.6;\" x=\"45.572105\" xlink:href=\"#m9bdf63196b\" y=\"442.08\"/>\r\n      </g>\r\n     </g>\r\n    </g>\r\n    <g id=\"xtick_4\">\r\n     <g id=\"line2d_4\">\r\n      <g>\r\n       <use style=\"stroke:#000000;stroke-width:0.6;\" x=\"63.58421\" xlink:href=\"#m9bdf63196b\" y=\"442.08\"/>\r\n      </g>\r\n     </g>\r\n    </g>\r\n    <g id=\"xtick_5\">\r\n     <g id=\"line2d_5\">\r\n      <g>\r\n       <use style=\"stroke:#000000;stroke-width:0.6;\" x=\"81.596315\" xlink:href=\"#m9bdf63196b\" y=\"442.08\"/>\r\n      </g>\r\n     </g>\r\n    </g>\r\n    <g id=\"xtick_6\">\r\n     <g id=\"line2d_6\">\r\n      <g>\r\n       <use style=\"stroke:#000000;stroke-width:0.6;\" x=\"99.60842\" xlink:href=\"#m9bdf63196b\" y=\"442.08\"/>\r\n      </g>\r\n     </g>\r\n    </g>\r\n    <g id=\"xtick_7\">\r\n     <g id=\"line2d_7\">\r\n      <g>\r\n       <use style=\"stroke:#000000;stroke-width:0.6;\" x=\"117.620525\" xlink:href=\"#m9bdf63196b\" y=\"442.08\"/>\r\n      </g>\r\n     </g>\r\n     <g id=\"text_2\">\r\n      <!-- 06 -->\r\n      <defs>\r\n       <path d=\"M 33.015625 40.375 \r\nQ 26.375 40.375 22.484375 35.828125 \r\nQ 18.609375 31.296875 18.609375 23.390625 \r\nQ 18.609375 15.53125 22.484375 10.953125 \r\nQ 26.375 6.390625 33.015625 6.390625 \r\nQ 39.65625 6.390625 43.53125 10.953125 \r\nQ 47.40625 15.53125 47.40625 23.390625 \r\nQ 47.40625 31.296875 43.53125 35.828125 \r\nQ 39.65625 40.375 33.015625 40.375 \r\nz\r\nM 52.59375 71.296875 \r\nL 52.59375 62.3125 \r\nQ 48.875 64.0625 45.09375 64.984375 \r\nQ 41.3125 65.921875 37.59375 65.921875 \r\nQ 27.828125 65.921875 22.671875 59.328125 \r\nQ 17.53125 52.734375 16.796875 39.40625 \r\nQ 19.671875 43.65625 24.015625 45.921875 \r\nQ 28.375 48.1875 33.59375 48.1875 \r\nQ 44.578125 48.1875 50.953125 41.515625 \r\nQ 57.328125 34.859375 57.328125 23.390625 \r\nQ 57.328125 12.15625 50.6875 5.359375 \r\nQ 44.046875 -1.421875 33.015625 -1.421875 \r\nQ 20.359375 -1.421875 13.671875 8.265625 \r\nQ 6.984375 17.96875 6.984375 36.375 \r\nQ 6.984375 53.65625 15.1875 63.9375 \r\nQ 23.390625 74.21875 37.203125 74.21875 \r\nQ 40.921875 74.21875 44.703125 73.484375 \r\nQ 48.484375 72.75 52.59375 71.296875 \r\nz\r\n\" id=\"DejaVuSans-54\"/>\r\n      </defs>\r\n      <g transform=\"translate(107.440525 459.6375)scale(0.16 -0.16)\">\r\n       <use xlink:href=\"#DejaVuSans-48\"/>\r\n       <use x=\"63.623047\" xlink:href=\"#DejaVuSans-54\"/>\r\n      </g>\r\n     </g>\r\n    </g>\r\n    <g id=\"xtick_8\">\r\n     <g id=\"line2d_8\">\r\n      <g>\r\n       <use style=\"stroke:#000000;stroke-width:0.6;\" x=\"135.632629\" xlink:href=\"#m9bdf63196b\" y=\"442.08\"/>\r\n      </g>\r\n     </g>\r\n    </g>\r\n    <g id=\"xtick_9\">\r\n     <g id=\"line2d_9\">\r\n      <g>\r\n       <use style=\"stroke:#000000;stroke-width:0.6;\" x=\"153.644734\" xlink:href=\"#m9bdf63196b\" y=\"442.08\"/>\r\n      </g>\r\n     </g>\r\n    </g>\r\n    <g id=\"xtick_10\">\r\n     <g id=\"line2d_10\">\r\n      <g>\r\n       <use style=\"stroke:#000000;stroke-width:0.6;\" x=\"171.656839\" xlink:href=\"#m9bdf63196b\" y=\"442.08\"/>\r\n      </g>\r\n     </g>\r\n    </g>\r\n    <g id=\"xtick_11\">\r\n     <g id=\"line2d_11\">\r\n      <g>\r\n       <use style=\"stroke:#000000;stroke-width:0.6;\" x=\"189.668944\" xlink:href=\"#m9bdf63196b\" y=\"442.08\"/>\r\n      </g>\r\n     </g>\r\n    </g>\r\n    <g id=\"xtick_12\">\r\n     <g id=\"line2d_12\">\r\n      <g>\r\n       <use style=\"stroke:#000000;stroke-width:0.6;\" x=\"207.681049\" xlink:href=\"#m9bdf63196b\" y=\"442.08\"/>\r\n      </g>\r\n     </g>\r\n    </g>\r\n    <g id=\"xtick_13\">\r\n     <g id=\"line2d_13\">\r\n      <g>\r\n       <use style=\"stroke:#000000;stroke-width:0.6;\" x=\"225.693154\" xlink:href=\"#m9bdf63196b\" y=\"442.08\"/>\r\n      </g>\r\n     </g>\r\n    </g>\r\n    <g id=\"xtick_14\">\r\n     <g id=\"line2d_14\">\r\n      <g>\r\n       <use style=\"stroke:#000000;stroke-width:0.6;\" x=\"243.705259\" xlink:href=\"#m9bdf63196b\" y=\"442.08\"/>\r\n      </g>\r\n     </g>\r\n     <g id=\"text_3\">\r\n      <!-- 13 -->\r\n      <defs>\r\n       <path d=\"M 40.578125 39.3125 \r\nQ 47.65625 37.796875 51.625 33 \r\nQ 55.609375 28.21875 55.609375 21.1875 \r\nQ 55.609375 10.40625 48.1875 4.484375 \r\nQ 40.765625 -1.421875 27.09375 -1.421875 \r\nQ 22.515625 -1.421875 17.65625 -0.515625 \r\nQ 12.796875 0.390625 7.625 2.203125 \r\nL 7.625 11.71875 \r\nQ 11.71875 9.328125 16.59375 8.109375 \r\nQ 21.484375 6.890625 26.8125 6.890625 \r\nQ 36.078125 6.890625 40.9375 10.546875 \r\nQ 45.796875 14.203125 45.796875 21.1875 \r\nQ 45.796875 27.640625 41.28125 31.265625 \r\nQ 36.765625 34.90625 28.71875 34.90625 \r\nL 20.21875 34.90625 \r\nL 20.21875 43.015625 \r\nL 29.109375 43.015625 \r\nQ 36.375 43.015625 40.234375 45.921875 \r\nQ 44.09375 48.828125 44.09375 54.296875 \r\nQ 44.09375 59.90625 40.109375 62.90625 \r\nQ 36.140625 65.921875 28.71875 65.921875 \r\nQ 24.65625 65.921875 20.015625 65.03125 \r\nQ 15.375 64.15625 9.8125 62.3125 \r\nL 9.8125 71.09375 \r\nQ 15.4375 72.65625 20.34375 73.4375 \r\nQ 25.25 74.21875 29.59375 74.21875 \r\nQ 40.828125 74.21875 47.359375 69.109375 \r\nQ 53.90625 64.015625 53.90625 55.328125 \r\nQ 53.90625 49.265625 50.4375 45.09375 \r\nQ 46.96875 40.921875 40.578125 39.3125 \r\nz\r\n\" id=\"DejaVuSans-51\"/>\r\n      </defs>\r\n      <g transform=\"translate(233.525259 459.6375)scale(0.16 -0.16)\">\r\n       <use xlink:href=\"#DejaVuSans-49\"/>\r\n       <use x=\"63.623047\" xlink:href=\"#DejaVuSans-51\"/>\r\n      </g>\r\n     </g>\r\n    </g>\r\n    <g id=\"xtick_15\">\r\n     <g id=\"line2d_15\">\r\n      <g>\r\n       <use style=\"stroke:#000000;stroke-width:0.6;\" x=\"261.717364\" xlink:href=\"#m9bdf63196b\" y=\"442.08\"/>\r\n      </g>\r\n     </g>\r\n    </g>\r\n    <g id=\"xtick_16\">\r\n     <g id=\"line2d_16\">\r\n      <g>\r\n       <use style=\"stroke:#000000;stroke-width:0.6;\" x=\"279.729469\" xlink:href=\"#m9bdf63196b\" y=\"442.08\"/>\r\n      </g>\r\n     </g>\r\n    </g>\r\n    <g id=\"xtick_17\">\r\n     <g id=\"line2d_17\">\r\n      <g>\r\n       <use style=\"stroke:#000000;stroke-width:0.6;\" x=\"297.741574\" xlink:href=\"#m9bdf63196b\" y=\"442.08\"/>\r\n      </g>\r\n     </g>\r\n    </g>\r\n    <g id=\"xtick_18\">\r\n     <g id=\"line2d_18\">\r\n      <g>\r\n       <use style=\"stroke:#000000;stroke-width:0.6;\" x=\"315.753679\" xlink:href=\"#m9bdf63196b\" y=\"442.08\"/>\r\n      </g>\r\n     </g>\r\n    </g>\r\n    <g id=\"xtick_19\">\r\n     <g id=\"line2d_19\">\r\n      <g>\r\n       <use style=\"stroke:#000000;stroke-width:0.6;\" x=\"333.765783\" xlink:href=\"#m9bdf63196b\" y=\"442.08\"/>\r\n      </g>\r\n     </g>\r\n    </g>\r\n    <g id=\"xtick_20\">\r\n     <g id=\"line2d_20\">\r\n      <g>\r\n       <use style=\"stroke:#000000;stroke-width:0.6;\" x=\"351.777888\" xlink:href=\"#m9bdf63196b\" y=\"442.08\"/>\r\n      </g>\r\n     </g>\r\n    </g>\r\n    <g id=\"xtick_21\">\r\n     <g id=\"line2d_21\">\r\n      <g>\r\n       <use style=\"stroke:#000000;stroke-width:0.6;\" x=\"369.789993\" xlink:href=\"#m9bdf63196b\" y=\"442.08\"/>\r\n      </g>\r\n     </g>\r\n     <g id=\"text_4\">\r\n      <!-- 20 -->\r\n      <g transform=\"translate(359.609993 459.6375)scale(0.16 -0.16)\">\r\n       <use xlink:href=\"#DejaVuSans-50\"/>\r\n       <use x=\"63.623047\" xlink:href=\"#DejaVuSans-48\"/>\r\n      </g>\r\n     </g>\r\n    </g>\r\n    <g id=\"xtick_22\">\r\n     <g id=\"line2d_22\">\r\n      <g>\r\n       <use style=\"stroke:#000000;stroke-width:0.6;\" x=\"387.802098\" xlink:href=\"#m9bdf63196b\" y=\"442.08\"/>\r\n      </g>\r\n     </g>\r\n    </g>\r\n    <g id=\"xtick_23\">\r\n     <g id=\"line2d_23\">\r\n      <g>\r\n       <use style=\"stroke:#000000;stroke-width:0.6;\" x=\"405.814203\" xlink:href=\"#m9bdf63196b\" y=\"442.08\"/>\r\n      </g>\r\n     </g>\r\n    </g>\r\n    <g id=\"xtick_24\">\r\n     <g id=\"line2d_24\">\r\n      <g>\r\n       <use style=\"stroke:#000000;stroke-width:0.6;\" x=\"423.826308\" xlink:href=\"#m9bdf63196b\" y=\"442.08\"/>\r\n      </g>\r\n     </g>\r\n    </g>\r\n    <g id=\"xtick_25\">\r\n     <g id=\"line2d_25\">\r\n      <g>\r\n       <use style=\"stroke:#000000;stroke-width:0.6;\" x=\"441.838413\" xlink:href=\"#m9bdf63196b\" y=\"442.08\"/>\r\n      </g>\r\n     </g>\r\n    </g>\r\n    <g id=\"xtick_26\">\r\n     <g id=\"line2d_26\">\r\n      <g>\r\n       <use style=\"stroke:#000000;stroke-width:0.6;\" x=\"459.850518\" xlink:href=\"#m9bdf63196b\" y=\"442.08\"/>\r\n      </g>\r\n     </g>\r\n    </g>\r\n    <g id=\"xtick_27\">\r\n     <g id=\"line2d_27\">\r\n      <g>\r\n       <use style=\"stroke:#000000;stroke-width:0.6;\" x=\"477.862623\" xlink:href=\"#m9bdf63196b\" y=\"442.08\"/>\r\n      </g>\r\n     </g>\r\n    </g>\r\n    <g id=\"xtick_28\">\r\n     <g id=\"line2d_28\">\r\n      <g>\r\n       <use style=\"stroke:#000000;stroke-width:0.6;\" x=\"495.874728\" xlink:href=\"#m9bdf63196b\" y=\"442.08\"/>\r\n      </g>\r\n     </g>\r\n     <g id=\"text_5\">\r\n      <!-- 27 -->\r\n      <g transform=\"translate(485.694728 459.6375)scale(0.16 -0.16)\">\r\n       <use xlink:href=\"#DejaVuSans-50\"/>\r\n       <use x=\"63.623047\" xlink:href=\"#DejaVuSans-55\"/>\r\n      </g>\r\n     </g>\r\n    </g>\r\n    <g id=\"xtick_29\">\r\n     <g id=\"line2d_29\">\r\n      <g>\r\n       <use style=\"stroke:#000000;stroke-width:0.6;\" x=\"513.886833\" xlink:href=\"#m9bdf63196b\" y=\"442.08\"/>\r\n      </g>\r\n     </g>\r\n    </g>\r\n    <g id=\"xtick_30\">\r\n     <g id=\"line2d_30\">\r\n      <g>\r\n       <use style=\"stroke:#000000;stroke-width:0.6;\" x=\"531.898937\" xlink:href=\"#m9bdf63196b\" y=\"442.08\"/>\r\n      </g>\r\n     </g>\r\n    </g>\r\n    <g id=\"xtick_31\">\r\n     <g id=\"line2d_31\">\r\n      <g>\r\n       <use style=\"stroke:#000000;stroke-width:0.6;\" x=\"549.911042\" xlink:href=\"#m9bdf63196b\" y=\"442.08\"/>\r\n      </g>\r\n     </g>\r\n    </g>\r\n    <g id=\"xtick_32\">\r\n     <g id=\"line2d_32\">\r\n      <g>\r\n       <use style=\"stroke:#000000;stroke-width:0.6;\" x=\"567.923147\" xlink:href=\"#m9bdf63196b\" y=\"442.08\"/>\r\n      </g>\r\n     </g>\r\n    </g>\r\n   </g>\r\n   <g id=\"matplotlib.axis_2\">\r\n    <g id=\"ytick_1\">\r\n     <g id=\"line2d_33\">\r\n      <defs>\r\n       <path d=\"M 0 0 \r\nL -3.5 0 \r\n\" id=\"m3651b6107c\" style=\"stroke:#000000;stroke-width:0.8;\"/>\r\n      </defs>\r\n      <g>\r\n       <use style=\"stroke:#000000;stroke-width:0.8;\" x=\"27.56\" xlink:href=\"#m3651b6107c\" y=\"423.634953\"/>\r\n      </g>\r\n     </g>\r\n     <g id=\"text_6\">\r\n      <!-- 0 -->\r\n      <g transform=\"translate(10.38 429.713703)scale(0.16 -0.16)\">\r\n       <use xlink:href=\"#DejaVuSans-48\"/>\r\n      </g>\r\n     </g>\r\n    </g>\r\n    <g id=\"ytick_2\">\r\n     <g id=\"line2d_34\">\r\n      <g>\r\n       <use style=\"stroke:#000000;stroke-width:0.8;\" x=\"27.56\" xlink:href=\"#m3651b6107c\" y=\"357.523673\"/>\r\n      </g>\r\n     </g>\r\n     <g id=\"text_7\">\r\n      <!-- 1 -->\r\n      <g transform=\"translate(10.38 363.602423)scale(0.16 -0.16)\">\r\n       <use xlink:href=\"#DejaVuSans-49\"/>\r\n      </g>\r\n     </g>\r\n    </g>\r\n    <g id=\"ytick_3\">\r\n     <g id=\"line2d_35\">\r\n      <g>\r\n       <use style=\"stroke:#000000;stroke-width:0.8;\" x=\"27.56\" xlink:href=\"#m3651b6107c\" y=\"291.412393\"/>\r\n      </g>\r\n     </g>\r\n     <g id=\"text_8\">\r\n      <!-- 2 -->\r\n      <g transform=\"translate(10.38 297.491143)scale(0.16 -0.16)\">\r\n       <use xlink:href=\"#DejaVuSans-50\"/>\r\n      </g>\r\n     </g>\r\n    </g>\r\n    <g id=\"ytick_4\">\r\n     <g id=\"line2d_36\">\r\n      <g>\r\n       <use style=\"stroke:#000000;stroke-width:0.8;\" x=\"27.56\" xlink:href=\"#m3651b6107c\" y=\"225.301113\"/>\r\n      </g>\r\n     </g>\r\n     <g id=\"text_9\">\r\n      <!-- 3 -->\r\n      <g transform=\"translate(10.38 231.379863)scale(0.16 -0.16)\">\r\n       <use xlink:href=\"#DejaVuSans-51\"/>\r\n      </g>\r\n     </g>\r\n    </g>\r\n    <g id=\"ytick_5\">\r\n     <g id=\"line2d_37\">\r\n      <g>\r\n       <use style=\"stroke:#000000;stroke-width:0.8;\" x=\"27.56\" xlink:href=\"#m3651b6107c\" y=\"159.189833\"/>\r\n      </g>\r\n     </g>\r\n     <g id=\"text_10\">\r\n      <!-- 4 -->\r\n      <defs>\r\n       <path d=\"M 37.796875 64.3125 \r\nL 12.890625 25.390625 \r\nL 37.796875 25.390625 \r\nz\r\nM 35.203125 72.90625 \r\nL 47.609375 72.90625 \r\nL 47.609375 25.390625 \r\nL 58.015625 25.390625 \r\nL 58.015625 17.1875 \r\nL 47.609375 17.1875 \r\nL 47.609375 0 \r\nL 37.796875 0 \r\nL 37.796875 17.1875 \r\nL 4.890625 17.1875 \r\nL 4.890625 26.703125 \r\nz\r\n\" id=\"DejaVuSans-52\"/>\r\n      </defs>\r\n      <g transform=\"translate(10.38 165.268583)scale(0.16 -0.16)\">\r\n       <use xlink:href=\"#DejaVuSans-52\"/>\r\n      </g>\r\n     </g>\r\n    </g>\r\n    <g id=\"ytick_6\">\r\n     <g id=\"line2d_38\">\r\n      <g>\r\n       <use style=\"stroke:#000000;stroke-width:0.8;\" x=\"27.56\" xlink:href=\"#m3651b6107c\" y=\"93.078553\"/>\r\n      </g>\r\n     </g>\r\n     <g id=\"text_11\">\r\n      <!-- 5 -->\r\n      <defs>\r\n       <path d=\"M 10.796875 72.90625 \r\nL 49.515625 72.90625 \r\nL 49.515625 64.59375 \r\nL 19.828125 64.59375 \r\nL 19.828125 46.734375 \r\nQ 21.96875 47.46875 24.109375 47.828125 \r\nQ 26.265625 48.1875 28.421875 48.1875 \r\nQ 40.625 48.1875 47.75 41.5 \r\nQ 54.890625 34.8125 54.890625 23.390625 \r\nQ 54.890625 11.625 47.5625 5.09375 \r\nQ 40.234375 -1.421875 26.90625 -1.421875 \r\nQ 22.3125 -1.421875 17.546875 -0.640625 \r\nQ 12.796875 0.140625 7.71875 1.703125 \r\nL 7.71875 11.625 \r\nQ 12.109375 9.234375 16.796875 8.0625 \r\nQ 21.484375 6.890625 26.703125 6.890625 \r\nQ 35.15625 6.890625 40.078125 11.328125 \r\nQ 45.015625 15.765625 45.015625 23.390625 \r\nQ 45.015625 31 40.078125 35.4375 \r\nQ 35.15625 39.890625 26.703125 39.890625 \r\nQ 22.75 39.890625 18.8125 39.015625 \r\nQ 14.890625 38.140625 10.796875 36.28125 \r\nz\r\n\" id=\"DejaVuSans-53\"/>\r\n      </defs>\r\n      <g transform=\"translate(10.38 99.157303)scale(0.16 -0.16)\">\r\n       <use xlink:href=\"#DejaVuSans-53\"/>\r\n      </g>\r\n     </g>\r\n    </g>\r\n    <g id=\"ytick_7\">\r\n     <g id=\"line2d_39\">\r\n      <g>\r\n       <use style=\"stroke:#000000;stroke-width:0.8;\" x=\"27.56\" xlink:href=\"#m3651b6107c\" y=\"26.967273\"/>\r\n      </g>\r\n     </g>\r\n     <g id=\"text_12\">\r\n      <!-- 6 -->\r\n      <g transform=\"translate(10.38 33.046023)scale(0.16 -0.16)\">\r\n       <use xlink:href=\"#DejaVuSans-54\"/>\r\n      </g>\r\n     </g>\r\n    </g>\r\n   </g>\r\n   <g id=\"line2d_40\">\r\n    <path clip-path=\"url(#pbb32ea9e8e)\" d=\"M 27.56 26.967273 \r\nL 27.935252 306.419653 \r\nL 28.310504 309.064105 \r\nL 28.685757 308.469103 \r\nL 29.061009 308.138547 \r\nL 29.436261 386.348191 \r\nL 29.811513 404.264348 \r\nL 30.562017 407.636023 \r\nL 30.93727 420.329389 \r\nL 31.312522 410.875476 \r\nL 31.687774 419.800499 \r\nL 32.063026 420.990502 \r\nL 32.438278 411.536589 \r\nL 32.813531 381.059289 \r\nL 33.188783 410.478808 \r\nL 33.564035 403.206567 \r\nL 33.939287 400.496005 \r\nL 34.314539 411.801034 \r\nL 34.689792 400.23156 \r\nL 35.065044 411.404366 \r\nL 35.440296 411.07381 \r\nL 35.815548 409.619362 \r\nL 36.1908 411.867145 \r\nL 36.566052 410.08214 \r\nL 36.941305 410.478808 \r\nL 37.316557 411.272144 \r\nL 37.691809 408.826026 \r\nL 38.067061 411.404366 \r\nL 38.442313 394.413767 \r\nL 38.817566 407.041022 \r\nL 39.192818 409.949918 \r\nL 39.56807 407.503801 \r\nL 39.943322 407.371578 \r\nL 40.318574 410.478808 \r\nL 40.693826 409.156583 \r\nL 41.069079 396.992107 \r\nL 41.444331 407.173244 \r\nL 41.819583 403.140456 \r\nL 42.194835 403.999903 \r\nL 43.320592 353.953664 \r\nL 43.695844 399.768781 \r\nL 44.071096 399.438224 \r\nL 44.446348 387.802639 \r\nL 44.821601 382.976516 \r\nL 45.196853 382.778182 \r\nL 45.572105 409.02436 \r\nL 45.947357 277.727358 \r\nL 46.322609 372.002043 \r\nL 46.697861 389.785978 \r\nL 47.073114 399.438224 \r\nL 47.448366 418.874941 \r\nL 47.823618 419.073275 \r\nL 48.19887 409.55325 \r\nL 48.574122 421.254947 \r\nL 48.949375 418.147717 \r\nL 49.324627 418.610496 \r\nL 49.699879 408.826026 \r\nL 50.075131 420.461611 \r\nL 50.450383 421.91606 \r\nL 50.825636 419.800499 \r\nL 51.200888 406.908799 \r\nL 51.57614 411.139921 \r\nL 51.951392 397.983776 \r\nL 52.701896 408.958249 \r\nL 53.077149 395.802104 \r\nL 53.452401 386.877081 \r\nL 53.827653 388.794308 \r\nL 54.202905 401.950453 \r\nL 54.578157 388.463752 \r\nL 54.95341 408.164913 \r\nL 55.328662 410.677142 \r\nL 55.703914 387.075415 \r\nL 56.079166 377.885947 \r\nL 56.454418 408.098802 \r\nL 56.82967 408.429358 \r\nL 57.204923 406.247686 \r\nL 57.580175 409.354916 \r\nL 57.955427 407.569912 \r\nL 58.330679 400.23156 \r\nL 58.705931 411.470477 \r\nL 59.081184 405.189906 \r\nL 59.456436 402.545455 \r\nL 59.831688 375.572052 \r\nL 60.20694 359.705345 \r\nL 60.582192 364.994247 \r\nL 60.957445 402.016564 \r\nL 61.332697 401.686008 \r\nL 61.707949 403.933791 \r\nL 62.083201 401.884342 \r\nL 62.458453 390.050423 \r\nL 62.833705 386.877081 \r\nL 63.208958 382.381514 \r\nL 63.58421 415.304932 \r\nL 63.959462 298.287966 \r\nL 64.334714 371.274819 \r\nL 64.709966 394.810435 \r\nL 65.085219 402.876011 \r\nL 65.460471 420.263278 \r\nL 65.835723 412.627425 \r\nL 66.210975 415.668544 \r\nL 66.586227 420.527723 \r\nL 66.961479 387.306804 \r\nL 67.336732 419.63522 \r\nL 67.711984 414.676874 \r\nL 68.087236 421.15578 \r\nL 68.462488 404.528793 \r\nL 68.83774 414.478541 \r\nL 69.212993 407.933524 \r\nL 69.588245 415.9991 \r\nL 69.963497 405.851019 \r\nL 70.338749 411.701867 \r\nL 70.714001 410.743253 \r\nL 71.464506 402.413232 \r\nL 71.839758 403.834625 \r\nL 72.21501 411.106865 \r\nL 72.590262 403.636291 \r\nL 72.965514 412.924926 \r\nL 73.340767 414.412429 \r\nL 73.716019 402.975178 \r\nL 74.091271 397.12433 \r\nL 74.466523 412.329924 \r\nL 75.217028 410.544919 \r\nL 75.59228 407.96658 \r\nL 75.967532 407.900468 \r\nL 76.718036 400.727394 \r\nL 77.093289 403.801569 \r\nL 77.468541 401.28934 \r\nL 77.843793 389.224032 \r\nL 78.219045 384.100407 \r\nL 78.594297 386.414302 \r\nL 78.969549 405.884074 \r\nL 79.344802 404.39657 \r\nL 79.720054 406.512131 \r\nL 80.095306 405.355184 \r\nL 80.470558 398.843223 \r\nL 80.84581 398.215166 \r\nL 81.221063 394.942657 \r\nL 81.596315 421.585503 \r\nL 81.971567 318.848574 \r\nL 82.346819 370.547595 \r\nL 82.722071 399.834892 \r\nL 83.097323 406.313798 \r\nL 83.472576 421.651614 \r\nL 83.847828 406.181575 \r\nL 84.22308 421.783837 \r\nL 84.598332 419.800499 \r\nL 84.973584 356.465892 \r\nL 85.348837 420.659945 \r\nL 85.724089 420.527723 \r\nL 86.099341 421.849948 \r\nL 86.474593 387.141526 \r\nL 86.849845 409.156583 \r\nL 87.225098 408.958249 \r\nL 87.60035 420.858279 \r\nL 87.975602 413.718261 \r\nL 88.350854 419.86661 \r\nL 88.726106 412.528258 \r\nL 89.101358 416.428823 \r\nL 89.476611 417.949383 \r\nL 89.851863 418.874941 \r\nL 90.227115 420.263278 \r\nL 90.977619 417.684938 \r\nL 91.352872 418.147717 \r\nL 91.728124 418.874941 \r\nL 92.103376 416.362712 \r\nL 92.478628 416.561046 \r\nL 92.85388 414.577708 \r\nL 93.229132 414.842153 \r\nL 93.604385 406.578243 \r\nL 93.979637 408.231025 \r\nL 94.354889 408.627692 \r\nL 94.730141 389.984311 \r\nL 95.105393 402.413232 \r\nL 95.480646 400.033226 \r\nL 95.855898 402.876011 \r\nL 96.23115 408.49547 \r\nL 96.606402 407.834357 \r\nL 96.981654 409.751584 \r\nL 97.356907 407.107133 \r\nL 97.732159 409.090471 \r\nL 98.107411 408.826026 \r\nL 98.482663 407.636023 \r\nL 98.857915 409.55325 \r\nL 99.233167 407.503801 \r\nL 99.60842 408.759915 \r\nL 99.983672 305.890763 \r\nL 100.358924 297.031852 \r\nL 100.734176 301.461307 \r\nL 101.109428 359.374789 \r\nL 101.484681 398.975445 \r\nL 101.859933 408.032691 \r\nL 102.235185 408.561581 \r\nL 102.610437 420.593834 \r\nL 102.985689 410.875476 \r\nL 103.360941 418.874941 \r\nL 103.736194 358.713676 \r\nL 104.111446 420.858279 \r\nL 104.486698 420.064944 \r\nL 104.86195 408.826026 \r\nL 105.612455 411.272144 \r\nL 105.987707 411.404366 \r\nL 106.362959 400.297671 \r\nL 106.738211 411.668811 \r\nL 107.113463 402.479343 \r\nL 107.488716 400.562116 \r\nL 107.863968 374.382049 \r\nL 108.23922 378.745394 \r\nL 108.614472 407.239355 \r\nL 108.989724 373.059824 \r\nL 109.364976 390.513202 \r\nL 109.740229 402.611566 \r\nL 110.115481 406.247686 \r\nL 110.490733 408.363247 \r\nL 110.865985 405.983241 \r\nL 111.241237 408.49547 \r\nL 111.61649 398.512666 \r\nL 111.991742 407.173244 \r\nL 112.366994 408.627692 \r\nL 112.742246 397.322663 \r\nL 113.117498 360.564792 \r\nL 113.492751 375.43983 \r\nL 113.868003 372.86149 \r\nL 114.243255 404.859349 \r\nL 114.618507 402.942122 \r\nL 114.993759 404.661016 \r\nL 115.369011 395.802104 \r\nL 115.744264 403.999903 \r\nL 116.119516 405.256017 \r\nL 116.494768 402.743788 \r\nL 116.87002 410.214363 \r\nL 117.245272 409.090471 \r\nL 117.620525 410.412697 \r\nL 117.995777 307.411323 \r\nL 118.371029 392.893208 \r\nL 118.746281 391.372648 \r\nL 119.121533 395.802104 \r\nL 119.496785 420.593834 \r\nL 120.24729 411.933256 \r\nL 120.622542 421.91606 \r\nL 120.997794 419.800499 \r\nL 121.373046 407.305467 \r\nL 121.748299 421.651614 \r\nL 122.123551 419.271608 \r\nL 122.498803 398.380444 \r\nL 122.874055 420.527723 \r\nL 123.249307 418.676607 \r\nL 123.62456 402.8099 \r\nL 123.999812 408.892137 \r\nL 124.375064 402.743788 \r\nL 124.750316 414.70993 \r\nL 125.125568 402.148787 \r\nL 125.50082 404.264348 \r\nL 125.876073 372.993712 \r\nL 126.251325 382.579848 \r\nL 126.626577 408.826026 \r\nL 127.001829 376.49761 \r\nL 127.377081 410.743253 \r\nL 127.752334 409.421028 \r\nL 128.127586 406.578243 \r\nL 128.502838 405.38824 \r\nL 128.87809 396.330994 \r\nL 129.253342 418.742718 \r\nL 129.628594 419.271608 \r\nL 130.003847 418.610496 \r\nL 130.379099 421.91606 \r\nL 130.754351 402.347121 \r\nL 131.129603 393.884877 \r\nL 131.504855 398.644889 \r\nL 131.880108 375.43983 \r\nL 132.25536 375.96872 \r\nL 132.630612 394.942657 \r\nL 133.005864 404.264348 \r\nL 133.381116 406.512131 \r\nL 133.756369 403.206567 \r\nL 134.131621 373.059824 \r\nL 134.506873 378.54706 \r\nL 134.882125 408.297136 \r\nL 135.257377 379.009839 \r\nL 135.632629 411.139921 \r\nL 136.007882 307.477434 \r\nL 136.383134 308.072435 \r\nL 136.758386 307.212989 \r\nL 137.133638 328.765266 \r\nL 137.50889 403.471012 \r\nL 137.884143 407.239355 \r\nL 138.259395 407.900468 \r\nL 138.634647 421.982171 \r\nL 139.009899 407.503801 \r\nL 139.385151 421.585503 \r\nL 139.760403 421.453281 \r\nL 140.135656 387.009304 \r\nL 140.510908 398.578778 \r\nL 140.88616 403.669346 \r\nL 141.261412 402.214898 \r\nL 142.011917 419.205497 \r\nL 142.387169 421.056613 \r\nL 142.762421 421.453281 \r\nL 143.137673 420.131055 \r\nL 143.512925 422.312727 \r\nL 144.26343 418.941052 \r\nL 144.638682 420.461611 \r\nL 145.013934 418.676607 \r\nL 145.389186 418.081605 \r\nL 145.764438 418.676607 \r\nL 146.139691 416.362712 \r\nL 146.514943 406.842688 \r\nL 146.890195 402.148787 \r\nL 147.265447 418.279939 \r\nL 147.640699 419.403831 \r\nL 148.015952 406.776576 \r\nL 148.391204 418.676607 \r\nL 148.766456 414.511596 \r\nL 149.141708 415.503265 \r\nL 149.51696 404.39657 \r\nL 149.892213 336.235841 \r\nL 150.267465 402.214898 \r\nL 150.642717 416.693268 \r\nL 151.017969 414.842153 \r\nL 151.393221 416.23049 \r\nL 151.768473 408.561581 \r\nL 152.143726 415.371043 \r\nL 152.518978 401.157118 \r\nL 152.89423 377.357057 \r\nL 153.269482 401.686008 \r\nL 153.644734 417.552715 \r\nL 154.019987 281.363478 \r\nL 154.395239 316.270234 \r\nL 154.770491 393.752654 \r\nL 155.145743 409.156583 \r\nL 155.520995 410.016029 \r\nL 155.896247 407.041022 \r\nL 156.2715 421.651614 \r\nL 156.646752 421.122724 \r\nL 157.022004 408.231025 \r\nL 157.397256 421.783837 \r\nL 157.772508 420.263278 \r\nL 158.147761 407.569912 \r\nL 158.523013 421.849948 \r\nL 158.898265 419.602165 \r\nL 159.273517 410.346586 \r\nL 159.648769 412.396035 \r\nL 160.024022 408.826026 \r\nL 160.399274 398.380444 \r\nL 160.774526 401.487674 \r\nL 161.149778 399.967115 \r\nL 161.52503 415.304932 \r\nL 161.900282 418.742718 \r\nL 162.275535 419.33772 \r\nL 162.650787 417.156047 \r\nL 163.026039 413.255482 \r\nL 163.401291 416.693268 \r\nL 163.776543 409.354916 \r\nL 164.151796 411.6027 \r\nL 164.9023 410.346586 \r\nL 165.277552 411.338255 \r\nL 165.652804 411.470477 \r\nL 166.028056 419.007163 \r\nL 166.403309 418.015494 \r\nL 166.778561 412.594369 \r\nL 167.153813 399.834892 \r\nL 167.529065 405.189906 \r\nL 167.904317 381.1254 \r\nL 168.27957 387.86875 \r\nL 168.654822 390.248756 \r\nL 169.030074 381.191511 \r\nL 169.780578 407.702134 \r\nL 170.155831 408.693804 \r\nL 170.531083 410.743253 \r\nL 170.906335 410.875476 \r\nL 171.281587 410.611031 \r\nL 171.656839 408.759915 \r\nL 172.032091 308.270769 \r\nL 172.407344 307.609656 \r\nL 172.782596 307.212989 \r\nL 173.5331 400.033226 \r\nL 173.908352 406.710465 \r\nL 174.283605 407.96658 \r\nL 174.658857 419.469942 \r\nL 175.034109 411.206032 \r\nL 175.409361 420.461611 \r\nL 175.784613 409.421028 \r\nL 176.159866 421.91606 \r\nL 176.535118 419.536054 \r\nL 176.91037 421.188836 \r\nL 177.285622 417.156047 \r\nL 177.660874 408.297136 \r\nL 178.036126 411.272144 \r\nL 178.411379 400.496005 \r\nL 178.786631 415.503265 \r\nL 179.161883 401.686008 \r\nL 179.537135 405.520462 \r\nL 179.912387 412.66048 \r\nL 180.28764 408.297136 \r\nL 180.662892 409.751584 \r\nL 181.038144 409.487139 \r\nL 181.413396 408.561581 \r\nL 181.788648 410.677142 \r\nL 182.1639 403.008234 \r\nL 182.539153 398.843223 \r\nL 182.914405 378.282615 \r\nL 183.289657 377.687613 \r\nL 183.664909 407.239355 \r\nL 184.040161 384.430964 \r\nL 184.415414 413.586038 \r\nL 184.790666 416.098267 \r\nL 185.165918 413.586038 \r\nL 185.54117 397.983776 \r\nL 185.916422 411.338255 \r\nL 186.666927 364.267023 \r\nL 187.042179 409.156583 \r\nL 187.417431 409.817695 \r\nL 187.792683 405.91713 \r\nL 188.167935 405.057683 \r\nL 188.91844 415.503265 \r\nL 189.668944 413.916595 \r\nL 190.044196 310.782998 \r\nL 190.419449 378.414837 \r\nL 190.794701 394.479878 \r\nL 191.169953 394.942657 \r\nL 191.545205 420.263278 \r\nL 191.920457 421.982171 \r\nL 192.295709 406.115464 \r\nL 192.670962 421.849948 \r\nL 193.046214 421.056613 \r\nL 193.421466 407.041022 \r\nL 193.796718 421.982171 \r\nL 194.17197 420.197166 \r\nL 194.547223 420.726057 \r\nL 194.922475 421.982171 \r\nL 195.297727 406.313798 \r\nL 195.672979 410.214363 \r\nL 196.048231 401.487674 \r\nL 196.423484 400.694339 \r\nL 196.798736 410.148252 \r\nL 197.173988 406.644354 \r\nL 197.54924 411.139921 \r\nL 197.924492 409.817695 \r\nL 198.299744 409.685473 \r\nL 198.674997 409.751584 \r\nL 199.050249 407.636023 \r\nL 199.425501 409.685473 \r\nL 199.800753 410.280474 \r\nL 200.176005 407.636023 \r\nL 200.551258 408.958249 \r\nL 200.92651 406.97491 \r\nL 201.301762 406.247686 \r\nL 201.677014 408.826026 \r\nL 202.052266 408.958249 \r\nL 202.427518 402.413232 \r\nL 202.802771 409.55325 \r\nL 203.178023 395.07488 \r\nL 203.553275 391.372648 \r\nL 203.928527 407.041022 \r\nL 204.303779 406.644354 \r\nL 204.679032 408.892137 \r\nL 205.054284 408.363247 \r\nL 205.429536 407.305467 \r\nL 205.804788 375.505941 \r\nL 206.18004 382.844293 \r\nL 206.555293 409.949918 \r\nL 206.930545 385.687078 \r\nL 207.305797 418.015494 \r\nL 207.681049 415.635488 \r\nL 208.056301 314.683563 \r\nL 208.431553 380.993177 \r\nL 209.55731 419.403831 \r\nL 209.932562 419.734387 \r\nL 210.307814 409.619362 \r\nL 210.683067 419.536054 \r\nL 211.058319 421.056613 \r\nL 211.433571 421.387169 \r\nL 211.808823 407.503801 \r\nL 212.184075 421.849948 \r\nL 212.559328 420.527723 \r\nL 212.93458 420.131055 \r\nL 213.309832 417.156047 \r\nL 213.685084 400.23156 \r\nL 214.060336 402.545455 \r\nL 214.435588 413.982706 \r\nL 214.810841 410.677142 \r\nL 215.186093 403.735458 \r\nL 215.561345 415.172709 \r\nL 215.936597 415.569377 \r\nL 216.311849 406.44602 \r\nL 217.062354 417.354381 \r\nL 217.437606 417.486604 \r\nL 217.812858 419.073275 \r\nL 218.18811 418.610496 \r\nL 218.563362 417.28827 \r\nL 218.938615 418.213828 \r\nL 219.313867 418.015494 \r\nL 219.689119 414.048817 \r\nL 220.064371 417.023825 \r\nL 220.814876 411.07381 \r\nL 221.190128 412.462147 \r\nL 221.56538 373.853159 \r\nL 221.940632 388.000973 \r\nL 222.315884 386.017635 \r\nL 223.066389 408.561581 \r\nL 223.816893 387.009304 \r\nL 224.192145 383.439295 \r\nL 224.567397 410.08214 \r\nL 224.94265 380.993177 \r\nL 225.317902 416.362712 \r\nL 225.693154 416.131323 \r\nL 226.068406 314.452174 \r\nL 226.443658 388.067084 \r\nL 227.194163 401.52073 \r\nL 227.569415 419.602165 \r\nL 227.944667 420.3955 \r\nL 228.319919 408.098802 \r\nL 228.695171 420.560778 \r\nL 229.070424 420.693001 \r\nL 229.445676 420.593834 \r\nL 229.820928 408.627692 \r\nL 230.19618 420.693001 \r\nL 230.571432 420.62689 \r\nL 230.946685 420.891335 \r\nL 231.321937 410.478808 \r\nL 231.697189 405.15685 \r\nL 232.072441 403.371846 \r\nL 232.447693 411.338255 \r\nL 232.822946 413.090204 \r\nL 233.198198 407.636023 \r\nL 233.57345 417.850216 \r\nL 233.948702 412.594369 \r\nL 234.323954 412.726592 \r\nL 235.074459 419.63522 \r\nL 235.449711 418.279939 \r\nL 235.824963 419.403831 \r\nL 236.200215 419.007163 \r\nL 236.575467 417.156047 \r\nL 236.95072 418.34605 \r\nL 237.325972 414.313262 \r\nL 237.701224 415.271876 \r\nL 238.076476 418.213828 \r\nL 239.202233 413.619094 \r\nL 239.577485 393.851821 \r\nL 239.952737 401.024895 \r\nL 240.327989 373.62177 \r\nL 240.703241 376.662888 \r\nL 241.078494 411.536589 \r\nL 241.453746 406.67741 \r\nL 241.828998 399.570447 \r\nL 242.20425 397.884609 \r\nL 242.579502 411.470477 \r\nL 242.954755 382.480681 \r\nL 243.330007 403.173512 \r\nL 243.705259 416.627157 \r\nL 244.080511 314.220784 \r\nL 244.455763 395.140991 \r\nL 244.831015 396.992107 \r\nL 245.206268 399.570447 \r\nL 245.58152 419.800499 \r\nL 245.956772 421.056613 \r\nL 246.332024 406.578243 \r\nL 246.707276 421.585503 \r\nL 247.082529 420.329389 \r\nL 247.457781 419.800499 \r\nL 247.833033 409.751584 \r\nL 248.208285 419.536054 \r\nL 248.95879 421.651614 \r\nL 249.334042 403.801569 \r\nL 249.709294 410.08214 \r\nL 250.084546 404.198237 \r\nL 250.459798 408.693804 \r\nL 250.83505 415.503265 \r\nL 251.210303 411.536589 \r\nL 251.585555 420.527723 \r\nL 251.960807 409.619362 \r\nL 252.336059 419.007163 \r\nL 252.711311 421.188836 \r\nL 253.086564 421.91606 \r\nL 253.461816 419.073275 \r\nL 253.837068 419.734387 \r\nL 254.21232 419.403831 \r\nL 254.587572 417.023825 \r\nL 254.962824 418.478273 \r\nL 255.338077 410.611031 \r\nL 255.713329 416.494935 \r\nL 256.088581 419.403831 \r\nL 256.463833 418.808829 \r\nL 256.839085 418.478273 \r\nL 257.214338 414.776041 \r\nL 257.58959 413.850483 \r\nL 257.964842 414.048817 \r\nL 258.340094 361.225905 \r\nL 258.715346 356.664226 \r\nL 259.090599 414.511596 \r\nL 259.465851 414.842153 \r\nL 259.841103 412.13159 \r\nL 260.216355 412.329924 \r\nL 260.591607 412.858814 \r\nL 260.966859 383.968185 \r\nL 261.342112 389.984311 \r\nL 261.717364 411.07381 \r\nL 262.092616 288.834053 \r\nL 262.84312 399.107668 \r\nL 263.218373 419.469942 \r\nL 263.593625 404.727127 \r\nL 263.968877 421.387169 \r\nL 264.344129 407.834357 \r\nL 264.719381 419.932721 \r\nL 265.094633 421.783837 \r\nL 265.469886 398.049888 \r\nL 265.845138 421.056613 \r\nL 266.22039 421.056613 \r\nL 266.595642 419.469942 \r\nL 266.970894 408.627692 \r\nL 267.346147 407.503801 \r\nL 267.721399 411.999368 \r\nL 268.096651 408.231025 \r\nL 268.471903 415.172709 \r\nL 268.847155 418.544384 \r\nL 269.222408 417.222159 \r\nL 269.59766 418.874941 \r\nL 269.972912 416.891602 \r\nL 270.348164 409.354916 \r\nL 270.723416 408.098802 \r\nL 271.098668 405.91713 \r\nL 271.473921 407.834357 \r\nL 271.849173 401.752119 \r\nL 272.224425 405.91713 \r\nL 272.599677 415.040486 \r\nL 272.974929 409.883807 \r\nL 273.350182 419.007163 \r\nL 274.100686 419.668276 \r\nL 274.475938 420.527723 \r\nL 274.85119 416.164378 \r\nL 275.226443 413.519927 \r\nL 275.601695 386.81097 \r\nL 275.976947 381.1254 \r\nL 276.727451 412.396035 \r\nL 277.102703 411.07381 \r\nL 277.477956 412.726592 \r\nL 277.853208 410.611031 \r\nL 278.22846 381.323734 \r\nL 278.603712 395.60377 \r\nL 278.978964 417.354381 \r\nL 279.354217 393.55432 \r\nL 279.729469 419.800499 \r\nL 280.104721 318.385795 \r\nL 280.479973 318.914685 \r\nL 280.855225 315.54301 \r\nL 281.230477 382.447625 \r\nL 281.60573 407.437689 \r\nL 281.980982 410.611031 \r\nL 282.356234 409.288805 \r\nL 282.731486 420.131055 \r\nL 283.106738 409.883807 \r\nL 283.481991 421.717726 \r\nL 283.857243 419.139386 \r\nL 284.232495 410.148252 \r\nL 284.607747 420.990502 \r\nL 284.982999 419.33772 \r\nL 285.358252 422.114393 \r\nL 285.733504 420.461611 \r\nL 286.108756 411.6027 \r\nL 286.484008 421.849948 \r\nL 286.85926 412.263813 \r\nL 287.234512 413.718261 \r\nL 287.609765 418.412162 \r\nL 287.985017 420.726057 \r\nL 288.360269 419.932721 \r\nL 288.735521 419.800499 \r\nL 289.110773 411.867145 \r\nL 289.486026 418.874941 \r\nL 289.861278 421.453281 \r\nL 290.23653 414.70993 \r\nL 290.611782 410.346586 \r\nL 290.987034 416.627157 \r\nL 291.362286 418.213828 \r\nL 291.737539 410.214363 \r\nL 292.112791 419.668276 \r\nL 292.488043 418.544384 \r\nL 292.863295 418.34605 \r\nL 293.238547 418.412162 \r\nL 293.6138 415.040486 \r\nL 293.989052 366.911475 \r\nL 294.364304 406.379909 \r\nL 294.739556 414.445485 \r\nL 295.114808 415.503265 \r\nL 295.490061 412.462147 \r\nL 295.865313 406.776576 \r\nL 296.240565 412.329924 \r\nL 296.615817 412.924926 \r\nL 297.366321 386.083746 \r\nL 297.741574 420.659945 \r\nL 298.116826 317.460237 \r\nL 298.492078 317.724682 \r\nL 298.86733 316.83218 \r\nL 299.242582 384.430964 \r\nL 299.617835 408.197969 \r\nL 299.993087 415.635488 \r\nL 300.368339 408.231025 \r\nL 300.743591 415.734655 \r\nL 301.118843 414.809097 \r\nL 301.494095 421.089669 \r\nL 301.869348 415.073542 \r\nL 302.2446 414.577708 \r\nL 302.619852 421.122724 \r\nL 302.995104 420.263278 \r\nL 303.370356 416.858547 \r\nL 303.745609 416.561046 \r\nL 304.120861 408.892137 \r\nL 304.496113 414.809097 \r\nL 304.871365 410.710198 \r\nL 305.246617 409.288805 \r\nL 305.62187 413.024092 \r\nL 305.997122 419.502998 \r\nL 306.372374 418.941052 \r\nL 306.747626 414.147984 \r\nL 307.122878 414.511596 \r\nL 307.49813 419.436887 \r\nL 307.873383 419.998832 \r\nL 308.248635 416.164378 \r\nL 308.623887 415.271876 \r\nL 308.999139 417.552715 \r\nL 309.374391 413.718261 \r\nL 309.749644 415.304932 \r\nL 310.124896 419.800499 \r\nL 310.500148 419.403831 \r\nL 310.8754 408.594637 \r\nL 311.250652 408.561581 \r\nL 311.625905 403.239623 \r\nL 312.001157 376.828167 \r\nL 312.376409 403.86768 \r\nL 312.751661 407.900468 \r\nL 313.126913 408.164913 \r\nL 313.502165 407.669079 \r\nL 313.877418 403.669346 \r\nL 314.25267 395.934327 \r\nL 314.627922 395.273214 \r\nL 315.003174 389.091809 \r\nL 315.378426 395.041824 \r\nL 315.753679 421.519392 \r\nL 316.128931 316.534679 \r\nL 316.504183 316.534679 \r\nL 316.879435 318.12135 \r\nL 317.254687 386.414302 \r\nL 317.629939 408.958249 \r\nL 318.005192 420.659945 \r\nL 318.380444 407.173244 \r\nL 318.755696 411.338255 \r\nL 319.130948 419.734387 \r\nL 319.5062 420.461611 \r\nL 319.881453 411.007698 \r\nL 320.256705 419.007163 \r\nL 320.631957 421.254947 \r\nL 321.007209 421.188836 \r\nL 321.382461 411.6027 \r\nL 321.757714 412.66048 \r\nL 322.132966 406.181575 \r\nL 322.88347 409.156583 \r\nL 323.258722 404.859349 \r\nL 323.633974 407.636023 \r\nL 324.009227 418.279939 \r\nL 324.384479 417.949383 \r\nL 324.759731 408.49547 \r\nL 325.134983 417.156047 \r\nL 325.510235 419.998832 \r\nL 325.885488 418.544384 \r\nL 326.26074 417.618826 \r\nL 326.635992 420.197166 \r\nL 327.011244 418.478273 \r\nL 327.386496 409.222694 \r\nL 327.761748 420.3955 \r\nL 328.137001 419.932721 \r\nL 328.512253 420.263278 \r\nL 328.887505 398.843223 \r\nL 329.262757 398.711 \r\nL 329.638009 391.43876 \r\nL 330.013262 386.744859 \r\nL 330.388514 401.355452 \r\nL 330.763766 401.355452 \r\nL 331.139018 400.826561 \r\nL 331.51427 402.876011 \r\nL 331.889523 400.562116 \r\nL 332.264775 379.538729 \r\nL 332.640027 377.621502 \r\nL 333.015279 379.935397 \r\nL 333.390531 403.999903 \r\nL 333.765783 380.662621 \r\nL 334.141036 307.543545 \r\nL 334.516288 381.323734 \r\nL 334.89154 392.364317 \r\nL 335.266792 395.669881 \r\nL 335.642044 420.858279 \r\nL 336.017297 407.041022 \r\nL 336.392549 420.726057 \r\nL 336.767801 421.585503 \r\nL 337.143053 406.379909 \r\nL 337.518305 421.519392 \r\nL 337.893557 420.792168 \r\nL 338.26881 419.33772 \r\nL 338.644062 421.783837 \r\nL 339.019314 407.305467 \r\nL 339.394566 407.636023 \r\nL 339.769818 411.139921 \r\nL 340.145071 399.438224 \r\nL 340.520323 409.619362 \r\nL 340.895575 405.586573 \r\nL 341.270827 418.213828 \r\nL 341.646079 419.86661 \r\nL 342.021332 419.734387 \r\nL 342.771836 422.048282 \r\nL 343.147088 419.403831 \r\nL 343.52234 418.941052 \r\nL 343.897592 420.990502 \r\nL 344.272845 417.089936 \r\nL 344.648097 403.272679 \r\nL 345.023349 415.437154 \r\nL 345.398601 419.536054 \r\nL 346.149106 417.883272 \r\nL 346.524358 412.065479 \r\nL 346.89961 418.874941 \r\nL 347.274862 419.800499 \r\nL 347.650114 409.02436 \r\nL 348.025367 406.181575 \r\nL 348.400619 414.776041 \r\nL 348.775871 413.321593 \r\nL 349.151123 415.966044 \r\nL 349.526375 414.18104 \r\nL 349.901627 406.776576 \r\nL 350.27688 415.966044 \r\nL 350.652132 413.784372 \r\nL 351.027384 412.396035 \r\nL 351.777888 394.281545 \r\nL 352.153141 285.660711 \r\nL 352.528393 312.039112 \r\nL 352.903645 291.28017 \r\nL 353.278897 387.405971 \r\nL 353.654149 406.776576 \r\nL 354.029401 406.181575 \r\nL 354.404654 421.453281 \r\nL 354.779906 408.826026 \r\nL 355.155158 420.197166 \r\nL 355.53041 421.651614 \r\nL 355.905662 407.569912 \r\nL 356.656167 420.064944 \r\nL 357.031419 396.000438 \r\nL 357.406671 411.206032 \r\nL 357.781923 417.156047 \r\nL 358.157176 417.552715 \r\nL 358.532428 413.519927 \r\nL 358.90768 415.569377 \r\nL 359.282932 418.808829 \r\nL 359.658184 416.362712 \r\nL 360.033436 415.371043 \r\nL 360.408689 413.850483 \r\nL 360.783941 414.313262 \r\nL 361.159193 416.891602 \r\nL 361.534445 403.735458 \r\nL 361.909697 413.123259 \r\nL 362.28495 417.486604 \r\nL 362.660202 415.833822 \r\nL 363.035454 419.403831 \r\nL 363.410706 408.627692 \r\nL 363.785958 417.684938 \r\nL 364.16121 419.86661 \r\nL 364.536463 415.767711 \r\nL 364.911715 387.33986 \r\nL 365.286967 386.877081 \r\nL 365.662219 386.215968 \r\nL 366.037471 390.116534 \r\nL 366.412724 406.842688 \r\nL 367.163228 412.065479 \r\nL 367.53848 410.544919 \r\nL 367.913732 411.338255 \r\nL 368.288985 379.406507 \r\nL 368.664237 384.76152 \r\nL 369.039489 407.437689 \r\nL 369.414741 418.742718 \r\nL 369.789993 406.710465 \r\nL 370.165245 300.502694 \r\nL 370.540498 313.658839 \r\nL 370.91575 345.921143 \r\nL 371.291002 403.504068 \r\nL 371.666254 407.437689 \r\nL 372.041506 406.44602 \r\nL 372.416759 421.585503 \r\nL 372.792011 408.561581 \r\nL 373.167263 420.494667 \r\nL 373.542515 421.717726 \r\nL 373.917767 406.611298 \r\nL 374.29302 417.189103 \r\nL 374.668272 420.461611 \r\nL 375.043524 407.834357 \r\nL 375.418776 416.693268 \r\nL 375.794028 413.685205 \r\nL 376.16928 415.899933 \r\nL 376.544533 417.28827 \r\nL 376.919785 409.718528 \r\nL 377.295037 416.362712 \r\nL 377.670289 415.899933 \r\nL 378.045541 413.189371 \r\nL 378.420794 411.867145 \r\nL 378.796046 411.106865 \r\nL 379.171298 413.288538 \r\nL 379.54655 406.67741 \r\nL 380.297054 413.850483 \r\nL 380.672307 412.197701 \r\nL 381.047559 409.454083 \r\nL 381.422811 408.726859 \r\nL 382.173315 418.34605 \r\nL 382.548568 416.263545 \r\nL 382.92382 398.677945 \r\nL 383.299072 402.148787 \r\nL 383.674324 396.496272 \r\nL 384.049576 380.794843 \r\nL 384.424829 404.264348 \r\nL 385.175333 406.908799 \r\nL 385.550585 406.578243 \r\nL 385.925837 407.702134 \r\nL 386.301089 391.43876 \r\nL 386.676342 394.909602 \r\nL 387.051594 407.404634 \r\nL 387.802098 419.139386 \r\nL 388.17735 315.344676 \r\nL 388.552603 315.278565 \r\nL 388.927855 400.562116 \r\nL 389.303107 419.602165 \r\nL 389.678359 408.098802 \r\nL 390.053611 406.710465 \r\nL 390.428863 421.717726 \r\nL 390.804116 408.297136 \r\nL 391.179368 420.792168 \r\nL 391.55462 421.783837 \r\nL 391.929872 405.652685 \r\nL 392.305124 420.92439 \r\nL 392.680377 420.858279 \r\nL 393.055629 419.668276 \r\nL 393.430881 422.180505 \r\nL 393.806133 410.214363 \r\nL 394.181385 414.247151 \r\nL 394.556638 421.056613 \r\nL 394.93189 403.86768 \r\nL 395.307142 413.916595 \r\nL 395.682394 415.437154 \r\nL 396.057646 411.007698 \r\nL 396.432898 409.883807 \r\nL 396.808151 407.900468 \r\nL 397.183403 409.685473 \r\nL 397.558655 409.619362 \r\nL 397.933907 407.768246 \r\nL 398.309159 410.214363 \r\nL 398.684412 408.561581 \r\nL 399.059664 399.504336 \r\nL 399.434916 408.826026 \r\nL 399.810168 410.809365 \r\nL 400.18542 416.825491 \r\nL 400.560672 416.75938 \r\nL 400.935925 410.016029 \r\nL 401.311177 417.420493 \r\nL 401.686429 406.776576 \r\nL 402.061681 371.473153 \r\nL 402.436933 401.686008 \r\nL 403.187438 401.752119 \r\nL 403.56269 402.611566 \r\nL 403.937942 404.066014 \r\nL 404.313194 403.471012 \r\nL 404.688447 405.057683 \r\nL 405.063699 407.371578 \r\nL 405.438951 407.569912 \r\nL 405.814203 407.96658 \r\nL 406.189455 305.956874 \r\nL 406.564707 307.345211 \r\nL 406.93996 307.609656 \r\nL 407.315212 365.060359 \r\nL 407.690464 373.787048 \r\nL 408.065716 378.811505 \r\nL 408.440968 409.090471 \r\nL 408.816221 389.785978 \r\nL 409.191473 408.164913 \r\nL 409.566725 420.726057 \r\nL 409.941977 421.849948 \r\nL 410.317229 419.536054 \r\nL 410.692482 407.173244 \r\nL 411.067734 421.651614 \r\nL 411.442986 417.354381 \r\nL 411.818238 400.099337 \r\nL 412.19349 408.826026 \r\nL 412.568742 403.537124 \r\nL 412.943995 403.33879 \r\nL 413.319247 405.652685 \r\nL 413.694499 407.239355 \r\nL 414.069751 410.412697 \r\nL 414.445003 407.636023 \r\nL 414.820256 409.487139 \r\nL 415.195508 410.544919 \r\nL 415.57076 408.098802 \r\nL 416.321264 418.213828 \r\nL 416.696516 417.28827 \r\nL 417.071769 419.932721 \r\nL 417.447021 418.742718 \r\nL 417.822273 405.520462 \r\nL 418.197525 403.801569 \r\nL 418.572777 391.372648 \r\nL 418.94803 391.703205 \r\nL 419.323282 420.329389 \r\nL 419.698534 415.767711 \r\nL 420.073786 378.480949 \r\nL 420.449038 384.497075 \r\nL 420.824291 398.711 \r\nL 421.199543 401.884342 \r\nL 421.574795 396.13266 \r\nL 421.950047 397.190441 \r\nL 422.325299 402.611566 \r\nL 422.700551 375.307607 \r\nL 423.075804 382.447625 \r\nL 423.451056 409.288805 \r\nL 423.826308 377.687613 \r\nL 424.20156 307.2791 \r\nL 424.576812 384.100407 \r\nL 425.327317 396.992107 \r\nL 425.702569 420.792168 \r\nL 426.077821 418.941052 \r\nL 426.453073 409.090471 \r\nL 426.828325 420.659945 \r\nL 427.203578 419.86661 \r\nL 427.57883 421.849948 \r\nL 427.954082 407.768246 \r\nL 428.329334 420.527723 \r\nL 428.704586 421.849948 \r\nL 429.079839 410.214363 \r\nL 429.455091 416.164378 \r\nL 429.830343 400.165448 \r\nL 430.205595 408.49547 \r\nL 430.580847 411.07381 \r\nL 430.9561 410.611031 \r\nL 431.331352 398.18211 \r\nL 431.706604 407.96658 \r\nL 432.081856 407.702134 \r\nL 432.457108 407.768246 \r\nL 432.83236 409.817695 \r\nL 433.207613 407.96658 \r\nL 433.582865 407.96658 \r\nL 433.958117 409.685473 \r\nL 434.333369 407.834357 \r\nL 434.708621 412.528258 \r\nL 435.083874 419.932721 \r\nL 435.459126 417.81716 \r\nL 435.834378 417.949383 \r\nL 436.20963 419.403831 \r\nL 436.584882 416.75938 \r\nL 436.960134 394.744324 \r\nL 437.335387 387.33986 \r\nL 437.710639 394.017099 \r\nL 438.085891 414.974375 \r\nL 438.461143 417.486604 \r\nL 438.836395 411.999368 \r\nL 439.211648 411.867145 \r\nL 439.962152 411.801034 \r\nL 440.337404 405.851019 \r\nL 440.712656 414.18104 \r\nL 441.087909 414.643819 \r\nL 441.463161 415.833822 \r\nL 441.838413 415.966044 \r\nL 442.213665 315.675233 \r\nL 442.588917 312.832448 \r\nL 442.964169 313.890228 \r\nL 443.714674 398.909334 \r\nL 444.089926 336.764731 \r\nL 444.465178 334.913615 \r\nL 444.84043 320.501356 \r\nL 445.215683 406.578243 \r\nL 445.590935 410.611031 \r\nL 445.966187 419.007163 \r\nL 446.341439 421.717726 \r\nL 446.716691 417.751049 \r\nL 447.091944 411.272144 \r\nL 447.467196 422.246616 \r\nL 447.842448 421.585503 \r\nL 448.2177 419.403831 \r\nL 448.592952 411.007698 \r\nL 448.968204 412.528258 \r\nL 449.343457 405.652685 \r\nL 450.093961 409.421028 \r\nL 450.469213 411.6027 \r\nL 450.844465 409.55325 \r\nL 451.59497 411.536589 \r\nL 451.970222 408.693804 \r\nL 452.345474 411.404366 \r\nL 453.095978 409.421028 \r\nL 453.471231 411.272144 \r\nL 453.846483 409.222694 \r\nL 454.221735 410.148252 \r\nL 454.596987 402.148787 \r\nL 454.972239 413.057148 \r\nL 455.347492 419.86661 \r\nL 455.722744 417.222159 \r\nL 456.097996 372.663156 \r\nL 456.473248 384.166519 \r\nL 456.8485 413.784372 \r\nL 457.223753 413.519927 \r\nL 457.599005 408.627692 \r\nL 457.974257 380.860955 \r\nL 458.349509 384.497075 \r\nL 458.724761 414.974375 \r\nL 459.100013 384.76152 \r\nL 459.475266 416.627157 \r\nL 459.850518 419.33772 \r\nL 460.22577 315.344676 \r\nL 460.601022 392.430429 \r\nL 460.976274 399.967115 \r\nL 461.351527 403.404901 \r\nL 461.726779 419.139386 \r\nL 462.102031 347.474758 \r\nL 462.477283 321.294691 \r\nL 463.227787 421.849948 \r\nL 463.60304 420.92439 \r\nL 463.978292 407.636023 \r\nL 464.353544 421.849948 \r\nL 464.728796 420.659945 \r\nL 465.104048 419.998832 \r\nL 465.479301 422.312727 \r\nL 465.854553 410.016029 \r\nL 466.229805 411.801034 \r\nL 466.605057 422.246616 \r\nL 466.980309 419.602165 \r\nL 467.355562 407.636023 \r\nL 468.481318 413.189371 \r\nL 468.85657 409.090471 \r\nL 469.607075 411.139921 \r\nL 469.982327 408.363247 \r\nL 470.357579 410.941587 \r\nL 470.732831 410.412697 \r\nL 471.108083 409.156583 \r\nL 471.483336 411.007698 \r\nL 471.858588 409.288805 \r\nL 472.23384 409.949918 \r\nL 472.609092 410.941587 \r\nL 472.984344 408.098802 \r\nL 473.359597 410.148252 \r\nL 473.734849 400.496005 \r\nL 474.110101 366.845363 \r\nL 474.485353 376.365388 \r\nL 474.860605 376.49761 \r\nL 475.235857 391.43876 \r\nL 475.61111 399.173779 \r\nL 476.361614 372.530933 \r\nL 477.112118 420.197166 \r\nL 477.487371 386.414302 \r\nL 477.862623 419.536054 \r\nL 478.237875 316.534679 \r\nL 478.613127 355.209778 \r\nL 478.988379 357.854229 \r\nL 479.363631 402.644621 \r\nL 479.738884 413.024092 \r\nL 480.114136 383.571517 \r\nL 480.489388 365.589249 \r\nL 481.239892 415.47021 \r\nL 481.615145 421.387169 \r\nL 481.990397 413.222426 \r\nL 482.365649 414.346318 \r\nL 482.740901 420.92439 \r\nL 483.116153 414.346318 \r\nL 483.491406 416.990769 \r\nL 483.866658 411.404366 \r\nL 484.617162 420.891335 \r\nL 484.992414 420.164111 \r\nL 485.367666 413.486871 \r\nL 485.742919 414.147984 \r\nL 486.118171 416.594102 \r\nL 486.493423 416.098267 \r\nL 486.868675 414.18104 \r\nL 487.243927 416.263545 \r\nL 487.61918 415.668544 \r\nL 487.994432 414.809097 \r\nL 488.369684 415.767711 \r\nL 488.744936 410.644086 \r\nL 489.120188 415.635488 \r\nL 489.49544 415.536321 \r\nL 489.870693 414.247151 \r\nL 490.245945 415.404099 \r\nL 490.996449 414.610763 \r\nL 491.371701 413.718261 \r\nL 491.746954 407.338522 \r\nL 492.122206 391.009036 \r\nL 492.497458 394.612101 \r\nL 492.87271 391.934594 \r\nL 493.247962 403.437957 \r\nL 493.623215 400.363782 \r\nL 493.998467 393.25682 \r\nL 494.373719 382.844293 \r\nL 494.748971 407.041022 \r\nL 495.124223 404.462682 \r\nL 495.499475 402.776844 \r\nL 495.874728 420.792168 \r\nL 496.24998 317.427182 \r\nL 496.625232 369.919538 \r\nL 497.000484 381.918735 \r\nL 497.375736 404.479209 \r\nL 497.750989 417.470076 \r\nL 498.126241 395.240158 \r\nL 498.501493 393.091542 \r\nL 498.876745 407.669079 \r\nL 499.251997 417.205631 \r\nL 499.627249 415.371043 \r\nL 500.002502 416.941186 \r\nL 500.377754 412.908398 \r\nL 500.753006 413.982706 \r\nL 501.128258 405.173378 \r\nL 501.50351 418.1973 \r\nL 501.878763 416.065211 \r\nL 502.254015 417.717993 \r\nL 502.629267 420.048416 \r\nL 503.004519 420.676473 \r\nL 503.379771 411.916728 \r\nL 503.755024 416.643685 \r\nL 504.130276 417.734521 \r\nL 504.505528 417.552715 \r\nL 504.88078 417.519659 \r\nL 505.256032 419.255081 \r\nL 505.631284 417.602299 \r\nL 506.381789 418.709663 \r\nL 506.757041 415.057014 \r\nL 507.132293 418.941052 \r\nL 507.507545 412.082007 \r\nL 507.882798 415.767711 \r\nL 508.25805 417.536187 \r\nL 508.633302 416.594102 \r\nL 509.008554 416.709796 \r\nL 509.383806 417.056881 \r\nL 510.134311 404.082542 \r\nL 510.509563 403.933791 \r\nL 510.884815 401.768647 \r\nL 511.260067 404.77671 \r\nL 511.635319 406.214631 \r\nL 512.385824 402.082676 \r\nL 512.761076 412.89187 \r\nL 513.136328 413.057148 \r\nL 513.51158 411.75145 \r\nL 513.886833 420.263278 \r\nL 514.262085 317.575932 \r\nL 514.637337 343.954333 \r\nL 515.012589 348.83004 \r\nL 515.387841 403.181776 \r\nL 515.763093 412.189438 \r\nL 516.513598 401.487674 \r\nL 516.88885 413.767844 \r\nL 517.264102 413.148051 \r\nL 517.639354 418.610496 \r\nL 518.014607 417.875008 \r\nL 518.389859 409.875543 \r\nL 518.765111 417.585771 \r\nL 519.140363 406.933591 \r\nL 519.515615 414.933056 \r\nL 519.890868 414.428957 \r\nL 520.26612 419.255081 \r\nL 520.641372 419.792235 \r\nL 521.016624 420.701265 \r\nL 521.391876 415.627224 \r\nL 522.142381 419.759179 \r\nL 522.517633 418.279939 \r\nL 522.892885 418.395634 \r\nL 523.268137 420.750848 \r\nL 523.643389 418.899732 \r\nL 524.018642 419.759179 \r\nL 524.393894 419.651748 \r\nL 524.769146 412.966245 \r\nL 525.144398 420.527723 \r\nL 525.51965 416.073475 \r\nL 526.270155 419.197233 \r\nL 526.645407 417.800632 \r\nL 527.020659 418.91626 \r\nL 527.395911 417.172575 \r\nL 527.771163 412.668744 \r\nL 528.146416 409.627625 \r\nL 528.521668 408.396303 \r\nL 528.89692 404.570112 \r\nL 529.272172 410.106932 \r\nL 529.647424 403.884208 \r\nL 530.022677 402.338857 \r\nL 530.397929 397.620164 \r\nL 530.773181 415.453682 \r\nL 531.148433 400.892673 \r\nL 531.523685 415.445418 \r\nL 531.898937 419.734387 \r\nL 532.27419 317.724682 \r\nL 532.649442 317.989127 \r\nL 533.024694 315.741344 \r\nL 533.399946 401.884342 \r\nL 533.775198 406.908799 \r\nL 534.150451 419.668276 \r\nL 534.525703 409.883807 \r\nL 534.900955 419.86661 \r\nL 535.276207 409.090471 \r\nL 535.651459 421.849948 \r\nL 536.026711 418.808829 \r\nL 536.401964 406.842688 \r\nL 536.777216 421.188836 \r\nL 537.152468 408.693804 \r\nL 537.52772 411.668811 \r\nL 537.902972 412.792703 \r\nL 538.278225 420.792168 \r\nL 538.653477 419.536054 \r\nL 539.028729 420.726057 \r\nL 539.403981 419.33772 \r\nL 539.779233 418.941052 \r\nL 540.154486 421.783837 \r\nL 540.529738 419.007163 \r\nL 540.90499 419.271608 \r\nL 541.280242 422.246616 \r\nL 541.655494 420.197166 \r\nL 542.030746 421.254947 \r\nL 542.405999 420.593834 \r\nL 542.781251 410.875476 \r\nL 543.156503 422.114393 \r\nL 543.531755 420.064944 \r\nL 543.907007 419.205497 \r\nL 544.28226 420.858279 \r\nL 544.657512 419.007163 \r\nL 545.032764 421.122724 \r\nL 545.783268 414.18104 \r\nL 546.158521 415.172709 \r\nL 546.533773 412.858814 \r\nL 546.909025 407.371578 \r\nL 547.284277 415.437154 \r\nL 547.659529 401.553785 \r\nL 548.034781 400.562116 \r\nL 548.410034 393.157653 \r\nL 548.785286 418.015494 \r\nL 549.160538 388.728197 \r\nL 549.53579 419.139386 \r\nL 549.911042 422.048282 \r\nL 550.286295 318.319684 \r\nL 550.661547 384.629298 \r\nL 551.036799 405.983241 \r\nL 551.412051 406.313798 \r\nL 551.787303 421.91606 \r\nL 552.162555 406.908799 \r\nL 552.537808 420.593834 \r\nL 552.91306 421.849948 \r\nL 553.288312 418.941052 \r\nL 553.663564 409.354916 \r\nL 554.038816 420.659945 \r\nL 554.414069 411.470477 \r\nL 554.789321 407.041022 \r\nL 555.164573 396.000438 \r\nL 555.539825 419.403831 \r\nL 555.915077 420.726057 \r\nL 556.29033 419.139386 \r\nL 556.665582 419.205497 \r\nL 557.040834 421.188836 \r\nL 557.416086 410.346586 \r\nL 557.791338 419.139386 \r\nL 558.16659 418.874941 \r\nL 558.541843 419.007163 \r\nL 559.292347 422.246616 \r\nL 559.667599 419.536054 \r\nL 560.042851 421.717726 \r\nL 560.418104 421.651614 \r\nL 560.793356 419.469942 \r\nL 561.168608 422.246616 \r\nL 561.54386 408.627692 \r\nL 561.919112 417.28827 \r\nL 562.294364 419.668276 \r\nL 562.669617 418.213828 \r\nL 563.044869 418.808829 \r\nL 563.420121 420.3955 \r\nL 563.795373 414.974375 \r\nL 564.170625 417.156047 \r\nL 564.545878 413.255482 \r\nL 564.92113 411.6027 \r\nL 565.296382 406.115464 \r\nL 565.671634 412.065479 \r\nL 566.046886 414.974375 \r\nL 566.422139 421.321058 \r\nL 566.797391 418.742718 \r\nL 567.172643 421.651614 \r\nL 567.923147 419.734387 \r\nL 568.298399 318.716351 \r\nL 568.673652 315.939678 \r\nL 569.048904 323.410252 \r\nL 569.424156 402.479343 \r\nL 569.799408 405.454351 \r\nL 570.17466 421.321058 \r\nL 570.549913 409.817695 \r\nL 570.925165 419.271608 \r\nL 571.300417 410.280474 \r\nL 571.675669 420.527723 \r\nL 572.050921 420.197166 \r\nL 572.426174 399.239891 \r\nL 572.801426 419.073275 \r\nL 573.176678 385.687078 \r\nL 573.55193 393.223764 \r\nL 573.927182 389.984311 \r\nL 574.302434 418.279939 \r\nL 574.677687 415.106598 \r\nL 575.052939 410.214363 \r\nL 575.428191 411.272144 \r\nL 575.803443 410.544919 \r\nL 576.178695 415.833822 \r\nL 576.553948 414.908264 \r\nL 576.9292 413.321593 \r\nL 577.304452 417.28827 \r\nL 577.679704 419.073275 \r\nL 578.054956 421.651614 \r\nL 578.430208 422.048282 \r\nL 578.805461 419.668276 \r\nL 579.180713 419.271608 \r\nL 579.555965 421.453281 \r\nL 579.931217 422.246616 \r\nL 580.306469 419.602165 \r\nL 580.681722 420.461611 \r\nL 581.056974 422.246616 \r\nL 581.432226 410.677142 \r\nL 581.807478 408.231025 \r\nL 582.18273 401.421563 \r\nL 582.557983 412.396035 \r\nL 582.933235 414.974375 \r\nL 583.683739 411.867145 \r\nL 584.058991 414.908264 \r\nL 584.434243 383.637628 \r\nL 584.809496 392.827096 \r\nL 585.184748 420.197166 \r\nL 585.56 390.711535 \r\nL 585.56 390.711535 \r\n\" style=\"fill:none;stroke:#1f77b4;stroke-linecap:square;stroke-width:1.5;\"/>\r\n   </g>\r\n   <g id=\"patch_3\">\r\n    <path d=\"M 27.56 442.08 \r\nL 27.56 7.2 \r\n\" style=\"fill:none;stroke:#000000;stroke-linecap:square;stroke-linejoin:miter;stroke-width:2;\"/>\r\n   </g>\r\n   <g id=\"patch_4\">\r\n    <path d=\"M 585.56 442.08 \r\nL 585.56 7.2 \r\n\" style=\"fill:none;stroke:#000000;stroke-linecap:square;stroke-linejoin:miter;stroke-width:2;\"/>\r\n   </g>\r\n   <g id=\"patch_5\">\r\n    <path d=\"M 27.56 442.08 \r\nL 585.56 442.08 \r\n\" style=\"fill:none;stroke:#000000;stroke-linecap:square;stroke-linejoin:miter;stroke-width:2;\"/>\r\n   </g>\r\n   <g id=\"patch_6\">\r\n    <path d=\"M 27.56 7.2 \r\nL 585.56 7.2 \r\n\" style=\"fill:none;stroke:#000000;stroke-linecap:square;stroke-linejoin:miter;stroke-width:2;\"/>\r\n   </g>\r\n   <g id=\"legend_1\">\r\n    <g id=\"patch_7\">\r\n     <path d=\"M 446.220625 39.33875 \r\nL 575.76 39.33875 \r\nQ 578.56 39.33875 578.56 36.53875 \r\nL 578.56 17 \r\nQ 578.56 14.2 575.76 14.2 \r\nL 446.220625 14.2 \r\nQ 443.420625 14.2 443.420625 17 \r\nL 443.420625 36.53875 \r\nQ 443.420625 39.33875 446.220625 39.33875 \r\nz\r\n\" style=\"fill:#ffffff;opacity:0.8;stroke:#cccccc;stroke-linejoin:miter;\"/>\r\n    </g>\r\n    <g id=\"line2d_41\">\r\n     <path d=\"M 449.020625 25.537812 \r\nL 477.020625 25.537812 \r\n\" style=\"fill:none;stroke:#1f77b4;stroke-linecap:square;stroke-width:1.5;\"/>\r\n    </g>\r\n    <g id=\"line2d_42\"/>\r\n    <g id=\"text_13\">\r\n     <!-- meter_2981 -->\r\n     <defs>\r\n      <path d=\"M 52 44.1875 \r\nQ 55.375 50.25 60.0625 53.125 \r\nQ 64.75 56 71.09375 56 \r\nQ 79.640625 56 84.28125 50.015625 \r\nQ 88.921875 44.046875 88.921875 33.015625 \r\nL 88.921875 0 \r\nL 79.890625 0 \r\nL 79.890625 32.71875 \r\nQ 79.890625 40.578125 77.09375 44.375 \r\nQ 74.3125 48.1875 68.609375 48.1875 \r\nQ 61.625 48.1875 57.5625 43.546875 \r\nQ 53.515625 38.921875 53.515625 30.90625 \r\nL 53.515625 0 \r\nL 44.484375 0 \r\nL 44.484375 32.71875 \r\nQ 44.484375 40.625 41.703125 44.40625 \r\nQ 38.921875 48.1875 33.109375 48.1875 \r\nQ 26.21875 48.1875 22.15625 43.53125 \r\nQ 18.109375 38.875 18.109375 30.90625 \r\nL 18.109375 0 \r\nL 9.078125 0 \r\nL 9.078125 54.6875 \r\nL 18.109375 54.6875 \r\nL 18.109375 46.1875 \r\nQ 21.1875 51.21875 25.484375 53.609375 \r\nQ 29.78125 56 35.6875 56 \r\nQ 41.65625 56 45.828125 52.96875 \r\nQ 50 49.953125 52 44.1875 \r\nz\r\n\" id=\"DejaVuSans-109\"/>\r\n      <path d=\"M 56.203125 29.59375 \r\nL 56.203125 25.203125 \r\nL 14.890625 25.203125 \r\nQ 15.484375 15.921875 20.484375 11.0625 \r\nQ 25.484375 6.203125 34.421875 6.203125 \r\nQ 39.59375 6.203125 44.453125 7.46875 \r\nQ 49.3125 8.734375 54.109375 11.28125 \r\nL 54.109375 2.78125 \r\nQ 49.265625 0.734375 44.1875 -0.34375 \r\nQ 39.109375 -1.421875 33.890625 -1.421875 \r\nQ 20.796875 -1.421875 13.15625 6.1875 \r\nQ 5.515625 13.8125 5.515625 26.8125 \r\nQ 5.515625 40.234375 12.765625 48.109375 \r\nQ 20.015625 56 32.328125 56 \r\nQ 43.359375 56 49.78125 48.890625 \r\nQ 56.203125 41.796875 56.203125 29.59375 \r\nz\r\nM 47.21875 32.234375 \r\nQ 47.125 39.59375 43.09375 43.984375 \r\nQ 39.0625 48.390625 32.421875 48.390625 \r\nQ 24.90625 48.390625 20.390625 44.140625 \r\nQ 15.875 39.890625 15.1875 32.171875 \r\nz\r\n\" id=\"DejaVuSans-101\"/>\r\n      <path d=\"M 18.3125 70.21875 \r\nL 18.3125 54.6875 \r\nL 36.8125 54.6875 \r\nL 36.8125 47.703125 \r\nL 18.3125 47.703125 \r\nL 18.3125 18.015625 \r\nQ 18.3125 11.328125 20.140625 9.421875 \r\nQ 21.96875 7.515625 27.59375 7.515625 \r\nL 36.8125 7.515625 \r\nL 36.8125 0 \r\nL 27.59375 0 \r\nQ 17.1875 0 13.234375 3.875 \r\nQ 9.28125 7.765625 9.28125 18.015625 \r\nL 9.28125 47.703125 \r\nL 2.6875 47.703125 \r\nL 2.6875 54.6875 \r\nL 9.28125 54.6875 \r\nL 9.28125 70.21875 \r\nz\r\n\" id=\"DejaVuSans-116\"/>\r\n      <path d=\"M 50.984375 -16.609375 \r\nL 50.984375 -23.578125 \r\nL -0.984375 -23.578125 \r\nL -0.984375 -16.609375 \r\nz\r\n\" id=\"DejaVuSans-95\"/>\r\n      <path d=\"M 10.984375 1.515625 \r\nL 10.984375 10.5 \r\nQ 14.703125 8.734375 18.5 7.8125 \r\nQ 22.3125 6.890625 25.984375 6.890625 \r\nQ 35.75 6.890625 40.890625 13.453125 \r\nQ 46.046875 20.015625 46.78125 33.40625 \r\nQ 43.953125 29.203125 39.59375 26.953125 \r\nQ 35.25 24.703125 29.984375 24.703125 \r\nQ 19.046875 24.703125 12.671875 31.3125 \r\nQ 6.296875 37.9375 6.296875 49.421875 \r\nQ 6.296875 60.640625 12.9375 67.421875 \r\nQ 19.578125 74.21875 30.609375 74.21875 \r\nQ 43.265625 74.21875 49.921875 64.515625 \r\nQ 56.59375 54.828125 56.59375 36.375 \r\nQ 56.59375 19.140625 48.40625 8.859375 \r\nQ 40.234375 -1.421875 26.421875 -1.421875 \r\nQ 22.703125 -1.421875 18.890625 -0.6875 \r\nQ 15.09375 0.046875 10.984375 1.515625 \r\nz\r\nM 30.609375 32.421875 \r\nQ 37.25 32.421875 41.125 36.953125 \r\nQ 45.015625 41.5 45.015625 49.421875 \r\nQ 45.015625 57.28125 41.125 61.84375 \r\nQ 37.25 66.40625 30.609375 66.40625 \r\nQ 23.96875 66.40625 20.09375 61.84375 \r\nQ 16.21875 57.28125 16.21875 49.421875 \r\nQ 16.21875 41.5 20.09375 36.953125 \r\nQ 23.96875 32.421875 30.609375 32.421875 \r\nz\r\n\" id=\"DejaVuSans-57\"/>\r\n      <path d=\"M 31.78125 34.625 \r\nQ 24.75 34.625 20.71875 30.859375 \r\nQ 16.703125 27.09375 16.703125 20.515625 \r\nQ 16.703125 13.921875 20.71875 10.15625 \r\nQ 24.75 6.390625 31.78125 6.390625 \r\nQ 38.8125 6.390625 42.859375 10.171875 \r\nQ 46.921875 13.96875 46.921875 20.515625 \r\nQ 46.921875 27.09375 42.890625 30.859375 \r\nQ 38.875 34.625 31.78125 34.625 \r\nz\r\nM 21.921875 38.8125 \r\nQ 15.578125 40.375 12.03125 44.71875 \r\nQ 8.5 49.078125 8.5 55.328125 \r\nQ 8.5 64.0625 14.71875 69.140625 \r\nQ 20.953125 74.21875 31.78125 74.21875 \r\nQ 42.671875 74.21875 48.875 69.140625 \r\nQ 55.078125 64.0625 55.078125 55.328125 \r\nQ 55.078125 49.078125 51.53125 44.71875 \r\nQ 48 40.375 41.703125 38.8125 \r\nQ 48.828125 37.15625 52.796875 32.3125 \r\nQ 56.78125 27.484375 56.78125 20.515625 \r\nQ 56.78125 9.90625 50.3125 4.234375 \r\nQ 43.84375 -1.421875 31.78125 -1.421875 \r\nQ 19.734375 -1.421875 13.25 4.234375 \r\nQ 6.78125 9.90625 6.78125 20.515625 \r\nQ 6.78125 27.484375 10.78125 32.3125 \r\nQ 14.796875 37.15625 21.921875 38.8125 \r\nz\r\nM 18.3125 54.390625 \r\nQ 18.3125 48.734375 21.84375 45.5625 \r\nQ 25.390625 42.390625 31.78125 42.390625 \r\nQ 38.140625 42.390625 41.71875 45.5625 \r\nQ 45.3125 48.734375 45.3125 54.390625 \r\nQ 45.3125 60.0625 41.71875 63.234375 \r\nQ 38.140625 66.40625 31.78125 66.40625 \r\nQ 25.390625 66.40625 21.84375 63.234375 \r\nQ 18.3125 60.0625 18.3125 54.390625 \r\nz\r\n\" id=\"DejaVuSans-56\"/>\r\n     </defs>\r\n     <g transform=\"translate(488.220625 30.437812)scale(0.14 -0.14)\">\r\n      <use xlink:href=\"#DejaVuSans-109\"/>\r\n      <use x=\"97.412109\" xlink:href=\"#DejaVuSans-101\"/>\r\n      <use x=\"158.935547\" xlink:href=\"#DejaVuSans-116\"/>\r\n      <use x=\"198.144531\" xlink:href=\"#DejaVuSans-101\"/>\r\n      <use x=\"259.667969\" xlink:href=\"#DejaVuSans-114\"/>\r\n      <use x=\"300.78125\" xlink:href=\"#DejaVuSans-95\"/>\r\n      <use x=\"350.78125\" xlink:href=\"#DejaVuSans-50\"/>\r\n      <use x=\"414.404297\" xlink:href=\"#DejaVuSans-57\"/>\r\n      <use x=\"478.027344\" xlink:href=\"#DejaVuSans-56\"/>\r\n      <use x=\"541.650391\" xlink:href=\"#DejaVuSans-49\"/>\r\n     </g>\r\n    </g>\r\n   </g>\r\n  </g>\r\n </g>\r\n <defs>\r\n  <clipPath id=\"pbb32ea9e8e\">\r\n   <rect height=\"434.88\" width=\"558\" x=\"27.56\" y=\"7.2\"/>\r\n  </clipPath>\r\n </defs>\r\n</svg>\r\n",
      "image/png": "[encoded data removed]"
     },
     "metadata": {
      "needs_background": "light"
     }
    }
   ],
   "source": [
    "df.plot()"
   ]
  },
  {
   "cell_type": "code",
   "execution_count": null,
   "metadata": {},
   "outputs": [],
   "source": []
  },
  {
   "cell_type": "code",
   "execution_count": 46,
   "metadata": {},
   "outputs": [
    {
     "output_type": "execute_result",
     "data": {
      "text/plain": [
       "Timestamp('2017-02-27 00:00:00')"
      ]
     },
     "metadata": {},
     "execution_count": 46
    }
   ],
   "source": [
    "import datetime\n",
    "time_stamp = pd.Timestamp('2017-02-28')\n",
    "# print(missing_index[3])\n",
    "# missing_index[3] + datetime.timedelta(days=1)\n",
    "n=1\n",
    "time_stamp + datetime.timedelta(days=-n)"
   ]
  },
  {
   "cell_type": "code",
   "execution_count": 113,
   "metadata": {},
   "outputs": [],
   "source": [
    "def calculate_mean_of_2days(day1, day2,ID, data):\n",
    "    data[\"days\"] = data.index.day\n",
    "    TS1 = np.squeeze(data.loc[data[\"days\"] == day1,ID])\n",
    "    TS1 = TS1.reset_index()\n",
    "    TS2 = np.squeeze(data.loc[data[\"days\"] == day2,ID])\n",
    "    TS2 = TS2.reset_index()\n",
    "    print(TS1)\n",
    "    print(TS2)\n",
    "    return TS1.add(TS2)"
   ]
  },
  {
   "cell_type": "code",
   "execution_count": 114,
   "metadata": {},
   "outputs": [
    {
     "output_type": "stream",
     "name": "stdout",
     "text": [
      "Empty DataFrame\nColumns: [index, meter_2979]\nIndex: []\nEmpty DataFrame\nColumns: [index, meter_2979]\nIndex: []\n"
     ]
    },
    {
     "output_type": "error",
     "ename": "TypeError",
     "evalue": "cannot add DatetimeArray and DatetimeArray",
     "traceback": [
      "\u001b[1;31m---------------------------------------------------------------------------\u001b[0m",
      "\u001b[1;31mTypeError\u001b[0m                                 Traceback (most recent call last)",
      "\u001b[1;32m<ipython-input-114-6ad834fd5d28>\u001b[0m in \u001b[0;36m<module>\u001b[1;34m\u001b[0m\n\u001b[0;32m      7\u001b[0m         \u001b[1;32mif\u001b[0m \u001b[1;32mnot\u001b[0m\u001b[1;33m(\u001b[0m\u001b[0mi\u001b[0m \u001b[1;33m+\u001b[0m \u001b[1;36m1\u001b[0m \u001b[1;32min\u001b[0m \u001b[0mdays\u001b[0m \u001b[1;32mor\u001b[0m \u001b[0mi\u001b[0m \u001b[1;33m-\u001b[0m \u001b[1;36m1\u001b[0m \u001b[1;32min\u001b[0m \u001b[0mdays\u001b[0m\u001b[1;33m)\u001b[0m\u001b[1;33m:\u001b[0m\u001b[1;33m\u001b[0m\u001b[1;33m\u001b[0m\u001b[0m\n\u001b[0;32m      8\u001b[0m         \u001b[1;31m#Calculate the mean\u001b[0m\u001b[1;33m\u001b[0m\u001b[1;33m\u001b[0m\u001b[1;33m\u001b[0m\u001b[0m\n\u001b[1;32m----> 9\u001b[1;33m             \u001b[0mmean\u001b[0m \u001b[1;33m=\u001b[0m \u001b[0mcalculate_mean_of_2days\u001b[0m\u001b[1;33m(\u001b[0m\u001b[0mstr\u001b[0m\u001b[1;33m(\u001b[0m\u001b[0mi\u001b[0m\u001b[1;33m+\u001b[0m\u001b[1;36m1\u001b[0m\u001b[1;33m)\u001b[0m\u001b[1;33m,\u001b[0m\u001b[0mstr\u001b[0m\u001b[1;33m(\u001b[0m\u001b[0mi\u001b[0m\u001b[1;33m-\u001b[0m\u001b[1;36m1\u001b[0m\u001b[1;33m)\u001b[0m\u001b[1;33m,\u001b[0m\u001b[0mID\u001b[0m\u001b[1;33m,\u001b[0m\u001b[0mtest\u001b[0m\u001b[1;33m)\u001b[0m\u001b[1;33m\u001b[0m\u001b[1;33m\u001b[0m\u001b[0m\n\u001b[0m\u001b[0;32m     10\u001b[0m             \u001b[0mtest\u001b[0m\u001b[1;33m.\u001b[0m\u001b[0mloc\u001b[0m\u001b[1;33m[\u001b[0m\u001b[0mtest\u001b[0m\u001b[1;33m[\u001b[0m\u001b[1;34m\"day\"\u001b[0m\u001b[1;33m]\u001b[0m \u001b[1;33m==\u001b[0m \u001b[0mi\u001b[0m\u001b[1;33m,\u001b[0m\u001b[0mID\u001b[0m\u001b[1;33m]\u001b[0m \u001b[1;33m=\u001b[0m \u001b[0mmean\u001b[0m\u001b[1;33m\u001b[0m\u001b[1;33m\u001b[0m\u001b[0m\n\u001b[0;32m     11\u001b[0m         \u001b[1;32melse\u001b[0m\u001b[1;33m:\u001b[0m\u001b[1;33m\u001b[0m\u001b[1;33m\u001b[0m\u001b[0m\n",
      "\u001b[1;32m<ipython-input-113-e891d09049f1>\u001b[0m in \u001b[0;36mcalculate_mean_of_2days\u001b[1;34m(day1, day2, ID, data)\u001b[0m\n\u001b[0;32m      7\u001b[0m     \u001b[0mprint\u001b[0m\u001b[1;33m(\u001b[0m\u001b[0mTS1\u001b[0m\u001b[1;33m)\u001b[0m\u001b[1;33m\u001b[0m\u001b[1;33m\u001b[0m\u001b[0m\n\u001b[0;32m      8\u001b[0m     \u001b[0mprint\u001b[0m\u001b[1;33m(\u001b[0m\u001b[0mTS2\u001b[0m\u001b[1;33m)\u001b[0m\u001b[1;33m\u001b[0m\u001b[1;33m\u001b[0m\u001b[0m\n\u001b[1;32m----> 9\u001b[1;33m     \u001b[1;32mreturn\u001b[0m \u001b[0mTS1\u001b[0m\u001b[1;33m.\u001b[0m\u001b[0madd\u001b[0m\u001b[1;33m(\u001b[0m\u001b[0mTS2\u001b[0m\u001b[1;33m)\u001b[0m\u001b[1;33m\u001b[0m\u001b[1;33m\u001b[0m\u001b[0m\n\u001b[0m",
      "\u001b[1;32mD:\\ProgrammaX100\\Anaconda\\lib\\site-packages\\pandas\\core\\ops\\__init__.py\u001b[0m in \u001b[0;36mf\u001b[1;34m(self, other, axis, level, fill_value)\u001b[0m\n\u001b[0;32m    765\u001b[0m \u001b[1;33m\u001b[0m\u001b[0m\n\u001b[0;32m    766\u001b[0m             \u001b[0mleft\u001b[0m\u001b[1;33m,\u001b[0m \u001b[0mright\u001b[0m \u001b[1;33m=\u001b[0m \u001b[0mself\u001b[0m\u001b[1;33m.\u001b[0m\u001b[0malign\u001b[0m\u001b[1;33m(\u001b[0m\u001b[0mother\u001b[0m\u001b[1;33m,\u001b[0m \u001b[0mjoin\u001b[0m\u001b[1;33m=\u001b[0m\u001b[1;34m\"outer\"\u001b[0m\u001b[1;33m,\u001b[0m \u001b[0mlevel\u001b[0m\u001b[1;33m=\u001b[0m\u001b[0mlevel\u001b[0m\u001b[1;33m,\u001b[0m \u001b[0mcopy\u001b[0m\u001b[1;33m=\u001b[0m\u001b[1;32mFalse\u001b[0m\u001b[1;33m)\u001b[0m\u001b[1;33m\u001b[0m\u001b[1;33m\u001b[0m\u001b[0m\n\u001b[1;32m--> 767\u001b[1;33m             \u001b[0mnew_data\u001b[0m \u001b[1;33m=\u001b[0m \u001b[0mleft\u001b[0m\u001b[1;33m.\u001b[0m\u001b[0m_combine_frame\u001b[0m\u001b[1;33m(\u001b[0m\u001b[0mright\u001b[0m\u001b[1;33m,\u001b[0m \u001b[0mpass_op\u001b[0m\u001b[1;33m,\u001b[0m \u001b[0mfill_value\u001b[0m\u001b[1;33m)\u001b[0m\u001b[1;33m\u001b[0m\u001b[1;33m\u001b[0m\u001b[0m\n\u001b[0m\u001b[0;32m    768\u001b[0m             \u001b[1;32mreturn\u001b[0m \u001b[0mleft\u001b[0m\u001b[1;33m.\u001b[0m\u001b[0m_construct_result\u001b[0m\u001b[1;33m(\u001b[0m\u001b[0mnew_data\u001b[0m\u001b[1;33m)\u001b[0m\u001b[1;33m\u001b[0m\u001b[1;33m\u001b[0m\u001b[0m\n\u001b[0;32m    769\u001b[0m \u001b[1;33m\u001b[0m\u001b[0m\n",
      "\u001b[1;32mD:\\ProgrammaX100\\Anaconda\\lib\\site-packages\\pandas\\core\\frame.py\u001b[0m in \u001b[0;36m_combine_frame\u001b[1;34m(self, other, func, fill_value, level)\u001b[0m\n\u001b[0;32m   5298\u001b[0m         \u001b[1;32mif\u001b[0m \u001b[0mops\u001b[0m\u001b[1;33m.\u001b[0m\u001b[0mshould_series_dispatch\u001b[0m\u001b[1;33m(\u001b[0m\u001b[0mself\u001b[0m\u001b[1;33m,\u001b[0m \u001b[0mother\u001b[0m\u001b[1;33m,\u001b[0m \u001b[0mfunc\u001b[0m\u001b[1;33m)\u001b[0m\u001b[1;33m:\u001b[0m\u001b[1;33m\u001b[0m\u001b[1;33m\u001b[0m\u001b[0m\n\u001b[0;32m   5299\u001b[0m             \u001b[1;31m# iterate over columns\u001b[0m\u001b[1;33m\u001b[0m\u001b[1;33m\u001b[0m\u001b[1;33m\u001b[0m\u001b[0m\n\u001b[1;32m-> 5300\u001b[1;33m             \u001b[0mnew_data\u001b[0m \u001b[1;33m=\u001b[0m \u001b[0mops\u001b[0m\u001b[1;33m.\u001b[0m\u001b[0mdispatch_to_series\u001b[0m\u001b[1;33m(\u001b[0m\u001b[0mself\u001b[0m\u001b[1;33m,\u001b[0m \u001b[0mother\u001b[0m\u001b[1;33m,\u001b[0m \u001b[0m_arith_op\u001b[0m\u001b[1;33m)\u001b[0m\u001b[1;33m\u001b[0m\u001b[1;33m\u001b[0m\u001b[0m\n\u001b[0m\u001b[0;32m   5301\u001b[0m         \u001b[1;32melse\u001b[0m\u001b[1;33m:\u001b[0m\u001b[1;33m\u001b[0m\u001b[1;33m\u001b[0m\u001b[0m\n\u001b[0;32m   5302\u001b[0m             \u001b[1;32mwith\u001b[0m \u001b[0mnp\u001b[0m\u001b[1;33m.\u001b[0m\u001b[0merrstate\u001b[0m\u001b[1;33m(\u001b[0m\u001b[0mall\u001b[0m\u001b[1;33m=\u001b[0m\u001b[1;34m\"ignore\"\u001b[0m\u001b[1;33m)\u001b[0m\u001b[1;33m:\u001b[0m\u001b[1;33m\u001b[0m\u001b[1;33m\u001b[0m\u001b[0m\n",
      "\u001b[1;32mD:\\ProgrammaX100\\Anaconda\\lib\\site-packages\\pandas\\core\\ops\\__init__.py\u001b[0m in \u001b[0;36mdispatch_to_series\u001b[1;34m(left, right, func, str_rep, axis)\u001b[0m\n\u001b[0;32m    417\u001b[0m         \u001b[1;32mraise\u001b[0m \u001b[0mNotImplementedError\u001b[0m\u001b[1;33m(\u001b[0m\u001b[0mright\u001b[0m\u001b[1;33m)\u001b[0m\u001b[1;33m\u001b[0m\u001b[1;33m\u001b[0m\u001b[0m\n\u001b[0;32m    418\u001b[0m \u001b[1;33m\u001b[0m\u001b[0m\n\u001b[1;32m--> 419\u001b[1;33m     \u001b[0mnew_data\u001b[0m \u001b[1;33m=\u001b[0m \u001b[0mexpressions\u001b[0m\u001b[1;33m.\u001b[0m\u001b[0mevaluate\u001b[0m\u001b[1;33m(\u001b[0m\u001b[0mcolumn_op\u001b[0m\u001b[1;33m,\u001b[0m \u001b[0mstr_rep\u001b[0m\u001b[1;33m,\u001b[0m \u001b[0mleft\u001b[0m\u001b[1;33m,\u001b[0m \u001b[0mright\u001b[0m\u001b[1;33m)\u001b[0m\u001b[1;33m\u001b[0m\u001b[1;33m\u001b[0m\u001b[0m\n\u001b[0m\u001b[0;32m    420\u001b[0m     \u001b[1;32mreturn\u001b[0m \u001b[0mnew_data\u001b[0m\u001b[1;33m\u001b[0m\u001b[1;33m\u001b[0m\u001b[0m\n\u001b[0;32m    421\u001b[0m \u001b[1;33m\u001b[0m\u001b[0m\n",
      "\u001b[1;32mD:\\ProgrammaX100\\Anaconda\\lib\\site-packages\\pandas\\core\\computation\\expressions.py\u001b[0m in \u001b[0;36mevaluate\u001b[1;34m(op, op_str, a, b, use_numexpr)\u001b[0m\n\u001b[0;32m    206\u001b[0m     \u001b[0muse_numexpr\u001b[0m \u001b[1;33m=\u001b[0m \u001b[0muse_numexpr\u001b[0m \u001b[1;32mand\u001b[0m \u001b[0m_bool_arith_check\u001b[0m\u001b[1;33m(\u001b[0m\u001b[0mop_str\u001b[0m\u001b[1;33m,\u001b[0m \u001b[0ma\u001b[0m\u001b[1;33m,\u001b[0m \u001b[0mb\u001b[0m\u001b[1;33m)\u001b[0m\u001b[1;33m\u001b[0m\u001b[1;33m\u001b[0m\u001b[0m\n\u001b[0;32m    207\u001b[0m     \u001b[1;32mif\u001b[0m \u001b[0muse_numexpr\u001b[0m\u001b[1;33m:\u001b[0m\u001b[1;33m\u001b[0m\u001b[1;33m\u001b[0m\u001b[0m\n\u001b[1;32m--> 208\u001b[1;33m         \u001b[1;32mreturn\u001b[0m \u001b[0m_evaluate\u001b[0m\u001b[1;33m(\u001b[0m\u001b[0mop\u001b[0m\u001b[1;33m,\u001b[0m \u001b[0mop_str\u001b[0m\u001b[1;33m,\u001b[0m \u001b[0ma\u001b[0m\u001b[1;33m,\u001b[0m \u001b[0mb\u001b[0m\u001b[1;33m)\u001b[0m\u001b[1;33m\u001b[0m\u001b[1;33m\u001b[0m\u001b[0m\n\u001b[0m\u001b[0;32m    209\u001b[0m     \u001b[1;32mreturn\u001b[0m \u001b[0m_evaluate_standard\u001b[0m\u001b[1;33m(\u001b[0m\u001b[0mop\u001b[0m\u001b[1;33m,\u001b[0m \u001b[0mop_str\u001b[0m\u001b[1;33m,\u001b[0m \u001b[0ma\u001b[0m\u001b[1;33m,\u001b[0m \u001b[0mb\u001b[0m\u001b[1;33m)\u001b[0m\u001b[1;33m\u001b[0m\u001b[1;33m\u001b[0m\u001b[0m\n\u001b[0;32m    210\u001b[0m \u001b[1;33m\u001b[0m\u001b[0m\n",
      "\u001b[1;32mD:\\ProgrammaX100\\Anaconda\\lib\\site-packages\\pandas\\core\\computation\\expressions.py\u001b[0m in \u001b[0;36m_evaluate_numexpr\u001b[1;34m(op, op_str, a, b)\u001b[0m\n\u001b[0;32m    119\u001b[0m \u001b[1;33m\u001b[0m\u001b[0m\n\u001b[0;32m    120\u001b[0m     \u001b[1;32mif\u001b[0m \u001b[0mresult\u001b[0m \u001b[1;32mis\u001b[0m \u001b[1;32mNone\u001b[0m\u001b[1;33m:\u001b[0m\u001b[1;33m\u001b[0m\u001b[1;33m\u001b[0m\u001b[0m\n\u001b[1;32m--> 121\u001b[1;33m         \u001b[0mresult\u001b[0m \u001b[1;33m=\u001b[0m \u001b[0m_evaluate_standard\u001b[0m\u001b[1;33m(\u001b[0m\u001b[0mop\u001b[0m\u001b[1;33m,\u001b[0m \u001b[0mop_str\u001b[0m\u001b[1;33m,\u001b[0m \u001b[0ma\u001b[0m\u001b[1;33m,\u001b[0m \u001b[0mb\u001b[0m\u001b[1;33m)\u001b[0m\u001b[1;33m\u001b[0m\u001b[1;33m\u001b[0m\u001b[0m\n\u001b[0m\u001b[0;32m    122\u001b[0m \u001b[1;33m\u001b[0m\u001b[0m\n\u001b[0;32m    123\u001b[0m     \u001b[1;32mreturn\u001b[0m \u001b[0mresult\u001b[0m\u001b[1;33m\u001b[0m\u001b[1;33m\u001b[0m\u001b[0m\n",
      "\u001b[1;32mD:\\ProgrammaX100\\Anaconda\\lib\\site-packages\\pandas\\core\\computation\\expressions.py\u001b[0m in \u001b[0;36m_evaluate_standard\u001b[1;34m(op, op_str, a, b)\u001b[0m\n\u001b[0;32m     68\u001b[0m         \u001b[0m_store_test_result\u001b[0m\u001b[1;33m(\u001b[0m\u001b[1;32mFalse\u001b[0m\u001b[1;33m)\u001b[0m\u001b[1;33m\u001b[0m\u001b[1;33m\u001b[0m\u001b[0m\n\u001b[0;32m     69\u001b[0m     \u001b[1;32mwith\u001b[0m \u001b[0mnp\u001b[0m\u001b[1;33m.\u001b[0m\u001b[0merrstate\u001b[0m\u001b[1;33m(\u001b[0m\u001b[0mall\u001b[0m\u001b[1;33m=\u001b[0m\u001b[1;34m\"ignore\"\u001b[0m\u001b[1;33m)\u001b[0m\u001b[1;33m:\u001b[0m\u001b[1;33m\u001b[0m\u001b[1;33m\u001b[0m\u001b[0m\n\u001b[1;32m---> 70\u001b[1;33m         \u001b[1;32mreturn\u001b[0m \u001b[0mop\u001b[0m\u001b[1;33m(\u001b[0m\u001b[0ma\u001b[0m\u001b[1;33m,\u001b[0m \u001b[0mb\u001b[0m\u001b[1;33m)\u001b[0m\u001b[1;33m\u001b[0m\u001b[1;33m\u001b[0m\u001b[0m\n\u001b[0m\u001b[0;32m     71\u001b[0m \u001b[1;33m\u001b[0m\u001b[0m\n\u001b[0;32m     72\u001b[0m \u001b[1;33m\u001b[0m\u001b[0m\n",
      "\u001b[1;32mD:\\ProgrammaX100\\Anaconda\\lib\\site-packages\\pandas\\core\\ops\\__init__.py\u001b[0m in \u001b[0;36mcolumn_op\u001b[1;34m(a, b)\u001b[0m\n\u001b[0;32m    386\u001b[0m \u001b[1;33m\u001b[0m\u001b[0m\n\u001b[0;32m    387\u001b[0m         \u001b[1;32mdef\u001b[0m \u001b[0mcolumn_op\u001b[0m\u001b[1;33m(\u001b[0m\u001b[0ma\u001b[0m\u001b[1;33m,\u001b[0m \u001b[0mb\u001b[0m\u001b[1;33m)\u001b[0m\u001b[1;33m:\u001b[0m\u001b[1;33m\u001b[0m\u001b[1;33m\u001b[0m\u001b[0m\n\u001b[1;32m--> 388\u001b[1;33m             \u001b[1;32mreturn\u001b[0m \u001b[1;33m{\u001b[0m\u001b[0mi\u001b[0m\u001b[1;33m:\u001b[0m \u001b[0mfunc\u001b[0m\u001b[1;33m(\u001b[0m\u001b[0ma\u001b[0m\u001b[1;33m.\u001b[0m\u001b[0miloc\u001b[0m\u001b[1;33m[\u001b[0m\u001b[1;33m:\u001b[0m\u001b[1;33m,\u001b[0m \u001b[0mi\u001b[0m\u001b[1;33m]\u001b[0m\u001b[1;33m,\u001b[0m \u001b[0mb\u001b[0m\u001b[1;33m.\u001b[0m\u001b[0miloc\u001b[0m\u001b[1;33m[\u001b[0m\u001b[1;33m:\u001b[0m\u001b[1;33m,\u001b[0m \u001b[0mi\u001b[0m\u001b[1;33m]\u001b[0m\u001b[1;33m)\u001b[0m \u001b[1;32mfor\u001b[0m \u001b[0mi\u001b[0m \u001b[1;32min\u001b[0m \u001b[0mrange\u001b[0m\u001b[1;33m(\u001b[0m\u001b[0mlen\u001b[0m\u001b[1;33m(\u001b[0m\u001b[0ma\u001b[0m\u001b[1;33m.\u001b[0m\u001b[0mcolumns\u001b[0m\u001b[1;33m)\u001b[0m\u001b[1;33m)\u001b[0m\u001b[1;33m}\u001b[0m\u001b[1;33m\u001b[0m\u001b[1;33m\u001b[0m\u001b[0m\n\u001b[0m\u001b[0;32m    389\u001b[0m \u001b[1;33m\u001b[0m\u001b[0m\n\u001b[0;32m    390\u001b[0m     \u001b[1;32melif\u001b[0m \u001b[0misinstance\u001b[0m\u001b[1;33m(\u001b[0m\u001b[0mright\u001b[0m\u001b[1;33m,\u001b[0m \u001b[0mABCSeries\u001b[0m\u001b[1;33m)\u001b[0m \u001b[1;32mand\u001b[0m \u001b[0maxis\u001b[0m \u001b[1;33m==\u001b[0m \u001b[1;34m\"columns\"\u001b[0m\u001b[1;33m:\u001b[0m\u001b[1;33m\u001b[0m\u001b[1;33m\u001b[0m\u001b[0m\n",
      "\u001b[1;32mD:\\ProgrammaX100\\Anaconda\\lib\\site-packages\\pandas\\core\\ops\\__init__.py\u001b[0m in \u001b[0;36m<dictcomp>\u001b[1;34m(.0)\u001b[0m\n\u001b[0;32m    386\u001b[0m \u001b[1;33m\u001b[0m\u001b[0m\n\u001b[0;32m    387\u001b[0m         \u001b[1;32mdef\u001b[0m \u001b[0mcolumn_op\u001b[0m\u001b[1;33m(\u001b[0m\u001b[0ma\u001b[0m\u001b[1;33m,\u001b[0m \u001b[0mb\u001b[0m\u001b[1;33m)\u001b[0m\u001b[1;33m:\u001b[0m\u001b[1;33m\u001b[0m\u001b[1;33m\u001b[0m\u001b[0m\n\u001b[1;32m--> 388\u001b[1;33m             \u001b[1;32mreturn\u001b[0m \u001b[1;33m{\u001b[0m\u001b[0mi\u001b[0m\u001b[1;33m:\u001b[0m \u001b[0mfunc\u001b[0m\u001b[1;33m(\u001b[0m\u001b[0ma\u001b[0m\u001b[1;33m.\u001b[0m\u001b[0miloc\u001b[0m\u001b[1;33m[\u001b[0m\u001b[1;33m:\u001b[0m\u001b[1;33m,\u001b[0m \u001b[0mi\u001b[0m\u001b[1;33m]\u001b[0m\u001b[1;33m,\u001b[0m \u001b[0mb\u001b[0m\u001b[1;33m.\u001b[0m\u001b[0miloc\u001b[0m\u001b[1;33m[\u001b[0m\u001b[1;33m:\u001b[0m\u001b[1;33m,\u001b[0m \u001b[0mi\u001b[0m\u001b[1;33m]\u001b[0m\u001b[1;33m)\u001b[0m \u001b[1;32mfor\u001b[0m \u001b[0mi\u001b[0m \u001b[1;32min\u001b[0m \u001b[0mrange\u001b[0m\u001b[1;33m(\u001b[0m\u001b[0mlen\u001b[0m\u001b[1;33m(\u001b[0m\u001b[0ma\u001b[0m\u001b[1;33m.\u001b[0m\u001b[0mcolumns\u001b[0m\u001b[1;33m)\u001b[0m\u001b[1;33m)\u001b[0m\u001b[1;33m}\u001b[0m\u001b[1;33m\u001b[0m\u001b[1;33m\u001b[0m\u001b[0m\n\u001b[0m\u001b[0;32m    389\u001b[0m \u001b[1;33m\u001b[0m\u001b[0m\n\u001b[0;32m    390\u001b[0m     \u001b[1;32melif\u001b[0m \u001b[0misinstance\u001b[0m\u001b[1;33m(\u001b[0m\u001b[0mright\u001b[0m\u001b[1;33m,\u001b[0m \u001b[0mABCSeries\u001b[0m\u001b[1;33m)\u001b[0m \u001b[1;32mand\u001b[0m \u001b[0maxis\u001b[0m \u001b[1;33m==\u001b[0m \u001b[1;34m\"columns\"\u001b[0m\u001b[1;33m:\u001b[0m\u001b[1;33m\u001b[0m\u001b[1;33m\u001b[0m\u001b[0m\n",
      "\u001b[1;32mD:\\ProgrammaX100\\Anaconda\\lib\\site-packages\\pandas\\core\\ops\\common.py\u001b[0m in \u001b[0;36mnew_method\u001b[1;34m(self, other)\u001b[0m\n\u001b[0;32m     62\u001b[0m         \u001b[0mother\u001b[0m \u001b[1;33m=\u001b[0m \u001b[0mitem_from_zerodim\u001b[0m\u001b[1;33m(\u001b[0m\u001b[0mother\u001b[0m\u001b[1;33m)\u001b[0m\u001b[1;33m\u001b[0m\u001b[1;33m\u001b[0m\u001b[0m\n\u001b[0;32m     63\u001b[0m \u001b[1;33m\u001b[0m\u001b[0m\n\u001b[1;32m---> 64\u001b[1;33m         \u001b[1;32mreturn\u001b[0m \u001b[0mmethod\u001b[0m\u001b[1;33m(\u001b[0m\u001b[0mself\u001b[0m\u001b[1;33m,\u001b[0m \u001b[0mother\u001b[0m\u001b[1;33m)\u001b[0m\u001b[1;33m\u001b[0m\u001b[1;33m\u001b[0m\u001b[0m\n\u001b[0m\u001b[0;32m     65\u001b[0m \u001b[1;33m\u001b[0m\u001b[0m\n\u001b[0;32m     66\u001b[0m     \u001b[1;32mreturn\u001b[0m \u001b[0mnew_method\u001b[0m\u001b[1;33m\u001b[0m\u001b[1;33m\u001b[0m\u001b[0m\n",
      "\u001b[1;32mD:\\ProgrammaX100\\Anaconda\\lib\\site-packages\\pandas\\core\\ops\\__init__.py\u001b[0m in \u001b[0;36mwrapper\u001b[1;34m(left, right)\u001b[0m\n\u001b[0;32m    501\u001b[0m         \u001b[0mlvalues\u001b[0m \u001b[1;33m=\u001b[0m \u001b[0mextract_array\u001b[0m\u001b[1;33m(\u001b[0m\u001b[0mleft\u001b[0m\u001b[1;33m,\u001b[0m \u001b[0mextract_numpy\u001b[0m\u001b[1;33m=\u001b[0m\u001b[1;32mTrue\u001b[0m\u001b[1;33m)\u001b[0m\u001b[1;33m\u001b[0m\u001b[1;33m\u001b[0m\u001b[0m\n\u001b[0;32m    502\u001b[0m         \u001b[0mrvalues\u001b[0m \u001b[1;33m=\u001b[0m \u001b[0mextract_array\u001b[0m\u001b[1;33m(\u001b[0m\u001b[0mright\u001b[0m\u001b[1;33m,\u001b[0m \u001b[0mextract_numpy\u001b[0m\u001b[1;33m=\u001b[0m\u001b[1;32mTrue\u001b[0m\u001b[1;33m)\u001b[0m\u001b[1;33m\u001b[0m\u001b[1;33m\u001b[0m\u001b[0m\n\u001b[1;32m--> 503\u001b[1;33m         \u001b[0mresult\u001b[0m \u001b[1;33m=\u001b[0m \u001b[0marithmetic_op\u001b[0m\u001b[1;33m(\u001b[0m\u001b[0mlvalues\u001b[0m\u001b[1;33m,\u001b[0m \u001b[0mrvalues\u001b[0m\u001b[1;33m,\u001b[0m \u001b[0mop\u001b[0m\u001b[1;33m,\u001b[0m \u001b[0mstr_rep\u001b[0m\u001b[1;33m)\u001b[0m\u001b[1;33m\u001b[0m\u001b[1;33m\u001b[0m\u001b[0m\n\u001b[0m\u001b[0;32m    504\u001b[0m \u001b[1;33m\u001b[0m\u001b[0m\n\u001b[0;32m    505\u001b[0m         \u001b[1;32mreturn\u001b[0m \u001b[0m_construct_result\u001b[0m\u001b[1;33m(\u001b[0m\u001b[0mleft\u001b[0m\u001b[1;33m,\u001b[0m \u001b[0mresult\u001b[0m\u001b[1;33m,\u001b[0m \u001b[0mindex\u001b[0m\u001b[1;33m=\u001b[0m\u001b[0mleft\u001b[0m\u001b[1;33m.\u001b[0m\u001b[0mindex\u001b[0m\u001b[1;33m,\u001b[0m \u001b[0mname\u001b[0m\u001b[1;33m=\u001b[0m\u001b[0mres_name\u001b[0m\u001b[1;33m)\u001b[0m\u001b[1;33m\u001b[0m\u001b[1;33m\u001b[0m\u001b[0m\n",
      "\u001b[1;32mD:\\ProgrammaX100\\Anaconda\\lib\\site-packages\\pandas\\core\\ops\\array_ops.py\u001b[0m in \u001b[0;36marithmetic_op\u001b[1;34m(left, right, op, str_rep)\u001b[0m\n\u001b[0;32m    191\u001b[0m         \u001b[1;31m#  by dispatch_to_extension_op.\u001b[0m\u001b[1;33m\u001b[0m\u001b[1;33m\u001b[0m\u001b[1;33m\u001b[0m\u001b[0m\n\u001b[0;32m    192\u001b[0m         \u001b[1;31m# Timedelta is included because numexpr will fail on it, see GH#31457\u001b[0m\u001b[1;33m\u001b[0m\u001b[1;33m\u001b[0m\u001b[1;33m\u001b[0m\u001b[0m\n\u001b[1;32m--> 193\u001b[1;33m         \u001b[0mres_values\u001b[0m \u001b[1;33m=\u001b[0m \u001b[0mdispatch_to_extension_op\u001b[0m\u001b[1;33m(\u001b[0m\u001b[0mop\u001b[0m\u001b[1;33m,\u001b[0m \u001b[0mlvalues\u001b[0m\u001b[1;33m,\u001b[0m \u001b[0mrvalues\u001b[0m\u001b[1;33m)\u001b[0m\u001b[1;33m\u001b[0m\u001b[1;33m\u001b[0m\u001b[0m\n\u001b[0m\u001b[0;32m    194\u001b[0m \u001b[1;33m\u001b[0m\u001b[0m\n\u001b[0;32m    195\u001b[0m     \u001b[1;32melse\u001b[0m\u001b[1;33m:\u001b[0m\u001b[1;33m\u001b[0m\u001b[1;33m\u001b[0m\u001b[0m\n",
      "\u001b[1;32mD:\\ProgrammaX100\\Anaconda\\lib\\site-packages\\pandas\\core\\ops\\dispatch.py\u001b[0m in \u001b[0;36mdispatch_to_extension_op\u001b[1;34m(op, left, right)\u001b[0m\n\u001b[0;32m    123\u001b[0m     \u001b[1;31m# The op calls will raise TypeError if the op is not defined\u001b[0m\u001b[1;33m\u001b[0m\u001b[1;33m\u001b[0m\u001b[1;33m\u001b[0m\u001b[0m\n\u001b[0;32m    124\u001b[0m     \u001b[1;31m# on the ExtensionArray\u001b[0m\u001b[1;33m\u001b[0m\u001b[1;33m\u001b[0m\u001b[1;33m\u001b[0m\u001b[0m\n\u001b[1;32m--> 125\u001b[1;33m     \u001b[0mres_values\u001b[0m \u001b[1;33m=\u001b[0m \u001b[0mop\u001b[0m\u001b[1;33m(\u001b[0m\u001b[0mleft\u001b[0m\u001b[1;33m,\u001b[0m \u001b[0mright\u001b[0m\u001b[1;33m)\u001b[0m\u001b[1;33m\u001b[0m\u001b[1;33m\u001b[0m\u001b[0m\n\u001b[0m\u001b[0;32m    126\u001b[0m     \u001b[1;32mreturn\u001b[0m \u001b[0mres_values\u001b[0m\u001b[1;33m\u001b[0m\u001b[1;33m\u001b[0m\u001b[0m\n",
      "\u001b[1;32mD:\\ProgrammaX100\\Anaconda\\lib\\site-packages\\pandas\\core\\ops\\common.py\u001b[0m in \u001b[0;36mnew_method\u001b[1;34m(self, other)\u001b[0m\n\u001b[0;32m     62\u001b[0m         \u001b[0mother\u001b[0m \u001b[1;33m=\u001b[0m \u001b[0mitem_from_zerodim\u001b[0m\u001b[1;33m(\u001b[0m\u001b[0mother\u001b[0m\u001b[1;33m)\u001b[0m\u001b[1;33m\u001b[0m\u001b[1;33m\u001b[0m\u001b[0m\n\u001b[0;32m     63\u001b[0m \u001b[1;33m\u001b[0m\u001b[0m\n\u001b[1;32m---> 64\u001b[1;33m         \u001b[1;32mreturn\u001b[0m \u001b[0mmethod\u001b[0m\u001b[1;33m(\u001b[0m\u001b[0mself\u001b[0m\u001b[1;33m,\u001b[0m \u001b[0mother\u001b[0m\u001b[1;33m)\u001b[0m\u001b[1;33m\u001b[0m\u001b[1;33m\u001b[0m\u001b[0m\n\u001b[0m\u001b[0;32m     65\u001b[0m \u001b[1;33m\u001b[0m\u001b[0m\n\u001b[0;32m     66\u001b[0m     \u001b[1;32mreturn\u001b[0m \u001b[0mnew_method\u001b[0m\u001b[1;33m\u001b[0m\u001b[1;33m\u001b[0m\u001b[0m\n",
      "\u001b[1;32mD:\\ProgrammaX100\\Anaconda\\lib\\site-packages\\pandas\\core\\arrays\\datetimelike.py\u001b[0m in \u001b[0;36m__add__\u001b[1;34m(self, other)\u001b[0m\n\u001b[0;32m   1349\u001b[0m         \u001b[1;32melif\u001b[0m \u001b[0mis_datetime64_dtype\u001b[0m\u001b[1;33m(\u001b[0m\u001b[0mother\u001b[0m\u001b[1;33m)\u001b[0m \u001b[1;32mor\u001b[0m \u001b[0mis_datetime64tz_dtype\u001b[0m\u001b[1;33m(\u001b[0m\u001b[0mother\u001b[0m\u001b[1;33m)\u001b[0m\u001b[1;33m:\u001b[0m\u001b[1;33m\u001b[0m\u001b[1;33m\u001b[0m\u001b[0m\n\u001b[0;32m   1350\u001b[0m             \u001b[1;31m# DatetimeIndex, ndarray[datetime64]\u001b[0m\u001b[1;33m\u001b[0m\u001b[1;33m\u001b[0m\u001b[1;33m\u001b[0m\u001b[0m\n\u001b[1;32m-> 1351\u001b[1;33m             \u001b[1;32mreturn\u001b[0m \u001b[0mself\u001b[0m\u001b[1;33m.\u001b[0m\u001b[0m_add_datetime_arraylike\u001b[0m\u001b[1;33m(\u001b[0m\u001b[0mother\u001b[0m\u001b[1;33m)\u001b[0m\u001b[1;33m\u001b[0m\u001b[1;33m\u001b[0m\u001b[0m\n\u001b[0m\u001b[0;32m   1352\u001b[0m         \u001b[1;32melif\u001b[0m \u001b[0mis_integer_dtype\u001b[0m\u001b[1;33m(\u001b[0m\u001b[0mother\u001b[0m\u001b[1;33m)\u001b[0m\u001b[1;33m:\u001b[0m\u001b[1;33m\u001b[0m\u001b[1;33m\u001b[0m\u001b[0m\n\u001b[0;32m   1353\u001b[0m             \u001b[1;32mif\u001b[0m \u001b[1;32mnot\u001b[0m \u001b[0mis_period_dtype\u001b[0m\u001b[1;33m(\u001b[0m\u001b[0mself\u001b[0m\u001b[1;33m)\u001b[0m\u001b[1;33m:\u001b[0m\u001b[1;33m\u001b[0m\u001b[1;33m\u001b[0m\u001b[0m\n",
      "\u001b[1;32mD:\\ProgrammaX100\\Anaconda\\lib\\site-packages\\pandas\\core\\arrays\\datetimelike.py\u001b[0m in \u001b[0;36m_add_datetimelike_scalar\u001b[1;34m(self, other)\u001b[0m\n\u001b[0;32m   1094\u001b[0m     \u001b[1;32mdef\u001b[0m \u001b[0m_add_datetimelike_scalar\u001b[0m\u001b[1;33m(\u001b[0m\u001b[0mself\u001b[0m\u001b[1;33m,\u001b[0m \u001b[0mother\u001b[0m\u001b[1;33m)\u001b[0m\u001b[1;33m:\u001b[0m\u001b[1;33m\u001b[0m\u001b[1;33m\u001b[0m\u001b[0m\n\u001b[0;32m   1095\u001b[0m         \u001b[1;31m# Overridden by TimedeltaArray\u001b[0m\u001b[1;33m\u001b[0m\u001b[1;33m\u001b[0m\u001b[1;33m\u001b[0m\u001b[0m\n\u001b[1;32m-> 1096\u001b[1;33m         \u001b[1;32mraise\u001b[0m \u001b[0mTypeError\u001b[0m\u001b[1;33m(\u001b[0m\u001b[1;34mf\"cannot add {type(self).__name__} and {type(other).__name__}\"\u001b[0m\u001b[1;33m)\u001b[0m\u001b[1;33m\u001b[0m\u001b[1;33m\u001b[0m\u001b[0m\n\u001b[0m\u001b[0;32m   1097\u001b[0m \u001b[1;33m\u001b[0m\u001b[0m\n\u001b[0;32m   1098\u001b[0m     \u001b[0m_add_datetime_arraylike\u001b[0m \u001b[1;33m=\u001b[0m \u001b[0m_add_datetimelike_scalar\u001b[0m\u001b[1;33m\u001b[0m\u001b[1;33m\u001b[0m\u001b[0m\n",
      "\u001b[1;31mTypeError\u001b[0m: cannot add DatetimeArray and DatetimeArray"
     ]
    }
   ],
   "source": [
    "# Look in the timeserie for the previous and the next day and calculate the average --> estimation for the missing day.\n",
    "for item in removed_days.items():\n",
    "    ID = item[0]\n",
    "    days = item[1]\n",
    "    for i in days:\n",
    "        # Check if the days before and after are empty\n",
    "        if not(i + 1 in days or i - 1 in days):\n",
    "        #Calculate the mean\n",
    "            mean = calculate_mean_of_2days(str(i+1),str(i-1),ID,test)\n",
    "            test.loc[test[\"day\"] == i,ID] = mean\n",
    "        else:\n",
    "            n1 = 1\n",
    "            n2 = 2\n",
    "            while(True): \n",
    "                if not(i+n1*1 in days and i-n2*1 in days):\n",
    "                    day1 = i+n1*1; day2 = i-n2*1\n",
    "                    mean = calculate_mean_of_2days(str(day1),str(day2),ID,test)\n",
    "                    for j in np.arange(day1,day2,1):\n",
    "                            test.loc[test[\"day\"] == j,ID] = mean\n",
    "                    break\n",
    "                elif not(i+n2*1 in days and i-n1*1 in days):\n",
    "                    day1 = i+n2*1; day2 = i-n1*1\n",
    "                    mean = calculate_mean_of_2days(str(day1),str(day2),ID,test)\n",
    "                    for j in np.arange(day1,day2,1):\n",
    "                            test.loc[test[\"day\"] == j,ID] = mean\n",
    "                    break\n",
    "                elif not(i+n2*1 in days and i-n2*1 in days):\n",
    "                    day1 = i+n2*1; day2 = i-n2*1\n",
    "                    mean = calculate_mean_of_2days(str(day1),str(day2),ID,test)\n",
    "                    for j in np.arange(day1,day2,1):\n",
    "                            test.loc[test[\"day\"] == j,ID] = mean\n",
    "                    break\n",
    "                n1 += 1\n",
    "                n2 += 1\n",
    "\n",
    "    "
   ]
  },
  {
   "cell_type": "code",
   "execution_count": 89,
   "metadata": {},
   "outputs": [],
   "source": [
    "#Calculate the error made due to the estimation --> mse\n"
   ]
  },
  {
   "cell_type": "code",
   "execution_count": 100,
   "metadata": {},
   "outputs": [
    {
     "output_type": "execute_result",
     "data": {
      "text/plain": [
       "2017-03-01 00:00:00    0.084\n",
       "2017-03-01 00:30:00    0.146\n",
       "2017-03-01 01:00:00    0.083\n",
       "2017-03-01 01:30:00    0.121\n",
       "2017-03-01 02:00:00    0.144\n",
       "                       ...  \n",
       "2017-03-31 21:30:00    0.099\n",
       "2017-03-31 22:00:00    0.147\n",
       "2017-03-31 22:30:00    0.114\n",
       "2017-03-31 23:00:00    0.125\n",
       "2017-03-31 23:30:00    0.100\n",
       "Name: meter_2979, Length: 1488, dtype: float64"
      ]
     },
     "metadata": {},
     "execution_count": 100
    }
   ],
   "source": [
    "np.squeeze(test.loc[:,[\"meter_2979\"]])"
   ]
  }
 ],
 "metadata": {
  "kernelspec": {
   "display_name": "Python 3",
   "language": "python",
   "name": "python3"
  },
  "language_info": {
   "codemirror_mode": {
    "name": "ipython",
    "version": 3
   },
   "file_extension": ".py",
   "mimetype": "text/x-python",
   "name": "python",
   "nbconvert_exporter": "python",
   "pygments_lexer": "ipython3",
   "version": "3.8.3-final"
  }
 },
 "nbformat": 4,
 "nbformat_minor": 2
}